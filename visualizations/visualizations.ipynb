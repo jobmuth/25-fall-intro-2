{
 "cells": [
  {
   "cell_type": "code",
   "execution_count": null,
   "metadata": {},
   "outputs": [],
   "source": [
    "from datascience import *\n",
    "import numpy as np\n",
    "\n",
    "%matplotlib inline\n",
    "import matplotlib.pyplot as plots\n",
    "plots.style.use('fivethirtyeight')"
   ]
  },
  {
   "cell_type": "markdown",
   "metadata": {},
   "source": [
    "## Census ##"
   ]
  },
  {
   "cell_type": "code",
   "execution_count": null,
   "metadata": {},
   "outputs": [],
   "source": [
    "popfull = Table.read_table('nc-est2019-agesex-res.csv')\n",
    "popfull.show(10)"
   ]
  },
  {
   "cell_type": "markdown",
   "metadata": {},
   "source": [
    "Goal: Visualize 2019 US population (y-axis) as a function of age (x-axis) on a line plot.\n",
    "Cleanup steps:\n",
    "- Select all rows where SEX is 0 (this aggregates all sex categories)\n",
    "- Throw away row where AGE is 999 (this row aggregates all age categories)\n",
    "- Select just the AGE (x-axis) and POPESTIMATE2019 columns (y-axis)"
   ]
  },
  {
   "cell_type": "code",
   "execution_count": null,
   "metadata": {},
   "outputs": [],
   "source": [
    "\n",
    "pop2019 = popfull.where('SEX', 0).where('AGE', are.below(999)).select(\"AGE\", \"POPESTIMATE2019\")\n",
    "pop2019.show(10)"
   ]
  },
  {
   "cell_type": "code",
   "execution_count": null,
   "metadata": {},
   "outputs": [],
   "source": [
    "# First argument is the column for x-axis\n",
    "# Second argument is the column for the y-axis\n",
    "pop2019.plot('AGE', 'POPESTIMATE2019')"
   ]
  },
  {
   "cell_type": "code",
   "execution_count": null,
   "metadata": {},
   "outputs": [],
   "source": [
    "# Let's compare male and female counts per age\n",
    "males2019 = popfull.where('SEX', 1).where('AGE', are.below(999)).select(\"AGE\", \"POPESTIMATE2019\")\n",
    "females2019 = popfull.where('SEX', 2).where('AGE', are.below(999)).select(\"AGE\", \"POPESTIMATE2019\")\n",
    "males2019.show(3)\n",
    "females2019.show(3)"
   ]
  },
  {
   "cell_type": "code",
   "execution_count": null,
   "metadata": {},
   "outputs": [],
   "source": [
    "# Put everything in one table to plot\n",
    "# Table() creates a blank table with no data\n",
    "# with_columns adds the requested columns\n",
    "pop_2019_mf = Table().with_columns(\n",
    "    'Age', males2019.column('AGE'),\n",
    "    'Males', males2019.column('POPESTIMATE2019'),\n",
    "    'Females', females2019.column('POPESTIMATE2019')\n",
    ")\n",
    "pop_2019.show(5)"
   ]
  },
  {
   "cell_type": "code",
   "execution_count": null,
   "metadata": {},
   "outputs": [],
   "source": [
    "# If only one argument is provided, all other columns are assumed to be y-axis data for separate plots\n",
    "pop_2019.plot('Age')"
   ]
  },
  {
   "cell_type": "markdown",
   "metadata": {},
   "source": [
    "# Practice\n",
    "Create a line plot where\n",
    "* x-axis is age\n",
    "* y-axis is the percent of people that age registered as female (e.g., the value corresponding to age 0 should be 1847935 / (1847935 + 1935117) * 100)"
   ]
  },
  {
   "cell_type": "code",
   "execution_count": null,
   "metadata": {},
   "outputs": [],
   "source": []
  },
  {
   "cell_type": "code",
   "execution_count": null,
   "metadata": {},
   "outputs": [],
   "source": [
    "# ^^ Look at the y-axis! Trend is not as dramatic as you might think\n",
    "\n",
    "# PLOT GOES HERE\n",
    "plots.ylim(0, 100);  # Optional for Data 8"
   ]
  },
  {
   "cell_type": "markdown",
   "metadata": {},
   "source": [
    "## Scatter Plots ##"
   ]
  },
  {
   "cell_type": "code",
   "execution_count": null,
   "metadata": {},
   "outputs": [],
   "source": [
    "# Actors and their highest grossing movies\n",
    "actors = Table.read_table('actors.csv')\n",
    "actors"
   ]
  },
  {
   "cell_type": "code",
   "execution_count": null,
   "metadata": {},
   "outputs": [],
   "source": [
    "# First argument is x-axis, second argument is y-axis\n",
    "actors.scatter('Number of Movies', 'Total Gross')"
   ]
  },
  {
   "cell_type": "code",
   "execution_count": null,
   "metadata": {},
   "outputs": [],
   "source": [
    "actors.scatter('Number of Movies', 'Average per Movie')"
   ]
  },
  {
   "cell_type": "markdown",
   "metadata": {},
   "source": [
    "# Practice\n",
    "Create a scatter plot where\n",
    "* x-axis is number of movies\n",
    "* y-axis is the percent each actor's #1 movie represents as a percent of their total gross (e.g., the value corresponding to Harrison Ford should be 936.7 / 4871.7 * 100)"
   ]
  },
  {
   "cell_type": "code",
   "execution_count": null,
   "metadata": {},
   "outputs": [],
   "source": []
  }
 ],
 "metadata": {
  "anaconda-cloud": {},
  "kernelspec": {
   "display_name": "Python 3",
   "language": "python",
   "name": "python3"
  },
  "language_info": {
   "codemirror_mode": {
    "name": "ipython",
    "version": 3
   },
   "file_extension": ".py",
   "mimetype": "text/x-python",
   "name": "python",
   "nbconvert_exporter": "python",
   "pygments_lexer": "ipython3",
   "version": "3.12.1"
  }
 },
 "nbformat": 4,
 "nbformat_minor": 4
}

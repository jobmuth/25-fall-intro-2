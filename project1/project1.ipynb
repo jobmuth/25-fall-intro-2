{
 "cells": [
  {
   "cell_type": "code",
   "execution_count": 109,
   "metadata": {
    "deletable": false,
    "editable": false
   },
   "outputs": [
    {
     "name": "stderr",
     "output_type": "stream",
     "text": [
      "/home/codespace/.local/lib/python3.12/site-packages/nbformat/__init__.py:96: MissingIDFieldWarning: Cell is missing an id field, this will become a hard error in future nbformat versions. You may want to use `normalize()` on your notebooks before validations (available since nbformat 5.1.4). Previous versions of nbformat are fixing this issue transparently, and will stop doing so in the future.\n",
      "  validate(nb)\n"
     ]
    }
   ],
   "source": [
    "# Initialize Otter\n",
    "import otter\n",
    "grader = otter.Notebook(\"project1.ipynb\")"
   ]
  },
  {
   "cell_type": "markdown",
   "metadata": {},
   "source": [
    "# Project 1: World Population and Poverty"
   ]
  },
  {
   "cell_type": "markdown",
   "metadata": {},
   "source": [
    "In this project, you'll explore data from [Gapminder.org](http://gapminder.org), a website dedicated to providing a fact-based view of the world and how it has changed. That site includes several data visualizations and presentations, but also publishes the raw data that we will use in this project to recreate and extend some of their most famous visualizations.\n",
    "\n",
    "The Gapminder website collects data from many sources and compiles them into tables that describe many countries around the world. All of the data they aggregate are published in the [Systema Globalis](https://github.com/open-numbers/ddf--gapminder--systema_globalis/blob/master/README.md). Their goal is \"to compile all public statistics; Social, Economic and Environmental; into a comparable total dataset.\" All data sets in this project are copied directly from the Systema Globalis without any changes.\n",
    "\n",
    "This project is dedicated to [Hans Rosling](https://en.wikipedia.org/wiki/Hans_Rosling) (1948-2017), who championed the use of data to understand and prioritize global development challenges."
   ]
  },
  {
   "cell_type": "code",
   "execution_count": 110,
   "metadata": {
    "deletable": false
   },
   "outputs": [],
   "source": [
    "# Run this cell to set up the notebook, but please don't change it. \n",
    "\n",
    "# These lines import the NumPy and Datascience modules.\n",
    "from datascience import *\n",
    "import numpy as np\n",
    "\n",
    "# These lines do some fancy plotting magic.\n",
    "%matplotlib inline\n",
    "import matplotlib.pyplot as plots\n",
    "plots.style.use('fivethirtyeight')\n",
    "\n",
    "from ipywidgets import interact, interactive, fixed, interact_manual\n",
    "import ipywidgets as widgets"
   ]
  },
  {
   "cell_type": "markdown",
   "metadata": {},
   "source": [
    "## 0. Hazards with `.show`\n",
    "\n",
    "As a heads up, please do not run the function `tbl.show()` in this assignment without an argument. For instance if you want to view a table, please type `tbl.show(10)` instead of `tbl.show()`. This may break your notebook and we cannot gaurantee what we will have the capacity to aid you in this. Please answer the question below, and set the value to `True` to confirm you have read this and agree.\n"
   ]
  },
  {
   "cell_type": "code",
   "execution_count": 111,
   "metadata": {
    "tags": []
   },
   "outputs": [],
   "source": [
    "i_wont_use_show_without_an_argument = True"
   ]
  },
  {
   "cell_type": "code",
   "execution_count": 112,
   "metadata": {
    "deletable": false,
    "editable": false
   },
   "outputs": [
    {
     "data": {
      "text/html": [
       "<p><strong><pre style='display: inline;'>q0</pre></strong> passed! 🌈</p>"
      ],
      "text/plain": [
       "q0 results: All test cases passed!"
      ]
     },
     "execution_count": 112,
     "metadata": {},
     "output_type": "execute_result"
    }
   ],
   "source": [
    "grader.check(\"q0\")"
   ]
  },
  {
   "cell_type": "markdown",
   "metadata": {
    "deletable": false,
    "editable": false
   },
   "source": [
    "## 1. Global Population Growth\n"
   ]
  },
  {
   "cell_type": "markdown",
   "metadata": {
    "deletable": false,
    "editable": false
   },
   "source": [
    "The global population of humans reached 1 billion around 1800, 3 billion around 1960, and 7 billion around 2011. The potential impact of population growth has concerned scientists, economists, and politicians alike.\n",
    "\n",
    "The United Nations Population Division estimates that the world population will likely continue to grow throughout the 21st century, but at a slower rate, perhaps reaching and stabilizing at 11 billion by 2100. However, the UN does not rule out scenarios of slower or more extreme growth. These projections help us understand long-term population processes, even if they leave out possible global catastrophic events like war or climate crises.\n",
    "\n",
    "<a href=\"http://www.pewresearch.org/fact-tank/2015/06/08/scientists-more-worried-than-public-about-worlds-growing-population/ft_15-06-04_popcount/\"> \n",
    " <img src=\"pew_population_projection.png\"/> \n",
    "</a>\n",
    "\n",
    "In this part of the project, we will examine some of the factors that influence population growth and how they have been changing over the years and around the world. There are two main sub-parts of this analysis.\n",
    "\n",
    "- First, we will examine the data for one country, Poland. We will see how factors such as life expectancy, fertility rate, and child mortality have changed over time in Poland, and how they are related to the rate of population growth.\n",
    "- Next, we will examine whether the changes we have observed for Poland are particular to that country or whether they reflect general patterns observable in other countries too. We will study aspects of world population growth and see how they have been changing.\n",
    "\n",
    "The first table we will consider contains the total population of each country over time. Run the cell below.\n"
   ]
  },
  {
   "cell_type": "code",
   "execution_count": 113,
   "metadata": {
    "deletable": false,
    "scrolled": true
   },
   "outputs": [
    {
     "data": {
      "text/html": [
       "<table border=\"1\" class=\"dataframe\">\n",
       "    <thead>\n",
       "        <tr>\n",
       "            <th>geo</th> <th>time</th> <th>population_total</th>\n",
       "        </tr>\n",
       "    </thead>\n",
       "    <tbody>\n",
       "        <tr>\n",
       "            <td>afg </td> <td>1800</td> <td>3280000         </td>\n",
       "        </tr>\n",
       "        <tr>\n",
       "            <td>afg </td> <td>1801</td> <td>3280000         </td>\n",
       "        </tr>\n",
       "        <tr>\n",
       "            <td>afg </td> <td>1802</td> <td>3280000         </td>\n",
       "        </tr>\n",
       "        <tr>\n",
       "            <td>afg </td> <td>1803</td> <td>3280000         </td>\n",
       "        </tr>\n",
       "        <tr>\n",
       "            <td>afg </td> <td>1804</td> <td>3280000         </td>\n",
       "        </tr>\n",
       "        <tr>\n",
       "            <td>afg </td> <td>1805</td> <td>3280000         </td>\n",
       "        </tr>\n",
       "        <tr>\n",
       "            <td>afg </td> <td>1806</td> <td>3280000         </td>\n",
       "        </tr>\n",
       "        <tr>\n",
       "            <td>afg </td> <td>1807</td> <td>3280000         </td>\n",
       "        </tr>\n",
       "        <tr>\n",
       "            <td>afg </td> <td>1808</td> <td>3280000         </td>\n",
       "        </tr>\n",
       "        <tr>\n",
       "            <td>afg </td> <td>1809</td> <td>3280000         </td>\n",
       "        </tr>\n",
       "    </tbody>\n",
       "</table>\n",
       "<p>... (43527 rows omitted)</p>"
      ],
      "text/plain": [
       "<IPython.core.display.HTML object>"
      ]
     },
     "metadata": {},
     "output_type": "display_data"
    }
   ],
   "source": [
    "population = Table.read_table('population.csv').where(\"time\", are.below(2021))\n",
    "population.show(10)"
   ]
  },
  {
   "cell_type": "markdown",
   "metadata": {},
   "source": [
    "**Note:** The population csv file can also be found [here](https://github.com/open-numbers/ddf--gapminder--gapminder_world/blob/master/ddf--datapoints--population_total--by--geo--time.csv).\n"
   ]
  },
  {
   "cell_type": "markdown",
   "metadata": {
    "deletable": false
   },
   "source": [
    "### Poland\n",
    "\n",
    "The Central European nation of Poland has undergone many changes over the centuries. In modern times it was (re)created as a democratic republic in 1919 after World War I. It was invaded and divided in World War II between Germany and the Soviet Union. War and the Holocaust had a devastating impact on its people. Poland was constituted in its current borders at the end of World War II (1945) under a communist government. In 1989, with the fall of the Soviet Union, Poland re-established itself as a democratic republic.\n",
    "\n",
    "In this section of the project, we will examine aspects of the population of Poland since 1900. Poland's borders have changed, so we will look at the population within its current (2012) borders.\n",
    "\n",
    "In the `population` table, the `geo` column contains three-letter codes established by the [International Organization for Standardization](https://en.wikipedia.org/wiki/International_Organization_for_Standardization) (ISO) in the [Alpha-3](https://en.wikipedia.org/wiki/ISO_3166-1_alpha-3#Current_codes) standard. **Use the Alpha-3 link to find the 3-letter code for Poland.**\n"
   ]
  },
  {
   "cell_type": "markdown",
   "metadata": {},
   "source": [
    "**Question 1.** Create a table called `p_pop` that has two columns labeled `time` and `population_total`. The first column should contain the years from 1900 through 2020 (including both 1900 and 2020) and the second should contain the population of Poland in each of those years.\n"
   ]
  },
  {
   "cell_type": "code",
   "execution_count": 114,
   "metadata": {
    "deletable": false,
    "tags": []
   },
   "outputs": [
    {
     "data": {
      "text/html": [
       "<table border=\"1\" class=\"dataframe\">\n",
       "    <thead>\n",
       "        <tr>\n",
       "            <th>time</th> <th>population_total</th>\n",
       "        </tr>\n",
       "    </thead>\n",
       "    <tbody>\n",
       "        <tr>\n",
       "            <td>1900</td> <td>24340168        </td>\n",
       "        </tr>\n",
       "        <tr>\n",
       "            <td>1901</td> <td>24517983        </td>\n",
       "        </tr>\n",
       "        <tr>\n",
       "            <td>1902</td> <td>24694172        </td>\n",
       "        </tr>\n",
       "        <tr>\n",
       "            <td>1903</td> <td>24868705        </td>\n",
       "        </tr>\n",
       "        <tr>\n",
       "            <td>1904</td> <td>25044468        </td>\n",
       "        </tr>\n",
       "    </tbody>\n",
       "</table>\n",
       "<p>... (116 rows omitted)</p>"
      ],
      "text/plain": [
       "<IPython.core.display.HTML object>"
      ]
     },
     "metadata": {},
     "output_type": "display_data"
    }
   ],
   "source": [
    "p_pop = population.where('geo', are.equal_to('pol'))\n",
    "p_pop = p_pop.drop('geo')\n",
    "p_pop = p_pop.where('time', are.between_or_equal_to(1900,2020))\n",
    "p_pop.show(5)"
   ]
  },
  {
   "cell_type": "code",
   "execution_count": 115,
   "metadata": {
    "deletable": false,
    "editable": false
   },
   "outputs": [
    {
     "data": {
      "text/html": [
       "<p><strong><pre style='display: inline;'>q1_1</pre></strong> passed! ✨</p>"
      ],
      "text/plain": [
       "q1_1 results: All test cases passed!"
      ]
     },
     "execution_count": 115,
     "metadata": {},
     "output_type": "execute_result"
    }
   ],
   "source": [
    "grader.check(\"q1_1\")"
   ]
  },
  {
   "cell_type": "markdown",
   "metadata": {
    "deletable": false
   },
   "source": [
    "Run the following cell to create a table called `p_five` that has the population of Poland every five years.\n"
   ]
  },
  {
   "cell_type": "code",
   "execution_count": 116,
   "metadata": {
    "deletable": false
   },
   "outputs": [
    {
     "data": {
      "text/html": [
       "<table border=\"1\" class=\"dataframe\">\n",
       "    <thead>\n",
       "        <tr>\n",
       "            <th>time</th> <th>population_total</th>\n",
       "        </tr>\n",
       "    </thead>\n",
       "    <tbody>\n",
       "        <tr>\n",
       "            <td>1900</td> <td>24,340,168      </td>\n",
       "        </tr>\n",
       "        <tr>\n",
       "            <td>1905</td> <td>25,221,471      </td>\n",
       "        </tr>\n",
       "        <tr>\n",
       "            <td>1910</td> <td>25,844,639      </td>\n",
       "        </tr>\n",
       "    </tbody>\n",
       "</table>\n",
       "<p>... (22 rows omitted)</p>"
      ],
      "text/plain": [
       "<IPython.core.display.HTML object>"
      ]
     },
     "metadata": {},
     "output_type": "display_data"
    }
   ],
   "source": [
    "p_pop.set_format('population_total', NumberFormatter)\n",
    "\n",
    "fives = np.arange(1900, 2021, 5) # 1900, 1905, 1910, ...\n",
    "p_five = p_pop.sort('time').where('time', are.contained_in(fives))\n",
    "p_five.show(3)"
   ]
  },
  {
   "cell_type": "markdown",
   "metadata": {},
   "source": [
    "Run the following cell to visualize the population over time. Following the devastating effects of World War I and World War II, Poland's population increased steadily from 1950 to 2000 and then leveled off. In the following questions we'll investigate this period of population growth.\n"
   ]
  },
  {
   "cell_type": "code",
   "execution_count": 117,
   "metadata": {},
   "outputs": [
    {
     "data": {
      "image/png": "[encoded data removed]",
      "text/plain": [
       "<Figure size 600x600 with 1 Axes>"
      ]
     },
     "metadata": {},
     "output_type": "display_data"
    }
   ],
   "source": [
    "p_five.plot(0, 1)"
   ]
  },
  {
   "cell_type": "markdown",
   "metadata": {},
   "source": [
    "**Question 2.** Assign `initial` to an array that contains the population for every five year interval from **1900 to 2015** (inclusive). Then, assign `changed` to an array that contains the population for every five year interval from **1905 to 2020** (inclusive). The first array should include both 1900 and 2015, and the second array should include both 1905 and 2020. You should use the `p_five` table to create both arrays, by first filtering the table to only contain the relevant years.\n",
    "\n",
    "The annual growth rate for a time period is equal to:\n",
    "\n",
    "$$\\left(\\left(\\frac{\\text{Population at end of period}}{\\text{Population at start of period}}\\right)^{\\displaystyle\\frac{1}{\\text{number of years}}}\\right) -1$$\n",
    "\n",
    "We have provided the code below that uses `initial` and `changed` in order to add a column to `p_five` called `annual_growth`. **Don't worry about the calculation of the growth rates**; run the test below to test your solution.\n",
    "\n",
    "If you are interested in how we came up with the formula for growth rates, consult the [growth rates](https://inferentialthinking.com/chapters/03/2/1/Growth.html) section of the textbook.\n"
   ]
  },
  {
   "cell_type": "code",
   "execution_count": 118,
   "metadata": {
    "tags": []
   },
   "outputs": [
    {
     "data": {
      "text/html": [
       "<table border=\"1\" class=\"dataframe\">\n",
       "    <thead>\n",
       "        <tr>\n",
       "            <th>time</th> <th>population_total</th> <th>annual_growth</th>\n",
       "        </tr>\n",
       "    </thead>\n",
       "    <tbody>\n",
       "        <tr>\n",
       "            <td>1900</td> <td>24,340,168      </td> <td>0.71%        </td>\n",
       "        </tr>\n",
       "        <tr>\n",
       "            <td>1905</td> <td>25,221,471      </td> <td>0.49%        </td>\n",
       "        </tr>\n",
       "        <tr>\n",
       "            <td>1910</td> <td>25,844,639      </td> <td>-0.87%       </td>\n",
       "        </tr>\n",
       "        <tr>\n",
       "            <td>1915</td> <td>24,739,041      </td> <td>-0.75%       </td>\n",
       "        </tr>\n",
       "        <tr>\n",
       "            <td>1920</td> <td>23,827,906      </td> <td>1.32%        </td>\n",
       "        </tr>\n",
       "        <tr>\n",
       "            <td>1925</td> <td>25,439,942      </td> <td>1.52%        </td>\n",
       "        </tr>\n",
       "        <tr>\n",
       "            <td>1930</td> <td>27,427,399      </td> <td>0.75%        </td>\n",
       "        </tr>\n",
       "        <tr>\n",
       "            <td>1935</td> <td>28,465,230      </td> <td>0.32%        </td>\n",
       "        </tr>\n",
       "        <tr>\n",
       "            <td>1940</td> <td>28,927,566      </td> <td>-1.58%       </td>\n",
       "        </tr>\n",
       "        <tr>\n",
       "            <td>1945</td> <td>26,713,772      </td> <td>-1.46%       </td>\n",
       "        </tr>\n",
       "    </tbody>\n",
       "</table>\n",
       "<p>... (14 rows omitted)</p>"
      ],
      "text/plain": [
       "time | population_total | annual_growth\n",
       "1900 | 24,340,168       | 0.71%\n",
       "1905 | 25,221,471       | 0.49%\n",
       "1910 | 25,844,639       | -0.87%\n",
       "1915 | 24,739,041       | -0.75%\n",
       "1920 | 23,827,906       | 1.32%\n",
       "1925 | 25,439,942       | 1.52%\n",
       "1930 | 27,427,399       | 0.75%\n",
       "1935 | 28,465,230       | 0.32%\n",
       "1940 | 28,927,566       | -1.58%\n",
       "1945 | 26,713,772       | -1.46%\n",
       "... (14 rows omitted)"
      ]
     },
     "execution_count": 118,
     "metadata": {},
     "output_type": "execute_result"
    }
   ],
   "source": [
    "\n",
    "fives = np.arange(1900, 2016, 5) \n",
    "p_five = p_pop.sort('time').where('time', are.contained_in(fives))\n",
    "initial = p_five.column('population_total')\n",
    "\n",
    "\n",
    "fives_2 = np.arange(1905, 2021, 5) \n",
    "p_five_2 = p_pop.sort('time').where('time', are.contained_in(fives_2))\n",
    "changed = p_five_2.column('population_total')\n",
    "\n",
    "p_1900_through_2015 = p_five.where('time', are.below_or_equal_to(2015)) \n",
    "p_five_growth = p_1900_through_2015.with_column('annual_growth', (changed/initial)**0.2-1)\n",
    "p_five_growth.set_format('annual_growth', PercentFormatter)\n"
   ]
  },
  {
   "cell_type": "code",
   "execution_count": 119,
   "metadata": {
    "deletable": false,
    "editable": false
   },
   "outputs": [
    {
     "data": {
      "text/html": [
       "<p><strong><pre style='display: inline;'>q1_2</pre></strong> passed! 💯</p>"
      ],
      "text/plain": [
       "q1_2 results: All test cases passed!"
      ]
     },
     "execution_count": 119,
     "metadata": {},
     "output_type": "execute_result"
    }
   ],
   "source": [
    "grader.check(\"q1_2\")"
   ]
  },
  {
   "cell_type": "markdown",
   "metadata": {
    "deletable": false
   },
   "source": [
    "The annual growth rate in Poland has been declining since 1950, as shown in the table below.\n"
   ]
  },
  {
   "cell_type": "code",
   "execution_count": 120,
   "metadata": {},
   "outputs": [
    {
     "data": {
      "text/html": [
       "<table border=\"1\" class=\"dataframe\">\n",
       "    <thead>\n",
       "        <tr>\n",
       "            <th>time</th> <th>population_total</th> <th>annual_growth</th>\n",
       "        </tr>\n",
       "    </thead>\n",
       "    <tbody>\n",
       "        <tr>\n",
       "            <td>1950</td> <td>24,824,007      </td> <td>1.90%        </td>\n",
       "        </tr>\n",
       "        <tr>\n",
       "            <td>1955</td> <td>27,269,742      </td> <td>1.66%        </td>\n",
       "        </tr>\n",
       "        <tr>\n",
       "            <td>1960</td> <td>29,614,201      </td> <td>1.15%        </td>\n",
       "        </tr>\n",
       "        <tr>\n",
       "            <td>1965</td> <td>31,360,903      </td> <td>0.80%        </td>\n",
       "        </tr>\n",
       "        <tr>\n",
       "            <td>1970</td> <td>32,639,262      </td> <td>0.80%        </td>\n",
       "        </tr>\n",
       "        <tr>\n",
       "            <td>1975</td> <td>33,970,730      </td> <td>0.91%        </td>\n",
       "        </tr>\n",
       "        <tr>\n",
       "            <td>1980</td> <td>35,539,723      </td> <td>0.88%        </td>\n",
       "        </tr>\n",
       "        <tr>\n",
       "            <td>1985</td> <td>37,133,860      </td> <td>0.44%        </td>\n",
       "        </tr>\n",
       "        <tr>\n",
       "            <td>1990</td> <td>37,960,193      </td> <td>0.26%        </td>\n",
       "        </tr>\n",
       "        <tr>\n",
       "            <td>1995</td> <td>38,458,642      </td> <td>0.05%        </td>\n",
       "        </tr>\n",
       "        <tr>\n",
       "            <td>2000</td> <td>38,556,699      </td> <td>-0.10%       </td>\n",
       "        </tr>\n",
       "        <tr>\n",
       "            <td>2005</td> <td>38,368,957      </td> <td>-0.02%       </td>\n",
       "        </tr>\n",
       "        <tr>\n",
       "            <td>2010</td> <td>38,329,784      </td> <td>-0.15%       </td>\n",
       "        </tr>\n",
       "        <tr>\n",
       "            <td>2015</td> <td>38,034,076      </td> <td>-0.10%       </td>\n",
       "        </tr>\n",
       "    </tbody>\n",
       "</table>"
      ],
      "text/plain": [
       "<IPython.core.display.HTML object>"
      ]
     },
     "metadata": {},
     "output_type": "display_data"
    }
   ],
   "source": [
    "# Run this cell to view annual growth rates in Poland since 1950.\n",
    "p_five_growth.where('time', are.above_or_equal_to(1950)).show()"
   ]
  },
  {
   "cell_type": "markdown",
   "metadata": {},
   "source": [
    "Next, we'll try to understand what has changed in Poland that might explain the slowing population growth rate. Run the next cell to load three additional tables of measurements about countries over time.\n"
   ]
  },
  {
   "cell_type": "code",
   "execution_count": 121,
   "metadata": {
    "deletable": false
   },
   "outputs": [],
   "source": [
    "life_expectancy = Table.read_table('life_expectancy.csv').where('time', are.below(2021))\n",
    "child_mortality = Table.read_table('child_mortality.csv').relabel(2, 'child_mortality_under_5_per_1000_born').where('time', are.below(2021))\n",
    "fertility = Table.read_table('fertility.csv').where('time', are.below(2021))"
   ]
  },
  {
   "cell_type": "markdown",
   "metadata": {
    "deletable": false,
    "editable": false
   },
   "source": [
    "The `life_expectancy` table contains a statistic that is often used to measure how long people live, called _life expectancy at birth_. This number, for a country in a given year, [does not measure how long babies born in that year are expected to live](http://blogs.worldbank.org/opendata/what-does-life-expectancy-birth-really-mean). Instead, it measures how long someone would live, on average, if the _mortality conditions_ in that year persisted throughout their lifetime. These \"mortality conditions\" describe what fraction of people for each age survived the year. So, it is a way of measuring the proportion of people that are staying alive, aggregated over different age groups in the population.\n"
   ]
  },
  {
   "cell_type": "markdown",
   "metadata": {},
   "source": [
    "Run the following cells below to see `life_expectancy`, `child_mortality`, and `fertility`. Refer back to these tables as they will be helpful for answering further questions!\n"
   ]
  },
  {
   "cell_type": "code",
   "execution_count": 122,
   "metadata": {},
   "outputs": [
    {
     "data": {
      "text/html": [
       "<table border=\"1\" class=\"dataframe\">\n",
       "    <thead>\n",
       "        <tr>\n",
       "            <th>geo</th> <th>time</th> <th>life_expectancy_years</th>\n",
       "        </tr>\n",
       "    </thead>\n",
       "    <tbody>\n",
       "        <tr>\n",
       "            <td>afg </td> <td>1800</td> <td>28.21                </td>\n",
       "        </tr>\n",
       "        <tr>\n",
       "            <td>afg </td> <td>1801</td> <td>28.2                 </td>\n",
       "        </tr>\n",
       "        <tr>\n",
       "            <td>afg </td> <td>1802</td> <td>28.19                </td>\n",
       "        </tr>\n",
       "    </tbody>\n",
       "</table>\n",
       "<p>... (41247 rows omitted)</p>"
      ],
      "text/plain": [
       "<IPython.core.display.HTML object>"
      ]
     },
     "metadata": {},
     "output_type": "display_data"
    }
   ],
   "source": [
    "life_expectancy.show(3)"
   ]
  },
  {
   "cell_type": "code",
   "execution_count": 123,
   "metadata": {},
   "outputs": [
    {
     "data": {
      "text/html": [
       "<table border=\"1\" class=\"dataframe\">\n",
       "    <thead>\n",
       "        <tr>\n",
       "            <th>geo</th> <th>time</th> <th>child_mortality_under_5_per_1000_born</th>\n",
       "        </tr>\n",
       "    </thead>\n",
       "    <tbody>\n",
       "        <tr>\n",
       "            <td>afg </td> <td>1800</td> <td>468.58                               </td>\n",
       "        </tr>\n",
       "        <tr>\n",
       "            <td>afg </td> <td>1801</td> <td>468.58                               </td>\n",
       "        </tr>\n",
       "        <tr>\n",
       "            <td>afg </td> <td>1802</td> <td>468.58                               </td>\n",
       "        </tr>\n",
       "    </tbody>\n",
       "</table>\n",
       "<p>... (41734 rows omitted)</p>"
      ],
      "text/plain": [
       "<IPython.core.display.HTML object>"
      ]
     },
     "metadata": {},
     "output_type": "display_data"
    }
   ],
   "source": [
    "child_mortality.show(3)"
   ]
  },
  {
   "cell_type": "code",
   "execution_count": 124,
   "metadata": {},
   "outputs": [
    {
     "data": {
      "text/html": [
       "<table border=\"1\" class=\"dataframe\">\n",
       "    <thead>\n",
       "        <tr>\n",
       "            <th>geo</th> <th>time</th> <th>children_per_woman_total_fertility</th>\n",
       "        </tr>\n",
       "    </thead>\n",
       "    <tbody>\n",
       "        <tr>\n",
       "            <td>abw </td> <td>1800</td> <td>5.64                              </td>\n",
       "        </tr>\n",
       "        <tr>\n",
       "            <td>abw </td> <td>1801</td> <td>5.64                              </td>\n",
       "        </tr>\n",
       "        <tr>\n",
       "            <td>abw </td> <td>1802</td> <td>5.64                              </td>\n",
       "        </tr>\n",
       "    </tbody>\n",
       "</table>\n",
       "<p>... (44632 rows omitted)</p>"
      ],
      "text/plain": [
       "<IPython.core.display.HTML object>"
      ]
     },
     "metadata": {},
     "output_type": "display_data"
    }
   ],
   "source": [
    "fertility.show(3)"
   ]
  },
  {
   "cell_type": "markdown",
   "metadata": {},
   "source": [
    "<!-- BEGIN QUESTION -->\n",
    "\n",
    "**Question 3.** Is population growing more slowly perhaps because people aren’t living as long? Use the `life_expectancy` table to draw a line graph with the years 1950 and later on the horizontal axis that shows how the _life expectancy at birth_ has changed in Poland.\n",
    "\n",
    "_Hint_: Make sure you filter the table properly; otherwise, the graph may look funky!\n"
   ]
  },
  {
   "cell_type": "code",
   "execution_count": 125,
   "metadata": {
    "deletable": false,
    "manual_grade": true,
    "manual_problem_id": "global_pop_3",
    "tags": []
   },
   "outputs": [
    {
     "data": {
      "image/png": "[encoded data removed]",
      "text/plain": [
       "<Figure size 600x600 with 1 Axes>"
      ]
     },
     "metadata": {},
     "output_type": "display_data"
    }
   ],
   "source": [
    "# Fill in code here\n",
    "life_expectancy_above_1950 = life_expectancy.where('time', are.above_or_equal_to(1950))\n",
    "life_expectancy_above_1950 = life_expectancy_above_1950.group('time', np.average)\n",
    "life_expectancy_above_1950.plot('time', 'life_expectancy_years average')"
   ]
  },
  {
   "cell_type": "markdown",
   "metadata": {},
   "source": [
    "<!-- END QUESTION -->\n",
    "\n",
    "<!-- BEGIN QUESTION -->\n",
    "\n",
    "**Question 4.** Assuming everything else stays the same, do the trends in life expectancy in the graph above directly explain why the population growth rate decreased since 1950 in Poland? Why or why not?\n"
   ]
  },
  {
   "cell_type": "markdown",
   "metadata": {},
   "source": [
    "No it doesnt explain the population rate decreasing beacause based of the graph the growth should be increasing."
   ]
  },
  {
   "cell_type": "markdown",
   "metadata": {
    "deletable": false,
    "editable": false
   },
   "source": [
    "<!-- END QUESTION -->\n",
    "\n",
    "The `fertility` table contains a statistic that is often used to measure how many babies are being born, the _total fertility rate_. This number describes the [number of children a woman would have in her lifetime](https://www.measureevaluation.org/prh/rh_indicators/specific/fertility/total-fertility-rate), on average, if the current rates of birth by age of the mother persisted throughout her child bearing years, assuming she survived through age 49.\n"
   ]
  },
  {
   "cell_type": "markdown",
   "metadata": {},
   "source": [
    "**Question 5.** Complete the function `fertility_over_time`. It takes two input arguments, the Alpha-3 code of a country (denoted as `country_code`) and a year to `start` from (denoted as start). It returns a two-column table with the column labels `Year` and `Children per woman`. These columns can be used to generate a line chart of the country’s fertility rate each year, starting from the year given by `start`. The plot should include the start year and all later years that appear in the fertility table.\n",
    "\n",
    "Then, determine the Alpha-3 code for **Poland**. The code at the very bottom for `poland_code` and the year `1950` are inputted to your `fertility_over_time` function. The function returns a table which we use in order to plot how Poland's fertility rate has changed since `1950`. Note that the function `fertility_over_time` should not return the plot itself – it returns a two column table. The expression that draws the line plot is provided for you; please don’t change it.\n",
    "\n",
    "_Hint_: Read about `tbl.relabeled` in the [Python Reference](https://www.data8.org/su24/reference/) to rename columns.\n"
   ]
  },
  {
   "cell_type": "code",
   "execution_count": 126,
   "metadata": {
    "deletable": false,
    "tags": []
   },
   "outputs": [
    {
     "data": {
      "text/html": [
       "<table border=\"1\" class=\"dataframe\">\n",
       "    <thead>\n",
       "        <tr>\n",
       "            <th>Year</th> <th>Children per woman</th>\n",
       "        </tr>\n",
       "    </thead>\n",
       "    <tbody>\n",
       "        <tr>\n",
       "            <td>1950</td> <td>3.6               </td>\n",
       "        </tr>\n",
       "        <tr>\n",
       "            <td>1951</td> <td>3.62              </td>\n",
       "        </tr>\n",
       "        <tr>\n",
       "            <td>1952</td> <td>3.64              </td>\n",
       "        </tr>\n",
       "        <tr>\n",
       "            <td>1953</td> <td>3.65              </td>\n",
       "        </tr>\n",
       "        <tr>\n",
       "            <td>1954</td> <td>3.64              </td>\n",
       "        </tr>\n",
       "        <tr>\n",
       "            <td>1955</td> <td>3.6               </td>\n",
       "        </tr>\n",
       "        <tr>\n",
       "            <td>1956</td> <td>3.55              </td>\n",
       "        </tr>\n",
       "        <tr>\n",
       "            <td>1957</td> <td>3.47              </td>\n",
       "        </tr>\n",
       "        <tr>\n",
       "            <td>1958</td> <td>3.37              </td>\n",
       "        </tr>\n",
       "        <tr>\n",
       "            <td>1959</td> <td>3.25              </td>\n",
       "        </tr>\n",
       "    </tbody>\n",
       "</table>\n",
       "<p>... (61 rows omitted)</p>"
      ],
      "text/plain": [
       "Year | Children per woman\n",
       "1950 | 3.6\n",
       "1951 | 3.62\n",
       "1952 | 3.64\n",
       "1953 | 3.65\n",
       "1954 | 3.64\n",
       "1955 | 3.6\n",
       "1956 | 3.55\n",
       "1957 | 3.47\n",
       "1958 | 3.37\n",
       "1959 | 3.25\n",
       "... (61 rows omitted)"
      ]
     },
     "execution_count": 126,
     "metadata": {},
     "output_type": "execute_result"
    }
   ],
   "source": [
    "def fertility_over_time(country_code, start):\n",
    "    \"\"\"Create a two-column table that describes a country's total fertility rate each year.\"\"\"\n",
    "    # It's a good idea (but not required) to use multiple lines in your solution.\n",
    "    fert_country = fertility.where('geo', are.equal_to(country_code))\n",
    "    fert_after_start = fert_country.where('time', are.above_or_equal_to(start))\n",
    "    fert_two_col = fert_after_start.select('time', 'children_per_woman_total_fertility')\n",
    "    fert_relabled = fert_two_col.relabel('time', 'Year').relabel('children_per_woman_total_fertility', 'Children per woman')\n",
    "    return fert_relabled\n",
    "\n",
    "\n",
    "poland_code = 'pol'\n",
    "fertility_over_time(poland_code, 1950)"
   ]
  },
  {
   "cell_type": "code",
   "execution_count": 127,
   "metadata": {
    "deletable": false,
    "editable": false
   },
   "outputs": [
    {
     "data": {
      "text/html": [
       "<p><strong><pre style='display: inline;'>q1_5</pre></strong> passed! 💯</p>"
      ],
      "text/plain": [
       "q1_5 results: All test cases passed!"
      ]
     },
     "execution_count": 127,
     "metadata": {},
     "output_type": "execute_result"
    }
   ],
   "source": [
    "grader.check(\"q1_5\")"
   ]
  },
  {
   "cell_type": "markdown",
   "metadata": {},
   "source": [
    "Plotting the fertility rate in Poland since 1950, we see a downward trend.\n"
   ]
  },
  {
   "cell_type": "code",
   "execution_count": 128,
   "metadata": {},
   "outputs": [
    {
     "data": {
      "image/png": "[encoded data removed]",
      "text/plain": [
       "<Figure size 600x600 with 1 Axes>"
      ]
     },
     "metadata": {},
     "output_type": "display_data"
    }
   ],
   "source": [
    "fertility_over_time(poland_code, 1950).plot(0, 1)"
   ]
  },
  {
   "cell_type": "markdown",
   "metadata": {},
   "source": [
    "<!-- BEGIN QUESTION -->\n",
    "\n",
    "**Question 6.** Assuming everything else is constant, do the trends in fertility in the graph above help directly explain why the population growth rate decreased from 1950 to 2020 in Poland? Why or why not?\n"
   ]
  },
  {
   "cell_type": "markdown",
   "metadata": {},
   "source": [
    "Yes the trend in fertilitly in the graph above help explain the population growth rate decrease from 1950 to 2020 beacause we can see the downward trend which makes sense. "
   ]
  },
  {
   "cell_type": "markdown",
   "metadata": {
    "deletable": false
   },
   "source": [
    "<!-- END QUESTION -->\n",
    "\n",
    "It has been [observed](https://www.ageing.ox.ac.uk/download/143) that lower fertility rates are often associated with lower child mortality rates. We can see if this association is evident in Poland by plotting the relationship between total fertility rate and [child mortality rate per 1000 children](https://en.wikipedia.org/wiki/Child_mortality).\n"
   ]
  },
  {
   "cell_type": "markdown",
   "metadata": {},
   "source": [
    "**Question 7.** Create a table `poland_since_1950` that contains one row per year starting with 1950 and:\n",
    "\n",
    "- A column `Year` containing the year\n",
    "- A column `Children per woman` describing total fertility in Poland that year\n",
    "- A column `Child deaths per 1000 born` describing child mortality in Poland that year\n"
   ]
  },
  {
   "cell_type": "code",
   "execution_count": 129,
   "metadata": {
    "deletable": false,
    "scrolled": false,
    "tags": []
   },
   "outputs": [
    {
     "data": {
      "text/html": [
       "<table border=\"1\" class=\"dataframe\">\n",
       "    <thead>\n",
       "        <tr>\n",
       "            <th>Year</th> <th>Children per woman</th> <th>Child deaths per 1000 born</th>\n",
       "        </tr>\n",
       "    </thead>\n",
       "    <tbody>\n",
       "        <tr>\n",
       "            <td>1950</td> <td>3.6               </td> <td>164.08                    </td>\n",
       "        </tr>\n",
       "        <tr>\n",
       "            <td>1951</td> <td>3.62              </td> <td>177.18                    </td>\n",
       "        </tr>\n",
       "        <tr>\n",
       "            <td>1952</td> <td>3.64              </td> <td>140.16                    </td>\n",
       "        </tr>\n",
       "        <tr>\n",
       "            <td>1953</td> <td>3.65              </td> <td>127.65                    </td>\n",
       "        </tr>\n",
       "        <tr>\n",
       "            <td>1954</td> <td>3.64              </td> <td>118.9                     </td>\n",
       "        </tr>\n",
       "        <tr>\n",
       "            <td>1955</td> <td>3.6               </td> <td>110.38                    </td>\n",
       "        </tr>\n",
       "        <tr>\n",
       "            <td>1956</td> <td>3.55              </td> <td>94.19                     </td>\n",
       "        </tr>\n",
       "        <tr>\n",
       "            <td>1957</td> <td>3.47              </td> <td>86.72                     </td>\n",
       "        </tr>\n",
       "        <tr>\n",
       "            <td>1958</td> <td>3.37              </td> <td>81.28                     </td>\n",
       "        </tr>\n",
       "        <tr>\n",
       "            <td>1959</td> <td>3.25              </td> <td>72.1                      </td>\n",
       "        </tr>\n",
       "    </tbody>\n",
       "</table>\n",
       "<p>... (61 rows omitted)</p>"
      ],
      "text/plain": [
       "Year | Children per woman | Child deaths per 1000 born\n",
       "1950 | 3.6                | 164.08\n",
       "1951 | 3.62               | 177.18\n",
       "1952 | 3.64               | 140.16\n",
       "1953 | 3.65               | 127.65\n",
       "1954 | 3.64               | 118.9\n",
       "1955 | 3.6                | 110.38\n",
       "1956 | 3.55               | 94.19\n",
       "1957 | 3.47               | 86.72\n",
       "1958 | 3.37               | 81.28\n",
       "1959 | 3.25               | 72.1\n",
       "... (61 rows omitted)"
      ]
     },
     "execution_count": 129,
     "metadata": {},
     "output_type": "execute_result"
    }
   ],
   "source": [
    "pol_fertility = fertility.where('geo', are.equal_to('pol')).where('time', are.above_or_equal_to(1950))\n",
    "pol_child_mortality = child_mortality.where('geo', are.equal_to('pol')).where('time', are.above_or_equal_to(1950))\n",
    "pol_fertility_and_child_mortality = pol_fertility.join('time', pol_child_mortality)\n",
    "poland_since_1950 = pol_fertility_and_child_mortality.drop('geo','geo_2','geo average').relabeled('children_per_woman_total_fertility', 'Children per woman').relabeled('child_mortality_under_5_per_1000_born', 'Child deaths per 1000 born').relabeled('time', 'Year')\n",
    "poland_since_1950"
   ]
  },
  {
   "cell_type": "code",
   "execution_count": 130,
   "metadata": {
    "deletable": false,
    "editable": false
   },
   "outputs": [
    {
     "data": {
      "text/html": [
       "<p><strong><pre style='display: inline;'>q1_7</pre></strong> passed! ✨</p>"
      ],
      "text/plain": [
       "q1_7 results: All test cases passed!"
      ]
     },
     "execution_count": 130,
     "metadata": {},
     "output_type": "execute_result"
    }
   ],
   "source": [
    "grader.check(\"q1_7\")"
   ]
  },
  {
   "cell_type": "markdown",
   "metadata": {},
   "source": [
    "Run the following cell to generate a scatter plot from the `poland_since_1950` table you created.\n",
    "\n",
    "The plot uses **color** to encode data about the `Year` column. The colors, ranging from dark blue to white, represent the passing of time between 1950 and 2020. For example, a point on the scatter plot representing data from the 1950s would appear as **dark blue** and a point from the 2010s would appear as **light blue**.\n"
   ]
  },
  {
   "cell_type": "code",
   "execution_count": 131,
   "metadata": {},
   "outputs": [
    {
     "data": {
      "image/png": "[encoded data removed]",
      "text/plain": [
       "<Figure size 600x600 with 2 Axes>"
      ]
     },
     "metadata": {},
     "output_type": "display_data"
    }
   ],
   "source": [
    "x_births = poland_since_1950.column(\"Children per woman\")\n",
    "y_deaths = poland_since_1950.column(\"Child deaths per 1000 born\")\n",
    "time_colors = poland_since_1950.column(\"Year\")\n",
    "\n",
    "plots.figure(figsize=(6,6))\n",
    "plots.scatter(x_births, y_deaths, c=time_colors, cmap=\"Blues_r\")\n",
    "plots.colorbar()                  \n",
    "plots.xlabel(\"Children per woman\")\n",
    "plots.ylabel(\"Child deaths per 1000 born\");"
   ]
  },
  {
   "cell_type": "markdown",
   "metadata": {},
   "source": [
    "<!-- BEGIN QUESTION -->\n",
    "\n",
    "**Question 8.** In one or two sentences, describe the association (if any) that is illustrated by this scatter plot. Does the diagram show any causal relation between between fertility and child mortality?\n"
   ]
  },
  {
   "cell_type": "markdown",
   "metadata": {},
   "source": [
    "The scatter plot above shows that as the child deaths per 1000 born increases so does the children per woman."
   ]
  },
  {
   "cell_type": "markdown",
   "metadata": {},
   "source": [
    "<!-- END QUESTION -->\n",
    "\n",
    "_Optional food for thought_: What other context or information you would need in order to better understand the factors affecting life expectancy, child mortality, and fertility?\n"
   ]
  },
  {
   "cell_type": "markdown",
   "metadata": {},
   "source": [
    "--- \n",
    "\n",
    "To double check your work, the cell below will rerun all of the autograder tests for Section 1. "
   ]
  },
  {
   "cell_type": "code",
   "execution_count": 132,
   "metadata": {},
   "outputs": [
    {
     "data": {
      "text/html": [
       "<p><strong><pre style='display: inline;'>q1_1</pre></strong> passed! 🙌</p>"
      ],
      "text/plain": [
       "q1_1 results: All test cases passed!"
      ]
     },
     "metadata": {},
     "output_type": "display_data"
    },
    {
     "data": {
      "text/html": [
       "<p><strong><pre style='display: inline;'>q1_2</pre></strong> passed! ✨</p>"
      ],
      "text/plain": [
       "q1_2 results: All test cases passed!"
      ]
     },
     "metadata": {},
     "output_type": "display_data"
    },
    {
     "data": {
      "text/html": [
       "<p><strong><pre style='display: inline;'>q1_5</pre></strong> passed! ✨</p>"
      ],
      "text/plain": [
       "q1_5 results: All test cases passed!"
      ]
     },
     "metadata": {},
     "output_type": "display_data"
    },
    {
     "data": {
      "text/html": [
       "<p><strong><pre style='display: inline;'>q1_7</pre></strong> passed! 🌟</p>"
      ],
      "text/plain": [
       "q1_7 results: All test cases passed!"
      ]
     },
     "metadata": {},
     "output_type": "display_data"
    }
   ],
   "source": [
    "checkpoint_tests = [\"q1_1\", \"q1_2\", \"q1_5\", \"q1_7\"]\n",
    "for test in checkpoint_tests:\n",
    "    display(grader.check(test))"
   ]
  },
  {
   "cell_type": "markdown",
   "metadata": {
    "deletable": false
   },
   "source": [
    "### The World\n",
    "\n",
    "The changes observed in Poland can also be observed in many other countries: except during periods of extended war, famine, and social chaos, health services generally improve, life expectancy increases, and child mortality decreases. At the same time, the fertility rate often plummets, and where it does, the population growth rate decreases despite increasing longevity."
   ]
  },
  {
   "cell_type": "markdown",
   "metadata": {
    "deletable": false
   },
   "source": [
    "Run the cell below to generate two overlaid histograms, one for 1962 and one for 2010, that show the distributions of total fertility rates for these two years among all 201 countries in the `fertility` table."
   ]
  },
  {
   "cell_type": "code",
   "execution_count": 133,
   "metadata": {
    "deletable": false
   },
   "outputs": [
    {
     "data": {
      "image/png": "[encoded data removed]",
      "text/plain": [
       "<Figure size 600x400 with 1 Axes>"
      ]
     },
     "metadata": {},
     "output_type": "display_data"
    }
   ],
   "source": [
    "Table().with_columns( \n",
    "    '1962', fertility.where('time', 1962).column(2),\n",
    "    '2010', fertility.where('time', 2010).column(2)\n",
    ").hist(bins=np.arange(0, 10, 0.5), unit='child per woman')\n",
    "_ = plots.xlabel('Children per woman')\n",
    "_ = plots.ylabel('Percent per children per woman')\n",
    "_ = plots.xticks(np.arange(10))"
   ]
  },
  {
   "cell_type": "markdown",
   "metadata": {},
   "source": [
    "**Question 9.** Assign `fertility_statements` to an **array** of the numbers of each statement below that can be correctly inferred from these histograms.\n",
    "\n",
    "1. About the same number of countries had a fertility rate between 3.5 and 4.5 in both 1962 and 2010.\n",
    "1. In 1962, less than 20% of countries had a fertility rate below 3.\n",
    "1. At least half of countries had a fertility rate between 5 and 8 in 1962.\n",
    "1. In 2010, about 40% of countries had a fertility rate between 1.5 and 2.\n",
    "1. At least half of countries had a fertility rate below 3 in 2010.\n",
    "1. More countries had a fertility rate above 3 in 1962 than in 2010.\n"
   ]
  },
  {
   "cell_type": "code",
   "execution_count": 134,
   "metadata": {
    "deletable": false,
    "tags": []
   },
   "outputs": [],
   "source": [
    "fertility_statements = make_array(1,3,4,5,6)"
   ]
  },
  {
   "cell_type": "code",
   "execution_count": 135,
   "metadata": {
    "deletable": false,
    "editable": false
   },
   "outputs": [
    {
     "data": {
      "text/html": [
       "<p><strong><pre style='display: inline;'>q1_9</pre></strong> passed! 🚀</p>"
      ],
      "text/plain": [
       "q1_9 results: All test cases passed!"
      ]
     },
     "execution_count": 135,
     "metadata": {},
     "output_type": "execute_result"
    }
   ],
   "source": [
    "grader.check(\"q1_9\")"
   ]
  },
  {
   "cell_type": "markdown",
   "metadata": {},
   "source": [
    "<!-- BEGIN QUESTION -->\n",
    "\n",
    "**Question 10.** Draw a line plot of the **world population** from 1800 through 2020 (inclusive of both endpoints). The world population is the sum of all of the countries' populations. You should use the `population` table defined earlier in the project. \n"
   ]
  },
  {
   "cell_type": "code",
   "execution_count": 136,
   "metadata": {
    "deletable": false,
    "manual_grade": true,
    "manual_problem_id": "global_pop_10",
    "tags": []
   },
   "outputs": [
    {
     "data": {
      "image/png": "[encoded data removed]",
      "text/plain": [
       "<Figure size 600x600 with 1 Axes>"
      ]
     },
     "metadata": {},
     "output_type": "display_data"
    }
   ],
   "source": [
    "#Fill in code here\n",
    "population.group('time',sum).drop('geo sum').plot('time', 'population_total sum')"
   ]
  },
  {
   "attachments": {},
   "cell_type": "markdown",
   "metadata": {},
   "source": [
    "<!-- END QUESTION -->\n",
    "\n",
    "**Question 11.** Create a function `stats_for_year` that takes a `year` and returns a table of statistics. The table it returns should have four columns: `geo`, `population_total`, `children_per_woman_total_fertility`, and `child_mortality_under_5_per_1000_born`. Each row should contain one unique Alpha-3 country code and three statistics: population, fertility rate, and child mortality for that `year` from the `population`, `fertility` and `child_mortality` tables. Only include rows for which all three statistics are available for the country and year.\n",
    "\n",
    "In addition, restrict the result to country codes that appears in `big_50`, an array of the 50 most populous countries in 2020. This restriction will speed up computations later in the project.\n",
    "\n",
    "After you write `stats_for_year`, try calling `stats_for_year` on any year between 1960 and 2020. Try to understand the output of stats_for_year.\n",
    "\n",
    "*Hint*: The tests for this question are quite comprehensive, so if you pass the tests, your function is probably correct. However, without calling your function yourself and looking at the output, it will be very difficult to understand any problems you have, so try your best to write the function correctly and check that it works before you rely on the `grader` tests to confirm your work.\n",
    "\n",
    "*Hint*: What do all three tables have in common (pay attention to column names)?\n",
    "\n",
    "*Hint*: Create additional cells before directly writing the function.\n"
   ]
  },
  {
   "cell_type": "code",
   "execution_count": 137,
   "metadata": {
    "deletable": false,
    "tags": []
   },
   "outputs": [
    {
     "data": {
      "text/html": [
       "<table border=\"1\" class=\"dataframe\">\n",
       "    <thead>\n",
       "        <tr>\n",
       "            <th>geo</th> <th>population_total</th> <th>children_per_woman_total_fertility</th> <th>child_mortality_under_5_per_1000_born</th>\n",
       "        </tr>\n",
       "    </thead>\n",
       "    <tbody>\n",
       "        <tr>\n",
       "            <td>afg </td> <td>38928341        </td> <td>4.04                              </td> <td>58.08                                </td>\n",
       "        </tr>\n",
       "        <tr>\n",
       "            <td>ago </td> <td>32866268        </td> <td>5.41                              </td> <td>72.29                                </td>\n",
       "        </tr>\n",
       "        <tr>\n",
       "            <td>arg </td> <td>45195777        </td> <td>2.23                              </td> <td>9.4                                  </td>\n",
       "        </tr>\n",
       "        <tr>\n",
       "            <td>bgd </td> <td>164689383       </td> <td>2                                 </td> <td>27.7                                 </td>\n",
       "        </tr>\n",
       "        <tr>\n",
       "            <td>bra </td> <td>212559409       </td> <td>1.67                              </td> <td>13.47                                </td>\n",
       "        </tr>\n",
       "        <tr>\n",
       "            <td>can </td> <td>37742157        </td> <td>1.56                              </td> <td>4.89                                 </td>\n",
       "        </tr>\n",
       "        <tr>\n",
       "            <td>chn </td> <td>1439323774      </td> <td>1.65                              </td> <td>8.09                                 </td>\n",
       "        </tr>\n",
       "        <tr>\n",
       "            <td>cod </td> <td>89561404        </td> <td>5.72                              </td> <td>84.53                                </td>\n",
       "        </tr>\n",
       "        <tr>\n",
       "            <td>col </td> <td>50882884        </td> <td>1.78                              </td> <td>13.48                                </td>\n",
       "        </tr>\n",
       "        <tr>\n",
       "            <td>deu </td> <td>83783945        </td> <td>1.49                              </td> <td>3.24                                 </td>\n",
       "        </tr>\n",
       "    </tbody>\n",
       "</table>\n",
       "<p>... (40 rows omitted)</p>"
      ],
      "text/plain": [
       "geo  | population_total | children_per_woman_total_fertility | child_mortality_under_5_per_1000_born\n",
       "afg  | 38928341         | 4.04                               | 58.08\n",
       "ago  | 32866268         | 5.41                               | 72.29\n",
       "arg  | 45195777         | 2.23                               | 9.4\n",
       "bgd  | 164689383        | 2                                  | 27.7\n",
       "bra  | 212559409        | 1.67                               | 13.47\n",
       "can  | 37742157         | 1.56                               | 4.89\n",
       "chn  | 1439323774       | 1.65                               | 8.09\n",
       "cod  | 89561404         | 5.72                               | 84.53\n",
       "col  | 50882884         | 1.78                               | 13.48\n",
       "deu  | 83783945         | 1.49                               | 3.24\n",
       "... (40 rows omitted)"
      ]
     },
     "execution_count": 137,
     "metadata": {},
     "output_type": "execute_result"
    }
   ],
   "source": [
    "# We first create a population table that only includes the \n",
    "# 50 countries with the largest 2020 populations. We focus on \n",
    "# these 50 countries only so that plotting later will run faster.\n",
    "big_50 = population.where('time', are.equal_to(2020)).sort(\"population_total\", descending=True).take(np.arange(50)).column('geo')\n",
    "population_of_big_50 = population.where('time', are.above(1959)).where('geo', are.contained_in(big_50))\n",
    "\n",
    "def stats_for_year(year):\n",
    "    \"\"\"Return a table of the stats for each country that year.\"\"\"\n",
    "    p = population_of_big_50.where('time', are.equal_to(year)).drop('time')\n",
    "    f = fertility.where('time', are.equal_to(year)).drop('time')\n",
    "    c = child_mortality.where('time', are.equal_to(year)).drop('time')\n",
    "    return p.join('geo', f).join('geo', c)\n",
    "\n",
    "stats_for_year(2020)"
   ]
  },
  {
   "cell_type": "code",
   "execution_count": 138,
   "metadata": {
    "deletable": false,
    "editable": false
   },
   "outputs": [
    {
     "data": {
      "text/html": [
       "<p><strong><pre style='display: inline;'>q1_11</pre></strong> passed! 🍀</p>"
      ],
      "text/plain": [
       "q1_11 results: All test cases passed!"
      ]
     },
     "execution_count": 138,
     "metadata": {},
     "output_type": "execute_result"
    }
   ],
   "source": [
    "grader.check(\"q1_11\")"
   ]
  },
  {
   "cell_type": "markdown",
   "metadata": {},
   "source": [
    "**Question 12.** Create a table called `pop_by_decade` with two columns called `decade` and `population`, in this order. It has a row for each year that starts a decade, in increasing order starting with 1960 and ending with 2020. For example, 1960 is the start of the 1960's decade. The `population` column contains the total population of all countries included in the result of `stats_for_year(year)` for the first `year` of the decade. You should see that these countries contain most of the world's population.\n",
    "\n",
    "*Hint:* One approach is to define a function `pop_for_year` that computes this total population, then `apply` it to the `decade` column.  **Think about how you can use the `stats_for_year` function** from the previous question if you want to implement `pop_for_year`.\n",
    "\n",
    "This first test is just a sanity check for your helper function if you choose to use it. **You will not lose points for not implementing the function `pop_for_year`**.\n",
    "\n",
    "**Note:** The cell where you will generate the `pop_by_decade` table is below the cell where you can choose to define the helper function `pop_for_year`. You should define your `pop_by_decade` table in the cell that starts with the table `decades` being defined. \n"
   ]
  },
  {
   "cell_type": "code",
   "execution_count": 139,
   "metadata": {
    "tags": []
   },
   "outputs": [],
   "source": [
    "def pop_for_year(year):\n",
    "    \"\"\"Return the total population for the specified year.\"\"\"\n",
    "    return population_of_big_50.where('time', are.equal_to(year)).column('population_total').sum()\n",
    "\n",
    "Decade = np.arange(1960, 2021, 10)\n",
    "stats_for_years = Table().with_column('Decade', Decade)\n",
    "pop_by_decade = stats_for_years.apply(pop_for_year)\n"
   ]
  },
  {
   "cell_type": "code",
   "execution_count": 140,
   "metadata": {
    "deletable": false,
    "editable": false
   },
   "outputs": [
    {
     "data": {
      "text/html": [
       "<p><strong><pre style='display: inline;'>q1_12_0</pre></strong> passed! 🚀</p>"
      ],
      "text/plain": [
       "q1_12_0 results: All test cases passed!"
      ]
     },
     "execution_count": 140,
     "metadata": {},
     "output_type": "execute_result"
    }
   ],
   "source": [
    "grader.check(\"q1_12_0\")"
   ]
  },
  {
   "cell_type": "markdown",
   "metadata": {},
   "source": [
    "Now that you've defined your helper function (if you've chosen to do so), define the `pop_by_decade` table.\n"
   ]
  },
  {
   "cell_type": "code",
   "execution_count": 141,
   "metadata": {
    "deletable": false,
    "tags": []
   },
   "outputs": [
    {
     "data": {
      "text/html": [
       "<table border=\"1\" class=\"dataframe\">\n",
       "    <thead>\n",
       "        <tr>\n",
       "            <th>decade</th> <th>population</th>\n",
       "        </tr>\n",
       "    </thead>\n",
       "    <tbody>\n",
       "        <tr>\n",
       "            <td>1960  </td> <td>2,635,123,897</td>\n",
       "        </tr>\n",
       "        <tr>\n",
       "            <td>1970  </td> <td>3,221,457,416</td>\n",
       "        </tr>\n",
       "        <tr>\n",
       "            <td>1980  </td> <td>3,890,044,418</td>\n",
       "        </tr>\n",
       "        <tr>\n",
       "            <td>1990  </td> <td>4,656,339,803</td>\n",
       "        </tr>\n",
       "        <tr>\n",
       "            <td>2000  </td> <td>5,377,062,169</td>\n",
       "        </tr>\n",
       "        <tr>\n",
       "            <td>2010  </td> <td>6,064,674,132</td>\n",
       "        </tr>\n",
       "        <tr>\n",
       "            <td>2020  </td> <td>6,765,161,289</td>\n",
       "        </tr>\n",
       "    </tbody>\n",
       "</table>"
      ],
      "text/plain": [
       "decade | population\n",
       "1960   | 2,635,123,897\n",
       "1970   | 3,221,457,416\n",
       "1980   | 3,890,044,418\n",
       "1990   | 4,656,339,803\n",
       "2000   | 5,377,062,169\n",
       "2010   | 6,064,674,132\n",
       "2020   | 6,765,161,289"
      ]
     },
     "execution_count": 141,
     "metadata": {},
     "output_type": "execute_result"
    }
   ],
   "source": [
    "decades = Table().with_column('decade', np.arange(1960, 2021, 10))\n",
    "\n",
    "pop_by_decade = Table().with_columns(\n",
    "    'decade', Decade,\n",
    "    'population', pop_by_decade\n",
    ")\n",
    "pop_by_decade.set_format(1, NumberFormatter)"
   ]
  },
  {
   "cell_type": "code",
   "execution_count": 142,
   "metadata": {
    "deletable": false,
    "editable": false
   },
   "outputs": [
    {
     "data": {
      "text/html": [
       "<p><strong><pre style='display: inline;'>q1_12</pre></strong> passed! 🌈</p>"
      ],
      "text/plain": [
       "q1_12 results: All test cases passed!"
      ]
     },
     "execution_count": 142,
     "metadata": {},
     "output_type": "execute_result"
    }
   ],
   "source": [
    "grader.check(\"q1_12\")"
   ]
  },
  {
   "cell_type": "markdown",
   "metadata": {
    "deletable": false,
    "editable": false
   },
   "source": [
    "The `countries` table describes various characteristics of countries. The `country` column contains the same codes as the `geo` column in each of the other data tables (`population`, `fertility`, and `child_mortality`). The `world_6region` column classifies each country into a region of the world. Run the cell below to inspect the data."
   ]
  },
  {
   "cell_type": "code",
   "execution_count": 143,
   "metadata": {},
   "outputs": [
    {
     "data": {
      "text/html": [
       "<table border=\"1\" class=\"dataframe\">\n",
       "    <thead>\n",
       "        <tr>\n",
       "            <th>country</th> <th>name</th> <th>world_6region</th>\n",
       "        </tr>\n",
       "    </thead>\n",
       "    <tbody>\n",
       "        <tr>\n",
       "            <td>afg    </td> <td>Afghanistan         </td> <td>south_asia              </td>\n",
       "        </tr>\n",
       "        <tr>\n",
       "            <td>ago    </td> <td>Angola              </td> <td>sub_saharan_africa      </td>\n",
       "        </tr>\n",
       "        <tr>\n",
       "            <td>alb    </td> <td>Albania             </td> <td>europe_central_asia     </td>\n",
       "        </tr>\n",
       "        <tr>\n",
       "            <td>and    </td> <td>Andorra             </td> <td>europe_central_asia     </td>\n",
       "        </tr>\n",
       "        <tr>\n",
       "            <td>are    </td> <td>United Arab Emirates</td> <td>middle_east_north_africa</td>\n",
       "        </tr>\n",
       "        <tr>\n",
       "            <td>arg    </td> <td>Argentina           </td> <td>america                 </td>\n",
       "        </tr>\n",
       "        <tr>\n",
       "            <td>arm    </td> <td>Armenia             </td> <td>europe_central_asia     </td>\n",
       "        </tr>\n",
       "        <tr>\n",
       "            <td>atg    </td> <td>Antigua and Barbuda </td> <td>america                 </td>\n",
       "        </tr>\n",
       "        <tr>\n",
       "            <td>aus    </td> <td>Australia           </td> <td>east_asia_pacific       </td>\n",
       "        </tr>\n",
       "        <tr>\n",
       "            <td>aut    </td> <td>Austria             </td> <td>europe_central_asia     </td>\n",
       "        </tr>\n",
       "    </tbody>\n",
       "</table>\n",
       "<p>... (187 rows omitted)</p>"
      ],
      "text/plain": [
       "country | name                 | world_6region\n",
       "afg     | Afghanistan          | south_asia\n",
       "ago     | Angola               | sub_saharan_africa\n",
       "alb     | Albania              | europe_central_asia\n",
       "and     | Andorra              | europe_central_asia\n",
       "are     | United Arab Emirates | middle_east_north_africa\n",
       "arg     | Argentina            | america\n",
       "arm     | Armenia              | europe_central_asia\n",
       "atg     | Antigua and Barbuda  | america\n",
       "aus     | Australia            | east_asia_pacific\n",
       "aut     | Austria              | europe_central_asia\n",
       "... (187 rows omitted)"
      ]
     },
     "execution_count": 143,
     "metadata": {},
     "output_type": "execute_result"
    }
   ],
   "source": [
    "countries = Table.read_table('countries.csv').where('country', are.contained_in(population.group('geo').column('geo')))\n",
    "countries.select('country', 'name', 'world_6region')"
   ]
  },
  {
   "cell_type": "markdown",
   "metadata": {},
   "source": [
    "**Question 13.** Create a table called `region_counts`. It should contain two columns called `region` and `count`. The `region` column should contain regions of the world, and the `count` column should contain the number of countries in each region that appears in the result of `stats_for_year(2020)`. \n",
    "\n",
    "For example, one row would have `south_asia` as its `region` value and an integer as its `count` value: the number of large South Asian countries for which we have population, fertility, and child mortality numbers from 2020.\n",
    "\n",
    "*Hint*: You may have to relabel a column to name it `region`. \n"
   ]
  },
  {
   "cell_type": "code",
   "execution_count": 144,
   "metadata": {
    "deletable": false,
    "tags": []
   },
   "outputs": [
    {
     "data": {
      "text/html": [
       "<table border=\"1\" class=\"dataframe\">\n",
       "    <thead>\n",
       "        <tr>\n",
       "            <th>region</th> <th>count</th>\n",
       "        </tr>\n",
       "    </thead>\n",
       "    <tbody>\n",
       "        <tr>\n",
       "            <td>america                 </td> <td>8    </td>\n",
       "        </tr>\n",
       "        <tr>\n",
       "            <td>east_asia_pacific       </td> <td>9    </td>\n",
       "        </tr>\n",
       "        <tr>\n",
       "            <td>europe_central_asia     </td> <td>10   </td>\n",
       "        </tr>\n",
       "        <tr>\n",
       "            <td>middle_east_north_africa</td> <td>7    </td>\n",
       "        </tr>\n",
       "        <tr>\n",
       "            <td>south_asia              </td> <td>5    </td>\n",
       "        </tr>\n",
       "        <tr>\n",
       "            <td>sub_saharan_africa      </td> <td>11   </td>\n",
       "        </tr>\n",
       "    </tbody>\n",
       "</table>"
      ],
      "text/plain": [
       "region                   | count\n",
       "america                  | 8\n",
       "east_asia_pacific        | 9\n",
       "europe_central_asia      | 10\n",
       "middle_east_north_africa | 7\n",
       "south_asia               | 5\n",
       "sub_saharan_africa       | 11"
      ]
     },
     "execution_count": 144,
     "metadata": {},
     "output_type": "execute_result"
    }
   ],
   "source": [
    "Region = countries.select ('world_6region')\n",
    "country = countries.select('country')\n",
    "stats_for_2020 = stats_for_year(2020).relabeled('geo', 'country')\n",
    "Join = countries.join('country', stats_for_2020, 'country')\n",
    "region_counts = Join.group('world_6region').relabeled('world_6region', 'region')\n",
    "region_counts"
   ]
  },
  {
   "cell_type": "code",
   "execution_count": 145,
   "metadata": {
    "deletable": false,
    "editable": false
   },
   "outputs": [
    {
     "data": {
      "text/html": [
       "<p><strong><pre style='display: inline;'>q1_13</pre></strong> passed! 🍀</p>"
      ],
      "text/plain": [
       "q1_13 results: All test cases passed!"
      ]
     },
     "execution_count": 145,
     "metadata": {},
     "output_type": "execute_result"
    }
   ],
   "source": [
    "grader.check(\"q1_13\")"
   ]
  },
  {
   "cell_type": "markdown",
   "metadata": {
    "deletable": false
   },
   "source": [
    "The following scatter diagram compares total fertility rate and child mortality rate for each country in 1960. The area of each dot represents the population of the country, and the color represents its region of the world. Run the cell. Do you think you can identify any of the dots?"
   ]
  },
  {
   "cell_type": "code",
   "execution_count": 146,
   "metadata": {
    "deletable": false
   },
   "outputs": [
    {
     "data": {
      "image/png": "[encoded data removed]",
      "text/plain": [
       "<Figure size 500x500 with 1 Axes>"
      ]
     },
     "metadata": {},
     "output_type": "display_data"
    }
   ],
   "source": [
    "from functools import lru_cache as cache\n",
    "\n",
    "# This cache annotation makes sure that if the same year\n",
    "# is passed as an argument twice, the work of computing\n",
    "# the result is only carried out once.\n",
    "@cache(None)\n",
    "def stats_relabeled(year):\n",
    "    \"\"\"Relabeled and cached version of stats_for_year.\"\"\"\n",
    "    return stats_for_year(year).relabel(2, 'Children per woman').relabel(3, 'Child deaths per 1000 born')\n",
    "\n",
    "def fertility_vs_child_mortality(year):\n",
    "    \"\"\"Draw a color scatter diagram comparing child mortality and fertility.\"\"\"\n",
    "    with_region = stats_relabeled(year).join('geo', countries.select('country', 'world_6region'), 'country')\n",
    "    with_region.scatter(2, 3, sizes=1, group=4, s=500)\n",
    "    plots.xlim(0,10)\n",
    "    plots.ylim(-50, 500)\n",
    "    plots.title(year)\n",
    "    plots.show()\n",
    "\n",
    "fertility_vs_child_mortality(1960)"
   ]
  },
  {
   "cell_type": "markdown",
   "metadata": {},
   "source": [
    "**Question 14.** Assign `scatter_statements` to an array of the numbers of each statement below that can be inferred from this scatter diagram for 1960. \n",
    "1. All countries in `europe_central_asia` had uniformly low fertility rates.\n",
    "1. The lowest child mortality rate of any country was from an `east_asia_pacific` country.\n",
    "1. Most countries had a fertility rate above 5.\n",
    "1. There was an association between child mortality and fertility.\n",
    "1. The two largest countries by population also had the two highest child mortality rates.\n"
   ]
  },
  {
   "cell_type": "code",
   "execution_count": 147,
   "metadata": {
    "deletable": false,
    "tags": []
   },
   "outputs": [],
   "source": [
    "scatter_statements = make_array(1,3,4)"
   ]
  },
  {
   "cell_type": "code",
   "execution_count": 148,
   "metadata": {
    "deletable": false,
    "editable": false
   },
   "outputs": [
    {
     "data": {
      "text/html": [
       "<p><strong><pre style='display: inline;'>q1_14</pre></strong> passed! 🙌</p>"
      ],
      "text/plain": [
       "q1_14 results: All test cases passed!"
      ]
     },
     "execution_count": 148,
     "metadata": {},
     "output_type": "execute_result"
    }
   ],
   "source": [
    "grader.check(\"q1_14\")"
   ]
  },
  {
   "cell_type": "markdown",
   "metadata": {
    "deletable": false
   },
   "source": [
    "The result of the cell below is interactive. Drag the slider to the right to see how countries have changed over time. You’ll find that in terms of population growth, the divide between the countries of the global North and global South that existed in the 1960s has shrunk significantly. \n",
    "\n",
    "This shift in fertility rates is the reason that the global population is expected to grow more slowly in the 21st century than it did in the 19th and 20th centuries. Fertility rates change for reasons that include cultural patterns, better prospects for children surviving to adulthood, and family planning (such as contraception and women’s greater control over their reproduction).\n",
    "\n",
    "**Note:** Don't worry if a red warning pops up when running the cell below. You'll still be able to run the cell!"
   ]
  },
  {
   "cell_type": "code",
   "execution_count": 149,
   "metadata": {
    "deletable": false,
    "scrolled": true
   },
   "outputs": [
    {
     "data": {
      "application/vnd.jupyter.widget-view+json": {
       "model_id": "1353281bd1494dae8276abc9a4e04f22",
       "version_major": 2,
       "version_minor": 0
      },
      "text/plain": [
       "interactive(children=(IntSlider(value=1960, description='year', max=2020, min=1960), Output()), _dom_classes=(…"
      ]
     },
     "metadata": {},
     "output_type": "display_data"
    }
   ],
   "source": [
    "_ = widgets.interact(fertility_vs_child_mortality, \n",
    "                     year=widgets.IntSlider(min=1960, max=2020, value=1960))"
   ]
  },
  {
   "cell_type": "markdown",
   "metadata": {
    "deletable": false,
    "editable": false
   },
   "source": [
    "Now is a great time to take a break and watch the same data presented by [Hans Rosling in a 2010 TEDx talk](https://www.gapminder.org/videos/reducing-child-mortality-a-moral-and-environmental-imperative) with smoother animation and witty commentary."
   ]
  },
  {
   "cell_type": "markdown",
   "metadata": {},
   "source": [
    "When we look at population and fertility as data scientists, we need to learn about the experiences of people in real life, not just abstractly as data. We should also recognize that population studies have sometimes had political undercurrents. Those undercurrents have included population control, control of women’s reproduction, or fears of shifts between racial groups. To do better as data scientists, we should check our assumptions to avoid unthinkingly reproducing past patterns."
   ]
  },
  {
   "cell_type": "markdown",
   "metadata": {
    "deletable": false
   },
   "source": [
    "## 2. Global Poverty"
   ]
  },
  {
   "cell_type": "markdown",
   "metadata": {
    "deletable": false
   },
   "source": [
    "In 1800, 85% of the world's 1 billion people lived in [extreme poverty](https://en.wikipedia.org/wiki/Extreme_poverty), defined by the United Nations as \"a condition characterized by severe deprivation of basic human needs, including food, safe drinking water, sanitation facilities, health, shelter, education and information.\" At the time when the data in this project were gathered, a common definition of extreme poverty was a person living on less than \\$1.25 a day.\n",
    "\n",
    "In 2018, the proportion of people living in extreme poverty was estimated to be [about 9\\%](https://unstats.un.org/sdgs/report/2019/goal-01/). Although the world rate of extreme poverty has declined consistently for hundreds of years, the number of people living in extreme poverty is still over 600 million. The United Nations adopted an [ambitious goal](http://www.un.org/sustainabledevelopment/poverty/): \"By 2030, eradicate extreme poverty for all people everywhere.\"\n",
    "\n",
    "In this part of the project, we will examine some aspects of global poverty that might affect whether the goal is achievable. The causes of poverty are complex. They include global histories, such as colonialism, as well as factors such as health care, economics, and social inequality in each country."
   ]
  },
  {
   "cell_type": "markdown",
   "metadata": {
    "deletable": false,
    "editable": false
   },
   "source": [
    "First, load the population and poverty rate by country and year and the country descriptions. While the `population` table has values for every recent year for many countries, the `poverty` table only includes certain years for each country in which a measurement of the rate of extreme poverty was available."
   ]
  },
  {
   "cell_type": "code",
   "execution_count": 150,
   "metadata": {},
   "outputs": [
    {
     "data": {
      "text/html": [
       "<table border=\"1\" class=\"dataframe\">\n",
       "    <thead>\n",
       "        <tr>\n",
       "            <th>geo</th> <th>time</th> <th>extreme_poverty_percent_people_below_125_a_day</th>\n",
       "        </tr>\n",
       "    </thead>\n",
       "    <tbody>\n",
       "        <tr>\n",
       "            <td>alb </td> <td>1996</td> <td>0.2                                           </td>\n",
       "        </tr>\n",
       "        <tr>\n",
       "            <td>alb </td> <td>2002</td> <td>0.73                                          </td>\n",
       "        </tr>\n",
       "        <tr>\n",
       "            <td>alb </td> <td>2004</td> <td>0.53                                          </td>\n",
       "        </tr>\n",
       "    </tbody>\n",
       "</table>\n",
       "<p>... (1096 rows omitted)</p>"
      ],
      "text/plain": [
       "<IPython.core.display.HTML object>"
      ]
     },
     "metadata": {},
     "output_type": "display_data"
    }
   ],
   "source": [
    "population = Table.read_table('population.csv') \n",
    "countries = Table.read_table('countries.csv').where('country', are.contained_in(population.group('geo').column('geo')))\n",
    "poverty = Table.read_table('poverty.csv')\n",
    "poverty.show(3)"
   ]
  },
  {
   "cell_type": "markdown",
   "metadata": {},
   "source": [
    "**Question 1.** Assign `latest_poverty` to a three-column table with one row for each country that appears in the `poverty` table. The first column should contain the 3-letter code for the country. The second column should contain the most recent year for which an extreme poverty rate is available for the country. The third column should contain the poverty rate in that year. **Do not change the last line, so that the labels of your table are set correctly.**\n",
    "\n",
    "*Hint*: think about how ```group``` works: it does a sequential search of the table (from top to bottom) and collects values in the array in the order in which they appear, and then applies a function to that array. The `first` function may be helpful, but you are not required to use it.\n"
   ]
  },
  {
   "cell_type": "code",
   "execution_count": 151,
   "metadata": {
    "deletable": false,
    "tags": []
   },
   "outputs": [
    {
     "data": {
      "text/html": [
       "<table border=\"1\" class=\"dataframe\">\n",
       "    <thead>\n",
       "        <tr>\n",
       "            <th>geo</th> <th>time</th> <th>poverty_percent</th>\n",
       "        </tr>\n",
       "    </thead>\n",
       "    <tbody>\n",
       "        <tr>\n",
       "            <td>ago </td> <td>2009</td> <td>43.37          </td>\n",
       "        </tr>\n",
       "        <tr>\n",
       "            <td>alb </td> <td>2012</td> <td>0.46           </td>\n",
       "        </tr>\n",
       "        <tr>\n",
       "            <td>arg </td> <td>2011</td> <td>1.41           </td>\n",
       "        </tr>\n",
       "        <tr>\n",
       "            <td>arm </td> <td>2012</td> <td>1.75           </td>\n",
       "        </tr>\n",
       "        <tr>\n",
       "            <td>aus </td> <td>2003</td> <td>1.36           </td>\n",
       "        </tr>\n",
       "        <tr>\n",
       "            <td>aut </td> <td>2004</td> <td>0.34           </td>\n",
       "        </tr>\n",
       "        <tr>\n",
       "            <td>aze </td> <td>2008</td> <td>0.31           </td>\n",
       "        </tr>\n",
       "        <tr>\n",
       "            <td>bdi </td> <td>2006</td> <td>81.32          </td>\n",
       "        </tr>\n",
       "        <tr>\n",
       "            <td>bel </td> <td>2000</td> <td>0.5            </td>\n",
       "        </tr>\n",
       "        <tr>\n",
       "            <td>ben </td> <td>2012</td> <td>51.61          </td>\n",
       "        </tr>\n",
       "    </tbody>\n",
       "</table>\n",
       "<p>... (135 rows omitted)</p>"
      ],
      "text/plain": [
       "geo  | time | poverty_percent\n",
       "ago  | 2009 | 43.37\n",
       "alb  | 2012 | 0.46\n",
       "arg  | 2011 | 1.41\n",
       "arm  | 2012 | 1.75\n",
       "aus  | 2003 | 1.36\n",
       "aut  | 2004 | 0.34\n",
       "aze  | 2008 | 0.31\n",
       "bdi  | 2006 | 81.32\n",
       "bel  | 2000 | 0.5\n",
       "ben  | 2012 | 51.61\n",
       "... (135 rows omitted)"
      ]
     },
     "execution_count": 151,
     "metadata": {},
     "output_type": "execute_result"
    }
   ],
   "source": [
    "\n",
    "recent_first = poverty.sort(\"time\", descending=True)\n",
    "latest_poverty = recent_first.group(\"geo\", first)\n",
    "latest_poverty = latest_poverty.relabeled(0, 'geo').relabeled(1, 'time').relabeled(2, 'poverty_percent') # You should *not* change this line.\n",
    "latest_poverty"
   ]
  },
  {
   "cell_type": "code",
   "execution_count": 152,
   "metadata": {
    "deletable": false,
    "editable": false
   },
   "outputs": [
    {
     "data": {
      "text/html": [
       "<p><strong><pre style='display: inline;'>q2_1</pre></strong> passed! 🎉</p>"
      ],
      "text/plain": [
       "q2_1 results: All test cases passed!"
      ]
     },
     "execution_count": 152,
     "metadata": {},
     "output_type": "execute_result"
    }
   ],
   "source": [
    "grader.check(\"q2_1\")"
   ]
  },
  {
   "cell_type": "markdown",
   "metadata": {},
   "source": [
    "**Question 2.** Using both `latest_poverty` and `population`, create a four-column table called `recent_poverty_total` with one row for each country in `latest_poverty`. The four columns should have the following labels and contents:\n",
    "1. `geo` contains the 3-letter country code,\n",
    "1. `poverty_percent` contains the most recent poverty percent,\n",
    "1. `population_total` contains the population of the country in 2010,\n",
    "1. `poverty_total` contains the number of people in poverty **rounded to the nearest integer**, based on the 2010 population and most recent poverty rate.\n",
    "\n",
    "*Hint*: You are not required to use `poverty_and_pop`, and you are always welcome to add any additional names. "
   ]
  },
  {
   "cell_type": "code",
   "execution_count": 153,
   "metadata": {
    "deletable": false,
    "tags": []
   },
   "outputs": [
    {
     "data": {
      "text/html": [
       "<table border=\"1\" class=\"dataframe\">\n",
       "    <thead>\n",
       "        <tr>\n",
       "            <th>geo</th> <th>poverty_percent</th> <th>population_total</th> <th>poverty_total</th>\n",
       "        </tr>\n",
       "    </thead>\n",
       "    <tbody>\n",
       "        <tr>\n",
       "            <td>ago </td> <td>43.37          </td> <td>23356247        </td> <td>1.01296e+07  </td>\n",
       "        </tr>\n",
       "        <tr>\n",
       "            <td>alb </td> <td>0.46           </td> <td>2948029         </td> <td>13561        </td>\n",
       "        </tr>\n",
       "        <tr>\n",
       "            <td>arg </td> <td>1.41           </td> <td>40895751        </td> <td>576630       </td>\n",
       "        </tr>\n",
       "        <tr>\n",
       "            <td>arm </td> <td>1.75           </td> <td>2877314         </td> <td>50353        </td>\n",
       "        </tr>\n",
       "        <tr>\n",
       "            <td>aus </td> <td>1.36           </td> <td>22154687        </td> <td>301304       </td>\n",
       "        </tr>\n",
       "        <tr>\n",
       "            <td>aut </td> <td>0.34           </td> <td>8409945         </td> <td>28594        </td>\n",
       "        </tr>\n",
       "        <tr>\n",
       "            <td>aze </td> <td>0.31           </td> <td>9032465         </td> <td>28001        </td>\n",
       "        </tr>\n",
       "        <tr>\n",
       "            <td>bdi </td> <td>81.32          </td> <td>8675606         </td> <td>7.055e+06    </td>\n",
       "        </tr>\n",
       "        <tr>\n",
       "            <td>bel </td> <td>0.5            </td> <td>10938735        </td> <td>54694        </td>\n",
       "        </tr>\n",
       "        <tr>\n",
       "            <td>ben </td> <td>51.61          </td> <td>9199254         </td> <td>4.74774e+06  </td>\n",
       "        </tr>\n",
       "    </tbody>\n",
       "</table>\n",
       "<p>... (135 rows omitted)</p>"
      ],
      "text/plain": [
       "geo  | poverty_percent | population_total | poverty_total\n",
       "ago  | 43.37           | 23356247         | 1.01296e+07\n",
       "alb  | 0.46            | 2948029          | 13561\n",
       "arg  | 1.41            | 40895751         | 576630\n",
       "arm  | 1.75            | 2877314          | 50353\n",
       "aus  | 1.36            | 22154687         | 301304\n",
       "aut  | 0.34            | 8409945          | 28594\n",
       "aze  | 0.31            | 9032465          | 28001\n",
       "bdi  | 81.32           | 8675606          | 7.055e+06\n",
       "bel  | 0.5             | 10938735         | 54694\n",
       "ben  | 51.61           | 9199254          | 4.74774e+06\n",
       "... (135 rows omitted)"
      ]
     },
     "execution_count": 153,
     "metadata": {},
     "output_type": "execute_result"
    }
   ],
   "source": [
    "\n",
    "population_2010 = population.where(\"time\", 2010).select(\"geo\", \"population_total\")\n",
    "poverty_and_pop = latest_poverty.join(\"geo\", population_2010)\n",
    "poverty_total = np.round(poverty_and_pop.column(\"population_total\") * (poverty_and_pop.column(\"poverty_percent\") / 100))\n",
    "recent_poverty_total = Table().with_columns(\n",
    "    \"geo\", poverty_and_pop.column(\"geo\"),\n",
    "    \"poverty_percent\", poverty_and_pop.column(\"poverty_percent\"),\n",
    "    \"population_total\", poverty_and_pop.column(\"population_total\"),\n",
    "    \"poverty_total\", poverty_total\n",
    ")\n",
    "\n",
    "recent_poverty_total"
   ]
  },
  {
   "cell_type": "code",
   "execution_count": 154,
   "metadata": {
    "deletable": false,
    "editable": false
   },
   "outputs": [
    {
     "data": {
      "text/html": [
       "<p><strong><pre style='display: inline;'>q2_2</pre></strong> passed! 🙌</p>"
      ],
      "text/plain": [
       "q2_2 results: All test cases passed!"
      ]
     },
     "execution_count": 154,
     "metadata": {},
     "output_type": "execute_result"
    }
   ],
   "source": [
    "grader.check(\"q2_2\")"
   ]
  },
  {
   "cell_type": "markdown",
   "metadata": {},
   "source": [
    "**Question 3.** Assign the name `poverty_percent` to the known percentage of the world’s 2010 population that were living in extreme poverty. Assume that the `poverty_total` numbers in the `recent_poverty_total` table describe **all** people in 2010 living in extreme poverty. You should get a number that is above the 2018 global estimate of 9%, since many country-specific poverty rates are older than 2018.\n",
    "\n",
    "*Hint*: The sum of the `population_total` column in the `recent_poverty_total` table is not the world population, because only a subset of the world's countries are included in the `recent_poverty_total` table (only some countries have known poverty rates). Use the `population` table to compute the world's 2010 total population.\n",
    "\n",
    "*Hint*: We are computing a percentage (value between 0 and 100), not a proportion (value between 0 and 1).\n"
   ]
  },
  {
   "cell_type": "code",
   "execution_count": 155,
   "metadata": {
    "deletable": false,
    "tags": []
   },
   "outputs": [
    {
     "data": {
      "text/plain": [
       "14.248865303997139"
      ]
     },
     "execution_count": 155,
     "metadata": {},
     "output_type": "execute_result"
    }
   ],
   "source": [
    "poverty_percent = (recent_poverty_total.column('poverty_total').sum() / population.where('time', 2010).column('population_total').sum()) * 100\n",
    "poverty_percent"
   ]
  },
  {
   "cell_type": "code",
   "execution_count": 156,
   "metadata": {
    "deletable": false,
    "editable": false
   },
   "outputs": [
    {
     "data": {
      "text/html": [
       "<p><strong><pre style='display: inline;'>q2_3</pre></strong> passed! 🚀</p>"
      ],
      "text/plain": [
       "q2_3 results: All test cases passed!"
      ]
     },
     "execution_count": 156,
     "metadata": {},
     "output_type": "execute_result"
    }
   ],
   "source": [
    "grader.check(\"q2_3\")"
   ]
  },
  {
   "cell_type": "markdown",
   "metadata": {
    "deletable": false,
    "editable": false
   },
   "source": [
    "The `countries` table includes not only the name and region of countries, but also their positions on the globe."
   ]
  },
  {
   "cell_type": "code",
   "execution_count": 157,
   "metadata": {
    "deletable": false,
    "editable": false
   },
   "outputs": [
    {
     "data": {
      "text/html": [
       "<table border=\"1\" class=\"dataframe\">\n",
       "    <thead>\n",
       "        <tr>\n",
       "            <th>country</th> <th>name</th> <th>world_4region</th> <th>latitude</th> <th>longitude</th>\n",
       "        </tr>\n",
       "    </thead>\n",
       "    <tbody>\n",
       "        <tr>\n",
       "            <td>afg    </td> <td>Afghanistan         </td> <td>asia         </td> <td>33      </td> <td>66       </td>\n",
       "        </tr>\n",
       "        <tr>\n",
       "            <td>ago    </td> <td>Angola              </td> <td>africa       </td> <td>-12.5   </td> <td>18.5     </td>\n",
       "        </tr>\n",
       "        <tr>\n",
       "            <td>alb    </td> <td>Albania             </td> <td>europe       </td> <td>41      </td> <td>20       </td>\n",
       "        </tr>\n",
       "        <tr>\n",
       "            <td>and    </td> <td>Andorra             </td> <td>europe       </td> <td>42.5078 </td> <td>1.52109  </td>\n",
       "        </tr>\n",
       "        <tr>\n",
       "            <td>are    </td> <td>United Arab Emirates</td> <td>asia         </td> <td>23.75   </td> <td>54.5     </td>\n",
       "        </tr>\n",
       "        <tr>\n",
       "            <td>arg    </td> <td>Argentina           </td> <td>americas     </td> <td>-34     </td> <td>-64      </td>\n",
       "        </tr>\n",
       "        <tr>\n",
       "            <td>arm    </td> <td>Armenia             </td> <td>europe       </td> <td>40.25   </td> <td>45       </td>\n",
       "        </tr>\n",
       "        <tr>\n",
       "            <td>atg    </td> <td>Antigua and Barbuda </td> <td>americas     </td> <td>17.05   </td> <td>-61.8    </td>\n",
       "        </tr>\n",
       "        <tr>\n",
       "            <td>aus    </td> <td>Australia           </td> <td>asia         </td> <td>-25     </td> <td>135      </td>\n",
       "        </tr>\n",
       "        <tr>\n",
       "            <td>aut    </td> <td>Austria             </td> <td>europe       </td> <td>47.3333 </td> <td>13.3333  </td>\n",
       "        </tr>\n",
       "    </tbody>\n",
       "</table>\n",
       "<p>... (187 rows omitted)</p>"
      ],
      "text/plain": [
       "country | name                 | world_4region | latitude | longitude\n",
       "afg     | Afghanistan          | asia          | 33       | 66\n",
       "ago     | Angola               | africa        | -12.5    | 18.5\n",
       "alb     | Albania              | europe        | 41       | 20\n",
       "and     | Andorra              | europe        | 42.5078  | 1.52109\n",
       "are     | United Arab Emirates | asia          | 23.75    | 54.5\n",
       "arg     | Argentina            | americas      | -34      | -64\n",
       "arm     | Armenia              | europe        | 40.25    | 45\n",
       "atg     | Antigua and Barbuda  | americas      | 17.05    | -61.8\n",
       "aus     | Australia            | asia          | -25      | 135\n",
       "aut     | Austria              | europe        | 47.3333  | 13.3333\n",
       "... (187 rows omitted)"
      ]
     },
     "execution_count": 157,
     "metadata": {},
     "output_type": "execute_result"
    }
   ],
   "source": [
    "countries.select('country', 'name', 'world_4region', 'latitude', 'longitude')"
   ]
  },
  {
   "cell_type": "markdown",
   "metadata": {},
   "source": [
    "**Question 4.** Using both `countries` and `recent_poverty_total`, create a five-column table called `poverty_map` with one row for every country in `recent_poverty_total`.  The five columns should have the following labels and contents, in this order:\n",
    "1. `latitude` contains the country's latitude,\n",
    "1. `longitude` contains the country's longitude,\n",
    "1. `name` contains the country's name,\n",
    "1. `region` contains the country's region from the `world_4region` column of `countries`,\n",
    "1. `poverty_total` contains the country's poverty total.\n"
   ]
  },
  {
   "cell_type": "code",
   "execution_count": 158,
   "metadata": {
    "deletable": false,
    "tags": []
   },
   "outputs": [
    {
     "data": {
      "text/html": [
       "<table border=\"1\" class=\"dataframe\">\n",
       "    <thead>\n",
       "        <tr>\n",
       "            <th>latitude</th> <th>longitude</th> <th>name</th> <th>region</th> <th>poverty_total</th>\n",
       "        </tr>\n",
       "    </thead>\n",
       "    <tbody>\n",
       "        <tr>\n",
       "            <td>-12.5   </td> <td>18.5     </td> <td>Angola    </td> <td>africa  </td> <td>1.01296e+07  </td>\n",
       "        </tr>\n",
       "        <tr>\n",
       "            <td>41      </td> <td>20       </td> <td>Albania   </td> <td>europe  </td> <td>13561        </td>\n",
       "        </tr>\n",
       "        <tr>\n",
       "            <td>-34     </td> <td>-64      </td> <td>Argentina </td> <td>americas</td> <td>576630       </td>\n",
       "        </tr>\n",
       "        <tr>\n",
       "            <td>40.25   </td> <td>45       </td> <td>Armenia   </td> <td>europe  </td> <td>50353        </td>\n",
       "        </tr>\n",
       "        <tr>\n",
       "            <td>-25     </td> <td>135      </td> <td>Australia </td> <td>asia    </td> <td>301304       </td>\n",
       "        </tr>\n",
       "        <tr>\n",
       "            <td>47.3333 </td> <td>13.3333  </td> <td>Austria   </td> <td>europe  </td> <td>28594        </td>\n",
       "        </tr>\n",
       "        <tr>\n",
       "            <td>40.5    </td> <td>47.5     </td> <td>Azerbaijan</td> <td>europe  </td> <td>28001        </td>\n",
       "        </tr>\n",
       "        <tr>\n",
       "            <td>-3.5    </td> <td>30       </td> <td>Burundi   </td> <td>africa  </td> <td>7.055e+06    </td>\n",
       "        </tr>\n",
       "        <tr>\n",
       "            <td>50.75   </td> <td>4.5      </td> <td>Belgium   </td> <td>europe  </td> <td>54694        </td>\n",
       "        </tr>\n",
       "        <tr>\n",
       "            <td>9.5     </td> <td>2.25     </td> <td>Benin     </td> <td>africa  </td> <td>4.74774e+06  </td>\n",
       "        </tr>\n",
       "    </tbody>\n",
       "</table>\n",
       "<p>... (135 rows omitted)</p>"
      ],
      "text/plain": [
       "latitude | longitude | name       | region   | poverty_total\n",
       "-12.5    | 18.5      | Angola     | africa   | 1.01296e+07\n",
       "41       | 20        | Albania    | europe   | 13561\n",
       "-34      | -64       | Argentina  | americas | 576630\n",
       "40.25    | 45        | Armenia    | europe   | 50353\n",
       "-25      | 135       | Australia  | asia     | 301304\n",
       "47.3333  | 13.3333   | Austria    | europe   | 28594\n",
       "40.5     | 47.5      | Azerbaijan | europe   | 28001\n",
       "-3.5     | 30        | Burundi    | africa   | 7.055e+06\n",
       "50.75    | 4.5       | Belgium    | europe   | 54694\n",
       "9.5      | 2.25      | Benin      | africa   | 4.74774e+06\n",
       "... (135 rows omitted)"
      ]
     },
     "execution_count": 158,
     "metadata": {},
     "output_type": "execute_result"
    }
   ],
   "source": [
    "poverty_map = countries.join('country', recent_poverty_total,'geo').select('latitude', 'longitude', 'name', 'world_4region', 'poverty_total').relabeled('world_4region', 'region')\n",
    "poverty_map"
   ]
  },
  {
   "cell_type": "code",
   "execution_count": 159,
   "metadata": {
    "deletable": false,
    "editable": false
   },
   "outputs": [
    {
     "data": {
      "text/html": [
       "<p><strong><pre style='display: inline;'>q2_4</pre></strong> passed! 🎉</p>"
      ],
      "text/plain": [
       "q2_4 results: All test cases passed!"
      ]
     },
     "execution_count": 159,
     "metadata": {},
     "output_type": "execute_result"
    }
   ],
   "source": [
    "grader.check(\"q2_4\")"
   ]
  },
  {
   "cell_type": "markdown",
   "metadata": {
    "deletable": false,
    "editable": false
   },
   "source": [
    "Run the cell below to draw a map of the world in which the areas of circles represent the number of people living in extreme poverty. Double-click on the map to zoom in.\n",
    "\n",
    "> ***Note:*** If the cell below isn't loading, you can view the output [here](https://github.jonathanferrari.com/static/poverty_map.html)"
   ]
  },
  {
   "cell_type": "code",
   "execution_count": 160,
   "metadata": {
    "deletable": false,
    "editable": false,
    "scrolled": true
   },
   "outputs": [
    {
     "data": {
      "text/html": [
       "<div style=\"width:100%;\"><div style=\"position:relative;width:100%;height:0;padding-bottom:60%;\"><span style=\"color:#565656\">Make this Notebook Trusted to load map: File -> Trust Notebook</span><iframe srcdoc=\"&lt;!DOCTYPE html&gt;\n",
       "&lt;html&gt;\n",
       "&lt;head&gt;\n",
       "    \n",
       "    &lt;meta http-equiv=&quot;content-type&quot; content=&quot;text/html; charset=UTF-8&quot; /&gt;\n",
       "    &lt;script src=&quot;https://cdn.jsdelivr.net/npm/leaflet@1.9.3/dist/leaflet.js&quot;&gt;&lt;/script&gt;\n",
       "    &lt;script src=&quot;https://code.jquery.com/jquery-3.7.1.min.js&quot;&gt;&lt;/script&gt;\n",
       "    &lt;script src=&quot;https://cdn.jsdelivr.net/npm/bootstrap@5.2.2/dist/js/bootstrap.bundle.min.js&quot;&gt;&lt;/script&gt;\n",
       "    &lt;script src=&quot;https://cdnjs.cloudflare.com/ajax/libs/Leaflet.awesome-markers/2.0.2/leaflet.awesome-markers.js&quot;&gt;&lt;/script&gt;\n",
       "    &lt;link rel=&quot;stylesheet&quot; href=&quot;https://cdn.jsdelivr.net/npm/leaflet@1.9.3/dist/leaflet.css&quot;/&gt;\n",
       "    &lt;link rel=&quot;stylesheet&quot; href=&quot;https://cdn.jsdelivr.net/npm/bootstrap@5.2.2/dist/css/bootstrap.min.css&quot;/&gt;\n",
       "    &lt;link rel=&quot;stylesheet&quot; href=&quot;https://netdna.bootstrapcdn.com/bootstrap/3.0.0/css/bootstrap-glyphicons.css&quot;/&gt;\n",
       "    &lt;link rel=&quot;stylesheet&quot; href=&quot;https://cdn.jsdelivr.net/npm/@fortawesome/fontawesome-free@6.2.0/css/all.min.css&quot;/&gt;\n",
       "    &lt;link rel=&quot;stylesheet&quot; href=&quot;https://cdnjs.cloudflare.com/ajax/libs/Leaflet.awesome-markers/2.0.2/leaflet.awesome-markers.css&quot;/&gt;\n",
       "    &lt;link rel=&quot;stylesheet&quot; href=&quot;https://cdn.jsdelivr.net/gh/python-visualization/folium/folium/templates/leaflet.awesome.rotate.min.css&quot;/&gt;\n",
       "    \n",
       "            &lt;meta name=&quot;viewport&quot; content=&quot;width=device-width,\n",
       "                initial-scale=1.0, maximum-scale=1.0, user-scalable=no&quot; /&gt;\n",
       "            &lt;style&gt;\n",
       "                #map_d0ccc94c164fc7c9d30f0ae90e1f9ac5 {\n",
       "                    position: relative;\n",
       "                    width: 960.0px;\n",
       "                    height: 500.0px;\n",
       "                    left: 0.0%;\n",
       "                    top: 0.0%;\n",
       "                }\n",
       "                .leaflet-container { font-size: 1rem; }\n",
       "            &lt;/style&gt;\n",
       "\n",
       "            &lt;style&gt;html, body {\n",
       "                width: 100%;\n",
       "                height: 100%;\n",
       "                margin: 0;\n",
       "                padding: 0;\n",
       "            }\n",
       "            &lt;/style&gt;\n",
       "\n",
       "            &lt;style&gt;#map {\n",
       "                position:absolute;\n",
       "                top:0;\n",
       "                bottom:0;\n",
       "                right:0;\n",
       "                left:0;\n",
       "                }\n",
       "            &lt;/style&gt;\n",
       "\n",
       "            &lt;script&gt;\n",
       "                L_NO_TOUCH = false;\n",
       "                L_DISABLE_3D = false;\n",
       "            &lt;/script&gt;\n",
       "\n",
       "        \n",
       "&lt;/head&gt;\n",
       "&lt;body&gt;\n",
       "    \n",
       "    \n",
       "            &lt;div class=&quot;folium-map&quot; id=&quot;map_d0ccc94c164fc7c9d30f0ae90e1f9ac5&quot; &gt;&lt;/div&gt;\n",
       "        \n",
       "&lt;/body&gt;\n",
       "&lt;script&gt;\n",
       "    \n",
       "    \n",
       "            var map_d0ccc94c164fc7c9d30f0ae90e1f9ac5 = L.map(\n",
       "                &quot;map_d0ccc94c164fc7c9d30f0ae90e1f9ac5&quot;,\n",
       "                {\n",
       "                    center: [15.0, 32.17871],\n",
       "                    crs: L.CRS.EPSG3857,\n",
       "                    ...{\n",
       "  &quot;zoom&quot;: 1,\n",
       "  &quot;zoomControl&quot;: true,\n",
       "  &quot;preferCanvas&quot;: false,\n",
       "  &quot;clusteredMarker&quot;: false,\n",
       "  &quot;includeColorScaleOutliers&quot;: true,\n",
       "  &quot;radiusInMeters&quot;: false,\n",
       "}\n",
       "\n",
       "                }\n",
       "            );\n",
       "\n",
       "            \n",
       "\n",
       "        \n",
       "    \n",
       "            var tile_layer_985a33d2a96bafaa1a21ecc2cd5984bc = L.tileLayer(\n",
       "                &quot;https://tile.openstreetmap.org/{z}/{x}/{y}.png&quot;,\n",
       "                {\n",
       "  &quot;minZoom&quot;: -1,\n",
       "  &quot;maxZoom&quot;: 17,\n",
       "  &quot;maxNativeZoom&quot;: 17,\n",
       "  &quot;noWrap&quot;: false,\n",
       "  &quot;attribution&quot;: &quot;\\u0026copy; \\u003ca href=\\&quot;https://www.openstreetmap.org/copyright\\&quot;\\u003eOpenStreetMap\\u003c/a\\u003e contributors&quot;,\n",
       "  &quot;subdomains&quot;: &quot;abc&quot;,\n",
       "  &quot;detectRetina&quot;: false,\n",
       "  &quot;tms&quot;: false,\n",
       "  &quot;opacity&quot;: 1,\n",
       "}\n",
       "\n",
       "            );\n",
       "        \n",
       "    \n",
       "            tile_layer_985a33d2a96bafaa1a21ecc2cd5984bc.addTo(map_d0ccc94c164fc7c9d30f0ae90e1f9ac5);\n",
       "        \n",
       "    \n",
       "            var circle_marker_335f328e444c6a879be236397f65d844 = L.circleMarker(\n",
       "                [-12.5, 18.5],\n",
       "                {&quot;bubblingMouseEvents&quot;: true, &quot;color&quot;: &quot;blue&quot;, &quot;dashArray&quot;: null, &quot;dashOffset&quot;: null, &quot;fill&quot;: true, &quot;fillColor&quot;: &quot;blue&quot;, &quot;fillOpacity&quot;: 0.2, &quot;fillRule&quot;: &quot;evenodd&quot;, &quot;lineCap&quot;: &quot;round&quot;, &quot;lineJoin&quot;: &quot;round&quot;, &quot;opacity&quot;: 1.0, &quot;radius&quot;: 17.956483776972792, &quot;stroke&quot;: true, &quot;weight&quot;: 3}\n",
       "            ).addTo(map_d0ccc94c164fc7c9d30f0ae90e1f9ac5);\n",
       "        \n",
       "    \n",
       "        var popup_a97f88f2c8afe4e2942e57567e08dae4 = L.popup({\n",
       "  &quot;maxWidth&quot;: &quot;100%&quot;,\n",
       "});\n",
       "\n",
       "        \n",
       "            \n",
       "                var html_ca05d16dae96a03670456d4cbb1b4e7c = $(`&lt;div id=&quot;html_ca05d16dae96a03670456d4cbb1b4e7c&quot; style=&quot;width: 100.0%; height: 100.0%;&quot;&gt;Angola&lt;/div&gt;`)[0];\n",
       "                popup_a97f88f2c8afe4e2942e57567e08dae4.setContent(html_ca05d16dae96a03670456d4cbb1b4e7c);\n",
       "            \n",
       "        \n",
       "\n",
       "        circle_marker_335f328e444c6a879be236397f65d844.bindPopup(popup_a97f88f2c8afe4e2942e57567e08dae4)\n",
       "        ;\n",
       "\n",
       "        \n",
       "    \n",
       "    \n",
       "            var circle_marker_ba9b492190d986e62042cb09144e5bdd = L.circleMarker(\n",
       "                [41.0, 20.0],\n",
       "                {&quot;bubblingMouseEvents&quot;: true, &quot;color&quot;: &quot;black&quot;, &quot;dashArray&quot;: null, &quot;dashOffset&quot;: null, &quot;fill&quot;: true, &quot;fillColor&quot;: &quot;black&quot;, &quot;fillOpacity&quot;: 0.2, &quot;fillRule&quot;: &quot;evenodd&quot;, &quot;lineCap&quot;: &quot;round&quot;, &quot;lineJoin&quot;: &quot;round&quot;, &quot;opacity&quot;: 1.0, &quot;radius&quot;: 0.6570083992262493, &quot;stroke&quot;: true, &quot;weight&quot;: 3}\n",
       "            ).addTo(map_d0ccc94c164fc7c9d30f0ae90e1f9ac5);\n",
       "        \n",
       "    \n",
       "        var popup_6bb5cc0bef4af2ad570b9b639725d97a = L.popup({\n",
       "  &quot;maxWidth&quot;: &quot;100%&quot;,\n",
       "});\n",
       "\n",
       "        \n",
       "            \n",
       "                var html_b1b9a5c534a0b040634ad0714bff625f = $(`&lt;div id=&quot;html_b1b9a5c534a0b040634ad0714bff625f&quot; style=&quot;width: 100.0%; height: 100.0%;&quot;&gt;Albania&lt;/div&gt;`)[0];\n",
       "                popup_6bb5cc0bef4af2ad570b9b639725d97a.setContent(html_b1b9a5c534a0b040634ad0714bff625f);\n",
       "            \n",
       "        \n",
       "\n",
       "        circle_marker_ba9b492190d986e62042cb09144e5bdd.bindPopup(popup_6bb5cc0bef4af2ad570b9b639725d97a)\n",
       "        ;\n",
       "\n",
       "        \n",
       "    \n",
       "    \n",
       "            var circle_marker_60bdfef93fe0affbbb2260d89ed470d3 = L.circleMarker(\n",
       "                [-34.0, -64.0],\n",
       "                {&quot;bubblingMouseEvents&quot;: true, &quot;color&quot;: &quot;green&quot;, &quot;dashArray&quot;: null, &quot;dashOffset&quot;: null, &quot;fill&quot;: true, &quot;fillColor&quot;: &quot;green&quot;, &quot;fillOpacity&quot;: 0.2, &quot;fillRule&quot;: &quot;evenodd&quot;, &quot;lineCap&quot;: &quot;round&quot;, &quot;lineJoin&quot;: &quot;round&quot;, &quot;opacity&quot;: 1.0, &quot;radius&quot;: 4.284238901720576, &quot;stroke&quot;: true, &quot;weight&quot;: 3}\n",
       "            ).addTo(map_d0ccc94c164fc7c9d30f0ae90e1f9ac5);\n",
       "        \n",
       "    \n",
       "        var popup_511c27f3463b191b5b4e95f85c20e95a = L.popup({\n",
       "  &quot;maxWidth&quot;: &quot;100%&quot;,\n",
       "});\n",
       "\n",
       "        \n",
       "            \n",
       "                var html_f3dab5aad9856f9a2fa75ce0a86848eb = $(`&lt;div id=&quot;html_f3dab5aad9856f9a2fa75ce0a86848eb&quot; style=&quot;width: 100.0%; height: 100.0%;&quot;&gt;Argentina&lt;/div&gt;`)[0];\n",
       "                popup_511c27f3463b191b5b4e95f85c20e95a.setContent(html_f3dab5aad9856f9a2fa75ce0a86848eb);\n",
       "            \n",
       "        \n",
       "\n",
       "        circle_marker_60bdfef93fe0affbbb2260d89ed470d3.bindPopup(popup_511c27f3463b191b5b4e95f85c20e95a)\n",
       "        ;\n",
       "\n",
       "        \n",
       "    \n",
       "    \n",
       "            var circle_marker_19f6c595d7ec2613957ea4190ad320ff = L.circleMarker(\n",
       "                [40.25, 45.0],\n",
       "                {&quot;bubblingMouseEvents&quot;: true, &quot;color&quot;: &quot;black&quot;, &quot;dashArray&quot;: null, &quot;dashOffset&quot;: null, &quot;fill&quot;: true, &quot;fillColor&quot;: &quot;black&quot;, &quot;fillOpacity&quot;: 0.2, &quot;fillRule&quot;: &quot;evenodd&quot;, &quot;lineCap&quot;: &quot;round&quot;, &quot;lineJoin&quot;: &quot;round&quot;, &quot;opacity&quot;: 1.0, &quot;radius&quot;: 1.2660117574103493, &quot;stroke&quot;: true, &quot;weight&quot;: 3}\n",
       "            ).addTo(map_d0ccc94c164fc7c9d30f0ae90e1f9ac5);\n",
       "        \n",
       "    \n",
       "        var popup_65e0e794e670e8cfa236e6d9a899ab46 = L.popup({\n",
       "  &quot;maxWidth&quot;: &quot;100%&quot;,\n",
       "});\n",
       "\n",
       "        \n",
       "            \n",
       "                var html_8ba8b8acea21dc4cc525e4feedf33a55 = $(`&lt;div id=&quot;html_8ba8b8acea21dc4cc525e4feedf33a55&quot; style=&quot;width: 100.0%; height: 100.0%;&quot;&gt;Armenia&lt;/div&gt;`)[0];\n",
       "                popup_65e0e794e670e8cfa236e6d9a899ab46.setContent(html_8ba8b8acea21dc4cc525e4feedf33a55);\n",
       "            \n",
       "        \n",
       "\n",
       "        circle_marker_19f6c595d7ec2613957ea4190ad320ff.bindPopup(popup_65e0e794e670e8cfa236e6d9a899ab46)\n",
       "        ;\n",
       "\n",
       "        \n",
       "    \n",
       "    \n",
       "            var circle_marker_5bbdf62170b607809356c4b68ecdba14 = L.circleMarker(\n",
       "                [-25.0, 135.0],\n",
       "                {&quot;bubblingMouseEvents&quot;: true, &quot;color&quot;: &quot;red&quot;, &quot;dashArray&quot;: null, &quot;dashOffset&quot;: null, &quot;fill&quot;: true, &quot;fillColor&quot;: &quot;red&quot;, &quot;fillOpacity&quot;: 0.2, &quot;fillRule&quot;: &quot;evenodd&quot;, &quot;lineCap&quot;: &quot;round&quot;, &quot;lineJoin&quot;: &quot;round&quot;, &quot;opacity&quot;: 1.0, &quot;radius&quot;: 3.0969023547202914, &quot;stroke&quot;: true, &quot;weight&quot;: 3}\n",
       "            ).addTo(map_d0ccc94c164fc7c9d30f0ae90e1f9ac5);\n",
       "        \n",
       "    \n",
       "        var popup_574ed185dadb6abf54e331ff29417746 = L.popup({\n",
       "  &quot;maxWidth&quot;: &quot;100%&quot;,\n",
       "});\n",
       "\n",
       "        \n",
       "            \n",
       "                var html_51f4591951d7ccda2511e8dc8f187089 = $(`&lt;div id=&quot;html_51f4591951d7ccda2511e8dc8f187089&quot; style=&quot;width: 100.0%; height: 100.0%;&quot;&gt;Australia&lt;/div&gt;`)[0];\n",
       "                popup_574ed185dadb6abf54e331ff29417746.setContent(html_51f4591951d7ccda2511e8dc8f187089);\n",
       "            \n",
       "        \n",
       "\n",
       "        circle_marker_5bbdf62170b607809356c4b68ecdba14.bindPopup(popup_574ed185dadb6abf54e331ff29417746)\n",
       "        ;\n",
       "\n",
       "        \n",
       "    \n",
       "    \n",
       "            var circle_marker_65db4975ebbd7d75d0abe5156ed1bc87 = L.circleMarker(\n",
       "                [47.33333, 13.33333],\n",
       "                {&quot;bubblingMouseEvents&quot;: true, &quot;color&quot;: &quot;black&quot;, &quot;dashArray&quot;: null, &quot;dashOffset&quot;: null, &quot;fill&quot;: true, &quot;fillColor&quot;: &quot;black&quot;, &quot;fillOpacity&quot;: 0.2, &quot;fillRule&quot;: &quot;evenodd&quot;, &quot;lineCap&quot;: &quot;round&quot;, &quot;lineJoin&quot;: &quot;round&quot;, &quot;opacity&quot;: 1.0, &quot;radius&quot;: 0.9540310731595334, &quot;stroke&quot;: true, &quot;weight&quot;: 3}\n",
       "            ).addTo(map_d0ccc94c164fc7c9d30f0ae90e1f9ac5);\n",
       "        \n",
       "    \n",
       "        var popup_1534e4170453226cccc7145f09668dd7 = L.popup({\n",
       "  &quot;maxWidth&quot;: &quot;100%&quot;,\n",
       "});\n",
       "\n",
       "        \n",
       "            \n",
       "                var html_2c62f9dcf93c7520ac7ca5daacd35353 = $(`&lt;div id=&quot;html_2c62f9dcf93c7520ac7ca5daacd35353&quot; style=&quot;width: 100.0%; height: 100.0%;&quot;&gt;Austria&lt;/div&gt;`)[0];\n",
       "                popup_1534e4170453226cccc7145f09668dd7.setContent(html_2c62f9dcf93c7520ac7ca5daacd35353);\n",
       "            \n",
       "        \n",
       "\n",
       "        circle_marker_65db4975ebbd7d75d0abe5156ed1bc87.bindPopup(popup_1534e4170453226cccc7145f09668dd7)\n",
       "        ;\n",
       "\n",
       "        \n",
       "    \n",
       "    \n",
       "            var circle_marker_4b4ffdd3f5d8b11920ec46959272187e = L.circleMarker(\n",
       "                [40.5, 47.5],\n",
       "                {&quot;bubblingMouseEvents&quot;: true, &quot;color&quot;: &quot;black&quot;, &quot;dashArray&quot;: null, &quot;dashOffset&quot;: null, &quot;fill&quot;: true, &quot;fillColor&quot;: &quot;black&quot;, &quot;fillOpacity&quot;: 0.2, &quot;fillRule&quot;: &quot;evenodd&quot;, &quot;lineCap&quot;: &quot;round&quot;, &quot;lineJoin&quot;: &quot;round&quot;, &quot;opacity&quot;: 1.0, &quot;radius&quot;: 0.9440866021203946, &quot;stroke&quot;: true, &quot;weight&quot;: 3}\n",
       "            ).addTo(map_d0ccc94c164fc7c9d30f0ae90e1f9ac5);\n",
       "        \n",
       "    \n",
       "        var popup_06f78f512fb7a3bfeb2f906f128b12fb = L.popup({\n",
       "  &quot;maxWidth&quot;: &quot;100%&quot;,\n",
       "});\n",
       "\n",
       "        \n",
       "            \n",
       "                var html_bf26f1780e794565e04929e53a07a683 = $(`&lt;div id=&quot;html_bf26f1780e794565e04929e53a07a683&quot; style=&quot;width: 100.0%; height: 100.0%;&quot;&gt;Azerbaijan&lt;/div&gt;`)[0];\n",
       "                popup_06f78f512fb7a3bfeb2f906f128b12fb.setContent(html_bf26f1780e794565e04929e53a07a683);\n",
       "            \n",
       "        \n",
       "\n",
       "        circle_marker_4b4ffdd3f5d8b11920ec46959272187e.bindPopup(popup_06f78f512fb7a3bfeb2f906f128b12fb)\n",
       "        ;\n",
       "\n",
       "        \n",
       "    \n",
       "    \n",
       "            var circle_marker_f2d28a0b63c993ff286fd700c1ff5ec7 = L.circleMarker(\n",
       "                [-3.5, 30.0],\n",
       "                {&quot;bubblingMouseEvents&quot;: true, &quot;color&quot;: &quot;blue&quot;, &quot;dashArray&quot;: null, &quot;dashOffset&quot;: null, &quot;fill&quot;: true, &quot;fillColor&quot;: &quot;blue&quot;, &quot;fillOpacity&quot;: 0.2, &quot;fillRule&quot;: &quot;evenodd&quot;, &quot;lineCap&quot;: &quot;round&quot;, &quot;lineJoin&quot;: &quot;round&quot;, &quot;opacity&quot;: 1.0, &quot;radius&quot;: 14.985583745574617, &quot;stroke&quot;: true, &quot;weight&quot;: 3}\n",
       "            ).addTo(map_d0ccc94c164fc7c9d30f0ae90e1f9ac5);\n",
       "        \n",
       "    \n",
       "        var popup_e463e2ef672b9966525b48e6c8394061 = L.popup({\n",
       "  &quot;maxWidth&quot;: &quot;100%&quot;,\n",
       "});\n",
       "\n",
       "        \n",
       "            \n",
       "                var html_ce0a84aee85fcae8ccde9dc8d0691e76 = $(`&lt;div id=&quot;html_ce0a84aee85fcae8ccde9dc8d0691e76&quot; style=&quot;width: 100.0%; height: 100.0%;&quot;&gt;Burundi&lt;/div&gt;`)[0];\n",
       "                popup_e463e2ef672b9966525b48e6c8394061.setContent(html_ce0a84aee85fcae8ccde9dc8d0691e76);\n",
       "            \n",
       "        \n",
       "\n",
       "        circle_marker_f2d28a0b63c993ff286fd700c1ff5ec7.bindPopup(popup_e463e2ef672b9966525b48e6c8394061)\n",
       "        ;\n",
       "\n",
       "        \n",
       "    \n",
       "    \n",
       "            var circle_marker_de3eae9043b9a8d8149f2d0142f4ada9 = L.circleMarker(\n",
       "                [50.75, 4.5],\n",
       "                {&quot;bubblingMouseEvents&quot;: true, &quot;color&quot;: &quot;black&quot;, &quot;dashArray&quot;: null, &quot;dashOffset&quot;: null, &quot;fill&quot;: true, &quot;fillColor&quot;: &quot;black&quot;, &quot;fillOpacity&quot;: 0.2, &quot;fillRule&quot;: &quot;evenodd&quot;, &quot;lineCap&quot;: &quot;round&quot;, &quot;lineJoin&quot;: &quot;round&quot;, &quot;opacity&quot;: 1.0, &quot;radius&quot;: 1.3194559831588262, &quot;stroke&quot;: true, &quot;weight&quot;: 3}\n",
       "            ).addTo(map_d0ccc94c164fc7c9d30f0ae90e1f9ac5);\n",
       "        \n",
       "    \n",
       "        var popup_e9e1ee7789df00248e66e28d7b443773 = L.popup({\n",
       "  &quot;maxWidth&quot;: &quot;100%&quot;,\n",
       "});\n",
       "\n",
       "        \n",
       "            \n",
       "                var html_8975525e67bd6873dee21f531e500c52 = $(`&lt;div id=&quot;html_8975525e67bd6873dee21f531e500c52&quot; style=&quot;width: 100.0%; height: 100.0%;&quot;&gt;Belgium&lt;/div&gt;`)[0];\n",
       "                popup_e9e1ee7789df00248e66e28d7b443773.setContent(html_8975525e67bd6873dee21f531e500c52);\n",
       "            \n",
       "        \n",
       "\n",
       "        circle_marker_de3eae9043b9a8d8149f2d0142f4ada9.bindPopup(popup_e9e1ee7789df00248e66e28d7b443773)\n",
       "        ;\n",
       "\n",
       "        \n",
       "    \n",
       "    \n",
       "            var circle_marker_087fd135af9e7c965ac4e2a5dc9cbbd0 = L.circleMarker(\n",
       "                [9.5, 2.25],\n",
       "                {&quot;bubblingMouseEvents&quot;: true, &quot;color&quot;: &quot;blue&quot;, &quot;dashArray&quot;: null, &quot;dashOffset&quot;: null, &quot;fill&quot;: true, &quot;fillColor&quot;: &quot;blue&quot;, &quot;fillOpacity&quot;: 0.2, &quot;fillRule&quot;: &quot;evenodd&quot;, &quot;lineCap&quot;: &quot;round&quot;, &quot;lineJoin&quot;: &quot;round&quot;, &quot;opacity&quot;: 1.0, &quot;radius&quot;: 12.293294869483931, &quot;stroke&quot;: true, &quot;weight&quot;: 3}\n",
       "            ).addTo(map_d0ccc94c164fc7c9d30f0ae90e1f9ac5);\n",
       "        \n",
       "    \n",
       "        var popup_ec9bf24898cbaa9fb19ba37c65493005 = L.popup({\n",
       "  &quot;maxWidth&quot;: &quot;100%&quot;,\n",
       "});\n",
       "\n",
       "        \n",
       "            \n",
       "                var html_1ea43ee180e12866632a9992e33879a3 = $(`&lt;div id=&quot;html_1ea43ee180e12866632a9992e33879a3&quot; style=&quot;width: 100.0%; height: 100.0%;&quot;&gt;Benin&lt;/div&gt;`)[0];\n",
       "                popup_ec9bf24898cbaa9fb19ba37c65493005.setContent(html_1ea43ee180e12866632a9992e33879a3);\n",
       "            \n",
       "        \n",
       "\n",
       "        circle_marker_087fd135af9e7c965ac4e2a5dc9cbbd0.bindPopup(popup_ec9bf24898cbaa9fb19ba37c65493005)\n",
       "        ;\n",
       "\n",
       "        \n",
       "    \n",
       "    \n",
       "            var circle_marker_f188673a1236ced06b54da73cefa510d = L.circleMarker(\n",
       "                [12.5, -1.66667],\n",
       "                {&quot;bubblingMouseEvents&quot;: true, &quot;color&quot;: &quot;blue&quot;, &quot;dashArray&quot;: null, &quot;dashOffset&quot;: null, &quot;fill&quot;: true, &quot;fillColor&quot;: &quot;blue&quot;, &quot;fillOpacity&quot;: 0.2, &quot;fillRule&quot;: &quot;evenodd&quot;, &quot;lineCap&quot;: &quot;round&quot;, &quot;lineJoin&quot;: &quot;round&quot;, &quot;opacity&quot;: 1.0, &quot;radius&quot;: 14.860883218047224, &quot;stroke&quot;: true, &quot;weight&quot;: 3}\n",
       "            ).addTo(map_d0ccc94c164fc7c9d30f0ae90e1f9ac5);\n",
       "        \n",
       "    \n",
       "        var popup_d772c88df1a2037009842b1c91f6be47 = L.popup({\n",
       "  &quot;maxWidth&quot;: &quot;100%&quot;,\n",
       "});\n",
       "\n",
       "        \n",
       "            \n",
       "                var html_e8af961e4221bcf0d0048efe3c806561 = $(`&lt;div id=&quot;html_e8af961e4221bcf0d0048efe3c806561&quot; style=&quot;width: 100.0%; height: 100.0%;&quot;&gt;Burkina Faso&lt;/div&gt;`)[0];\n",
       "                popup_d772c88df1a2037009842b1c91f6be47.setContent(html_e8af961e4221bcf0d0048efe3c806561);\n",
       "            \n",
       "        \n",
       "\n",
       "        circle_marker_f188673a1236ced06b54da73cefa510d.bindPopup(popup_d772c88df1a2037009842b1c91f6be47)\n",
       "        ;\n",
       "\n",
       "        \n",
       "    \n",
       "    \n",
       "            var circle_marker_b6aee25e38b194d6e3b12fbd5928b86b = L.circleMarker(\n",
       "                [24.0, 90.0],\n",
       "                {&quot;bubblingMouseEvents&quot;: true, &quot;color&quot;: &quot;red&quot;, &quot;dashArray&quot;: null, &quot;dashOffset&quot;: null, &quot;fill&quot;: true, &quot;fillColor&quot;: &quot;red&quot;, &quot;fillOpacity&quot;: 0.2, &quot;fillRule&quot;: &quot;evenodd&quot;, &quot;lineCap&quot;: &quot;round&quot;, &quot;lineJoin&quot;: &quot;round&quot;, &quot;opacity&quot;: 1.0, &quot;radius&quot;: 45.07390171903687, &quot;stroke&quot;: true, &quot;weight&quot;: 3}\n",
       "            ).addTo(map_d0ccc94c164fc7c9d30f0ae90e1f9ac5);\n",
       "        \n",
       "    \n",
       "        var popup_f6761f95e516ff4882c46259740ee2ee = L.popup({\n",
       "  &quot;maxWidth&quot;: &quot;100%&quot;,\n",
       "});\n",
       "\n",
       "        \n",
       "            \n",
       "                var html_c88c1e41f7e7f7a2be278f6967f6ff83 = $(`&lt;div id=&quot;html_c88c1e41f7e7f7a2be278f6967f6ff83&quot; style=&quot;width: 100.0%; height: 100.0%;&quot;&gt;Bangladesh&lt;/div&gt;`)[0];\n",
       "                popup_f6761f95e516ff4882c46259740ee2ee.setContent(html_c88c1e41f7e7f7a2be278f6967f6ff83);\n",
       "            \n",
       "        \n",
       "\n",
       "        circle_marker_b6aee25e38b194d6e3b12fbd5928b86b.bindPopup(popup_f6761f95e516ff4882c46259740ee2ee)\n",
       "        ;\n",
       "\n",
       "        \n",
       "    \n",
       "    \n",
       "            var circle_marker_3ee28257c6b54dc217021c1037f07beb = L.circleMarker(\n",
       "                [42.66667, 25.25],\n",
       "                {&quot;bubblingMouseEvents&quot;: true, &quot;color&quot;: &quot;black&quot;, &quot;dashArray&quot;: null, &quot;dashOffset&quot;: null, &quot;fill&quot;: true, &quot;fillColor&quot;: &quot;black&quot;, &quot;fillOpacity&quot;: 0.2, &quot;fillRule&quot;: &quot;evenodd&quot;, &quot;lineCap&quot;: &quot;round&quot;, &quot;lineJoin&quot;: &quot;round&quot;, &quot;opacity&quot;: 1.0, &quot;radius&quot;: 2.119093372019701, &quot;stroke&quot;: true, &quot;weight&quot;: 3}\n",
       "            ).addTo(map_d0ccc94c164fc7c9d30f0ae90e1f9ac5);\n",
       "        \n",
       "    \n",
       "        var popup_16c86bee0dcadf593f67baeb1ed04fe5 = L.popup({\n",
       "  &quot;maxWidth&quot;: &quot;100%&quot;,\n",
       "});\n",
       "\n",
       "        \n",
       "            \n",
       "                var html_ea6286b74366107d9b91c42cac39beb0 = $(`&lt;div id=&quot;html_ea6286b74366107d9b91c42cac39beb0&quot; style=&quot;width: 100.0%; height: 100.0%;&quot;&gt;Bulgaria&lt;/div&gt;`)[0];\n",
       "                popup_16c86bee0dcadf593f67baeb1ed04fe5.setContent(html_ea6286b74366107d9b91c42cac39beb0);\n",
       "            \n",
       "        \n",
       "\n",
       "        circle_marker_3ee28257c6b54dc217021c1037f07beb.bindPopup(popup_16c86bee0dcadf593f67baeb1ed04fe5)\n",
       "        ;\n",
       "\n",
       "        \n",
       "    \n",
       "    \n",
       "            var circle_marker_86481114aadadcc0c5e81f6c4d24e67c = L.circleMarker(\n",
       "                [44.25, 17.83333],\n",
       "                {&quot;bubblingMouseEvents&quot;: true, &quot;color&quot;: &quot;black&quot;, &quot;dashArray&quot;: null, &quot;dashOffset&quot;: null, &quot;fill&quot;: true, &quot;fillColor&quot;: &quot;black&quot;, &quot;fillOpacity&quot;: 0.2, &quot;fillRule&quot;: &quot;evenodd&quot;, &quot;lineCap&quot;: &quot;round&quot;, &quot;lineJoin&quot;: &quot;round&quot;, &quot;opacity&quot;: 1.0, &quot;radius&quot;: 0.217194671049816, &quot;stroke&quot;: true, &quot;weight&quot;: 3}\n",
       "            ).addTo(map_d0ccc94c164fc7c9d30f0ae90e1f9ac5);\n",
       "        \n",
       "    \n",
       "        var popup_63e7f54b9dbbb1f2a0fc2a8a77698b86 = L.popup({\n",
       "  &quot;maxWidth&quot;: &quot;100%&quot;,\n",
       "});\n",
       "\n",
       "        \n",
       "            \n",
       "                var html_6348e835ef52b9a69c77556494aebe69 = $(`&lt;div id=&quot;html_6348e835ef52b9a69c77556494aebe69&quot; style=&quot;width: 100.0%; height: 100.0%;&quot;&gt;Bosnia and Herzegovina&lt;/div&gt;`)[0];\n",
       "                popup_63e7f54b9dbbb1f2a0fc2a8a77698b86.setContent(html_6348e835ef52b9a69c77556494aebe69);\n",
       "            \n",
       "        \n",
       "\n",
       "        circle_marker_86481114aadadcc0c5e81f6c4d24e67c.bindPopup(popup_63e7f54b9dbbb1f2a0fc2a8a77698b86)\n",
       "        ;\n",
       "\n",
       "        \n",
       "    \n",
       "    \n",
       "            var circle_marker_46024aaa7a05452181a783e630647aee = L.circleMarker(\n",
       "                [53.0, 28.0],\n",
       "                {&quot;bubblingMouseEvents&quot;: true, &quot;color&quot;: &quot;black&quot;, &quot;dashArray&quot;: null, &quot;dashOffset&quot;: null, &quot;fill&quot;: true, &quot;fillColor&quot;: &quot;black&quot;, &quot;fillOpacity&quot;: 0.2, &quot;fillRule&quot;: &quot;evenodd&quot;, &quot;lineCap&quot;: &quot;round&quot;, &quot;lineJoin&quot;: &quot;round&quot;, &quot;opacity&quot;: 1.0, &quot;stroke&quot;: true, &quot;weight&quot;: 3}\n",
       "            ).addTo(map_d0ccc94c164fc7c9d30f0ae90e1f9ac5);\n",
       "        \n",
       "    \n",
       "        var popup_081767f2a45d44aa6b993f2b8053942a = L.popup({\n",
       "  &quot;maxWidth&quot;: &quot;100%&quot;,\n",
       "});\n",
       "\n",
       "        \n",
       "            \n",
       "                var html_2219c8030f1965cc07f21852a3ae233b = $(`&lt;div id=&quot;html_2219c8030f1965cc07f21852a3ae233b&quot; style=&quot;width: 100.0%; height: 100.0%;&quot;&gt;Belarus&lt;/div&gt;`)[0];\n",
       "                popup_081767f2a45d44aa6b993f2b8053942a.setContent(html_2219c8030f1965cc07f21852a3ae233b);\n",
       "            \n",
       "        \n",
       "\n",
       "        circle_marker_46024aaa7a05452181a783e630647aee.bindPopup(popup_081767f2a45d44aa6b993f2b8053942a)\n",
       "        ;\n",
       "\n",
       "        \n",
       "    \n",
       "    \n",
       "            var circle_marker_51b059e507183c6e493f1a9c13456000 = L.circleMarker(\n",
       "                [17.49952, -88.19756],\n",
       "                {&quot;bubblingMouseEvents&quot;: true, &quot;color&quot;: &quot;green&quot;, &quot;dashArray&quot;: null, &quot;dashOffset&quot;: null, &quot;fill&quot;: true, &quot;fillColor&quot;: &quot;green&quot;, &quot;fillOpacity&quot;: 0.2, &quot;fillRule&quot;: &quot;evenodd&quot;, &quot;lineCap&quot;: &quot;round&quot;, &quot;lineJoin&quot;: &quot;round&quot;, &quot;opacity&quot;: 1.0, &quot;radius&quot;: 1.1195005649268066, &quot;stroke&quot;: true, &quot;weight&quot;: 3}\n",
       "            ).addTo(map_d0ccc94c164fc7c9d30f0ae90e1f9ac5);\n",
       "        \n",
       "    \n",
       "        var popup_992dc3f0d4cf66bcbb850012dc331b49 = L.popup({\n",
       "  &quot;maxWidth&quot;: &quot;100%&quot;,\n",
       "});\n",
       "\n",
       "        \n",
       "            \n",
       "                var html_84acedef25c10e680fe3117e6ea63812 = $(`&lt;div id=&quot;html_84acedef25c10e680fe3117e6ea63812&quot; style=&quot;width: 100.0%; height: 100.0%;&quot;&gt;Belize&lt;/div&gt;`)[0];\n",
       "                popup_992dc3f0d4cf66bcbb850012dc331b49.setContent(html_84acedef25c10e680fe3117e6ea63812);\n",
       "            \n",
       "        \n",
       "\n",
       "        circle_marker_51b059e507183c6e493f1a9c13456000.bindPopup(popup_992dc3f0d4cf66bcbb850012dc331b49)\n",
       "        ;\n",
       "\n",
       "        \n",
       "    \n",
       "    \n",
       "            var circle_marker_b61a76812680629c5cc4289a2462b8b2 = L.circleMarker(\n",
       "                [-17.0, -65.0],\n",
       "                {&quot;bubblingMouseEvents&quot;: true, &quot;color&quot;: &quot;green&quot;, &quot;dashArray&quot;: null, &quot;dashOffset&quot;: null, &quot;fill&quot;: true, &quot;fillColor&quot;: &quot;green&quot;, &quot;fillOpacity&quot;: 0.2, &quot;fillRule&quot;: &quot;evenodd&quot;, &quot;lineCap&quot;: &quot;round&quot;, &quot;lineJoin&quot;: &quot;round&quot;, &quot;opacity&quot;: 1.0, &quot;radius&quot;: 5.0521846256177705, &quot;stroke&quot;: true, &quot;weight&quot;: 3}\n",
       "            ).addTo(map_d0ccc94c164fc7c9d30f0ae90e1f9ac5);\n",
       "        \n",
       "    \n",
       "        var popup_5e10bb24c2b10ad63044307e1d04bc57 = L.popup({\n",
       "  &quot;maxWidth&quot;: &quot;100%&quot;,\n",
       "});\n",
       "\n",
       "        \n",
       "            \n",
       "                var html_68dbfeaffdb9deccb51eb3fe3a09bcd6 = $(`&lt;div id=&quot;html_68dbfeaffdb9deccb51eb3fe3a09bcd6&quot; style=&quot;width: 100.0%; height: 100.0%;&quot;&gt;Bolivia&lt;/div&gt;`)[0];\n",
       "                popup_5e10bb24c2b10ad63044307e1d04bc57.setContent(html_68dbfeaffdb9deccb51eb3fe3a09bcd6);\n",
       "            \n",
       "        \n",
       "\n",
       "        circle_marker_b61a76812680629c5cc4289a2462b8b2.bindPopup(popup_5e10bb24c2b10ad63044307e1d04bc57)\n",
       "        ;\n",
       "\n",
       "        \n",
       "    \n",
       "    \n",
       "            var circle_marker_6b22897ba50a360e0a80eb39dd133649 = L.circleMarker(\n",
       "                [-10.0, -55.0],\n",
       "                {&quot;bubblingMouseEvents&quot;: true, &quot;color&quot;: &quot;green&quot;, &quot;dashArray&quot;: null, &quot;dashOffset&quot;: null, &quot;fill&quot;: true, &quot;fillColor&quot;: &quot;green&quot;, &quot;fillOpacity&quot;: 0.2, &quot;fillRule&quot;: &quot;evenodd&quot;, &quot;lineCap&quot;: &quot;round&quot;, &quot;lineJoin&quot;: &quot;round&quot;, &quot;opacity&quot;: 1.0, &quot;radius&quot;: 15.284499774553087, &quot;stroke&quot;: true, &quot;weight&quot;: 3}\n",
       "            ).addTo(map_d0ccc94c164fc7c9d30f0ae90e1f9ac5);\n",
       "        \n",
       "    \n",
       "        var popup_7b474bf51bd9e8f11dbc40aa16f512a1 = L.popup({\n",
       "  &quot;maxWidth&quot;: &quot;100%&quot;,\n",
       "});\n",
       "\n",
       "        \n",
       "            \n",
       "                var html_962853447e2690d7fefab3d1e3baff9f = $(`&lt;div id=&quot;html_962853447e2690d7fefab3d1e3baff9f&quot; style=&quot;width: 100.0%; height: 100.0%;&quot;&gt;Brazil&lt;/div&gt;`)[0];\n",
       "                popup_7b474bf51bd9e8f11dbc40aa16f512a1.setContent(html_962853447e2690d7fefab3d1e3baff9f);\n",
       "            \n",
       "        \n",
       "\n",
       "        circle_marker_6b22897ba50a360e0a80eb39dd133649.bindPopup(popup_7b474bf51bd9e8f11dbc40aa16f512a1)\n",
       "        ;\n",
       "\n",
       "        \n",
       "    \n",
       "    \n",
       "            var circle_marker_69072d521f75a9fd7bebbc0881367eee = L.circleMarker(\n",
       "                [27.5, 90.5],\n",
       "                {&quot;bubblingMouseEvents&quot;: true, &quot;color&quot;: &quot;red&quot;, &quot;dashArray&quot;: null, &quot;dashOffset&quot;: null, &quot;fill&quot;: true, &quot;fillColor&quot;: &quot;red&quot;, &quot;fillOpacity&quot;: 0.2, &quot;fillRule&quot;: &quot;evenodd&quot;, &quot;lineCap&quot;: &quot;round&quot;, &quot;lineJoin&quot;: &quot;round&quot;, &quot;opacity&quot;: 1.0, &quot;radius&quot;: 0.7206403952796807, &quot;stroke&quot;: true, &quot;weight&quot;: 3}\n",
       "            ).addTo(map_d0ccc94c164fc7c9d30f0ae90e1f9ac5);\n",
       "        \n",
       "    \n",
       "        var popup_d0be1c3138c8b9987707b5fc1e82769d = L.popup({\n",
       "  &quot;maxWidth&quot;: &quot;100%&quot;,\n",
       "});\n",
       "\n",
       "        \n",
       "            \n",
       "                var html_fc21cd7937d05e8022b1788b394c1b79 = $(`&lt;div id=&quot;html_fc21cd7937d05e8022b1788b394c1b79&quot; style=&quot;width: 100.0%; height: 100.0%;&quot;&gt;Bhutan&lt;/div&gt;`)[0];\n",
       "                popup_d0be1c3138c8b9987707b5fc1e82769d.setContent(html_fc21cd7937d05e8022b1788b394c1b79);\n",
       "            \n",
       "        \n",
       "\n",
       "        circle_marker_69072d521f75a9fd7bebbc0881367eee.bindPopup(popup_d0be1c3138c8b9987707b5fc1e82769d)\n",
       "        ;\n",
       "\n",
       "        \n",
       "    \n",
       "    \n",
       "            var circle_marker_c500595b8ee913f7a3ad7305ad4804a9 = L.circleMarker(\n",
       "                [-22.0, 24.0],\n",
       "                {&quot;bubblingMouseEvents&quot;: true, &quot;color&quot;: &quot;blue&quot;, &quot;dashArray&quot;: null, &quot;dashOffset&quot;: null, &quot;fill&quot;: true, &quot;fillColor&quot;: &quot;blue&quot;, &quot;fillOpacity&quot;: 0.2, &quot;fillRule&quot;: &quot;evenodd&quot;, &quot;lineCap&quot;: &quot;round&quot;, &quot;lineJoin&quot;: &quot;round&quot;, &quot;opacity&quot;: 1.0, &quot;radius&quot;: 2.9123934088869396, &quot;stroke&quot;: true, &quot;weight&quot;: 3}\n",
       "            ).addTo(map_d0ccc94c164fc7c9d30f0ae90e1f9ac5);\n",
       "        \n",
       "    \n",
       "        var popup_9886e34ceee7a3bb92f7606910832734 = L.popup({\n",
       "  &quot;maxWidth&quot;: &quot;100%&quot;,\n",
       "});\n",
       "\n",
       "        \n",
       "            \n",
       "                var html_96a67b7f6b7d84015e3d496fb9317755 = $(`&lt;div id=&quot;html_96a67b7f6b7d84015e3d496fb9317755&quot; style=&quot;width: 100.0%; height: 100.0%;&quot;&gt;Botswana&lt;/div&gt;`)[0];\n",
       "                popup_9886e34ceee7a3bb92f7606910832734.setContent(html_96a67b7f6b7d84015e3d496fb9317755);\n",
       "            \n",
       "        \n",
       "\n",
       "        circle_marker_c500595b8ee913f7a3ad7305ad4804a9.bindPopup(popup_9886e34ceee7a3bb92f7606910832734)\n",
       "        ;\n",
       "\n",
       "        \n",
       "    \n",
       "    \n",
       "            var circle_marker_9f072df432b9dd7177536ae1e3b21a9e = L.circleMarker(\n",
       "                [7.0, 21.0],\n",
       "                {&quot;bubblingMouseEvents&quot;: true, &quot;color&quot;: &quot;blue&quot;, &quot;dashArray&quot;: null, &quot;dashOffset&quot;: null, &quot;fill&quot;: true, &quot;fillColor&quot;: &quot;blue&quot;, &quot;fillOpacity&quot;: 0.2, &quot;fillRule&quot;: &quot;evenodd&quot;, &quot;lineCap&quot;: &quot;round&quot;, &quot;lineJoin&quot;: &quot;round&quot;, &quot;opacity&quot;: 1.0, &quot;radius&quot;: 9.366573447847983, &quot;stroke&quot;: true, &quot;weight&quot;: 3}\n",
       "            ).addTo(map_d0ccc94c164fc7c9d30f0ae90e1f9ac5);\n",
       "        \n",
       "    \n",
       "        var popup_2cf7bfef17992eb1f2da658b23f8ee3e = L.popup({\n",
       "  &quot;maxWidth&quot;: &quot;100%&quot;,\n",
       "});\n",
       "\n",
       "        \n",
       "            \n",
       "                var html_96a91752d204acd8c2035fb485a63b1a = $(`&lt;div id=&quot;html_96a91752d204acd8c2035fb485a63b1a&quot; style=&quot;width: 100.0%; height: 100.0%;&quot;&gt;Central African Republic&lt;/div&gt;`)[0];\n",
       "                popup_2cf7bfef17992eb1f2da658b23f8ee3e.setContent(html_96a91752d204acd8c2035fb485a63b1a);\n",
       "            \n",
       "        \n",
       "\n",
       "        circle_marker_9f072df432b9dd7177536ae1e3b21a9e.bindPopup(popup_2cf7bfef17992eb1f2da658b23f8ee3e)\n",
       "        ;\n",
       "\n",
       "        \n",
       "    \n",
       "    \n",
       "            var circle_marker_6aeb192e4614ec849c023831427efe6f = L.circleMarker(\n",
       "                [60.10867, -113.64258],\n",
       "                {&quot;bubblingMouseEvents&quot;: true, &quot;color&quot;: &quot;green&quot;, &quot;dashArray&quot;: null, &quot;dashOffset&quot;: null, &quot;fill&quot;: true, &quot;fillColor&quot;: &quot;green&quot;, &quot;fillOpacity&quot;: 0.2, &quot;fillRule&quot;: &quot;evenodd&quot;, &quot;lineCap&quot;: &quot;round&quot;, &quot;lineJoin&quot;: &quot;round&quot;, &quot;opacity&quot;: 1.0, &quot;radius&quot;: 1.9224051187434574, &quot;stroke&quot;: true, &quot;weight&quot;: 3}\n",
       "            ).addTo(map_d0ccc94c164fc7c9d30f0ae90e1f9ac5);\n",
       "        \n",
       "    \n",
       "        var popup_41e2cb5c58b2476651c0b6b55e024dc6 = L.popup({\n",
       "  &quot;maxWidth&quot;: &quot;100%&quot;,\n",
       "});\n",
       "\n",
       "        \n",
       "            \n",
       "                var html_6dfa4dc5c04cd02322fe4da5bd2d7a92 = $(`&lt;div id=&quot;html_6dfa4dc5c04cd02322fe4da5bd2d7a92&quot; style=&quot;width: 100.0%; height: 100.0%;&quot;&gt;Canada&lt;/div&gt;`)[0];\n",
       "                popup_41e2cb5c58b2476651c0b6b55e024dc6.setContent(html_6dfa4dc5c04cd02322fe4da5bd2d7a92);\n",
       "            \n",
       "        \n",
       "\n",
       "        circle_marker_6aeb192e4614ec849c023831427efe6f.bindPopup(popup_41e2cb5c58b2476651c0b6b55e024dc6)\n",
       "        ;\n",
       "\n",
       "        \n",
       "    \n",
       "    \n",
       "            var circle_marker_c300b43ac9996e326d0a7a6c1d321680 = L.circleMarker(\n",
       "                [47.00016, 8.01427],\n",
       "                {&quot;bubblingMouseEvents&quot;: true, &quot;color&quot;: &quot;black&quot;, &quot;dashArray&quot;: null, &quot;dashOffset&quot;: null, &quot;fill&quot;: true, &quot;fillColor&quot;: &quot;black&quot;, &quot;fillOpacity&quot;: 0.2, &quot;fillRule&quot;: &quot;evenodd&quot;, &quot;lineCap&quot;: &quot;round&quot;, &quot;lineJoin&quot;: &quot;round&quot;, &quot;opacity&quot;: 1.0, &quot;radius&quot;: 1.2904780751862297, &quot;stroke&quot;: true, &quot;weight&quot;: 3}\n",
       "            ).addTo(map_d0ccc94c164fc7c9d30f0ae90e1f9ac5);\n",
       "        \n",
       "    \n",
       "        var popup_42a719c3db3343236d4e1a792447a306 = L.popup({\n",
       "  &quot;maxWidth&quot;: &quot;100%&quot;,\n",
       "});\n",
       "\n",
       "        \n",
       "            \n",
       "                var html_a2d59185f60a169baeefc73d800577c5 = $(`&lt;div id=&quot;html_a2d59185f60a169baeefc73d800577c5&quot; style=&quot;width: 100.0%; height: 100.0%;&quot;&gt;Switzerland&lt;/div&gt;`)[0];\n",
       "                popup_42a719c3db3343236d4e1a792447a306.setContent(html_a2d59185f60a169baeefc73d800577c5);\n",
       "            \n",
       "        \n",
       "\n",
       "        circle_marker_c300b43ac9996e326d0a7a6c1d321680.bindPopup(popup_42a719c3db3343236d4e1a792447a306)\n",
       "        ;\n",
       "\n",
       "        \n",
       "    \n",
       "    \n",
       "            var circle_marker_1b2382a24920210f1b4c6b6533525624 = L.circleMarker(\n",
       "                [-33.45694, -70.64827],\n",
       "                {&quot;bubblingMouseEvents&quot;: true, &quot;color&quot;: &quot;green&quot;, &quot;dashArray&quot;: null, &quot;dashOffset&quot;: null, &quot;fill&quot;: true, &quot;fillColor&quot;: &quot;green&quot;, &quot;fillOpacity&quot;: 0.2, &quot;fillRule&quot;: &quot;evenodd&quot;, &quot;lineCap&quot;: &quot;round&quot;, &quot;lineJoin&quot;: &quot;round&quot;, &quot;opacity&quot;: 1.0, &quot;radius&quot;: 2.123175164028212, &quot;stroke&quot;: true, &quot;weight&quot;: 3}\n",
       "            ).addTo(map_d0ccc94c164fc7c9d30f0ae90e1f9ac5);\n",
       "        \n",
       "    \n",
       "        var popup_a265b0ea97721e7f3fdec22ecc66606f = L.popup({\n",
       "  &quot;maxWidth&quot;: &quot;100%&quot;,\n",
       "});\n",
       "\n",
       "        \n",
       "            \n",
       "                var html_5cdffa253b59d3c49cf0055a5e7c020a = $(`&lt;div id=&quot;html_5cdffa253b59d3c49cf0055a5e7c020a&quot; style=&quot;width: 100.0%; height: 100.0%;&quot;&gt;Chile&lt;/div&gt;`)[0];\n",
       "                popup_a265b0ea97721e7f3fdec22ecc66606f.setContent(html_5cdffa253b59d3c49cf0055a5e7c020a);\n",
       "            \n",
       "        \n",
       "\n",
       "        circle_marker_1b2382a24920210f1b4c6b6533525624.bindPopup(popup_a265b0ea97721e7f3fdec22ecc66606f)\n",
       "        ;\n",
       "\n",
       "        \n",
       "    \n",
       "    \n",
       "            var circle_marker_32a3c547b26ac955c378cc6ce70a8d7f = L.circleMarker(\n",
       "                [35.0, 105.0],\n",
       "                {&quot;bubblingMouseEvents&quot;: true, &quot;color&quot;: &quot;red&quot;, &quot;dashArray&quot;: null, &quot;dashOffset&quot;: null, &quot;fill&quot;: true, &quot;fillColor&quot;: &quot;red&quot;, &quot;fillOpacity&quot;: 0.2, &quot;fillRule&quot;: &quot;evenodd&quot;, &quot;lineCap&quot;: &quot;round&quot;, &quot;lineJoin&quot;: &quot;round&quot;, &quot;opacity&quot;: 1.0, &quot;radius&quot;: 52.225656891999506, &quot;stroke&quot;: true, &quot;weight&quot;: 3}\n",
       "            ).addTo(map_d0ccc94c164fc7c9d30f0ae90e1f9ac5);\n",
       "        \n",
       "    \n",
       "        var popup_e6fc3ea90a4c2aef173f02288dfba0c8 = L.popup({\n",
       "  &quot;maxWidth&quot;: &quot;100%&quot;,\n",
       "});\n",
       "\n",
       "        \n",
       "            \n",
       "                var html_1d0d41f4394b81b6a380599b2f4b7d86 = $(`&lt;div id=&quot;html_1d0d41f4394b81b6a380599b2f4b7d86&quot; style=&quot;width: 100.0%; height: 100.0%;&quot;&gt;China&lt;/div&gt;`)[0];\n",
       "                popup_e6fc3ea90a4c2aef173f02288dfba0c8.setContent(html_1d0d41f4394b81b6a380599b2f4b7d86);\n",
       "            \n",
       "        \n",
       "\n",
       "        circle_marker_32a3c547b26ac955c378cc6ce70a8d7f.bindPopup(popup_e6fc3ea90a4c2aef173f02288dfba0c8)\n",
       "        ;\n",
       "\n",
       "        \n",
       "    \n",
       "    \n",
       "            var circle_marker_b0a5357a1c2106741abf49257773608c = L.circleMarker(\n",
       "                [8.0, -5.5],\n",
       "                {&quot;bubblingMouseEvents&quot;: true, &quot;color&quot;: &quot;blue&quot;, &quot;dashArray&quot;: null, &quot;dashOffset&quot;: null, &quot;fill&quot;: true, &quot;fillColor&quot;: &quot;blue&quot;, &quot;fillOpacity&quot;: 0.2, &quot;fillRule&quot;: &quot;evenodd&quot;, &quot;lineCap&quot;: &quot;round&quot;, &quot;lineJoin&quot;: &quot;round&quot;, &quot;opacity&quot;: 1.0, &quot;radius&quot;: 15.133268463096499, &quot;stroke&quot;: true, &quot;weight&quot;: 3}\n",
       "            ).addTo(map_d0ccc94c164fc7c9d30f0ae90e1f9ac5);\n",
       "        \n",
       "    \n",
       "        var popup_03fbe40231e2942863ed219f115adb5c = L.popup({\n",
       "  &quot;maxWidth&quot;: &quot;100%&quot;,\n",
       "});\n",
       "\n",
       "        \n",
       "            \n",
       "                var html_dd054a3c2ed07c1cc624def25df18dea = $(`&lt;div id=&quot;html_dd054a3c2ed07c1cc624def25df18dea&quot; style=&quot;width: 100.0%; height: 100.0%;&quot;&gt;Cote d&#x27;Ivoire&lt;/div&gt;`)[0];\n",
       "                popup_03fbe40231e2942863ed219f115adb5c.setContent(html_dd054a3c2ed07c1cc624def25df18dea);\n",
       "            \n",
       "        \n",
       "\n",
       "        circle_marker_b0a5357a1c2106741abf49257773608c.bindPopup(popup_03fbe40231e2942863ed219f115adb5c)\n",
       "        ;\n",
       "\n",
       "        \n",
       "    \n",
       "    \n",
       "            var circle_marker_a118f0b7513f686141ae48d6ed116728 = L.circleMarker(\n",
       "                [6.0, 12.5],\n",
       "                {&quot;bubblingMouseEvents&quot;: true, &quot;color&quot;: &quot;blue&quot;, &quot;dashArray&quot;: null, &quot;dashOffset&quot;: null, &quot;fill&quot;: true, &quot;fillColor&quot;: &quot;blue&quot;, &quot;fillOpacity&quot;: 0.2, &quot;fillRule&quot;: &quot;evenodd&quot;, &quot;lineCap&quot;: &quot;round&quot;, &quot;lineJoin&quot;: &quot;round&quot;, &quot;opacity&quot;: 1.0, &quot;radius&quot;: 13.37047776795466, &quot;stroke&quot;: true, &quot;weight&quot;: 3}\n",
       "            ).addTo(map_d0ccc94c164fc7c9d30f0ae90e1f9ac5);\n",
       "        \n",
       "    \n",
       "        var popup_817e10f560ed7e9617279949d5894b64 = L.popup({\n",
       "  &quot;maxWidth&quot;: &quot;100%&quot;,\n",
       "});\n",
       "\n",
       "        \n",
       "            \n",
       "                var html_6357c423c620db075d6d4145c06731f9 = $(`&lt;div id=&quot;html_6357c423c620db075d6d4145c06731f9&quot; style=&quot;width: 100.0%; height: 100.0%;&quot;&gt;Cameroon&lt;/div&gt;`)[0];\n",
       "                popup_817e10f560ed7e9617279949d5894b64.setContent(html_6357c423c620db075d6d4145c06731f9);\n",
       "            \n",
       "        \n",
       "\n",
       "        circle_marker_a118f0b7513f686141ae48d6ed116728.bindPopup(popup_817e10f560ed7e9617279949d5894b64)\n",
       "        ;\n",
       "\n",
       "        \n",
       "    \n",
       "    \n",
       "            var circle_marker_39f45e141f3b808788b867afc517bfcc = L.circleMarker(\n",
       "                [-2.5, 23.5],\n",
       "                {&quot;bubblingMouseEvents&quot;: true, &quot;color&quot;: &quot;blue&quot;, &quot;dashArray&quot;: null, &quot;dashOffset&quot;: null, &quot;fill&quot;: true, &quot;fillColor&quot;: &quot;blue&quot;, &quot;fillOpacity&quot;: 0.2, &quot;fillRule&quot;: &quot;evenodd&quot;, &quot;lineCap&quot;: &quot;round&quot;, &quot;lineJoin&quot;: &quot;round&quot;, &quot;opacity&quot;: 1.0, &quot;radius&quot;: 42.45893492268982, &quot;stroke&quot;: true, &quot;weight&quot;: 3}\n",
       "            ).addTo(map_d0ccc94c164fc7c9d30f0ae90e1f9ac5);\n",
       "        \n",
       "    \n",
       "        var popup_b2acd50f309c0501887c7639304e1b9e = L.popup({\n",
       "  &quot;maxWidth&quot;: &quot;100%&quot;,\n",
       "});\n",
       "\n",
       "        \n",
       "            \n",
       "                var html_ac8b6f503621dd051304d33c0b4741ef = $(`&lt;div id=&quot;html_ac8b6f503621dd051304d33c0b4741ef&quot; style=&quot;width: 100.0%; height: 100.0%;&quot;&gt;Congo, Dem. Rep.&lt;/div&gt;`)[0];\n",
       "                popup_b2acd50f309c0501887c7639304e1b9e.setContent(html_ac8b6f503621dd051304d33c0b4741ef);\n",
       "            \n",
       "        \n",
       "\n",
       "        circle_marker_39f45e141f3b808788b867afc517bfcc.bindPopup(popup_b2acd50f309c0501887c7639304e1b9e)\n",
       "        ;\n",
       "\n",
       "        \n",
       "    \n",
       "    \n",
       "            var circle_marker_7f7be669938e6ede6475902b222c1a71 = L.circleMarker(\n",
       "                [-1.0, 15.5],\n",
       "                {&quot;bubblingMouseEvents&quot;: true, &quot;color&quot;: &quot;blue&quot;, &quot;dashArray&quot;: null, &quot;dashOffset&quot;: null, &quot;fill&quot;: true, &quot;fillColor&quot;: &quot;blue&quot;, &quot;fillOpacity&quot;: 0.2, &quot;fillRule&quot;: &quot;evenodd&quot;, &quot;lineCap&quot;: &quot;round&quot;, &quot;lineJoin&quot;: &quot;round&quot;, &quot;opacity&quot;: 1.0, &quot;radius&quot;: 6.681874714978711, &quot;stroke&quot;: true, &quot;weight&quot;: 3}\n",
       "            ).addTo(map_d0ccc94c164fc7c9d30f0ae90e1f9ac5);\n",
       "        \n",
       "    \n",
       "        var popup_cbeccb75baa6192791248e2dbdb3fbe4 = L.popup({\n",
       "  &quot;maxWidth&quot;: &quot;100%&quot;,\n",
       "});\n",
       "\n",
       "        \n",
       "            \n",
       "                var html_0bb1675cd86d19905f2a75e183217a8d = $(`&lt;div id=&quot;html_0bb1675cd86d19905f2a75e183217a8d&quot; style=&quot;width: 100.0%; height: 100.0%;&quot;&gt;Congo, Rep.&lt;/div&gt;`)[0];\n",
       "                popup_cbeccb75baa6192791248e2dbdb3fbe4.setContent(html_0bb1675cd86d19905f2a75e183217a8d);\n",
       "            \n",
       "        \n",
       "\n",
       "        circle_marker_7f7be669938e6ede6475902b222c1a71.bindPopup(popup_cbeccb75baa6192791248e2dbdb3fbe4)\n",
       "        ;\n",
       "\n",
       "        \n",
       "    \n",
       "    \n",
       "            var circle_marker_62fd4fd03fab2f97273f3912292b8dbb = L.circleMarker(\n",
       "                [4.0, -73.25],\n",
       "                {&quot;bubblingMouseEvents&quot;: true, &quot;color&quot;: &quot;green&quot;, &quot;dashArray&quot;: null, &quot;dashOffset&quot;: null, &quot;fill&quot;: true, &quot;fillColor&quot;: &quot;green&quot;, &quot;fillOpacity&quot;: 0.2, &quot;fillRule&quot;: &quot;evenodd&quot;, &quot;lineCap&quot;: &quot;round&quot;, &quot;lineJoin&quot;: &quot;round&quot;, &quot;opacity&quot;: 1.0, &quot;radius&quot;: 9.002383384413296, &quot;stroke&quot;: true, &quot;weight&quot;: 3}\n",
       "            ).addTo(map_d0ccc94c164fc7c9d30f0ae90e1f9ac5);\n",
       "        \n",
       "    \n",
       "        var popup_97ddfb8d839c6b59754edfe0417b82c5 = L.popup({\n",
       "  &quot;maxWidth&quot;: &quot;100%&quot;,\n",
       "});\n",
       "\n",
       "        \n",
       "            \n",
       "                var html_56b6c3551be61d00fe7feb4bdd642790 = $(`&lt;div id=&quot;html_56b6c3551be61d00fe7feb4bdd642790&quot; style=&quot;width: 100.0%; height: 100.0%;&quot;&gt;Colombia&lt;/div&gt;`)[0];\n",
       "                popup_97ddfb8d839c6b59754edfe0417b82c5.setContent(html_56b6c3551be61d00fe7feb4bdd642790);\n",
       "            \n",
       "        \n",
       "\n",
       "        circle_marker_62fd4fd03fab2f97273f3912292b8dbb.bindPopup(popup_97ddfb8d839c6b59754edfe0417b82c5)\n",
       "        ;\n",
       "\n",
       "        \n",
       "    \n",
       "    \n",
       "            var circle_marker_3a479aefdf0f72a68cfbc70e4fece8ff = L.circleMarker(\n",
       "                [-12.23333, 44.44553],\n",
       "                {&quot;bubblingMouseEvents&quot;: true, &quot;color&quot;: &quot;blue&quot;, &quot;dashArray&quot;: null, &quot;dashOffset&quot;: null, &quot;fill&quot;: true, &quot;fillColor&quot;: &quot;blue&quot;, &quot;fillOpacity&quot;: 0.2, &quot;fillRule&quot;: &quot;evenodd&quot;, &quot;lineCap&quot;: &quot;round&quot;, &quot;lineJoin&quot;: &quot;round&quot;, &quot;opacity&quot;: 1.0, &quot;radius&quot;: 3.1816440984856076, &quot;stroke&quot;: true, &quot;weight&quot;: 3}\n",
       "            ).addTo(map_d0ccc94c164fc7c9d30f0ae90e1f9ac5);\n",
       "        \n",
       "    \n",
       "        var popup_cc138f69cd97529773e29edb5c8f5685 = L.popup({\n",
       "  &quot;maxWidth&quot;: &quot;100%&quot;,\n",
       "});\n",
       "\n",
       "        \n",
       "            \n",
       "                var html_79b1c318afb7b7e9f6ede62a7005981b = $(`&lt;div id=&quot;html_79b1c318afb7b7e9f6ede62a7005981b&quot; style=&quot;width: 100.0%; height: 100.0%;&quot;&gt;Comoros&lt;/div&gt;`)[0];\n",
       "                popup_cc138f69cd97529773e29edb5c8f5685.setContent(html_79b1c318afb7b7e9f6ede62a7005981b);\n",
       "            \n",
       "        \n",
       "\n",
       "        circle_marker_3a479aefdf0f72a68cfbc70e4fece8ff.bindPopup(popup_cc138f69cd97529773e29edb5c8f5685)\n",
       "        ;\n",
       "\n",
       "        \n",
       "    \n",
       "    \n",
       "            var circle_marker_e3820ebb43dfd30ec343e14ced86d428 = L.circleMarker(\n",
       "                [16.0, -24.0],\n",
       "                {&quot;bubblingMouseEvents&quot;: true, &quot;color&quot;: &quot;blue&quot;, &quot;dashArray&quot;: null, &quot;dashOffset&quot;: null, &quot;fill&quot;: true, &quot;fillColor&quot;: &quot;blue&quot;, &quot;fillOpacity&quot;: 0.2, &quot;fillRule&quot;: &quot;evenodd&quot;, &quot;lineCap&quot;: &quot;round&quot;, &quot;lineJoin&quot;: &quot;round&quot;, &quot;opacity&quot;: 1.0, &quot;radius&quot;: 1.4667952657766725, &quot;stroke&quot;: true, &quot;weight&quot;: 3}\n",
       "            ).addTo(map_d0ccc94c164fc7c9d30f0ae90e1f9ac5);\n",
       "        \n",
       "    \n",
       "        var popup_4217fbc7c32236fa6a978fc7250df966 = L.popup({\n",
       "  &quot;maxWidth&quot;: &quot;100%&quot;,\n",
       "});\n",
       "\n",
       "        \n",
       "            \n",
       "                var html_c7735716b8304c6b7ca36c811489bcf6 = $(`&lt;div id=&quot;html_c7735716b8304c6b7ca36c811489bcf6&quot; style=&quot;width: 100.0%; height: 100.0%;&quot;&gt;Cape Verde&lt;/div&gt;`)[0];\n",
       "                popup_4217fbc7c32236fa6a978fc7250df966.setContent(html_c7735716b8304c6b7ca36c811489bcf6);\n",
       "            \n",
       "        \n",
       "\n",
       "        circle_marker_e3820ebb43dfd30ec343e14ced86d428.bindPopup(popup_4217fbc7c32236fa6a978fc7250df966)\n",
       "        ;\n",
       "\n",
       "        \n",
       "    \n",
       "    \n",
       "            var circle_marker_8f2208d3cbe4c33f5c5c74c13821186f = L.circleMarker(\n",
       "                [10.0, -84.0],\n",
       "                {&quot;bubblingMouseEvents&quot;: true, &quot;color&quot;: &quot;green&quot;, &quot;dashArray&quot;: null, &quot;dashOffset&quot;: null, &quot;fill&quot;: true, &quot;fillColor&quot;: &quot;green&quot;, &quot;fillOpacity&quot;: 0.2, &quot;fillRule&quot;: &quot;evenodd&quot;, &quot;lineCap&quot;: &quot;round&quot;, &quot;lineJoin&quot;: &quot;round&quot;, &quot;opacity&quot;: 1.0, &quot;radius&quot;: 1.402496325012203, &quot;stroke&quot;: true, &quot;weight&quot;: 3}\n",
       "            ).addTo(map_d0ccc94c164fc7c9d30f0ae90e1f9ac5);\n",
       "        \n",
       "    \n",
       "        var popup_7f3f95dc77407d233c746cc99c7847bf = L.popup({\n",
       "  &quot;maxWidth&quot;: &quot;100%&quot;,\n",
       "});\n",
       "\n",
       "        \n",
       "            \n",
       "                var html_11c74b3b4eed896befa0bfdb8d4da0d2 = $(`&lt;div id=&quot;html_11c74b3b4eed896befa0bfdb8d4da0d2&quot; style=&quot;width: 100.0%; height: 100.0%;&quot;&gt;Costa Rica&lt;/div&gt;`)[0];\n",
       "                popup_7f3f95dc77407d233c746cc99c7847bf.setContent(html_11c74b3b4eed896befa0bfdb8d4da0d2);\n",
       "            \n",
       "        \n",
       "\n",
       "        circle_marker_8f2208d3cbe4c33f5c5c74c13821186f.bindPopup(popup_7f3f95dc77407d233c746cc99c7847bf)\n",
       "        ;\n",
       "\n",
       "        \n",
       "    \n",
       "    \n",
       "            var circle_marker_6bd171e5a125788eb89553d83f936038 = L.circleMarker(\n",
       "                [49.75, 15.0],\n",
       "                {&quot;bubblingMouseEvents&quot;: true, &quot;color&quot;: &quot;black&quot;, &quot;dashArray&quot;: null, &quot;dashOffset&quot;: null, &quot;fill&quot;: true, &quot;fillColor&quot;: &quot;black&quot;, &quot;fillOpacity&quot;: 0.2, &quot;fillRule&quot;: &quot;evenodd&quot;, &quot;lineCap&quot;: &quot;round&quot;, &quot;lineJoin&quot;: &quot;round&quot;, &quot;opacity&quot;: 1.0, &quot;radius&quot;: 0.31720301862166483, &quot;stroke&quot;: true, &quot;weight&quot;: 3}\n",
       "            ).addTo(map_d0ccc94c164fc7c9d30f0ae90e1f9ac5);\n",
       "        \n",
       "    \n",
       "        var popup_b6baa94ff4ad794b1197e02d53e57a27 = L.popup({\n",
       "  &quot;maxWidth&quot;: &quot;100%&quot;,\n",
       "});\n",
       "\n",
       "        \n",
       "            \n",
       "                var html_1f3ddbc12141fd29b60953e1b3111ddc = $(`&lt;div id=&quot;html_1f3ddbc12141fd29b60953e1b3111ddc&quot; style=&quot;width: 100.0%; height: 100.0%;&quot;&gt;Czech Republic&lt;/div&gt;`)[0];\n",
       "                popup_b6baa94ff4ad794b1197e02d53e57a27.setContent(html_1f3ddbc12141fd29b60953e1b3111ddc);\n",
       "            \n",
       "        \n",
       "\n",
       "        circle_marker_6bd171e5a125788eb89553d83f936038.bindPopup(popup_b6baa94ff4ad794b1197e02d53e57a27)\n",
       "        ;\n",
       "\n",
       "        \n",
       "    \n",
       "    \n",
       "            var circle_marker_f5d217b059fc20c8102136822c4d06a5 = L.circleMarker(\n",
       "                [51.5, 10.5],\n",
       "                {&quot;bubblingMouseEvents&quot;: true, &quot;color&quot;: &quot;black&quot;, &quot;dashArray&quot;: null, &quot;dashOffset&quot;: null, &quot;fill&quot;: true, &quot;fillColor&quot;: &quot;black&quot;, &quot;fillOpacity&quot;: 0.2, &quot;fillRule&quot;: &quot;evenodd&quot;, &quot;lineCap&quot;: &quot;round&quot;, &quot;lineJoin&quot;: &quot;round&quot;, &quot;opacity&quot;: 1.0, &quot;radius&quot;: 2.957623648166546, &quot;stroke&quot;: true, &quot;weight&quot;: 3}\n",
       "            ).addTo(map_d0ccc94c164fc7c9d30f0ae90e1f9ac5);\n",
       "        \n",
       "    \n",
       "        var popup_2d0703e56ceea657594be296b78c5ad8 = L.popup({\n",
       "  &quot;maxWidth&quot;: &quot;100%&quot;,\n",
       "});\n",
       "\n",
       "        \n",
       "            \n",
       "                var html_a6aad83d01215dd741ca4d36d68cb16e = $(`&lt;div id=&quot;html_a6aad83d01215dd741ca4d36d68cb16e&quot; style=&quot;width: 100.0%; height: 100.0%;&quot;&gt;Germany&lt;/div&gt;`)[0];\n",
       "                popup_2d0703e56ceea657594be296b78c5ad8.setContent(html_a6aad83d01215dd741ca4d36d68cb16e);\n",
       "            \n",
       "        \n",
       "\n",
       "        circle_marker_f5d217b059fc20c8102136822c4d06a5.bindPopup(popup_2d0703e56ceea657594be296b78c5ad8)\n",
       "        ;\n",
       "\n",
       "        \n",
       "    \n",
       "    \n",
       "            var circle_marker_060ab1e37ce3ccd831abf5f854a8fcf0 = L.circleMarker(\n",
       "                [11.58901, 43.14503],\n",
       "                {&quot;bubblingMouseEvents&quot;: true, &quot;color&quot;: &quot;blue&quot;, &quot;dashArray&quot;: null, &quot;dashOffset&quot;: null, &quot;fill&quot;: true, &quot;fillColor&quot;: &quot;blue&quot;, &quot;fillOpacity&quot;: 0.2, &quot;fillRule&quot;: &quot;evenodd&quot;, &quot;lineCap&quot;: &quot;round&quot;, &quot;lineJoin&quot;: &quot;round&quot;, &quot;opacity&quot;: 1.0, &quot;radius&quot;: 2.244091994176071, &quot;stroke&quot;: true, &quot;weight&quot;: 3}\n",
       "            ).addTo(map_d0ccc94c164fc7c9d30f0ae90e1f9ac5);\n",
       "        \n",
       "    \n",
       "        var popup_526a204c26318ee5416d5d97495de929 = L.popup({\n",
       "  &quot;maxWidth&quot;: &quot;100%&quot;,\n",
       "});\n",
       "\n",
       "        \n",
       "            \n",
       "                var html_d0d1fa113d1de458a615fe4957d6eabe = $(`&lt;div id=&quot;html_d0d1fa113d1de458a615fe4957d6eabe&quot; style=&quot;width: 100.0%; height: 100.0%;&quot;&gt;Djibouti&lt;/div&gt;`)[0];\n",
       "                popup_526a204c26318ee5416d5d97495de929.setContent(html_d0d1fa113d1de458a615fe4957d6eabe);\n",
       "            \n",
       "        \n",
       "\n",
       "        circle_marker_060ab1e37ce3ccd831abf5f854a8fcf0.bindPopup(popup_526a204c26318ee5416d5d97495de929)\n",
       "        ;\n",
       "\n",
       "        \n",
       "    \n",
       "    \n",
       "            var circle_marker_1856f1fe56e2b3339fafc6e549d4953e = L.circleMarker(\n",
       "                [56.0, 10.0],\n",
       "                {&quot;bubblingMouseEvents&quot;: true, &quot;color&quot;: &quot;black&quot;, &quot;dashArray&quot;: null, &quot;dashOffset&quot;: null, &quot;fill&quot;: true, &quot;fillColor&quot;: &quot;black&quot;, &quot;fillOpacity&quot;: 0.2, &quot;fillRule&quot;: &quot;evenodd&quot;, &quot;lineCap&quot;: &quot;round&quot;, &quot;lineJoin&quot;: &quot;round&quot;, &quot;opacity&quot;: 1.0, &quot;radius&quot;: 1.0884180738164053, &quot;stroke&quot;: true, &quot;weight&quot;: 3}\n",
       "            ).addTo(map_d0ccc94c164fc7c9d30f0ae90e1f9ac5);\n",
       "        \n",
       "    \n",
       "        var popup_4e51117261a1d056a40451a383cf57a0 = L.popup({\n",
       "  &quot;maxWidth&quot;: &quot;100%&quot;,\n",
       "});\n",
       "\n",
       "        \n",
       "            \n",
       "                var html_fabef5f5e6104a1a2ca86934d78f7b6e = $(`&lt;div id=&quot;html_fabef5f5e6104a1a2ca86934d78f7b6e&quot; style=&quot;width: 100.0%; height: 100.0%;&quot;&gt;Denmark&lt;/div&gt;`)[0];\n",
       "                popup_4e51117261a1d056a40451a383cf57a0.setContent(html_fabef5f5e6104a1a2ca86934d78f7b6e);\n",
       "            \n",
       "        \n",
       "\n",
       "        circle_marker_1856f1fe56e2b3339fafc6e549d4953e.bindPopup(popup_4e51117261a1d056a40451a383cf57a0)\n",
       "        ;\n",
       "\n",
       "        \n",
       "    \n",
       "    \n",
       "            var circle_marker_66c25992b8bd042d54ce0529028f5058 = L.circleMarker(\n",
       "                [19.0, -70.66667],\n",
       "                {&quot;bubblingMouseEvents&quot;: true, &quot;color&quot;: &quot;green&quot;, &quot;dashArray&quot;: null, &quot;dashOffset&quot;: null, &quot;fill&quot;: true, &quot;fillColor&quot;: &quot;green&quot;, &quot;fillOpacity&quot;: 0.2, &quot;fillRule&quot;: &quot;evenodd&quot;, &quot;lineCap&quot;: &quot;round&quot;, &quot;lineJoin&quot;: &quot;round&quot;, &quot;opacity&quot;: 1.0, &quot;radius&quot;: 2.6350734064183507, &quot;stroke&quot;: true, &quot;weight&quot;: 3}\n",
       "            ).addTo(map_d0ccc94c164fc7c9d30f0ae90e1f9ac5);\n",
       "        \n",
       "    \n",
       "        var popup_862af4c6f347797b268b6e7117928433 = L.popup({\n",
       "  &quot;maxWidth&quot;: &quot;100%&quot;,\n",
       "});\n",
       "\n",
       "        \n",
       "            \n",
       "                var html_cf266b83c9055c2af8ef287acde27c33 = $(`&lt;div id=&quot;html_cf266b83c9055c2af8ef287acde27c33&quot; style=&quot;width: 100.0%; height: 100.0%;&quot;&gt;Dominican Republic&lt;/div&gt;`)[0];\n",
       "                popup_862af4c6f347797b268b6e7117928433.setContent(html_cf266b83c9055c2af8ef287acde27c33);\n",
       "            \n",
       "        \n",
       "\n",
       "        circle_marker_66c25992b8bd042d54ce0529028f5058.bindPopup(popup_862af4c6f347797b268b6e7117928433)\n",
       "        ;\n",
       "\n",
       "        \n",
       "    \n",
       "    \n",
       "            var circle_marker_2ea831957a618b335cfacd1ba3369df3 = L.circleMarker(\n",
       "                [28.0, 3.0],\n",
       "                {&quot;bubblingMouseEvents&quot;: true, &quot;color&quot;: &quot;blue&quot;, &quot;dashArray&quot;: null, &quot;dashOffset&quot;: null, &quot;fill&quot;: true, &quot;fillColor&quot;: &quot;blue&quot;, &quot;fillOpacity&quot;: 0.2, &quot;fillRule&quot;: &quot;evenodd&quot;, &quot;lineCap&quot;: &quot;round&quot;, &quot;lineJoin&quot;: &quot;round&quot;, &quot;opacity&quot;: 1.0, &quot;radius&quot;: 8.547725420605834, &quot;stroke&quot;: true, &quot;weight&quot;: 3}\n",
       "            ).addTo(map_d0ccc94c164fc7c9d30f0ae90e1f9ac5);\n",
       "        \n",
       "    \n",
       "        var popup_bf730fb48678ae092be6453b7c02d969 = L.popup({\n",
       "  &quot;maxWidth&quot;: &quot;100%&quot;,\n",
       "});\n",
       "\n",
       "        \n",
       "            \n",
       "                var html_a9277239c9340bc5a7a3c73be8ed2b15 = $(`&lt;div id=&quot;html_a9277239c9340bc5a7a3c73be8ed2b15&quot; style=&quot;width: 100.0%; height: 100.0%;&quot;&gt;Algeria&lt;/div&gt;`)[0];\n",
       "                popup_bf730fb48678ae092be6453b7c02d969.setContent(html_a9277239c9340bc5a7a3c73be8ed2b15);\n",
       "            \n",
       "        \n",
       "\n",
       "        circle_marker_2ea831957a618b335cfacd1ba3369df3.bindPopup(popup_bf730fb48678ae092be6453b7c02d969)\n",
       "        ;\n",
       "\n",
       "        \n",
       "    \n",
       "    \n",
       "            var circle_marker_0251aa69c27524fb3e96b25d6b390ae3 = L.circleMarker(\n",
       "                [-1.25, -78.25],\n",
       "                {&quot;bubblingMouseEvents&quot;: true, &quot;color&quot;: &quot;green&quot;, &quot;dashArray&quot;: null, &quot;dashOffset&quot;: null, &quot;fill&quot;: true, &quot;fillColor&quot;: &quot;green&quot;, &quot;fillOpacity&quot;: 0.2, &quot;fillRule&quot;: &quot;evenodd&quot;, &quot;lineCap&quot;: &quot;round&quot;, &quot;lineJoin&quot;: &quot;round&quot;, &quot;opacity&quot;: 1.0, &quot;radius&quot;: 4.34440267014846, &quot;stroke&quot;: true, &quot;weight&quot;: 3}\n",
       "            ).addTo(map_d0ccc94c164fc7c9d30f0ae90e1f9ac5);\n",
       "        \n",
       "    \n",
       "        var popup_801d42cca34fb46d7fcd109bc0df06e9 = L.popup({\n",
       "  &quot;maxWidth&quot;: &quot;100%&quot;,\n",
       "});\n",
       "\n",
       "        \n",
       "            \n",
       "                var html_a2dffa700a067a152e32b321a4d44f3b = $(`&lt;div id=&quot;html_a2dffa700a067a152e32b321a4d44f3b&quot; style=&quot;width: 100.0%; height: 100.0%;&quot;&gt;Ecuador&lt;/div&gt;`)[0];\n",
       "                popup_801d42cca34fb46d7fcd109bc0df06e9.setContent(html_a2dffa700a067a152e32b321a4d44f3b);\n",
       "            \n",
       "        \n",
       "\n",
       "        circle_marker_0251aa69c27524fb3e96b25d6b390ae3.bindPopup(popup_801d42cca34fb46d7fcd109bc0df06e9)\n",
       "        ;\n",
       "\n",
       "        \n",
       "    \n",
       "    \n",
       "            var circle_marker_1581864a739a9aae0f2bca7cae84d2c4 = L.circleMarker(\n",
       "                [27.0, 30.0],\n",
       "                {&quot;bubblingMouseEvents&quot;: true, &quot;color&quot;: &quot;blue&quot;, &quot;dashArray&quot;: null, &quot;dashOffset&quot;: null, &quot;fill&quot;: true, &quot;fillColor&quot;: &quot;blue&quot;, &quot;fillOpacity&quot;: 0.2, &quot;fillRule&quot;: &quot;evenodd&quot;, &quot;lineCap&quot;: &quot;round&quot;, &quot;lineJoin&quot;: &quot;round&quot;, &quot;opacity&quot;: 1.0, &quot;radius&quot;: 6.652627784125568, &quot;stroke&quot;: true, &quot;weight&quot;: 3}\n",
       "            ).addTo(map_d0ccc94c164fc7c9d30f0ae90e1f9ac5);\n",
       "        \n",
       "    \n",
       "        var popup_c7f4097528d1dbc744b55ce27cf44397 = L.popup({\n",
       "  &quot;maxWidth&quot;: &quot;100%&quot;,\n",
       "});\n",
       "\n",
       "        \n",
       "            \n",
       "                var html_8a46d5f2919da1fa859cfa2eee522ce5 = $(`&lt;div id=&quot;html_8a46d5f2919da1fa859cfa2eee522ce5&quot; style=&quot;width: 100.0%; height: 100.0%;&quot;&gt;Egypt&lt;/div&gt;`)[0];\n",
       "                popup_c7f4097528d1dbc744b55ce27cf44397.setContent(html_8a46d5f2919da1fa859cfa2eee522ce5);\n",
       "            \n",
       "        \n",
       "\n",
       "        circle_marker_1581864a739a9aae0f2bca7cae84d2c4.bindPopup(popup_c7f4097528d1dbc744b55ce27cf44397)\n",
       "        ;\n",
       "\n",
       "        \n",
       "    \n",
       "    \n",
       "            var circle_marker_6c5a1a4b28a320f7580d628f0985f041 = L.circleMarker(\n",
       "                [40.0, -4.0],\n",
       "                {&quot;bubblingMouseEvents&quot;: true, &quot;color&quot;: &quot;black&quot;, &quot;dashArray&quot;: null, &quot;dashOffset&quot;: null, &quot;fill&quot;: true, &quot;fillColor&quot;: &quot;black&quot;, &quot;fillOpacity&quot;: 0.2, &quot;fillRule&quot;: &quot;evenodd&quot;, &quot;lineCap&quot;: &quot;round&quot;, &quot;lineJoin&quot;: &quot;round&quot;, &quot;opacity&quot;: 1.0, &quot;radius&quot;: 5.912389201233562, &quot;stroke&quot;: true, &quot;weight&quot;: 3}\n",
       "            ).addTo(map_d0ccc94c164fc7c9d30f0ae90e1f9ac5);\n",
       "        \n",
       "    \n",
       "        var popup_fa51671e1b24c15e863d97da8593e3b6 = L.popup({\n",
       "  &quot;maxWidth&quot;: &quot;100%&quot;,\n",
       "});\n",
       "\n",
       "        \n",
       "            \n",
       "                var html_7b57efe8e77091a737536d150632f07e = $(`&lt;div id=&quot;html_7b57efe8e77091a737536d150632f07e&quot; style=&quot;width: 100.0%; height: 100.0%;&quot;&gt;Spain&lt;/div&gt;`)[0];\n",
       "                popup_fa51671e1b24c15e863d97da8593e3b6.setContent(html_7b57efe8e77091a737536d150632f07e);\n",
       "            \n",
       "        \n",
       "\n",
       "        circle_marker_6c5a1a4b28a320f7580d628f0985f041.bindPopup(popup_fa51671e1b24c15e863d97da8593e3b6)\n",
       "        ;\n",
       "\n",
       "        \n",
       "    \n",
       "    \n",
       "            var circle_marker_83a330ebe5994015d19b3aca94006f71 = L.circleMarker(\n",
       "                [59.0, 26.0],\n",
       "                {&quot;bubblingMouseEvents&quot;: true, &quot;color&quot;: &quot;black&quot;, &quot;dashArray&quot;: null, &quot;dashOffset&quot;: null, &quot;fill&quot;: true, &quot;fillColor&quot;: &quot;black&quot;, &quot;fillOpacity&quot;: 0.2, &quot;fillRule&quot;: &quot;evenodd&quot;, &quot;lineCap&quot;: &quot;round&quot;, &quot;lineJoin&quot;: &quot;round&quot;, &quot;opacity&quot;: 1.0, &quot;radius&quot;: 0.6446344362605358, &quot;stroke&quot;: true, &quot;weight&quot;: 3}\n",
       "            ).addTo(map_d0ccc94c164fc7c9d30f0ae90e1f9ac5);\n",
       "        \n",
       "    \n",
       "        var popup_4a5669f0da713cfcd740603b1e574b56 = L.popup({\n",
       "  &quot;maxWidth&quot;: &quot;100%&quot;,\n",
       "});\n",
       "\n",
       "        \n",
       "            \n",
       "                var html_914e6bfdea56b854ba7c23df3a716759 = $(`&lt;div id=&quot;html_914e6bfdea56b854ba7c23df3a716759&quot; style=&quot;width: 100.0%; height: 100.0%;&quot;&gt;Estonia&lt;/div&gt;`)[0];\n",
       "                popup_4a5669f0da713cfcd740603b1e574b56.setContent(html_914e6bfdea56b854ba7c23df3a716759);\n",
       "            \n",
       "        \n",
       "\n",
       "        circle_marker_83a330ebe5994015d19b3aca94006f71.bindPopup(popup_4a5669f0da713cfcd740603b1e574b56)\n",
       "        ;\n",
       "\n",
       "        \n",
       "    \n",
       "    \n",
       "            var circle_marker_b293f103cebaf4bbc837fe7339a5111f = L.circleMarker(\n",
       "                [9.0, 39.5],\n",
       "                {&quot;bubblingMouseEvents&quot;: true, &quot;color&quot;: &quot;blue&quot;, &quot;dashArray&quot;: null, &quot;dashOffset&quot;: null, &quot;fill&quot;: true, &quot;fillColor&quot;: &quot;blue&quot;, &quot;fillOpacity&quot;: 0.2, &quot;fillRule&quot;: &quot;evenodd&quot;, &quot;lineCap&quot;: &quot;round&quot;, &quot;lineJoin&quot;: &quot;round&quot;, &quot;opacity&quot;: 1.0, &quot;radius&quot;: 32.036203795508186, &quot;stroke&quot;: true, &quot;weight&quot;: 3}\n",
       "            ).addTo(map_d0ccc94c164fc7c9d30f0ae90e1f9ac5);\n",
       "        \n",
       "    \n",
       "        var popup_980bc643264f1294d2fbcc1ecfcec0a4 = L.popup({\n",
       "  &quot;maxWidth&quot;: &quot;100%&quot;,\n",
       "});\n",
       "\n",
       "        \n",
       "            \n",
       "                var html_5accb45f641fad88c3a9b5ec0f003fad = $(`&lt;div id=&quot;html_5accb45f641fad88c3a9b5ec0f003fad&quot; style=&quot;width: 100.0%; height: 100.0%;&quot;&gt;Ethiopia&lt;/div&gt;`)[0];\n",
       "                popup_980bc643264f1294d2fbcc1ecfcec0a4.setContent(html_5accb45f641fad88c3a9b5ec0f003fad);\n",
       "            \n",
       "        \n",
       "\n",
       "        circle_marker_b293f103cebaf4bbc837fe7339a5111f.bindPopup(popup_980bc643264f1294d2fbcc1ecfcec0a4)\n",
       "        ;\n",
       "\n",
       "        \n",
       "    \n",
       "    \n",
       "            var circle_marker_88e8798584ca262e8c60078dffbb8620 = L.circleMarker(\n",
       "                [64.0, 26.0],\n",
       "                {&quot;bubblingMouseEvents&quot;: true, &quot;color&quot;: &quot;black&quot;, &quot;dashArray&quot;: null, &quot;dashOffset&quot;: null, &quot;fill&quot;: true, &quot;fillColor&quot;: &quot;black&quot;, &quot;fillOpacity&quot;: 0.2, &quot;fillRule&quot;: &quot;evenodd&quot;, &quot;lineCap&quot;: &quot;round&quot;, &quot;lineJoin&quot;: &quot;round&quot;, &quot;opacity&quot;: 1.0, &quot;stroke&quot;: true, &quot;weight&quot;: 3}\n",
       "            ).addTo(map_d0ccc94c164fc7c9d30f0ae90e1f9ac5);\n",
       "        \n",
       "    \n",
       "        var popup_a2e28fec3fcaf0b8bd4e0739a8d0a24a = L.popup({\n",
       "  &quot;maxWidth&quot;: &quot;100%&quot;,\n",
       "});\n",
       "\n",
       "        \n",
       "            \n",
       "                var html_4234fd3ff7997a86f096f411e9134d1a = $(`&lt;div id=&quot;html_4234fd3ff7997a86f096f411e9134d1a&quot; style=&quot;width: 100.0%; height: 100.0%;&quot;&gt;Finland&lt;/div&gt;`)[0];\n",
       "                popup_a2e28fec3fcaf0b8bd4e0739a8d0a24a.setContent(html_4234fd3ff7997a86f096f411e9134d1a);\n",
       "            \n",
       "        \n",
       "\n",
       "        circle_marker_88e8798584ca262e8c60078dffbb8620.bindPopup(popup_a2e28fec3fcaf0b8bd4e0739a8d0a24a)\n",
       "        ;\n",
       "\n",
       "        \n",
       "    \n",
       "    \n",
       "            var circle_marker_3715cf421d78134c7441039afcad29e3 = L.circleMarker(\n",
       "                [-18.0, 178.0],\n",
       "                {&quot;bubblingMouseEvents&quot;: true, &quot;color&quot;: &quot;red&quot;, &quot;dashArray&quot;: null, &quot;dashOffset&quot;: null, &quot;fill&quot;: true, &quot;fillColor&quot;: &quot;red&quot;, &quot;fillOpacity&quot;: 0.2, &quot;fillRule&quot;: &quot;evenodd&quot;, &quot;lineCap&quot;: &quot;round&quot;, &quot;lineJoin&quot;: &quot;round&quot;, &quot;opacity&quot;: 1.0, &quot;radius&quot;: 1.2685737233520922, &quot;stroke&quot;: true, &quot;weight&quot;: 3}\n",
       "            ).addTo(map_d0ccc94c164fc7c9d30f0ae90e1f9ac5);\n",
       "        \n",
       "    \n",
       "        var popup_c6a2cd24a3e5979c05c218bfabfedd50 = L.popup({\n",
       "  &quot;maxWidth&quot;: &quot;100%&quot;,\n",
       "});\n",
       "\n",
       "        \n",
       "            \n",
       "                var html_d829d74cbdc66a1cff13a3bcfae4c6bd = $(`&lt;div id=&quot;html_d829d74cbdc66a1cff13a3bcfae4c6bd&quot; style=&quot;width: 100.0%; height: 100.0%;&quot;&gt;Fiji&lt;/div&gt;`)[0];\n",
       "                popup_c6a2cd24a3e5979c05c218bfabfedd50.setContent(html_d829d74cbdc66a1cff13a3bcfae4c6bd);\n",
       "            \n",
       "        \n",
       "\n",
       "        circle_marker_3715cf421d78134c7441039afcad29e3.bindPopup(popup_c6a2cd24a3e5979c05c218bfabfedd50)\n",
       "        ;\n",
       "\n",
       "        \n",
       "    \n",
       "    \n",
       "            var circle_marker_0549a680e71b696832b6bfd3f8e088b6 = L.circleMarker(\n",
       "                [46.0, 2.0],\n",
       "                {&quot;bubblingMouseEvents&quot;: true, &quot;color&quot;: &quot;black&quot;, &quot;dashArray&quot;: null, &quot;dashOffset&quot;: null, &quot;fill&quot;: true, &quot;fillColor&quot;: &quot;black&quot;, &quot;fillOpacity&quot;: 0.2, &quot;fillRule&quot;: &quot;evenodd&quot;, &quot;lineCap&quot;: &quot;round&quot;, &quot;lineJoin&quot;: &quot;round&quot;, &quot;opacity&quot;: 1.0, &quot;radius&quot;: 2.57001824901904, &quot;stroke&quot;: true, &quot;weight&quot;: 3}\n",
       "            ).addTo(map_d0ccc94c164fc7c9d30f0ae90e1f9ac5);\n",
       "        \n",
       "    \n",
       "        var popup_be2f1f992019e3b10f6bc610a234d40e = L.popup({\n",
       "  &quot;maxWidth&quot;: &quot;100%&quot;,\n",
       "});\n",
       "\n",
       "        \n",
       "            \n",
       "                var html_fe8edd0cac30c4b872a8c7d2d846b5a2 = $(`&lt;div id=&quot;html_fe8edd0cac30c4b872a8c7d2d846b5a2&quot; style=&quot;width: 100.0%; height: 100.0%;&quot;&gt;France&lt;/div&gt;`)[0];\n",
       "                popup_be2f1f992019e3b10f6bc610a234d40e.setContent(html_fe8edd0cac30c4b872a8c7d2d846b5a2);\n",
       "            \n",
       "        \n",
       "\n",
       "        circle_marker_0549a680e71b696832b6bfd3f8e088b6.bindPopup(popup_be2f1f992019e3b10f6bc610a234d40e)\n",
       "        ;\n",
       "\n",
       "        \n",
       "    \n",
       "    \n",
       "            var circle_marker_857c63f26b6de9dd0b004f93a0b505f7 = L.circleMarker(\n",
       "                [6.924, 158.162],\n",
       "                {&quot;bubblingMouseEvents&quot;: true, &quot;color&quot;: &quot;red&quot;, &quot;dashArray&quot;: null, &quot;dashOffset&quot;: null, &quot;fill&quot;: true, &quot;fillColor&quot;: &quot;red&quot;, &quot;fillOpacity&quot;: 0.2, &quot;fillRule&quot;: &quot;evenodd&quot;, &quot;lineCap&quot;: &quot;round&quot;, &quot;lineJoin&quot;: &quot;round&quot;, &quot;opacity&quot;: 1.0, &quot;radius&quot;: 1.0101672302782327, &quot;stroke&quot;: true, &quot;weight&quot;: 3}\n",
       "            ).addTo(map_d0ccc94c164fc7c9d30f0ae90e1f9ac5);\n",
       "        \n",
       "    \n",
       "        var popup_845bb09dd690ef6c68bcff150533383e = L.popup({\n",
       "  &quot;maxWidth&quot;: &quot;100%&quot;,\n",
       "});\n",
       "\n",
       "        \n",
       "            \n",
       "                var html_2950d3e46ea3d28b47b3404c91cf6067 = $(`&lt;div id=&quot;html_2950d3e46ea3d28b47b3404c91cf6067&quot; style=&quot;width: 100.0%; height: 100.0%;&quot;&gt;Micronesia, Fed. Sts.&lt;/div&gt;`)[0];\n",
       "                popup_845bb09dd690ef6c68bcff150533383e.setContent(html_2950d3e46ea3d28b47b3404c91cf6067);\n",
       "            \n",
       "        \n",
       "\n",
       "        circle_marker_857c63f26b6de9dd0b004f93a0b505f7.bindPopup(popup_845bb09dd690ef6c68bcff150533383e)\n",
       "        ;\n",
       "\n",
       "        \n",
       "    \n",
       "    \n",
       "            var circle_marker_c7a2efd7abdf1f794b29afcefeca3519 = L.circleMarker(\n",
       "                [-1.0, 11.75],\n",
       "                {&quot;bubblingMouseEvents&quot;: true, &quot;color&quot;: &quot;blue&quot;, &quot;dashArray&quot;: null, &quot;dashOffset&quot;: null, &quot;fill&quot;: true, &quot;fillColor&quot;: &quot;blue&quot;, &quot;fillOpacity&quot;: 0.2, &quot;fillRule&quot;: &quot;evenodd&quot;, &quot;lineCap&quot;: &quot;round&quot;, &quot;lineJoin&quot;: &quot;round&quot;, &quot;opacity&quot;: 1.0, &quot;radius&quot;: 1.7743739978493467, &quot;stroke&quot;: true, &quot;weight&quot;: 3}\n",
       "            ).addTo(map_d0ccc94c164fc7c9d30f0ae90e1f9ac5);\n",
       "        \n",
       "    \n",
       "        var popup_957dc834dc4db0aa1220d2a0431c3584 = L.popup({\n",
       "  &quot;maxWidth&quot;: &quot;100%&quot;,\n",
       "});\n",
       "\n",
       "        \n",
       "            \n",
       "                var html_fb6e0ac80279855a5f8304db1c16e10d = $(`&lt;div id=&quot;html_fb6e0ac80279855a5f8304db1c16e10d&quot; style=&quot;width: 100.0%; height: 100.0%;&quot;&gt;Gabon&lt;/div&gt;`)[0];\n",
       "                popup_957dc834dc4db0aa1220d2a0431c3584.setContent(html_fb6e0ac80279855a5f8304db1c16e10d);\n",
       "            \n",
       "        \n",
       "\n",
       "        circle_marker_c7a2efd7abdf1f794b29afcefeca3519.bindPopup(popup_957dc834dc4db0aa1220d2a0431c3584)\n",
       "        ;\n",
       "\n",
       "        \n",
       "    \n",
       "    \n",
       "            var circle_marker_3b608e0c49949319443ebb32c8f9a176 = L.circleMarker(\n",
       "                [54.75844, -2.69531],\n",
       "                {&quot;bubblingMouseEvents&quot;: true, &quot;color&quot;: &quot;black&quot;, &quot;dashArray&quot;: null, &quot;dashOffset&quot;: null, &quot;fill&quot;: true, &quot;fillColor&quot;: &quot;black&quot;, &quot;fillOpacity&quot;: 0.2, &quot;fillRule&quot;: &quot;evenodd&quot;, &quot;lineCap&quot;: &quot;round&quot;, &quot;lineJoin&quot;: &quot;round&quot;, &quot;opacity&quot;: 1.0, &quot;radius&quot;: 4.516844160364442, &quot;stroke&quot;: true, &quot;weight&quot;: 3}\n",
       "            ).addTo(map_d0ccc94c164fc7c9d30f0ae90e1f9ac5);\n",
       "        \n",
       "    \n",
       "        var popup_e3fbfe9894f0c6b870a5cdf55d757f6a = L.popup({\n",
       "  &quot;maxWidth&quot;: &quot;100%&quot;,\n",
       "});\n",
       "\n",
       "        \n",
       "            \n",
       "                var html_010839ca0b24404a5aa199f788936405 = $(`&lt;div id=&quot;html_010839ca0b24404a5aa199f788936405&quot; style=&quot;width: 100.0%; height: 100.0%;&quot;&gt;United Kingdom&lt;/div&gt;`)[0];\n",
       "                popup_e3fbfe9894f0c6b870a5cdf55d757f6a.setContent(html_010839ca0b24404a5aa199f788936405);\n",
       "            \n",
       "        \n",
       "\n",
       "        circle_marker_3b608e0c49949319443ebb32c8f9a176.bindPopup(popup_e3fbfe9894f0c6b870a5cdf55d757f6a)\n",
       "        ;\n",
       "\n",
       "        \n",
       "    \n",
       "    \n",
       "            var circle_marker_cee7980e13143970f713c8cd1c165974 = L.circleMarker(\n",
       "                [41.99998, 43.4999],\n",
       "                {&quot;bubblingMouseEvents&quot;: true, &quot;color&quot;: &quot;black&quot;, &quot;dashArray&quot;: null, &quot;dashOffset&quot;: null, &quot;fill&quot;: true, &quot;fillColor&quot;: &quot;black&quot;, &quot;fillOpacity&quot;: 0.2, &quot;fillRule&quot;: &quot;evenodd&quot;, &quot;lineCap&quot;: &quot;round&quot;, &quot;lineJoin&quot;: &quot;round&quot;, &quot;opacity&quot;: 1.0, &quot;radius&quot;: 4.2953024311538215, &quot;stroke&quot;: true, &quot;weight&quot;: 3}\n",
       "            ).addTo(map_d0ccc94c164fc7c9d30f0ae90e1f9ac5);\n",
       "        \n",
       "    \n",
       "        var popup_a135a27b4578150a1221fb765532bdae = L.popup({\n",
       "  &quot;maxWidth&quot;: &quot;100%&quot;,\n",
       "});\n",
       "\n",
       "        \n",
       "            \n",
       "                var html_9b25084afccfde9126970eb56afcc0d9 = $(`&lt;div id=&quot;html_9b25084afccfde9126970eb56afcc0d9&quot; style=&quot;width: 100.0%; height: 100.0%;&quot;&gt;Georgia&lt;/div&gt;`)[0];\n",
       "                popup_a135a27b4578150a1221fb765532bdae.setContent(html_9b25084afccfde9126970eb56afcc0d9);\n",
       "            \n",
       "        \n",
       "\n",
       "        circle_marker_cee7980e13143970f713c8cd1c165974.bindPopup(popup_a135a27b4578150a1221fb765532bdae)\n",
       "        ;\n",
       "\n",
       "        \n",
       "    \n",
       "    \n",
       "            var circle_marker_31aebe97b8e2a9d6f50c95a527d307a5 = L.circleMarker(\n",
       "                [8.1, -1.2],\n",
       "                {&quot;bubblingMouseEvents&quot;: true, &quot;color&quot;: &quot;blue&quot;, &quot;dashArray&quot;: null, &quot;dashOffset&quot;: null, &quot;fill&quot;: true, &quot;fillColor&quot;: &quot;blue&quot;, &quot;fillOpacity&quot;: 0.2, &quot;fillRule&quot;: &quot;evenodd&quot;, &quot;lineCap&quot;: &quot;round&quot;, &quot;lineJoin&quot;: &quot;round&quot;, &quot;opacity&quot;: 1.0, &quot;radius&quot;: 15.016869987417403, &quot;stroke&quot;: true, &quot;weight&quot;: 3}\n",
       "            ).addTo(map_d0ccc94c164fc7c9d30f0ae90e1f9ac5);\n",
       "        \n",
       "    \n",
       "        var popup_aa1740c2d064e7ec85f6de6fd8143899 = L.popup({\n",
       "  &quot;maxWidth&quot;: &quot;100%&quot;,\n",
       "});\n",
       "\n",
       "        \n",
       "            \n",
       "                var html_b42be2cb6a05c7744e9ce00b130f53fb = $(`&lt;div id=&quot;html_b42be2cb6a05c7744e9ce00b130f53fb&quot; style=&quot;width: 100.0%; height: 100.0%;&quot;&gt;Ghana&lt;/div&gt;`)[0];\n",
       "                popup_aa1740c2d064e7ec85f6de6fd8143899.setContent(html_b42be2cb6a05c7744e9ce00b130f53fb);\n",
       "            \n",
       "        \n",
       "\n",
       "        circle_marker_31aebe97b8e2a9d6f50c95a527d307a5.bindPopup(popup_aa1740c2d064e7ec85f6de6fd8143899)\n",
       "        ;\n",
       "\n",
       "        \n",
       "    \n",
       "    \n",
       "            var circle_marker_348cc023ebf2c0cf042e63c2920b2255 = L.circleMarker(\n",
       "                [10.83333, -10.66667],\n",
       "                {&quot;bubblingMouseEvents&quot;: true, &quot;color&quot;: &quot;blue&quot;, &quot;dashArray&quot;: null, &quot;dashOffset&quot;: null, &quot;fill&quot;: true, &quot;fillColor&quot;: &quot;blue&quot;, &quot;fillOpacity&quot;: 0.2, &quot;fillRule&quot;: &quot;evenodd&quot;, &quot;lineCap&quot;: &quot;round&quot;, &quot;lineJoin&quot;: &quot;round&quot;, &quot;opacity&quot;: 1.0, &quot;radius&quot;: 11.514913134644747, &quot;stroke&quot;: true, &quot;weight&quot;: 3}\n",
       "            ).addTo(map_d0ccc94c164fc7c9d30f0ae90e1f9ac5);\n",
       "        \n",
       "    \n",
       "        var popup_7a9d2802dc4761b7cb4f4ceb5cc23f1d = L.popup({\n",
       "  &quot;maxWidth&quot;: &quot;100%&quot;,\n",
       "});\n",
       "\n",
       "        \n",
       "            \n",
       "                var html_89ca8e4ab6643aaa16dffa30f870eddf = $(`&lt;div id=&quot;html_89ca8e4ab6643aaa16dffa30f870eddf&quot; style=&quot;width: 100.0%; height: 100.0%;&quot;&gt;Guinea&lt;/div&gt;`)[0];\n",
       "                popup_7a9d2802dc4761b7cb4f4ceb5cc23f1d.setContent(html_89ca8e4ab6643aaa16dffa30f870eddf);\n",
       "            \n",
       "        \n",
       "\n",
       "        circle_marker_348cc023ebf2c0cf042e63c2920b2255.bindPopup(popup_7a9d2802dc4761b7cb4f4ceb5cc23f1d)\n",
       "        ;\n",
       "\n",
       "        \n",
       "    \n",
       "    \n",
       "            var circle_marker_3277df6c886cd3ed976e09b51889706d = L.circleMarker(\n",
       "                [13.5, -15.5],\n",
       "                {&quot;bubblingMouseEvents&quot;: true, &quot;color&quot;: &quot;blue&quot;, &quot;dashArray&quot;: null, &quot;dashOffset&quot;: null, &quot;fill&quot;: true, &quot;fillColor&quot;: &quot;blue&quot;, &quot;fillOpacity&quot;: 0.2, &quot;fillRule&quot;: &quot;evenodd&quot;, &quot;lineCap&quot;: &quot;round&quot;, &quot;lineJoin&quot;: &quot;round&quot;, &quot;opacity&quot;: 1.0, &quot;radius&quot;: 4.381298115773378, &quot;stroke&quot;: true, &quot;weight&quot;: 3}\n",
       "            ).addTo(map_d0ccc94c164fc7c9d30f0ae90e1f9ac5);\n",
       "        \n",
       "    \n",
       "        var popup_1245c4e1c3f0d671675af1e1d6192404 = L.popup({\n",
       "  &quot;maxWidth&quot;: &quot;100%&quot;,\n",
       "});\n",
       "\n",
       "        \n",
       "            \n",
       "                var html_4909c7d7b210f6a95b16223f45c57aa1 = $(`&lt;div id=&quot;html_4909c7d7b210f6a95b16223f45c57aa1&quot; style=&quot;width: 100.0%; height: 100.0%;&quot;&gt;Gambia&lt;/div&gt;`)[0];\n",
       "                popup_1245c4e1c3f0d671675af1e1d6192404.setContent(html_4909c7d7b210f6a95b16223f45c57aa1);\n",
       "            \n",
       "        \n",
       "\n",
       "        circle_marker_3277df6c886cd3ed976e09b51889706d.bindPopup(popup_1245c4e1c3f0d671675af1e1d6192404)\n",
       "        ;\n",
       "\n",
       "        \n",
       "    \n",
       "    \n",
       "            var circle_marker_dc10af77b4657905bb893abb30d3a6d3 = L.circleMarker(\n",
       "                [12.0, -15.0],\n",
       "                {&quot;bubblingMouseEvents&quot;: true, &quot;color&quot;: &quot;blue&quot;, &quot;dashArray&quot;: null, &quot;dashOffset&quot;: null, &quot;fill&quot;: true, &quot;fillColor&quot;: &quot;blue&quot;, &quot;fillOpacity&quot;: 0.2, &quot;fillRule&quot;: &quot;evenodd&quot;, &quot;lineCap&quot;: &quot;round&quot;, &quot;lineJoin&quot;: &quot;round&quot;, &quot;opacity&quot;: 1.0, &quot;radius&quot;: 4.868250000644995, &quot;stroke&quot;: true, &quot;weight&quot;: 3}\n",
       "            ).addTo(map_d0ccc94c164fc7c9d30f0ae90e1f9ac5);\n",
       "        \n",
       "    \n",
       "        var popup_e6fb902fb82cbb8f4e4fe337ddb93128 = L.popup({\n",
       "  &quot;maxWidth&quot;: &quot;100%&quot;,\n",
       "});\n",
       "\n",
       "        \n",
       "            \n",
       "                var html_ce68cbf46415f2c319f60370645a1fa7 = $(`&lt;div id=&quot;html_ce68cbf46415f2c319f60370645a1fa7&quot; style=&quot;width: 100.0%; height: 100.0%;&quot;&gt;Guinea-Bissau&lt;/div&gt;`)[0];\n",
       "                popup_e6fb902fb82cbb8f4e4fe337ddb93128.setContent(html_ce68cbf46415f2c319f60370645a1fa7);\n",
       "            \n",
       "        \n",
       "\n",
       "        circle_marker_dc10af77b4657905bb893abb30d3a6d3.bindPopup(popup_e6fb902fb82cbb8f4e4fe337ddb93128)\n",
       "        ;\n",
       "\n",
       "        \n",
       "    \n",
       "    \n",
       "            var circle_marker_8d991bb2d918f619683f6a2dc9430bda = L.circleMarker(\n",
       "                [39.0, 22.0],\n",
       "                {&quot;bubblingMouseEvents&quot;: true, &quot;color&quot;: &quot;black&quot;, &quot;dashArray&quot;: null, &quot;dashOffset&quot;: null, &quot;fill&quot;: true, &quot;fillColor&quot;: &quot;black&quot;, &quot;fillOpacity&quot;: 0.2, &quot;fillRule&quot;: &quot;evenodd&quot;, &quot;lineCap&quot;: &quot;round&quot;, &quot;lineJoin&quot;: &quot;round&quot;, &quot;opacity&quot;: 1.0, &quot;radius&quot;: 2.178977304449507, &quot;stroke&quot;: true, &quot;weight&quot;: 3}\n",
       "            ).addTo(map_d0ccc94c164fc7c9d30f0ae90e1f9ac5);\n",
       "        \n",
       "    \n",
       "        var popup_9dc57631c78f6ec1c737610b4057f413 = L.popup({\n",
       "  &quot;maxWidth&quot;: &quot;100%&quot;,\n",
       "});\n",
       "\n",
       "        \n",
       "            \n",
       "                var html_86aeb378645d45297d6f6c7cd9c01347 = $(`&lt;div id=&quot;html_86aeb378645d45297d6f6c7cd9c01347&quot; style=&quot;width: 100.0%; height: 100.0%;&quot;&gt;Greece&lt;/div&gt;`)[0];\n",
       "                popup_9dc57631c78f6ec1c737610b4057f413.setContent(html_86aeb378645d45297d6f6c7cd9c01347);\n",
       "            \n",
       "        \n",
       "\n",
       "        circle_marker_8d991bb2d918f619683f6a2dc9430bda.bindPopup(popup_9dc57631c78f6ec1c737610b4057f413)\n",
       "        ;\n",
       "\n",
       "        \n",
       "    \n",
       "    \n",
       "            var circle_marker_1490d5cea3543944e4bf797709b0affb = L.circleMarker(\n",
       "                [14.64072, -90.51327],\n",
       "                {&quot;bubblingMouseEvents&quot;: true, &quot;color&quot;: &quot;green&quot;, &quot;dashArray&quot;: null, &quot;dashOffset&quot;: null, &quot;fill&quot;: true, &quot;fillColor&quot;: &quot;green&quot;, &quot;fillOpacity&quot;: 0.2, &quot;fillRule&quot;: &quot;evenodd&quot;, &quot;lineCap&quot;: &quot;round&quot;, &quot;lineJoin&quot;: &quot;round&quot;, &quot;opacity&quot;: 1.0, &quot;radius&quot;: 7.987553755377376, &quot;stroke&quot;: true, &quot;weight&quot;: 3}\n",
       "            ).addTo(map_d0ccc94c164fc7c9d30f0ae90e1f9ac5);\n",
       "        \n",
       "    \n",
       "        var popup_103db5d1d26a54fb7d1c101b60ef9dd6 = L.popup({\n",
       "  &quot;maxWidth&quot;: &quot;100%&quot;,\n",
       "});\n",
       "\n",
       "        \n",
       "            \n",
       "                var html_4dfd83494c351244fbcfb80f0bf4080a = $(`&lt;div id=&quot;html_4dfd83494c351244fbcfb80f0bf4080a&quot; style=&quot;width: 100.0%; height: 100.0%;&quot;&gt;Guatemala&lt;/div&gt;`)[0];\n",
       "                popup_103db5d1d26a54fb7d1c101b60ef9dd6.setContent(html_4dfd83494c351244fbcfb80f0bf4080a);\n",
       "            \n",
       "        \n",
       "\n",
       "        circle_marker_1490d5cea3543944e4bf797709b0affb.bindPopup(popup_103db5d1d26a54fb7d1c101b60ef9dd6)\n",
       "        ;\n",
       "\n",
       "        \n",
       "    \n",
       "    \n",
       "            var circle_marker_6c6f54254599a18c6d89aceade8e1556 = L.circleMarker(\n",
       "                [5.0, -59.0],\n",
       "                {&quot;bubblingMouseEvents&quot;: true, &quot;color&quot;: &quot;green&quot;, &quot;dashArray&quot;: null, &quot;dashOffset&quot;: null, &quot;fill&quot;: true, &quot;fillColor&quot;: &quot;green&quot;, &quot;fillOpacity&quot;: 0.2, &quot;fillRule&quot;: &quot;evenodd&quot;, &quot;lineCap&quot;: &quot;round&quot;, &quot;lineJoin&quot;: &quot;round&quot;, &quot;opacity&quot;: 1.0, &quot;radius&quot;: 1.4406180819073164, &quot;stroke&quot;: true, &quot;weight&quot;: 3}\n",
       "            ).addTo(map_d0ccc94c164fc7c9d30f0ae90e1f9ac5);\n",
       "        \n",
       "    \n",
       "        var popup_0e3fd955f13046e5b5c4b2e766a413c0 = L.popup({\n",
       "  &quot;maxWidth&quot;: &quot;100%&quot;,\n",
       "});\n",
       "\n",
       "        \n",
       "            \n",
       "                var html_07c5a514ff4d7332d6188db83e5ac48f = $(`&lt;div id=&quot;html_07c5a514ff4d7332d6188db83e5ac48f&quot; style=&quot;width: 100.0%; height: 100.0%;&quot;&gt;Guyana&lt;/div&gt;`)[0];\n",
       "                popup_0e3fd955f13046e5b5c4b2e766a413c0.setContent(html_07c5a514ff4d7332d6188db83e5ac48f);\n",
       "            \n",
       "        \n",
       "\n",
       "        circle_marker_6c6f54254599a18c6d89aceade8e1556.bindPopup(popup_0e3fd955f13046e5b5c4b2e766a413c0)\n",
       "        ;\n",
       "\n",
       "        \n",
       "    \n",
       "    \n",
       "            var circle_marker_30e2bca9fce5f3235838ef6a0444e9b8 = L.circleMarker(\n",
       "                [15.0, -86.5],\n",
       "                {&quot;bubblingMouseEvents&quot;: true, &quot;color&quot;: &quot;green&quot;, &quot;dashArray&quot;: null, &quot;dashOffset&quot;: null, &quot;fill&quot;: true, &quot;fillColor&quot;: &quot;green&quot;, &quot;fillOpacity&quot;: 0.2, &quot;fillRule&quot;: &quot;evenodd&quot;, &quot;lineCap&quot;: &quot;round&quot;, &quot;lineJoin&quot;: &quot;round&quot;, &quot;opacity&quot;: 1.0, &quot;radius&quot;: 6.605402401670616, &quot;stroke&quot;: true, &quot;weight&quot;: 3}\n",
       "            ).addTo(map_d0ccc94c164fc7c9d30f0ae90e1f9ac5);\n",
       "        \n",
       "    \n",
       "        var popup_332ae143801128ace09276b5aebe7a07 = L.popup({\n",
       "  &quot;maxWidth&quot;: &quot;100%&quot;,\n",
       "});\n",
       "\n",
       "        \n",
       "            \n",
       "                var html_1d900f687fd1e659e0f57c59274a87ca = $(`&lt;div id=&quot;html_1d900f687fd1e659e0f57c59274a87ca&quot; style=&quot;width: 100.0%; height: 100.0%;&quot;&gt;Honduras&lt;/div&gt;`)[0];\n",
       "                popup_332ae143801128ace09276b5aebe7a07.setContent(html_1d900f687fd1e659e0f57c59274a87ca);\n",
       "            \n",
       "        \n",
       "\n",
       "        circle_marker_30e2bca9fce5f3235838ef6a0444e9b8.bindPopup(popup_332ae143801128ace09276b5aebe7a07)\n",
       "        ;\n",
       "\n",
       "        \n",
       "    \n",
       "    \n",
       "            var circle_marker_b467d751b511c7f017042f354d1a44be = L.circleMarker(\n",
       "                [45.16667, 15.5],\n",
       "                {&quot;bubblingMouseEvents&quot;: true, &quot;color&quot;: &quot;black&quot;, &quot;dashArray&quot;: null, &quot;dashOffset&quot;: null, &quot;fill&quot;: true, &quot;fillColor&quot;: &quot;black&quot;, &quot;fillOpacity&quot;: 0.2, &quot;fillRule&quot;: &quot;evenodd&quot;, &quot;lineCap&quot;: &quot;round&quot;, &quot;lineJoin&quot;: &quot;round&quot;, &quot;opacity&quot;: 1.0, &quot;stroke&quot;: true, &quot;weight&quot;: 3}\n",
       "            ).addTo(map_d0ccc94c164fc7c9d30f0ae90e1f9ac5);\n",
       "        \n",
       "    \n",
       "        var popup_85d5b64c37f8f5420f9d527ab3a9d019 = L.popup({\n",
       "  &quot;maxWidth&quot;: &quot;100%&quot;,\n",
       "});\n",
       "\n",
       "        \n",
       "            \n",
       "                var html_6e8060b8ebc1eee55036905ae02fd903 = $(`&lt;div id=&quot;html_6e8060b8ebc1eee55036905ae02fd903&quot; style=&quot;width: 100.0%; height: 100.0%;&quot;&gt;Croatia&lt;/div&gt;`)[0];\n",
       "                popup_85d5b64c37f8f5420f9d527ab3a9d019.setContent(html_6e8060b8ebc1eee55036905ae02fd903);\n",
       "            \n",
       "        \n",
       "\n",
       "        circle_marker_b467d751b511c7f017042f354d1a44be.bindPopup(popup_85d5b64c37f8f5420f9d527ab3a9d019)\n",
       "        ;\n",
       "\n",
       "        \n",
       "    \n",
       "    \n",
       "            var circle_marker_606feb9916d1070c0cbdb6eafd1fab43 = L.circleMarker(\n",
       "                [19.0, -72.41667],\n",
       "                {&quot;bubblingMouseEvents&quot;: true, &quot;color&quot;: &quot;green&quot;, &quot;dashArray&quot;: null, &quot;dashOffset&quot;: null, &quot;fill&quot;: true, &quot;fillColor&quot;: &quot;green&quot;, &quot;fillOpacity&quot;: 0.2, &quot;fillRule&quot;: &quot;evenodd&quot;, &quot;lineCap&quot;: &quot;round&quot;, &quot;lineJoin&quot;: &quot;round&quot;, &quot;opacity&quot;: 1.0, &quot;radius&quot;: 13.979752671774591, &quot;stroke&quot;: true, &quot;weight&quot;: 3}\n",
       "            ).addTo(map_d0ccc94c164fc7c9d30f0ae90e1f9ac5);\n",
       "        \n",
       "    \n",
       "        var popup_84a94ac8dc5c4a49b9481fde5e7efed0 = L.popup({\n",
       "  &quot;maxWidth&quot;: &quot;100%&quot;,\n",
       "});\n",
       "\n",
       "        \n",
       "            \n",
       "                var html_7534b2d581d2e97430685fc7e94e0421 = $(`&lt;div id=&quot;html_7534b2d581d2e97430685fc7e94e0421&quot; style=&quot;width: 100.0%; height: 100.0%;&quot;&gt;Haiti&lt;/div&gt;`)[0];\n",
       "                popup_84a94ac8dc5c4a49b9481fde5e7efed0.setContent(html_7534b2d581d2e97430685fc7e94e0421);\n",
       "            \n",
       "        \n",
       "\n",
       "        circle_marker_606feb9916d1070c0cbdb6eafd1fab43.bindPopup(popup_84a94ac8dc5c4a49b9481fde5e7efed0)\n",
       "        ;\n",
       "\n",
       "        \n",
       "    \n",
       "    \n",
       "            var circle_marker_19230140302de603b90074b28e48555d = L.circleMarker(\n",
       "                [47.0, 20.0],\n",
       "                {&quot;bubblingMouseEvents&quot;: true, &quot;color&quot;: &quot;black&quot;, &quot;dashArray&quot;: null, &quot;dashOffset&quot;: null, &quot;fill&quot;: true, &quot;fillColor&quot;: &quot;black&quot;, &quot;fillOpacity&quot;: 0.2, &quot;fillRule&quot;: &quot;evenodd&quot;, &quot;lineCap&quot;: &quot;round&quot;, &quot;lineJoin&quot;: &quot;round&quot;, &quot;opacity&quot;: 1.0, &quot;radius&quot;: 0.39750349369739346, &quot;stroke&quot;: true, &quot;weight&quot;: 3}\n",
       "            ).addTo(map_d0ccc94c164fc7c9d30f0ae90e1f9ac5);\n",
       "        \n",
       "    \n",
       "        var popup_1821fc3ac758afc5d99448033be28251 = L.popup({\n",
       "  &quot;maxWidth&quot;: &quot;100%&quot;,\n",
       "});\n",
       "\n",
       "        \n",
       "            \n",
       "                var html_b9bb393a2dcf82e894f3afa922ce9bc4 = $(`&lt;div id=&quot;html_b9bb393a2dcf82e894f3afa922ce9bc4&quot; style=&quot;width: 100.0%; height: 100.0%;&quot;&gt;Hungary&lt;/div&gt;`)[0];\n",
       "                popup_1821fc3ac758afc5d99448033be28251.setContent(html_b9bb393a2dcf82e894f3afa922ce9bc4);\n",
       "            \n",
       "        \n",
       "\n",
       "        circle_marker_19230140302de603b90074b28e48555d.bindPopup(popup_1821fc3ac758afc5d99448033be28251)\n",
       "        ;\n",
       "\n",
       "        \n",
       "    \n",
       "    \n",
       "            var circle_marker_7896397d4b32f466d2e1911c04e372a3 = L.circleMarker(\n",
       "                [-5.0, 120.0],\n",
       "                {&quot;bubblingMouseEvents&quot;: true, &quot;color&quot;: &quot;red&quot;, &quot;dashArray&quot;: null, &quot;dashOffset&quot;: null, &quot;fill&quot;: true, &quot;fillColor&quot;: &quot;red&quot;, &quot;fillOpacity&quot;: 0.2, &quot;fillRule&quot;: &quot;evenodd&quot;, &quot;lineCap&quot;: &quot;round&quot;, &quot;lineJoin&quot;: &quot;round&quot;, &quot;opacity&quot;: 1.0, &quot;radius&quot;: 35.313556272281424, &quot;stroke&quot;: true, &quot;weight&quot;: 3}\n",
       "            ).addTo(map_d0ccc94c164fc7c9d30f0ae90e1f9ac5);\n",
       "        \n",
       "    \n",
       "        var popup_3e6550806171d92b1db224b6d18ec763 = L.popup({\n",
       "  &quot;maxWidth&quot;: &quot;100%&quot;,\n",
       "});\n",
       "\n",
       "        \n",
       "            \n",
       "                var html_01efd97e6a0c061eccd864968088dc36 = $(`&lt;div id=&quot;html_01efd97e6a0c061eccd864968088dc36&quot; style=&quot;width: 100.0%; height: 100.0%;&quot;&gt;Indonesia&lt;/div&gt;`)[0];\n",
       "                popup_3e6550806171d92b1db224b6d18ec763.setContent(html_01efd97e6a0c061eccd864968088dc36);\n",
       "            \n",
       "        \n",
       "\n",
       "        circle_marker_7896397d4b32f466d2e1911c04e372a3.bindPopup(popup_3e6550806171d92b1db224b6d18ec763)\n",
       "        ;\n",
       "\n",
       "        \n",
       "    \n",
       "    \n",
       "            var circle_marker_1d3abeb690a5e3e510095f099c13b972 = L.circleMarker(\n",
       "                [22.0, 79.0],\n",
       "                {&quot;bubblingMouseEvents&quot;: true, &quot;color&quot;: &quot;red&quot;, &quot;dashArray&quot;: null, &quot;dashOffset&quot;: null, &quot;fill&quot;: true, &quot;fillColor&quot;: &quot;red&quot;, &quot;fillOpacity&quot;: 0.2, &quot;fillRule&quot;: &quot;evenodd&quot;, &quot;lineCap&quot;: &quot;round&quot;, &quot;lineJoin&quot;: &quot;round&quot;, &quot;opacity&quot;: 1.0, &quot;radius&quot;: 96.35271911284168, &quot;stroke&quot;: true, &quot;weight&quot;: 3}\n",
       "            ).addTo(map_d0ccc94c164fc7c9d30f0ae90e1f9ac5);\n",
       "        \n",
       "    \n",
       "        var popup_98db2ec71483e776171bb8ac23c54a40 = L.popup({\n",
       "  &quot;maxWidth&quot;: &quot;100%&quot;,\n",
       "});\n",
       "\n",
       "        \n",
       "            \n",
       "                var html_0174e5c83e5ab2852ab4ebe8a73f47c6 = $(`&lt;div id=&quot;html_0174e5c83e5ab2852ab4ebe8a73f47c6&quot; style=&quot;width: 100.0%; height: 100.0%;&quot;&gt;India&lt;/div&gt;`)[0];\n",
       "                popup_98db2ec71483e776171bb8ac23c54a40.setContent(html_0174e5c83e5ab2852ab4ebe8a73f47c6);\n",
       "            \n",
       "        \n",
       "\n",
       "        circle_marker_1d3abeb690a5e3e510095f099c13b972.bindPopup(popup_98db2ec71483e776171bb8ac23c54a40)\n",
       "        ;\n",
       "\n",
       "        \n",
       "    \n",
       "    \n",
       "            var circle_marker_add70e10c66858dee138581398bea744 = L.circleMarker(\n",
       "                [53.0, -8.0],\n",
       "                {&quot;bubblingMouseEvents&quot;: true, &quot;color&quot;: &quot;black&quot;, &quot;dashArray&quot;: null, &quot;dashOffset&quot;: null, &quot;fill&quot;: true, &quot;fillColor&quot;: &quot;black&quot;, &quot;fillOpacity&quot;: 0.2, &quot;fillRule&quot;: &quot;evenodd&quot;, &quot;lineCap&quot;: &quot;round&quot;, &quot;lineJoin&quot;: &quot;round&quot;, &quot;opacity&quot;: 1.0, &quot;radius&quot;: 0.7224270824013612, &quot;stroke&quot;: true, &quot;weight&quot;: 3}\n",
       "            ).addTo(map_d0ccc94c164fc7c9d30f0ae90e1f9ac5);\n",
       "        \n",
       "    \n",
       "        var popup_168801dab0c0b6f4ecde9259a43fb071 = L.popup({\n",
       "  &quot;maxWidth&quot;: &quot;100%&quot;,\n",
       "});\n",
       "\n",
       "        \n",
       "            \n",
       "                var html_7df452158d27e59658fd7302a4bd119e = $(`&lt;div id=&quot;html_7df452158d27e59658fd7302a4bd119e&quot; style=&quot;width: 100.0%; height: 100.0%;&quot;&gt;Ireland&lt;/div&gt;`)[0];\n",
       "                popup_168801dab0c0b6f4ecde9259a43fb071.setContent(html_7df452158d27e59658fd7302a4bd119e);\n",
       "            \n",
       "        \n",
       "\n",
       "        circle_marker_add70e10c66858dee138581398bea744.bindPopup(popup_168801dab0c0b6f4ecde9259a43fb071)\n",
       "        ;\n",
       "\n",
       "        \n",
       "    \n",
       "    \n",
       "            var circle_marker_c33b482446e5f2ad7cfbb8e7096a08ef = L.circleMarker(\n",
       "                [32.0, 53.0],\n",
       "                {&quot;bubblingMouseEvents&quot;: true, &quot;color&quot;: &quot;red&quot;, &quot;dashArray&quot;: null, &quot;dashOffset&quot;: null, &quot;fill&quot;: true, &quot;fillColor&quot;: &quot;red&quot;, &quot;fillOpacity&quot;: 0.2, &quot;fillRule&quot;: &quot;evenodd&quot;, &quot;lineCap&quot;: &quot;round&quot;, &quot;lineJoin&quot;: &quot;round&quot;, &quot;opacity&quot;: 1.0, &quot;radius&quot;: 5.834814195302852, &quot;stroke&quot;: true, &quot;weight&quot;: 3}\n",
       "            ).addTo(map_d0ccc94c164fc7c9d30f0ae90e1f9ac5);\n",
       "        \n",
       "    \n",
       "        var popup_61fd733d5bf2068e835f92135e58aa6a = L.popup({\n",
       "  &quot;maxWidth&quot;: &quot;100%&quot;,\n",
       "});\n",
       "\n",
       "        \n",
       "            \n",
       "                var html_02f09452e21ed5460066a4a6a3d5eb0a = $(`&lt;div id=&quot;html_02f09452e21ed5460066a4a6a3d5eb0a&quot; style=&quot;width: 100.0%; height: 100.0%;&quot;&gt;Iran&lt;/div&gt;`)[0];\n",
       "                popup_61fd733d5bf2068e835f92135e58aa6a.setContent(html_02f09452e21ed5460066a4a6a3d5eb0a);\n",
       "            \n",
       "        \n",
       "\n",
       "        circle_marker_c33b482446e5f2ad7cfbb8e7096a08ef.bindPopup(popup_61fd733d5bf2068e835f92135e58aa6a)\n",
       "        ;\n",
       "\n",
       "        \n",
       "    \n",
       "    \n",
       "            var circle_marker_03611ab12f8c30201a127310351386aa = L.circleMarker(\n",
       "                [33.0, 44.0],\n",
       "                {&quot;bubblingMouseEvents&quot;: true, &quot;color&quot;: &quot;red&quot;, &quot;dashArray&quot;: null, &quot;dashOffset&quot;: null, &quot;fill&quot;: true, &quot;fillColor&quot;: &quot;red&quot;, &quot;fillOpacity&quot;: 0.2, &quot;fillRule&quot;: &quot;evenodd&quot;, &quot;lineCap&quot;: &quot;round&quot;, &quot;lineJoin&quot;: &quot;round&quot;, &quot;opacity&quot;: 1.0, &quot;radius&quot;: 6.084127448138132, &quot;stroke&quot;: true, &quot;weight&quot;: 3}\n",
       "            ).addTo(map_d0ccc94c164fc7c9d30f0ae90e1f9ac5);\n",
       "        \n",
       "    \n",
       "        var popup_0fb93e2d9b74542a0dbde31f38098cf0 = L.popup({\n",
       "  &quot;maxWidth&quot;: &quot;100%&quot;,\n",
       "});\n",
       "\n",
       "        \n",
       "            \n",
       "                var html_2b230e2a86b8240c6f417dcbcab567fc = $(`&lt;div id=&quot;html_2b230e2a86b8240c6f417dcbcab567fc&quot; style=&quot;width: 100.0%; height: 100.0%;&quot;&gt;Iraq&lt;/div&gt;`)[0];\n",
       "                popup_0fb93e2d9b74542a0dbde31f38098cf0.setContent(html_2b230e2a86b8240c6f417dcbcab567fc);\n",
       "            \n",
       "        \n",
       "\n",
       "        circle_marker_03611ab12f8c30201a127310351386aa.bindPopup(popup_0fb93e2d9b74542a0dbde31f38098cf0)\n",
       "        ;\n",
       "\n",
       "        \n",
       "    \n",
       "    \n",
       "            var circle_marker_8578ff78e961b55b455c2b4c77cc2906 = L.circleMarker(\n",
       "                [31.5, 34.75],\n",
       "                {&quot;bubblingMouseEvents&quot;: true, &quot;color&quot;: &quot;red&quot;, &quot;dashArray&quot;: null, &quot;dashOffset&quot;: null, &quot;fill&quot;: true, &quot;fillColor&quot;: &quot;red&quot;, &quot;fillOpacity&quot;: 0.2, &quot;fillRule&quot;: &quot;evenodd&quot;, &quot;lineCap&quot;: &quot;round&quot;, &quot;lineJoin&quot;: &quot;round&quot;, &quot;opacity&quot;: 1.0, &quot;radius&quot;: 0.9549814945354589, &quot;stroke&quot;: true, &quot;weight&quot;: 3}\n",
       "            ).addTo(map_d0ccc94c164fc7c9d30f0ae90e1f9ac5);\n",
       "        \n",
       "    \n",
       "        var popup_0b34063c24457dc801d22b48303add2b = L.popup({\n",
       "  &quot;maxWidth&quot;: &quot;100%&quot;,\n",
       "});\n",
       "\n",
       "        \n",
       "            \n",
       "                var html_aa870602006284f58e633fca270d57e1 = $(`&lt;div id=&quot;html_aa870602006284f58e633fca270d57e1&quot; style=&quot;width: 100.0%; height: 100.0%;&quot;&gt;Israel&lt;/div&gt;`)[0];\n",
       "                popup_0b34063c24457dc801d22b48303add2b.setContent(html_aa870602006284f58e633fca270d57e1);\n",
       "            \n",
       "        \n",
       "\n",
       "        circle_marker_8578ff78e961b55b455c2b4c77cc2906.bindPopup(popup_0b34063c24457dc801d22b48303add2b)\n",
       "        ;\n",
       "\n",
       "        \n",
       "    \n",
       "    \n",
       "            var circle_marker_bb070422bfcec2af2155a5071a20ea1f = L.circleMarker(\n",
       "                [42.83333, 12.83333],\n",
       "                {&quot;bubblingMouseEvents&quot;: true, &quot;color&quot;: &quot;black&quot;, &quot;dashArray&quot;: null, &quot;dashOffset&quot;: null, &quot;fill&quot;: true, &quot;fillColor&quot;: &quot;black&quot;, &quot;fillOpacity&quot;: 0.2, &quot;fillRule&quot;: &quot;evenodd&quot;, &quot;lineCap&quot;: &quot;round&quot;, &quot;lineJoin&quot;: &quot;round&quot;, &quot;opacity&quot;: 1.0, &quot;radius&quot;: 5.049074400874107, &quot;stroke&quot;: true, &quot;weight&quot;: 3}\n",
       "            ).addTo(map_d0ccc94c164fc7c9d30f0ae90e1f9ac5);\n",
       "        \n",
       "    \n",
       "        var popup_59bb5c957232713b21899ddbd0e4061b = L.popup({\n",
       "  &quot;maxWidth&quot;: &quot;100%&quot;,\n",
       "});\n",
       "\n",
       "        \n",
       "            \n",
       "                var html_5273dc1de1926c11ec7894257c503a4a = $(`&lt;div id=&quot;html_5273dc1de1926c11ec7894257c503a4a&quot; style=&quot;width: 100.0%; height: 100.0%;&quot;&gt;Italy&lt;/div&gt;`)[0];\n",
       "                popup_59bb5c957232713b21899ddbd0e4061b.setContent(html_5273dc1de1926c11ec7894257c503a4a);\n",
       "            \n",
       "        \n",
       "\n",
       "        circle_marker_bb070422bfcec2af2155a5071a20ea1f.bindPopup(popup_59bb5c957232713b21899ddbd0e4061b)\n",
       "        ;\n",
       "\n",
       "        \n",
       "    \n",
       "    \n",
       "            var circle_marker_41fa0e594f7a5c497f0bc3a2b2e1e1d5 = L.circleMarker(\n",
       "                [18.16667, -77.25],\n",
       "                {&quot;bubblingMouseEvents&quot;: true, &quot;color&quot;: &quot;green&quot;, &quot;dashArray&quot;: null, &quot;dashOffset&quot;: null, &quot;fill&quot;: true, &quot;fillColor&quot;: &quot;green&quot;, &quot;fillOpacity&quot;: 0.2, &quot;fillRule&quot;: &quot;evenodd&quot;, &quot;lineCap&quot;: &quot;round&quot;, &quot;lineJoin&quot;: &quot;round&quot;, &quot;opacity&quot;: 1.0, &quot;radius&quot;: 0.4633573332008104, &quot;stroke&quot;: true, &quot;weight&quot;: 3}\n",
       "            ).addTo(map_d0ccc94c164fc7c9d30f0ae90e1f9ac5);\n",
       "        \n",
       "    \n",
       "        var popup_547200a3d637672dab6062192aaab66a = L.popup({\n",
       "  &quot;maxWidth&quot;: &quot;100%&quot;,\n",
       "});\n",
       "\n",
       "        \n",
       "            \n",
       "                var html_cd105eb166e28aaa14a318b3eb4f467e = $(`&lt;div id=&quot;html_cd105eb166e28aaa14a318b3eb4f467e&quot; style=&quot;width: 100.0%; height: 100.0%;&quot;&gt;Jamaica&lt;/div&gt;`)[0];\n",
       "                popup_547200a3d637672dab6062192aaab66a.setContent(html_cd105eb166e28aaa14a318b3eb4f467e);\n",
       "            \n",
       "        \n",
       "\n",
       "        circle_marker_41fa0e594f7a5c497f0bc3a2b2e1e1d5.bindPopup(popup_547200a3d637672dab6062192aaab66a)\n",
       "        ;\n",
       "\n",
       "        \n",
       "    \n",
       "    \n",
       "            var circle_marker_e83c2a3fd479d53de49a92063155b26e = L.circleMarker(\n",
       "                [31.0, 36.0],\n",
       "                {&quot;bubblingMouseEvents&quot;: true, &quot;color&quot;: &quot;red&quot;, &quot;dashArray&quot;: null, &quot;dashOffset&quot;: null, &quot;fill&quot;: true, &quot;fillColor&quot;: &quot;red&quot;, &quot;fillOpacity&quot;: 0.2, &quot;fillRule&quot;: &quot;evenodd&quot;, &quot;lineCap&quot;: &quot;round&quot;, &quot;lineJoin&quot;: &quot;round&quot;, &quot;opacity&quot;: 1.0, &quot;radius&quot;: 0.4300072242232263, &quot;stroke&quot;: true, &quot;weight&quot;: 3}\n",
       "            ).addTo(map_d0ccc94c164fc7c9d30f0ae90e1f9ac5);\n",
       "        \n",
       "    \n",
       "        var popup_0e266d104e4ebdc0a674f2be7400dacb = L.popup({\n",
       "  &quot;maxWidth&quot;: &quot;100%&quot;,\n",
       "});\n",
       "\n",
       "        \n",
       "            \n",
       "                var html_631e26fc387f5e57e9846c682b1be1b6 = $(`&lt;div id=&quot;html_631e26fc387f5e57e9846c682b1be1b6&quot; style=&quot;width: 100.0%; height: 100.0%;&quot;&gt;Jordan&lt;/div&gt;`)[0];\n",
       "                popup_0e266d104e4ebdc0a674f2be7400dacb.setContent(html_631e26fc387f5e57e9846c682b1be1b6);\n",
       "            \n",
       "        \n",
       "\n",
       "        circle_marker_e83c2a3fd479d53de49a92063155b26e.bindPopup(popup_0e266d104e4ebdc0a674f2be7400dacb)\n",
       "        ;\n",
       "\n",
       "        \n",
       "    \n",
       "    \n",
       "            var circle_marker_47643718e6effc91a39c9bfddcee2cd4 = L.circleMarker(\n",
       "                [35.68536, 139.75309],\n",
       "                {&quot;bubblingMouseEvents&quot;: true, &quot;color&quot;: &quot;red&quot;, &quot;dashArray&quot;: null, &quot;dashOffset&quot;: null, &quot;fill&quot;: true, &quot;fillColor&quot;: &quot;red&quot;, &quot;fillOpacity&quot;: 0.2, &quot;fillRule&quot;: &quot;evenodd&quot;, &quot;lineCap&quot;: &quot;round&quot;, &quot;lineJoin&quot;: &quot;round&quot;, &quot;opacity&quot;: 1.0, &quot;radius&quot;: 3.784269826192565, &quot;stroke&quot;: true, &quot;weight&quot;: 3}\n",
       "            ).addTo(map_d0ccc94c164fc7c9d30f0ae90e1f9ac5);\n",
       "        \n",
       "    \n",
       "        var popup_f18ae37792a93fbd8796526ef25f2fff = L.popup({\n",
       "  &quot;maxWidth&quot;: &quot;100%&quot;,\n",
       "});\n",
       "\n",
       "        \n",
       "            \n",
       "                var html_aff531e49d043f601604b68c8e6c5908 = $(`&lt;div id=&quot;html_aff531e49d043f601604b68c8e6c5908&quot; style=&quot;width: 100.0%; height: 100.0%;&quot;&gt;Japan&lt;/div&gt;`)[0];\n",
       "                popup_f18ae37792a93fbd8796526ef25f2fff.setContent(html_aff531e49d043f601604b68c8e6c5908);\n",
       "            \n",
       "        \n",
       "\n",
       "        circle_marker_47643718e6effc91a39c9bfddcee2cd4.bindPopup(popup_f18ae37792a93fbd8796526ef25f2fff)\n",
       "        ;\n",
       "\n",
       "        \n",
       "    \n",
       "    \n",
       "            var circle_marker_4bb82d0d2886a3811fd745c6f3e47aea = L.circleMarker(\n",
       "                [48.0, 68.0],\n",
       "                {&quot;bubblingMouseEvents&quot;: true, &quot;color&quot;: &quot;red&quot;, &quot;dashArray&quot;: null, &quot;dashOffset&quot;: null, &quot;fill&quot;: true, &quot;fillColor&quot;: &quot;red&quot;, &quot;fillOpacity&quot;: 0.2, &quot;fillRule&quot;: &quot;evenodd&quot;, &quot;lineCap&quot;: &quot;round&quot;, &quot;lineJoin&quot;: &quot;round&quot;, &quot;opacity&quot;: 1.0, &quot;radius&quot;: 0.5571211448310092, &quot;stroke&quot;: true, &quot;weight&quot;: 3}\n",
       "            ).addTo(map_d0ccc94c164fc7c9d30f0ae90e1f9ac5);\n",
       "        \n",
       "    \n",
       "        var popup_56303e937660ec90aa90b367959eb3d1 = L.popup({\n",
       "  &quot;maxWidth&quot;: &quot;100%&quot;,\n",
       "});\n",
       "\n",
       "        \n",
       "            \n",
       "                var html_cffe54265c60f99052e5a0dea177546b = $(`&lt;div id=&quot;html_cffe54265c60f99052e5a0dea177546b&quot; style=&quot;width: 100.0%; height: 100.0%;&quot;&gt;Kazakhstan&lt;/div&gt;`)[0];\n",
       "                popup_56303e937660ec90aa90b367959eb3d1.setContent(html_cffe54265c60f99052e5a0dea177546b);\n",
       "            \n",
       "        \n",
       "\n",
       "        circle_marker_4bb82d0d2886a3811fd745c6f3e47aea.bindPopup(popup_56303e937660ec90aa90b367959eb3d1)\n",
       "        ;\n",
       "\n",
       "        \n",
       "    \n",
       "    \n",
       "            var circle_marker_535fa13b05fc8682d79d727990c3f396 = L.circleMarker(\n",
       "                [1.0, 38.0],\n",
       "                {&quot;bubblingMouseEvents&quot;: true, &quot;color&quot;: &quot;blue&quot;, &quot;dashArray&quot;: null, &quot;dashOffset&quot;: null, &quot;fill&quot;: true, &quot;fillColor&quot;: &quot;blue&quot;, &quot;fillOpacity&quot;: 0.2, &quot;fillRule&quot;: &quot;evenodd&quot;, &quot;lineCap&quot;: &quot;round&quot;, &quot;lineJoin&quot;: &quot;round&quot;, &quot;opacity&quot;: 1.0, &quot;radius&quot;: 24.088125640567295, &quot;stroke&quot;: true, &quot;weight&quot;: 3}\n",
       "            ).addTo(map_d0ccc94c164fc7c9d30f0ae90e1f9ac5);\n",
       "        \n",
       "    \n",
       "        var popup_9f67268da937b95ae4373e7f9207f9d5 = L.popup({\n",
       "  &quot;maxWidth&quot;: &quot;100%&quot;,\n",
       "});\n",
       "\n",
       "        \n",
       "            \n",
       "                var html_d1a8f87ecb31fd91398312760413d7be = $(`&lt;div id=&quot;html_d1a8f87ecb31fd91398312760413d7be&quot; style=&quot;width: 100.0%; height: 100.0%;&quot;&gt;Kenya&lt;/div&gt;`)[0];\n",
       "                popup_9f67268da937b95ae4373e7f9207f9d5.setContent(html_d1a8f87ecb31fd91398312760413d7be);\n",
       "            \n",
       "        \n",
       "\n",
       "        circle_marker_535fa13b05fc8682d79d727990c3f396.bindPopup(popup_9f67268da937b95ae4373e7f9207f9d5)\n",
       "        ;\n",
       "\n",
       "        \n",
       "    \n",
       "    \n",
       "            var circle_marker_afe22acbf9739ac5dee36406824ee224 = L.circleMarker(\n",
       "                [41.5, 75.0],\n",
       "                {&quot;bubblingMouseEvents&quot;: true, &quot;color&quot;: &quot;red&quot;, &quot;dashArray&quot;: null, &quot;dashOffset&quot;: null, &quot;fill&quot;: true, &quot;fillColor&quot;: &quot;red&quot;, &quot;fillOpacity&quot;: 0.2, &quot;fillRule&quot;: &quot;evenodd&quot;, &quot;lineCap&quot;: &quot;round&quot;, &quot;lineJoin&quot;: &quot;round&quot;, &quot;opacity&quot;: 1.0, &quot;radius&quot;: 2.9697977196085015, &quot;stroke&quot;: true, &quot;weight&quot;: 3}\n",
       "            ).addTo(map_d0ccc94c164fc7c9d30f0ae90e1f9ac5);\n",
       "        \n",
       "    \n",
       "        var popup_5c9d2993ef28eade8dac6d7ba2f5e662 = L.popup({\n",
       "  &quot;maxWidth&quot;: &quot;100%&quot;,\n",
       "});\n",
       "\n",
       "        \n",
       "            \n",
       "                var html_2c79a02580bf330412fcb41c0cf8d038 = $(`&lt;div id=&quot;html_2c79a02580bf330412fcb41c0cf8d038&quot; style=&quot;width: 100.0%; height: 100.0%;&quot;&gt;Kyrgyz Republic&lt;/div&gt;`)[0];\n",
       "                popup_5c9d2993ef28eade8dac6d7ba2f5e662.setContent(html_2c79a02580bf330412fcb41c0cf8d038);\n",
       "            \n",
       "        \n",
       "\n",
       "        circle_marker_afe22acbf9739ac5dee36406824ee224.bindPopup(popup_5c9d2993ef28eade8dac6d7ba2f5e662)\n",
       "        ;\n",
       "\n",
       "        \n",
       "    \n",
       "    \n",
       "            var circle_marker_d5e1ea41d49dbca83fdeb1fa19ba29e3 = L.circleMarker(\n",
       "                [13.0, 105.0],\n",
       "                {&quot;bubblingMouseEvents&quot;: true, &quot;color&quot;: &quot;red&quot;, &quot;dashArray&quot;: null, &quot;dashOffset&quot;: null, &quot;fill&quot;: true, &quot;fillColor&quot;: &quot;red&quot;, &quot;fillOpacity&quot;: 0.2, &quot;fillRule&quot;: &quot;evenodd&quot;, &quot;lineCap&quot;: &quot;round&quot;, &quot;lineJoin&quot;: &quot;round&quot;, &quot;opacity&quot;: 1.0, &quot;radius&quot;: 6.766458594858778, &quot;stroke&quot;: true, &quot;weight&quot;: 3}\n",
       "            ).addTo(map_d0ccc94c164fc7c9d30f0ae90e1f9ac5);\n",
       "        \n",
       "    \n",
       "        var popup_12b84231d27494176c37a688838c2219 = L.popup({\n",
       "  &quot;maxWidth&quot;: &quot;100%&quot;,\n",
       "});\n",
       "\n",
       "        \n",
       "            \n",
       "                var html_828528da8e4c040acd4397e96328dc43 = $(`&lt;div id=&quot;html_828528da8e4c040acd4397e96328dc43&quot; style=&quot;width: 100.0%; height: 100.0%;&quot;&gt;Cambodia&lt;/div&gt;`)[0];\n",
       "                popup_12b84231d27494176c37a688838c2219.setContent(html_828528da8e4c040acd4397e96328dc43);\n",
       "            \n",
       "        \n",
       "\n",
       "        circle_marker_d5e1ea41d49dbca83fdeb1fa19ba29e3.bindPopup(popup_12b84231d27494176c37a688838c2219)\n",
       "        ;\n",
       "\n",
       "        \n",
       "    \n",
       "    \n",
       "            var circle_marker_0e7c5cb8c99ae73f72f9d84635311de1 = L.circleMarker(\n",
       "                [18.0, 105.0],\n",
       "                {&quot;bubblingMouseEvents&quot;: true, &quot;color&quot;: &quot;red&quot;, &quot;dashArray&quot;: null, &quot;dashOffset&quot;: null, &quot;fill&quot;: true, &quot;fillColor&quot;: &quot;red&quot;, &quot;fillOpacity&quot;: 0.2, &quot;fillRule&quot;: &quot;evenodd&quot;, &quot;lineCap&quot;: &quot;round&quot;, &quot;lineJoin&quot;: &quot;round&quot;, &quot;opacity&quot;: 1.0, &quot;radius&quot;: 7.758371982276796, &quot;stroke&quot;: true, &quot;weight&quot;: 3}\n",
       "            ).addTo(map_d0ccc94c164fc7c9d30f0ae90e1f9ac5);\n",
       "        \n",
       "    \n",
       "        var popup_8985197a33c253c4448c354b74e377eb = L.popup({\n",
       "  &quot;maxWidth&quot;: &quot;100%&quot;,\n",
       "});\n",
       "\n",
       "        \n",
       "            \n",
       "                var html_f7da86c539eef216b4d64eada8ab3c75 = $(`&lt;div id=&quot;html_f7da86c539eef216b4d64eada8ab3c75&quot; style=&quot;width: 100.0%; height: 100.0%;&quot;&gt;Lao&lt;/div&gt;`)[0];\n",
       "                popup_8985197a33c253c4448c354b74e377eb.setContent(html_f7da86c539eef216b4d64eada8ab3c75);\n",
       "            \n",
       "        \n",
       "\n",
       "        circle_marker_0e7c5cb8c99ae73f72f9d84635311de1.bindPopup(popup_8985197a33c253c4448c354b74e377eb)\n",
       "        ;\n",
       "\n",
       "        \n",
       "    \n",
       "    \n",
       "            var circle_marker_709fef770aa804a734197c4760e85c40 = L.circleMarker(\n",
       "                [6.5, -9.5],\n",
       "                {&quot;bubblingMouseEvents&quot;: true, &quot;color&quot;: &quot;blue&quot;, &quot;dashArray&quot;: null, &quot;dashOffset&quot;: null, &quot;fill&quot;: true, &quot;fillColor&quot;: &quot;blue&quot;, &quot;fillOpacity&quot;: 0.2, &quot;fillRule&quot;: &quot;evenodd&quot;, &quot;lineCap&quot;: &quot;round&quot;, &quot;lineJoin&quot;: &quot;round&quot;, &quot;opacity&quot;: 1.0, &quot;radius&quot;: 10.185772240421114, &quot;stroke&quot;: true, &quot;weight&quot;: 3}\n",
       "            ).addTo(map_d0ccc94c164fc7c9d30f0ae90e1f9ac5);\n",
       "        \n",
       "    \n",
       "        var popup_95ed4af5f8a9d9ee547d9863c54f32a0 = L.popup({\n",
       "  &quot;maxWidth&quot;: &quot;100%&quot;,\n",
       "});\n",
       "\n",
       "        \n",
       "            \n",
       "                var html_3d1dce0327e893fe4b664ded486242b4 = $(`&lt;div id=&quot;html_3d1dce0327e893fe4b664ded486242b4&quot; style=&quot;width: 100.0%; height: 100.0%;&quot;&gt;Liberia&lt;/div&gt;`)[0];\n",
       "                popup_95ed4af5f8a9d9ee547d9863c54f32a0.setContent(html_3d1dce0327e893fe4b664ded486242b4);\n",
       "            \n",
       "        \n",
       "\n",
       "        circle_marker_709fef770aa804a734197c4760e85c40.bindPopup(popup_95ed4af5f8a9d9ee547d9863c54f32a0)\n",
       "        ;\n",
       "\n",
       "        \n",
       "    \n",
       "    \n",
       "            var circle_marker_8b345dda2f9d1a32b8b2a62ac9215672 = L.circleMarker(\n",
       "                [13.88333, -60.96667],\n",
       "                {&quot;bubblingMouseEvents&quot;: true, &quot;color&quot;: &quot;green&quot;, &quot;dashArray&quot;: null, &quot;dashOffset&quot;: null, &quot;fill&quot;: true, &quot;fillColor&quot;: &quot;green&quot;, &quot;fillOpacity&quot;: 0.2, &quot;fillRule&quot;: &quot;evenodd&quot;, &quot;lineCap&quot;: &quot;round&quot;, &quot;lineJoin&quot;: &quot;round&quot;, &quot;opacity&quot;: 1.0, &quot;radius&quot;: 1.0777350206264305, &quot;stroke&quot;: true, &quot;weight&quot;: 3}\n",
       "            ).addTo(map_d0ccc94c164fc7c9d30f0ae90e1f9ac5);\n",
       "        \n",
       "    \n",
       "        var popup_ce2dc6303fa2201c1055a1f119ae4003 = L.popup({\n",
       "  &quot;maxWidth&quot;: &quot;100%&quot;,\n",
       "});\n",
       "\n",
       "        \n",
       "            \n",
       "                var html_fd3b30dfa908d406f4ea518c608bc467 = $(`&lt;div id=&quot;html_fd3b30dfa908d406f4ea518c608bc467&quot; style=&quot;width: 100.0%; height: 100.0%;&quot;&gt;St. Lucia&lt;/div&gt;`)[0];\n",
       "                popup_ce2dc6303fa2201c1055a1f119ae4003.setContent(html_fd3b30dfa908d406f4ea518c608bc467);\n",
       "            \n",
       "        \n",
       "\n",
       "        circle_marker_8b345dda2f9d1a32b8b2a62ac9215672.bindPopup(popup_ce2dc6303fa2201c1055a1f119ae4003)\n",
       "        ;\n",
       "\n",
       "        \n",
       "    \n",
       "    \n",
       "            var circle_marker_9b19ca2ded7adea31e4a41cdb81b9159 = L.circleMarker(\n",
       "                [7.75, 80.75],\n",
       "                {&quot;bubblingMouseEvents&quot;: true, &quot;color&quot;: &quot;red&quot;, &quot;dashArray&quot;: null, &quot;dashOffset&quot;: null, &quot;fill&quot;: true, &quot;fillColor&quot;: &quot;red&quot;, &quot;fillOpacity&quot;: 0.2, &quot;fillRule&quot;: &quot;evenodd&quot;, &quot;lineCap&quot;: &quot;round&quot;, &quot;lineJoin&quot;: &quot;round&quot;, &quot;opacity&quot;: 1.0, &quot;radius&quot;: 5.148541404016821, &quot;stroke&quot;: true, &quot;weight&quot;: 3}\n",
       "            ).addTo(map_d0ccc94c164fc7c9d30f0ae90e1f9ac5);\n",
       "        \n",
       "    \n",
       "        var popup_fa22d674edff68b427e8b335aeb12c9a = L.popup({\n",
       "  &quot;maxWidth&quot;: &quot;100%&quot;,\n",
       "});\n",
       "\n",
       "        \n",
       "            \n",
       "                var html_2739dbf7a3e434bcac32a3e85250cadb = $(`&lt;div id=&quot;html_2739dbf7a3e434bcac32a3e85250cadb&quot; style=&quot;width: 100.0%; height: 100.0%;&quot;&gt;Sri Lanka&lt;/div&gt;`)[0];\n",
       "                popup_fa22d674edff68b427e8b335aeb12c9a.setContent(html_2739dbf7a3e434bcac32a3e85250cadb);\n",
       "            \n",
       "        \n",
       "\n",
       "        circle_marker_9b19ca2ded7adea31e4a41cdb81b9159.bindPopup(popup_fa22d674edff68b427e8b335aeb12c9a)\n",
       "        ;\n",
       "\n",
       "        \n",
       "    \n",
       "    \n",
       "            var circle_marker_d571f7aadd597b74a8e5d4c53b910df2 = L.circleMarker(\n",
       "                [-29.5, 28.25],\n",
       "                {&quot;bubblingMouseEvents&quot;: true, &quot;color&quot;: &quot;blue&quot;, &quot;dashArray&quot;: null, &quot;dashOffset&quot;: null, &quot;fill&quot;: true, &quot;fillColor&quot;: &quot;blue&quot;, &quot;fillOpacity&quot;: 0.2, &quot;fillRule&quot;: &quot;evenodd&quot;, &quot;lineCap&quot;: &quot;round&quot;, &quot;lineJoin&quot;: &quot;round&quot;, &quot;opacity&quot;: 1.0, &quot;radius&quot;: 5.97591567065859, &quot;stroke&quot;: true, &quot;weight&quot;: 3}\n",
       "            ).addTo(map_d0ccc94c164fc7c9d30f0ae90e1f9ac5);\n",
       "        \n",
       "    \n",
       "        var popup_fa542f82ee233cf4e30e713f9b5014de = L.popup({\n",
       "  &quot;maxWidth&quot;: &quot;100%&quot;,\n",
       "});\n",
       "\n",
       "        \n",
       "            \n",
       "                var html_1fcca1c1f2401dc2e512bc913976d373 = $(`&lt;div id=&quot;html_1fcca1c1f2401dc2e512bc913976d373&quot; style=&quot;width: 100.0%; height: 100.0%;&quot;&gt;Lesotho&lt;/div&gt;`)[0];\n",
       "                popup_fa542f82ee233cf4e30e713f9b5014de.setContent(html_1fcca1c1f2401dc2e512bc913976d373);\n",
       "            \n",
       "        \n",
       "\n",
       "        circle_marker_d571f7aadd597b74a8e5d4c53b910df2.bindPopup(popup_fa542f82ee233cf4e30e713f9b5014de)\n",
       "        ;\n",
       "\n",
       "        \n",
       "    \n",
       "    \n",
       "            var circle_marker_3a5ff6379b73f5074b0896c961a00a73 = L.circleMarker(\n",
       "                [55.41667, 24.0],\n",
       "                {&quot;bubblingMouseEvents&quot;: true, &quot;color&quot;: &quot;black&quot;, &quot;dashArray&quot;: null, &quot;dashOffset&quot;: null, &quot;fill&quot;: true, &quot;fillColor&quot;: &quot;black&quot;, &quot;fillOpacity&quot;: 0.2, &quot;fillRule&quot;: &quot;evenodd&quot;, &quot;lineCap&quot;: &quot;round&quot;, &quot;lineJoin&quot;: &quot;round&quot;, &quot;opacity&quot;: 1.0, &quot;radius&quot;: 0.9084678711420302, &quot;stroke&quot;: true, &quot;weight&quot;: 3}\n",
       "            ).addTo(map_d0ccc94c164fc7c9d30f0ae90e1f9ac5);\n",
       "        \n",
       "    \n",
       "        var popup_34fdad086d62a5cdc42d5e7228fcd5ea = L.popup({\n",
       "  &quot;maxWidth&quot;: &quot;100%&quot;,\n",
       "});\n",
       "\n",
       "        \n",
       "            \n",
       "                var html_0e8e0dc32ca4e76a0733e4639dd8a0f1 = $(`&lt;div id=&quot;html_0e8e0dc32ca4e76a0733e4639dd8a0f1&quot; style=&quot;width: 100.0%; height: 100.0%;&quot;&gt;Lithuania&lt;/div&gt;`)[0];\n",
       "                popup_34fdad086d62a5cdc42d5e7228fcd5ea.setContent(html_0e8e0dc32ca4e76a0733e4639dd8a0f1);\n",
       "            \n",
       "        \n",
       "\n",
       "        circle_marker_3a5ff6379b73f5074b0896c961a00a73.bindPopup(popup_34fdad086d62a5cdc42d5e7228fcd5ea)\n",
       "        ;\n",
       "\n",
       "        \n",
       "    \n",
       "    \n",
       "            var circle_marker_bff6b134ef638853f442c595fb243d4b = L.circleMarker(\n",
       "                [57.0, 25.0],\n",
       "                {&quot;bubblingMouseEvents&quot;: true, &quot;color&quot;: &quot;black&quot;, &quot;dashArray&quot;: null, &quot;dashOffset&quot;: null, &quot;fill&quot;: true, &quot;fillColor&quot;: &quot;black&quot;, &quot;fillOpacity&quot;: 0.2, &quot;fillRule&quot;: &quot;evenodd&quot;, &quot;lineCap&quot;: &quot;round&quot;, &quot;lineJoin&quot;: &quot;round&quot;, &quot;opacity&quot;: 1.0, &quot;radius&quot;: 0.8495129039372447, &quot;stroke&quot;: true, &quot;weight&quot;: 3}\n",
       "            ).addTo(map_d0ccc94c164fc7c9d30f0ae90e1f9ac5);\n",
       "        \n",
       "    \n",
       "        var popup_7dbb51d24191bc213fdf0f10bad12ad6 = L.popup({\n",
       "  &quot;maxWidth&quot;: &quot;100%&quot;,\n",
       "});\n",
       "\n",
       "        \n",
       "            \n",
       "                var html_1134db91c726de5675b4144947548fde = $(`&lt;div id=&quot;html_1134db91c726de5675b4144947548fde&quot; style=&quot;width: 100.0%; height: 100.0%;&quot;&gt;Latvia&lt;/div&gt;`)[0];\n",
       "                popup_7dbb51d24191bc213fdf0f10bad12ad6.setContent(html_1134db91c726de5675b4144947548fde);\n",
       "            \n",
       "        \n",
       "\n",
       "        circle_marker_bff6b134ef638853f442c595fb243d4b.bindPopup(popup_7dbb51d24191bc213fdf0f10bad12ad6)\n",
       "        ;\n",
       "\n",
       "        \n",
       "    \n",
       "    \n",
       "            var circle_marker_b0c4277bf3ca83223d84ec7880bedc65 = L.circleMarker(\n",
       "                [32.0, -6.0],\n",
       "                {&quot;bubblingMouseEvents&quot;: true, &quot;color&quot;: &quot;blue&quot;, &quot;dashArray&quot;: null, &quot;dashOffset&quot;: null, &quot;fill&quot;: true, &quot;fillColor&quot;: &quot;blue&quot;, &quot;fillOpacity&quot;: 0.2, &quot;fillRule&quot;: &quot;evenodd&quot;, &quot;lineCap&quot;: &quot;round&quot;, &quot;lineJoin&quot;: &quot;round&quot;, &quot;opacity&quot;: 1.0, &quot;radius&quot;: 5.143803409376387, &quot;stroke&quot;: true, &quot;weight&quot;: 3}\n",
       "            ).addTo(map_d0ccc94c164fc7c9d30f0ae90e1f9ac5);\n",
       "        \n",
       "    \n",
       "        var popup_3aa4833aa29cdd35ba2967c256d2b62c = L.popup({\n",
       "  &quot;maxWidth&quot;: &quot;100%&quot;,\n",
       "});\n",
       "\n",
       "        \n",
       "            \n",
       "                var html_9906c081921f0abdd8284ed72df784f8 = $(`&lt;div id=&quot;html_9906c081921f0abdd8284ed72df784f8&quot; style=&quot;width: 100.0%; height: 100.0%;&quot;&gt;Morocco&lt;/div&gt;`)[0];\n",
       "                popup_3aa4833aa29cdd35ba2967c256d2b62c.setContent(html_9906c081921f0abdd8284ed72df784f8);\n",
       "            \n",
       "        \n",
       "\n",
       "        circle_marker_b0c4277bf3ca83223d84ec7880bedc65.bindPopup(popup_3aa4833aa29cdd35ba2967c256d2b62c)\n",
       "        ;\n",
       "\n",
       "        \n",
       "    \n",
       "    \n",
       "            var circle_marker_9bf13fc97b61d1fa92784a5021e6c1a3 = L.circleMarker(\n",
       "                [47.25, 28.58333],\n",
       "                {&quot;bubblingMouseEvents&quot;: true, &quot;color&quot;: &quot;black&quot;, &quot;dashArray&quot;: null, &quot;dashOffset&quot;: null, &quot;fill&quot;: true, &quot;fillColor&quot;: &quot;black&quot;, &quot;fillOpacity&quot;: 0.2, &quot;fillRule&quot;: &quot;evenodd&quot;, &quot;lineCap&quot;: &quot;round&quot;, &quot;lineJoin&quot;: &quot;round&quot;, &quot;opacity&quot;: 1.0, &quot;radius&quot;: 0.5469439011777409, &quot;stroke&quot;: true, &quot;weight&quot;: 3}\n",
       "            ).addTo(map_d0ccc94c164fc7c9d30f0ae90e1f9ac5);\n",
       "        \n",
       "    \n",
       "        var popup_07fc93286c1ec6b01b33d678dbce16e6 = L.popup({\n",
       "  &quot;maxWidth&quot;: &quot;100%&quot;,\n",
       "});\n",
       "\n",
       "        \n",
       "            \n",
       "                var html_aeec9c0395c425770ea0df56961f3a59 = $(`&lt;div id=&quot;html_aeec9c0395c425770ea0df56961f3a59&quot; style=&quot;width: 100.0%; height: 100.0%;&quot;&gt;Moldova&lt;/div&gt;`)[0];\n",
       "                popup_07fc93286c1ec6b01b33d678dbce16e6.setContent(html_aeec9c0395c425770ea0df56961f3a59);\n",
       "            \n",
       "        \n",
       "\n",
       "        circle_marker_9bf13fc97b61d1fa92784a5021e6c1a3.bindPopup(popup_07fc93286c1ec6b01b33d678dbce16e6)\n",
       "        ;\n",
       "\n",
       "        \n",
       "    \n",
       "    \n",
       "            var circle_marker_f22602eae2af221df73668610663727c = L.circleMarker(\n",
       "                [-20.0, 47.0],\n",
       "                {&quot;bubblingMouseEvents&quot;: true, &quot;color&quot;: &quot;blue&quot;, &quot;dashArray&quot;: null, &quot;dashOffset&quot;: null, &quot;fill&quot;: true, &quot;fillColor&quot;: &quot;blue&quot;, &quot;fillOpacity&quot;: 0.2, &quot;fillRule&quot;: &quot;evenodd&quot;, &quot;lineCap&quot;: &quot;round&quot;, &quot;lineJoin&quot;: &quot;round&quot;, &quot;opacity&quot;: 1.0, &quot;radius&quot;: 24.295318258386423, &quot;stroke&quot;: true, &quot;weight&quot;: 3}\n",
       "            ).addTo(map_d0ccc94c164fc7c9d30f0ae90e1f9ac5);\n",
       "        \n",
       "    \n",
       "        var popup_842f6f17193c71c7ec546b84ae43a712 = L.popup({\n",
       "  &quot;maxWidth&quot;: &quot;100%&quot;,\n",
       "});\n",
       "\n",
       "        \n",
       "            \n",
       "                var html_50748a9b260bc6c803465d1e6d793d44 = $(`&lt;div id=&quot;html_50748a9b260bc6c803465d1e6d793d44&quot; style=&quot;width: 100.0%; height: 100.0%;&quot;&gt;Madagascar&lt;/div&gt;`)[0];\n",
       "                popup_842f6f17193c71c7ec546b84ae43a712.setContent(html_50748a9b260bc6c803465d1e6d793d44);\n",
       "            \n",
       "        \n",
       "\n",
       "        circle_marker_f22602eae2af221df73668610663727c.bindPopup(popup_842f6f17193c71c7ec546b84ae43a712)\n",
       "        ;\n",
       "\n",
       "        \n",
       "    \n",
       "    \n",
       "            var circle_marker_a0cdd5028651149d68fa828a2cff2548 = L.circleMarker(\n",
       "                [3.2, 73.0],\n",
       "                {&quot;bubblingMouseEvents&quot;: true, &quot;color&quot;: &quot;red&quot;, &quot;dashArray&quot;: null, &quot;dashOffset&quot;: null, &quot;fill&quot;: true, &quot;fillColor&quot;: &quot;red&quot;, &quot;fillOpacity&quot;: 0.2, &quot;fillRule&quot;: &quot;evenodd&quot;, &quot;lineCap&quot;: &quot;round&quot;, &quot;lineJoin&quot;: &quot;round&quot;, &quot;opacity&quot;: 1.0, &quot;radius&quot;: 0.4150917264789626, &quot;stroke&quot;: true, &quot;weight&quot;: 3}\n",
       "            ).addTo(map_d0ccc94c164fc7c9d30f0ae90e1f9ac5);\n",
       "        \n",
       "    \n",
       "        var popup_78ee66c83ffb11376fd67688ea2fdc06 = L.popup({\n",
       "  &quot;maxWidth&quot;: &quot;100%&quot;,\n",
       "});\n",
       "\n",
       "        \n",
       "            \n",
       "                var html_98bc25a075421a6956fc1febca028f2e = $(`&lt;div id=&quot;html_98bc25a075421a6956fc1febca028f2e&quot; style=&quot;width: 100.0%; height: 100.0%;&quot;&gt;Maldives&lt;/div&gt;`)[0];\n",
       "                popup_78ee66c83ffb11376fd67688ea2fdc06.setContent(html_98bc25a075421a6956fc1febca028f2e);\n",
       "            \n",
       "        \n",
       "\n",
       "        circle_marker_a0cdd5028651149d68fa828a2cff2548.bindPopup(popup_78ee66c83ffb11376fd67688ea2fdc06)\n",
       "        ;\n",
       "\n",
       "        \n",
       "    \n",
       "    \n",
       "            var circle_marker_11e21c9bea25ce5989377b45fde9bb2d = L.circleMarker(\n",
       "                [19.42847, -99.12766],\n",
       "                {&quot;bubblingMouseEvents&quot;: true, &quot;color&quot;: &quot;green&quot;, &quot;dashArray&quot;: null, &quot;dashOffset&quot;: null, &quot;fill&quot;: true, &quot;fillColor&quot;: &quot;green&quot;, &quot;fillOpacity&quot;: 0.2, &quot;fillRule&quot;: &quot;evenodd&quot;, &quot;lineCap&quot;: &quot;round&quot;, &quot;lineJoin&quot;: &quot;round&quot;, &quot;opacity&quot;: 1.0, &quot;radius&quot;: 6.116077917408222, &quot;stroke&quot;: true, &quot;weight&quot;: 3}\n",
       "            ).addTo(map_d0ccc94c164fc7c9d30f0ae90e1f9ac5);\n",
       "        \n",
       "    \n",
       "        var popup_c19369ad10b972067073934a9dc46d86 = L.popup({\n",
       "  &quot;maxWidth&quot;: &quot;100%&quot;,\n",
       "});\n",
       "\n",
       "        \n",
       "            \n",
       "                var html_a95922350c5e2b93c4bd6054b49072c9 = $(`&lt;div id=&quot;html_a95922350c5e2b93c4bd6054b49072c9&quot; style=&quot;width: 100.0%; height: 100.0%;&quot;&gt;Mexico&lt;/div&gt;`)[0];\n",
       "                popup_c19369ad10b972067073934a9dc46d86.setContent(html_a95922350c5e2b93c4bd6054b49072c9);\n",
       "            \n",
       "        \n",
       "\n",
       "        circle_marker_11e21c9bea25ce5989377b45fde9bb2d.bindPopup(popup_c19369ad10b972067073934a9dc46d86)\n",
       "        ;\n",
       "\n",
       "        \n",
       "    \n",
       "    \n",
       "            var circle_marker_ac5c438aa770d47144ab84796fb1b213 = L.circleMarker(\n",
       "                [41.66667, 21.75],\n",
       "                {&quot;bubblingMouseEvents&quot;: true, &quot;color&quot;: &quot;black&quot;, &quot;dashArray&quot;: null, &quot;dashOffset&quot;: null, &quot;fill&quot;: true, &quot;fillColor&quot;: &quot;black&quot;, &quot;fillOpacity&quot;: 0.2, &quot;fillRule&quot;: &quot;evenodd&quot;, &quot;lineCap&quot;: &quot;round&quot;, &quot;lineJoin&quot;: &quot;round&quot;, &quot;opacity&quot;: 1.0, &quot;radius&quot;: 0.42959989759002715, &quot;stroke&quot;: true, &quot;weight&quot;: 3}\n",
       "            ).addTo(map_d0ccc94c164fc7c9d30f0ae90e1f9ac5);\n",
       "        \n",
       "    \n",
       "        var popup_156b599b21768078b884c764a9ae33be = L.popup({\n",
       "  &quot;maxWidth&quot;: &quot;100%&quot;,\n",
       "});\n",
       "\n",
       "        \n",
       "            \n",
       "                var html_7dcc43123a3160f7578e2a6bd4bc3eeb = $(`&lt;div id=&quot;html_7dcc43123a3160f7578e2a6bd4bc3eeb&quot; style=&quot;width: 100.0%; height: 100.0%;&quot;&gt;North Macedonia&lt;/div&gt;`)[0];\n",
       "                popup_156b599b21768078b884c764a9ae33be.setContent(html_7dcc43123a3160f7578e2a6bd4bc3eeb);\n",
       "            \n",
       "        \n",
       "\n",
       "        circle_marker_ac5c438aa770d47144ab84796fb1b213.bindPopup(popup_156b599b21768078b884c764a9ae33be)\n",
       "        ;\n",
       "\n",
       "        \n",
       "    \n",
       "    \n",
       "            var circle_marker_089aa7259b873987bb1399ade66dcd7e = L.circleMarker(\n",
       "                [18.0, -2.0],\n",
       "                {&quot;bubblingMouseEvents&quot;: true, &quot;color&quot;: &quot;blue&quot;, &quot;dashArray&quot;: null, &quot;dashOffset&quot;: null, &quot;fill&quot;: true, &quot;fillColor&quot;: &quot;blue&quot;, &quot;fillOpacity&quot;: 0.2, &quot;fillRule&quot;: &quot;evenodd&quot;, &quot;lineCap&quot;: &quot;round&quot;, &quot;lineJoin&quot;: &quot;round&quot;, &quot;opacity&quot;: 1.0, &quot;radius&quot;: 15.570484664876235, &quot;stroke&quot;: true, &quot;weight&quot;: 3}\n",
       "            ).addTo(map_d0ccc94c164fc7c9d30f0ae90e1f9ac5);\n",
       "        \n",
       "    \n",
       "        var popup_db710b96b1abfd9d9a80190f9d644d69 = L.popup({\n",
       "  &quot;maxWidth&quot;: &quot;100%&quot;,\n",
       "});\n",
       "\n",
       "        \n",
       "            \n",
       "                var html_d488afdd43cf2f8779f59a4594951d4f = $(`&lt;div id=&quot;html_d488afdd43cf2f8779f59a4594951d4f&quot; style=&quot;width: 100.0%; height: 100.0%;&quot;&gt;Mali&lt;/div&gt;`)[0];\n",
       "                popup_db710b96b1abfd9d9a80190f9d644d69.setContent(html_d488afdd43cf2f8779f59a4594951d4f);\n",
       "            \n",
       "        \n",
       "\n",
       "        circle_marker_089aa7259b873987bb1399ade66dcd7e.bindPopup(popup_db710b96b1abfd9d9a80190f9d644d69)\n",
       "        ;\n",
       "\n",
       "        \n",
       "    \n",
       "    \n",
       "            var circle_marker_f42a248eabcadf5a1eabddcabcef7390 = L.circleMarker(\n",
       "                [42.75, 19.25],\n",
       "                {&quot;bubblingMouseEvents&quot;: true, &quot;color&quot;: &quot;black&quot;, &quot;dashArray&quot;: null, &quot;dashOffset&quot;: null, &quot;fill&quot;: true, &quot;fillColor&quot;: &quot;black&quot;, &quot;fillOpacity&quot;: 0.2, &quot;fillRule&quot;: &quot;evenodd&quot;, &quot;lineCap&quot;: &quot;round&quot;, &quot;lineJoin&quot;: &quot;round&quot;, &quot;opacity&quot;: 1.0, &quot;radius&quot;: 0.2042802635564556, &quot;stroke&quot;: true, &quot;weight&quot;: 3}\n",
       "            ).addTo(map_d0ccc94c164fc7c9d30f0ae90e1f9ac5);\n",
       "        \n",
       "    \n",
       "        var popup_31ec8c02220e97e237a3847425146de1 = L.popup({\n",
       "  &quot;maxWidth&quot;: &quot;100%&quot;,\n",
       "});\n",
       "\n",
       "        \n",
       "            \n",
       "                var html_44bd734c630998b0a3bb9a429359e25a = $(`&lt;div id=&quot;html_44bd734c630998b0a3bb9a429359e25a&quot; style=&quot;width: 100.0%; height: 100.0%;&quot;&gt;Montenegro&lt;/div&gt;`)[0];\n",
       "                popup_31ec8c02220e97e237a3847425146de1.setContent(html_44bd734c630998b0a3bb9a429359e25a);\n",
       "            \n",
       "        \n",
       "\n",
       "        circle_marker_f42a248eabcadf5a1eabddcabcef7390.bindPopup(popup_31ec8c02220e97e237a3847425146de1)\n",
       "        ;\n",
       "\n",
       "        \n",
       "    \n",
       "    \n",
       "            var circle_marker_2cb2d6d77a019ad0d852abbfbb2574c1 = L.circleMarker(\n",
       "                [-18.25, 35.0],\n",
       "                {&quot;bubblingMouseEvents&quot;: true, &quot;color&quot;: &quot;blue&quot;, &quot;dashArray&quot;: null, &quot;dashOffset&quot;: null, &quot;fill&quot;: true, &quot;fillColor&quot;: &quot;blue&quot;, &quot;fillOpacity&quot;: 0.2, &quot;fillRule&quot;: &quot;evenodd&quot;, &quot;lineCap&quot;: &quot;round&quot;, &quot;lineJoin&quot;: &quot;round&quot;, &quot;opacity&quot;: 1.0, &quot;radius&quot;: 21.32458555367499, &quot;stroke&quot;: true, &quot;weight&quot;: 3}\n",
       "            ).addTo(map_d0ccc94c164fc7c9d30f0ae90e1f9ac5);\n",
       "        \n",
       "    \n",
       "        var popup_39f30cc49850baff2c23975f83404035 = L.popup({\n",
       "  &quot;maxWidth&quot;: &quot;100%&quot;,\n",
       "});\n",
       "\n",
       "        \n",
       "            \n",
       "                var html_549ab144547d711ba5337e5d19923a5b = $(`&lt;div id=&quot;html_549ab144547d711ba5337e5d19923a5b&quot; style=&quot;width: 100.0%; height: 100.0%;&quot;&gt;Mozambique&lt;/div&gt;`)[0];\n",
       "                popup_39f30cc49850baff2c23975f83404035.setContent(html_549ab144547d711ba5337e5d19923a5b);\n",
       "            \n",
       "        \n",
       "\n",
       "        circle_marker_2cb2d6d77a019ad0d852abbfbb2574c1.bindPopup(popup_39f30cc49850baff2c23975f83404035)\n",
       "        ;\n",
       "\n",
       "        \n",
       "    \n",
       "    \n",
       "            var circle_marker_5da12ec033f5bdab291f466b36a687ed = L.circleMarker(\n",
       "                [20.25, -10.5],\n",
       "                {&quot;bubblingMouseEvents&quot;: true, &quot;color&quot;: &quot;blue&quot;, &quot;dashArray&quot;: null, &quot;dashOffset&quot;: null, &quot;fill&quot;: true, &quot;fillColor&quot;: &quot;blue&quot;, &quot;fillOpacity&quot;: 0.2, &quot;fillRule&quot;: &quot;evenodd&quot;, &quot;lineCap&quot;: &quot;round&quot;, &quot;lineJoin&quot;: &quot;round&quot;, &quot;opacity&quot;: 1.0, &quot;radius&quot;: 5.104874523724298, &quot;stroke&quot;: true, &quot;weight&quot;: 3}\n",
       "            ).addTo(map_d0ccc94c164fc7c9d30f0ae90e1f9ac5);\n",
       "        \n",
       "    \n",
       "        var popup_6aefc9188b46d9c29e7d05bbec42d2e7 = L.popup({\n",
       "  &quot;maxWidth&quot;: &quot;100%&quot;,\n",
       "});\n",
       "\n",
       "        \n",
       "            \n",
       "                var html_ad38903fd7a59e39e0f60ccb98533575 = $(`&lt;div id=&quot;html_ad38903fd7a59e39e0f60ccb98533575&quot; style=&quot;width: 100.0%; height: 100.0%;&quot;&gt;Mauritania&lt;/div&gt;`)[0];\n",
       "                popup_6aefc9188b46d9c29e7d05bbec42d2e7.setContent(html_ad38903fd7a59e39e0f60ccb98533575);\n",
       "            \n",
       "        \n",
       "\n",
       "        circle_marker_5da12ec033f5bdab291f466b36a687ed.bindPopup(popup_6aefc9188b46d9c29e7d05bbec42d2e7)\n",
       "        ;\n",
       "\n",
       "        \n",
       "    \n",
       "    \n",
       "            var circle_marker_d32390b5b4e9926f1629e508130e8279 = L.circleMarker(\n",
       "                [-13.5, 34.0],\n",
       "                {&quot;bubblingMouseEvents&quot;: true, &quot;color&quot;: &quot;blue&quot;, &quot;dashArray&quot;: null, &quot;dashOffset&quot;: null, &quot;fill&quot;: true, &quot;fillColor&quot;: &quot;blue&quot;, &quot;fillOpacity&quot;: 0.2, &quot;fillRule&quot;: &quot;evenodd&quot;, &quot;lineCap&quot;: &quot;round&quot;, &quot;lineJoin&quot;: &quot;round&quot;, &quot;opacity&quot;: 1.0, &quot;radius&quot;: 18.27467628792681, &quot;stroke&quot;: true, &quot;weight&quot;: 3}\n",
       "            ).addTo(map_d0ccc94c164fc7c9d30f0ae90e1f9ac5);\n",
       "        \n",
       "    \n",
       "        var popup_494f1b06432ffa2618a601d8138e35ab = L.popup({\n",
       "  &quot;maxWidth&quot;: &quot;100%&quot;,\n",
       "});\n",
       "\n",
       "        \n",
       "            \n",
       "                var html_a6c0ca426bf979ed420b1631d1aceba4 = $(`&lt;div id=&quot;html_a6c0ca426bf979ed420b1631d1aceba4&quot; style=&quot;width: 100.0%; height: 100.0%;&quot;&gt;Malawi&lt;/div&gt;`)[0];\n",
       "                popup_494f1b06432ffa2618a601d8138e35ab.setContent(html_a6c0ca426bf979ed420b1631d1aceba4);\n",
       "            \n",
       "        \n",
       "\n",
       "        circle_marker_d32390b5b4e9926f1629e508130e8279.bindPopup(popup_494f1b06432ffa2618a601d8138e35ab)\n",
       "        ;\n",
       "\n",
       "        \n",
       "    \n",
       "    \n",
       "            var circle_marker_0fcdb0b80f44055fc8c48a1559ae0182 = L.circleMarker(\n",
       "                [2.5, 112.5],\n",
       "                {&quot;bubblingMouseEvents&quot;: true, &quot;color&quot;: &quot;red&quot;, &quot;dashArray&quot;: null, &quot;dashOffset&quot;: null, &quot;fill&quot;: true, &quot;fillColor&quot;: &quot;red&quot;, &quot;fillOpacity&quot;: 0.2, &quot;fillRule&quot;: &quot;evenodd&quot;, &quot;lineCap&quot;: &quot;round&quot;, &quot;lineJoin&quot;: &quot;round&quot;, &quot;opacity&quot;: 1.0, &quot;stroke&quot;: true, &quot;weight&quot;: 3}\n",
       "            ).addTo(map_d0ccc94c164fc7c9d30f0ae90e1f9ac5);\n",
       "        \n",
       "    \n",
       "        var popup_885b3ad012930bc118c189c95c74c763 = L.popup({\n",
       "  &quot;maxWidth&quot;: &quot;100%&quot;,\n",
       "});\n",
       "\n",
       "        \n",
       "            \n",
       "                var html_0e66b0340bc95d262b5c7ab72cc9bbf6 = $(`&lt;div id=&quot;html_0e66b0340bc95d262b5c7ab72cc9bbf6&quot; style=&quot;width: 100.0%; height: 100.0%;&quot;&gt;Malaysia&lt;/div&gt;`)[0];\n",
       "                popup_885b3ad012930bc118c189c95c74c763.setContent(html_0e66b0340bc95d262b5c7ab72cc9bbf6);\n",
       "            \n",
       "        \n",
       "\n",
       "        circle_marker_0fcdb0b80f44055fc8c48a1559ae0182.bindPopup(popup_885b3ad012930bc118c189c95c74c763)\n",
       "        ;\n",
       "\n",
       "        \n",
       "    \n",
       "    \n",
       "            var circle_marker_9666b69f66cd98271079cfc18009cb7a = L.circleMarker(\n",
       "                [-22.0, 17.0],\n",
       "                {&quot;bubblingMouseEvents&quot;: true, &quot;color&quot;: &quot;blue&quot;, &quot;dashArray&quot;: null, &quot;dashOffset&quot;: null, &quot;fill&quot;: true, &quot;fillColor&quot;: &quot;blue&quot;, &quot;fillOpacity&quot;: 0.2, &quot;fillRule&quot;: &quot;evenodd&quot;, &quot;lineCap&quot;: &quot;round&quot;, &quot;lineJoin&quot;: &quot;round&quot;, &quot;opacity&quot;: 1.0, &quot;radius&quot;: 3.9845687128006193, &quot;stroke&quot;: true, &quot;weight&quot;: 3}\n",
       "            ).addTo(map_d0ccc94c164fc7c9d30f0ae90e1f9ac5);\n",
       "        \n",
       "    \n",
       "        var popup_57e079f0e5213567540234656a98a5c2 = L.popup({\n",
       "  &quot;maxWidth&quot;: &quot;100%&quot;,\n",
       "});\n",
       "\n",
       "        \n",
       "            \n",
       "                var html_46cffd9b5bc04de52e11b6fe23202d56 = $(`&lt;div id=&quot;html_46cffd9b5bc04de52e11b6fe23202d56&quot; style=&quot;width: 100.0%; height: 100.0%;&quot;&gt;Namibia&lt;/div&gt;`)[0];\n",
       "                popup_57e079f0e5213567540234656a98a5c2.setContent(html_46cffd9b5bc04de52e11b6fe23202d56);\n",
       "            \n",
       "        \n",
       "\n",
       "        circle_marker_9666b69f66cd98271079cfc18009cb7a.bindPopup(popup_57e079f0e5213567540234656a98a5c2)\n",
       "        ;\n",
       "\n",
       "        \n",
       "    \n",
       "    \n",
       "            var circle_marker_9a293a19be571719c2d259a9c64503bb = L.circleMarker(\n",
       "                [18.0, 9.0],\n",
       "                {&quot;bubblingMouseEvents&quot;: true, &quot;color&quot;: &quot;blue&quot;, &quot;dashArray&quot;: null, &quot;dashOffset&quot;: null, &quot;fill&quot;: true, &quot;fillColor&quot;: &quot;blue&quot;, &quot;fillOpacity&quot;: 0.2, &quot;fillRule&quot;: &quot;evenodd&quot;, &quot;lineCap&quot;: &quot;round&quot;, &quot;lineJoin&quot;: &quot;round&quot;, &quot;opacity&quot;: 1.0, &quot;radius&quot;: 14.624343601209656, &quot;stroke&quot;: true, &quot;weight&quot;: 3}\n",
       "            ).addTo(map_d0ccc94c164fc7c9d30f0ae90e1f9ac5);\n",
       "        \n",
       "    \n",
       "        var popup_ccaed3279176955f46441d28fc40c3bf = L.popup({\n",
       "  &quot;maxWidth&quot;: &quot;100%&quot;,\n",
       "});\n",
       "\n",
       "        \n",
       "            \n",
       "                var html_038afddf86b9a43fc780c662ee765efe = $(`&lt;div id=&quot;html_038afddf86b9a43fc780c662ee765efe&quot; style=&quot;width: 100.0%; height: 100.0%;&quot;&gt;Niger&lt;/div&gt;`)[0];\n",
       "                popup_ccaed3279176955f46441d28fc40c3bf.setContent(html_038afddf86b9a43fc780c662ee765efe);\n",
       "            \n",
       "        \n",
       "\n",
       "        circle_marker_9a293a19be571719c2d259a9c64503bb.bindPopup(popup_ccaed3279176955f46441d28fc40c3bf)\n",
       "        ;\n",
       "\n",
       "        \n",
       "    \n",
       "    \n",
       "            var circle_marker_3994aa2f19b0d8dd58667027a806e99c = L.circleMarker(\n",
       "                [10.0, 8.0],\n",
       "                {&quot;bubblingMouseEvents&quot;: true, &quot;color&quot;: &quot;blue&quot;, &quot;dashArray&quot;: null, &quot;dashOffset&quot;: null, &quot;fill&quot;: true, &quot;fillColor&quot;: &quot;blue&quot;, &quot;fillOpacity&quot;: 0.2, &quot;fillRule&quot;: &quot;evenodd&quot;, &quot;lineCap&quot;: &quot;round&quot;, &quot;lineJoin&quot;: &quot;round&quot;, &quot;opacity&quot;: 1.0, &quot;radius&quot;: 55.94290002503713, &quot;stroke&quot;: true, &quot;weight&quot;: 3}\n",
       "            ).addTo(map_d0ccc94c164fc7c9d30f0ae90e1f9ac5);\n",
       "        \n",
       "    \n",
       "        var popup_d35a7325bfdacd3b513fce9c24de09d2 = L.popup({\n",
       "  &quot;maxWidth&quot;: &quot;100%&quot;,\n",
       "});\n",
       "\n",
       "        \n",
       "            \n",
       "                var html_69cffc8d9440e209108e422343e3e4bc = $(`&lt;div id=&quot;html_69cffc8d9440e209108e422343e3e4bc&quot; style=&quot;width: 100.0%; height: 100.0%;&quot;&gt;Nigeria&lt;/div&gt;`)[0];\n",
       "                popup_d35a7325bfdacd3b513fce9c24de09d2.setContent(html_69cffc8d9440e209108e422343e3e4bc);\n",
       "            \n",
       "        \n",
       "\n",
       "        circle_marker_3994aa2f19b0d8dd58667027a806e99c.bindPopup(popup_d35a7325bfdacd3b513fce9c24de09d2)\n",
       "        ;\n",
       "\n",
       "        \n",
       "    \n",
       "    \n",
       "            var circle_marker_783700d22b06bb0b77cb01a83da0985a = L.circleMarker(\n",
       "                [13.0, -85.0],\n",
       "                {&quot;bubblingMouseEvents&quot;: true, &quot;color&quot;: &quot;green&quot;, &quot;dashArray&quot;: null, &quot;dashOffset&quot;: null, &quot;fill&quot;: true, &quot;fillColor&quot;: &quot;green&quot;, &quot;fillOpacity&quot;: 0.2, &quot;fillRule&quot;: &quot;evenodd&quot;, &quot;lineCap&quot;: &quot;round&quot;, &quot;lineJoin&quot;: &quot;round&quot;, &quot;opacity&quot;: 1.0, &quot;radius&quot;: 3.9789367881465885, &quot;stroke&quot;: true, &quot;weight&quot;: 3}\n",
       "            ).addTo(map_d0ccc94c164fc7c9d30f0ae90e1f9ac5);\n",
       "        \n",
       "    \n",
       "        var popup_d2bb354e2f2a7a214c3be6a9e09cea9b = L.popup({\n",
       "  &quot;maxWidth&quot;: &quot;100%&quot;,\n",
       "});\n",
       "\n",
       "        \n",
       "            \n",
       "                var html_c06347b05a31aa7ea0c4b661cfefac13 = $(`&lt;div id=&quot;html_c06347b05a31aa7ea0c4b661cfefac13&quot; style=&quot;width: 100.0%; height: 100.0%;&quot;&gt;Nicaragua&lt;/div&gt;`)[0];\n",
       "                popup_d2bb354e2f2a7a214c3be6a9e09cea9b.setContent(html_c06347b05a31aa7ea0c4b661cfefac13);\n",
       "            \n",
       "        \n",
       "\n",
       "        circle_marker_783700d22b06bb0b77cb01a83da0985a.bindPopup(popup_d2bb354e2f2a7a214c3be6a9e09cea9b)\n",
       "        ;\n",
       "\n",
       "        \n",
       "    \n",
       "    \n",
       "            var circle_marker_c560bc8cd7247e156a4bcdaa7161ec49 = L.circleMarker(\n",
       "                [52.25, 5.75],\n",
       "                {&quot;bubblingMouseEvents&quot;: true, &quot;color&quot;: &quot;black&quot;, &quot;dashArray&quot;: null, &quot;dashOffset&quot;: null, &quot;fill&quot;: true, &quot;fillColor&quot;: &quot;black&quot;, &quot;fillOpacity&quot;: 0.2, &quot;fillRule&quot;: &quot;evenodd&quot;, &quot;lineCap&quot;: &quot;round&quot;, &quot;lineJoin&quot;: &quot;round&quot;, &quot;opacity&quot;: 1.0, &quot;radius&quot;: 1.363308998513233, &quot;stroke&quot;: true, &quot;weight&quot;: 3}\n",
       "            ).addTo(map_d0ccc94c164fc7c9d30f0ae90e1f9ac5);\n",
       "        \n",
       "    \n",
       "        var popup_c0178cbe7d3b87367c848173fa8e343e = L.popup({\n",
       "  &quot;maxWidth&quot;: &quot;100%&quot;,\n",
       "});\n",
       "\n",
       "        \n",
       "            \n",
       "                var html_3f25a7e033c1a5c1feae403aa13f0a50 = $(`&lt;div id=&quot;html_3f25a7e033c1a5c1feae403aa13f0a50&quot; style=&quot;width: 100.0%; height: 100.0%;&quot;&gt;Netherlands&lt;/div&gt;`)[0];\n",
       "                popup_c0178cbe7d3b87367c848173fa8e343e.setContent(html_3f25a7e033c1a5c1feae403aa13f0a50);\n",
       "            \n",
       "        \n",
       "\n",
       "        circle_marker_c560bc8cd7247e156a4bcdaa7161ec49.bindPopup(popup_c0178cbe7d3b87367c848173fa8e343e)\n",
       "        ;\n",
       "\n",
       "        \n",
       "    \n",
       "    \n",
       "            var circle_marker_06fad1e0da681069ac9712a1406dfc63 = L.circleMarker(\n",
       "                [62.0, 10.0],\n",
       "                {&quot;bubblingMouseEvents&quot;: true, &quot;color&quot;: &quot;black&quot;, &quot;dashArray&quot;: null, &quot;dashOffset&quot;: null, &quot;fill&quot;: true, &quot;fillColor&quot;: &quot;black&quot;, &quot;fillOpacity&quot;: 0.2, &quot;fillRule&quot;: &quot;evenodd&quot;, &quot;lineCap&quot;: &quot;round&quot;, &quot;lineJoin&quot;: &quot;round&quot;, &quot;opacity&quot;: 1.0, &quot;radius&quot;: 1.0207778467534643, &quot;stroke&quot;: true, &quot;weight&quot;: 3}\n",
       "            ).addTo(map_d0ccc94c164fc7c9d30f0ae90e1f9ac5);\n",
       "        \n",
       "    \n",
       "        var popup_5d293900846454560f4a0e9a52279843 = L.popup({\n",
       "  &quot;maxWidth&quot;: &quot;100%&quot;,\n",
       "});\n",
       "\n",
       "        \n",
       "            \n",
       "                var html_e3618e800987acd4292f9598334f6882 = $(`&lt;div id=&quot;html_e3618e800987acd4292f9598334f6882&quot; style=&quot;width: 100.0%; height: 100.0%;&quot;&gt;Norway&lt;/div&gt;`)[0];\n",
       "                popup_5d293900846454560f4a0e9a52279843.setContent(html_e3618e800987acd4292f9598334f6882);\n",
       "            \n",
       "        \n",
       "\n",
       "        circle_marker_06fad1e0da681069ac9712a1406dfc63.bindPopup(popup_5d293900846454560f4a0e9a52279843)\n",
       "        ;\n",
       "\n",
       "        \n",
       "    \n",
       "    \n",
       "            var circle_marker_9e45b7957659f1c5560ee8d702208743 = L.circleMarker(\n",
       "                [28.0, 84.0],\n",
       "                {&quot;bubblingMouseEvents&quot;: true, &quot;color&quot;: &quot;red&quot;, &quot;dashArray&quot;: null, &quot;dashOffset&quot;: null, &quot;fill&quot;: true, &quot;fillColor&quot;: &quot;red&quot;, &quot;fillOpacity&quot;: 0.2, &quot;fillRule&quot;: &quot;evenodd&quot;, &quot;lineCap&quot;: &quot;round&quot;, &quot;lineJoin&quot;: &quot;round&quot;, &quot;opacity&quot;: 1.0, &quot;radius&quot;: 14.287409177153314, &quot;stroke&quot;: true, &quot;weight&quot;: 3}\n",
       "            ).addTo(map_d0ccc94c164fc7c9d30f0ae90e1f9ac5);\n",
       "        \n",
       "    \n",
       "        var popup_97e584d063e4c4ee55d82508cf31c821 = L.popup({\n",
       "  &quot;maxWidth&quot;: &quot;100%&quot;,\n",
       "});\n",
       "\n",
       "        \n",
       "            \n",
       "                var html_656fa2574e3e260f52bb5a810725700d = $(`&lt;div id=&quot;html_656fa2574e3e260f52bb5a810725700d&quot; style=&quot;width: 100.0%; height: 100.0%;&quot;&gt;Nepal&lt;/div&gt;`)[0];\n",
       "                popup_97e584d063e4c4ee55d82508cf31c821.setContent(html_656fa2574e3e260f52bb5a810725700d);\n",
       "            \n",
       "        \n",
       "\n",
       "        circle_marker_9e45b7957659f1c5560ee8d702208743.bindPopup(popup_97e584d063e4c4ee55d82508cf31c821)\n",
       "        ;\n",
       "\n",
       "        \n",
       "    \n",
       "    \n",
       "            var circle_marker_21767610334741a7b7962a49edace130 = L.circleMarker(\n",
       "                [30.0, 70.0],\n",
       "                {&quot;bubblingMouseEvents&quot;: true, &quot;color&quot;: &quot;red&quot;, &quot;dashArray&quot;: null, &quot;dashOffset&quot;: null, &quot;fill&quot;: true, &quot;fillColor&quot;: &quot;red&quot;, &quot;fillOpacity&quot;: 0.2, &quot;fillRule&quot;: &quot;evenodd&quot;, &quot;lineCap&quot;: &quot;round&quot;, &quot;lineJoin&quot;: &quot;round&quot;, &quot;opacity&quot;: 1.0, &quot;radius&quot;: 26.974340020303398, &quot;stroke&quot;: true, &quot;weight&quot;: 3}\n",
       "            ).addTo(map_d0ccc94c164fc7c9d30f0ae90e1f9ac5);\n",
       "        \n",
       "    \n",
       "        var popup_3e5f6814f3d5f194a9123d8c58deed97 = L.popup({\n",
       "  &quot;maxWidth&quot;: &quot;100%&quot;,\n",
       "});\n",
       "\n",
       "        \n",
       "            \n",
       "                var html_703f36b30f368beaf096fd20cb55c20b = $(`&lt;div id=&quot;html_703f36b30f368beaf096fd20cb55c20b&quot; style=&quot;width: 100.0%; height: 100.0%;&quot;&gt;Pakistan&lt;/div&gt;`)[0];\n",
       "                popup_3e5f6814f3d5f194a9123d8c58deed97.setContent(html_703f36b30f368beaf096fd20cb55c20b);\n",
       "            \n",
       "        \n",
       "\n",
       "        circle_marker_21767610334741a7b7962a49edace130.bindPopup(popup_3e5f6814f3d5f194a9123d8c58deed97)\n",
       "        ;\n",
       "\n",
       "        \n",
       "    \n",
       "    \n",
       "            var circle_marker_af880b11194aa1af53bdc3c38c49c090 = L.circleMarker(\n",
       "                [8.9936, -79.51973],\n",
       "                {&quot;bubblingMouseEvents&quot;: true, &quot;color&quot;: &quot;green&quot;, &quot;dashArray&quot;: null, &quot;dashOffset&quot;: null, &quot;fill&quot;: true, &quot;fillColor&quot;: &quot;green&quot;, &quot;fillOpacity&quot;: 0.2, &quot;fillRule&quot;: &quot;evenodd&quot;, &quot;lineCap&quot;: &quot;round&quot;, &quot;lineJoin&quot;: &quot;round&quot;, &quot;opacity&quot;: 1.0, &quot;radius&quot;: 2.15090943062721, &quot;stroke&quot;: true, &quot;weight&quot;: 3}\n",
       "            ).addTo(map_d0ccc94c164fc7c9d30f0ae90e1f9ac5);\n",
       "        \n",
       "    \n",
       "        var popup_eec38b9d168fe36cfffa30a98b254654 = L.popup({\n",
       "  &quot;maxWidth&quot;: &quot;100%&quot;,\n",
       "});\n",
       "\n",
       "        \n",
       "            \n",
       "                var html_d241ad4507f09d59a54350da279e4d70 = $(`&lt;div id=&quot;html_d241ad4507f09d59a54350da279e4d70&quot; style=&quot;width: 100.0%; height: 100.0%;&quot;&gt;Panama&lt;/div&gt;`)[0];\n",
       "                popup_eec38b9d168fe36cfffa30a98b254654.setContent(html_d241ad4507f09d59a54350da279e4d70);\n",
       "            \n",
       "        \n",
       "\n",
       "        circle_marker_af880b11194aa1af53bdc3c38c49c090.bindPopup(popup_eec38b9d168fe36cfffa30a98b254654)\n",
       "        ;\n",
       "\n",
       "        \n",
       "    \n",
       "    \n",
       "            var circle_marker_6c44c6d0fdde8bc14226fb7e36c70c75 = L.circleMarker(\n",
       "                [-10.0, -75.25],\n",
       "                {&quot;bubblingMouseEvents&quot;: true, &quot;color&quot;: &quot;green&quot;, &quot;dashArray&quot;: null, &quot;dashOffset&quot;: null, &quot;fill&quot;: true, &quot;fillColor&quot;: &quot;green&quot;, &quot;fillOpacity&quot;: 0.2, &quot;fillRule&quot;: &quot;evenodd&quot;, &quot;lineCap&quot;: &quot;round&quot;, &quot;lineJoin&quot;: &quot;round&quot;, &quot;opacity&quot;: 1.0, &quot;radius&quot;: 5.167496139520397, &quot;stroke&quot;: true, &quot;weight&quot;: 3}\n",
       "            ).addTo(map_d0ccc94c164fc7c9d30f0ae90e1f9ac5);\n",
       "        \n",
       "    \n",
       "        var popup_54f54615ab10131865b2249eb6686e40 = L.popup({\n",
       "  &quot;maxWidth&quot;: &quot;100%&quot;,\n",
       "});\n",
       "\n",
       "        \n",
       "            \n",
       "                var html_c126b0300bedc327c91df6b4bbc9f02b = $(`&lt;div id=&quot;html_c126b0300bedc327c91df6b4bbc9f02b&quot; style=&quot;width: 100.0%; height: 100.0%;&quot;&gt;Peru&lt;/div&gt;`)[0];\n",
       "                popup_54f54615ab10131865b2249eb6686e40.setContent(html_c126b0300bedc327c91df6b4bbc9f02b);\n",
       "            \n",
       "        \n",
       "\n",
       "        circle_marker_6c44c6d0fdde8bc14226fb7e36c70c75.bindPopup(popup_54f54615ab10131865b2249eb6686e40)\n",
       "        ;\n",
       "\n",
       "        \n",
       "    \n",
       "    \n",
       "            var circle_marker_f02025230e01de6bc9007966721000bd = L.circleMarker(\n",
       "                [13.0, 122.0],\n",
       "                {&quot;bubblingMouseEvents&quot;: true, &quot;color&quot;: &quot;red&quot;, &quot;dashArray&quot;: null, &quot;dashOffset&quot;: null, &quot;fill&quot;: true, &quot;fillColor&quot;: &quot;red&quot;, &quot;fillOpacity&quot;: 0.2, &quot;fillRule&quot;: &quot;evenodd&quot;, &quot;lineCap&quot;: &quot;round&quot;, &quot;lineJoin&quot;: &quot;round&quot;, &quot;opacity&quot;: 1.0, &quot;radius&quot;: 23.813948433342183, &quot;stroke&quot;: true, &quot;weight&quot;: 3}\n",
       "            ).addTo(map_d0ccc94c164fc7c9d30f0ae90e1f9ac5);\n",
       "        \n",
       "    \n",
       "        var popup_81ca2a80d940f705982a086d07d9ad50 = L.popup({\n",
       "  &quot;maxWidth&quot;: &quot;100%&quot;,\n",
       "});\n",
       "\n",
       "        \n",
       "            \n",
       "                var html_d79da1a295424a831a7e936baa76c9ba = $(`&lt;div id=&quot;html_d79da1a295424a831a7e936baa76c9ba&quot; style=&quot;width: 100.0%; height: 100.0%;&quot;&gt;Philippines&lt;/div&gt;`)[0];\n",
       "                popup_81ca2a80d940f705982a086d07d9ad50.setContent(html_d79da1a295424a831a7e936baa76c9ba);\n",
       "            \n",
       "        \n",
       "\n",
       "        circle_marker_f02025230e01de6bc9007966721000bd.bindPopup(popup_81ca2a80d940f705982a086d07d9ad50)\n",
       "        ;\n",
       "\n",
       "        \n",
       "    \n",
       "    \n",
       "            var circle_marker_49fc7c06443480be4fde9f6e2fccd746 = L.circleMarker(\n",
       "                [-6.0, 147.0],\n",
       "                {&quot;bubblingMouseEvents&quot;: true, &quot;color&quot;: &quot;red&quot;, &quot;dashArray&quot;: null, &quot;dashOffset&quot;: null, &quot;fill&quot;: true, &quot;fillColor&quot;: &quot;red&quot;, &quot;fillOpacity&quot;: 0.2, &quot;fillRule&quot;: &quot;evenodd&quot;, &quot;lineCap&quot;: &quot;round&quot;, &quot;lineJoin&quot;: &quot;round&quot;, &quot;opacity&quot;: 1.0, &quot;radius&quot;: 9.125985821420215, &quot;stroke&quot;: true, &quot;weight&quot;: 3}\n",
       "            ).addTo(map_d0ccc94c164fc7c9d30f0ae90e1f9ac5);\n",
       "        \n",
       "    \n",
       "        var popup_e50511812eb59f09858606760af51080 = L.popup({\n",
       "  &quot;maxWidth&quot;: &quot;100%&quot;,\n",
       "});\n",
       "\n",
       "        \n",
       "            \n",
       "                var html_f21d106db3718abdad1752cc0384d921 = $(`&lt;div id=&quot;html_f21d106db3718abdad1752cc0384d921&quot; style=&quot;width: 100.0%; height: 100.0%;&quot;&gt;Papua New Guinea&lt;/div&gt;`)[0];\n",
       "                popup_e50511812eb59f09858606760af51080.setContent(html_f21d106db3718abdad1752cc0384d921);\n",
       "            \n",
       "        \n",
       "\n",
       "        circle_marker_49fc7c06443480be4fde9f6e2fccd746.bindPopup(popup_e50511812eb59f09858606760af51080)\n",
       "        ;\n",
       "\n",
       "        \n",
       "    \n",
       "    \n",
       "            var circle_marker_32c096c4a9a280163d72bd37e27d8f68 = L.circleMarker(\n",
       "                [52.0, 20.0],\n",
       "                {&quot;bubblingMouseEvents&quot;: true, &quot;color&quot;: &quot;black&quot;, &quot;dashArray&quot;: null, &quot;dashOffset&quot;: null, &quot;fill&quot;: true, &quot;fillColor&quot;: &quot;black&quot;, &quot;fillOpacity&quot;: 0.2, &quot;fillRule&quot;: &quot;evenodd&quot;, &quot;lineCap&quot;: &quot;round&quot;, &quot;lineJoin&quot;: &quot;round&quot;, &quot;opacity&quot;: 1.0, &quot;stroke&quot;: true, &quot;weight&quot;: 3}\n",
       "            ).addTo(map_d0ccc94c164fc7c9d30f0ae90e1f9ac5);\n",
       "        \n",
       "    \n",
       "        var popup_1af1818bb445217b9738cdff2248a65e = L.popup({\n",
       "  &quot;maxWidth&quot;: &quot;100%&quot;,\n",
       "});\n",
       "\n",
       "        \n",
       "            \n",
       "                var html_6c02ee4c59f368d5a98baf25f29f9777 = $(`&lt;div id=&quot;html_6c02ee4c59f368d5a98baf25f29f9777&quot; style=&quot;width: 100.0%; height: 100.0%;&quot;&gt;Poland&lt;/div&gt;`)[0];\n",
       "                popup_1af1818bb445217b9738cdff2248a65e.setContent(html_6c02ee4c59f368d5a98baf25f29f9777);\n",
       "            \n",
       "        \n",
       "\n",
       "        circle_marker_32c096c4a9a280163d72bd37e27d8f68.bindPopup(popup_1af1818bb445217b9738cdff2248a65e)\n",
       "        ;\n",
       "\n",
       "        \n",
       "    \n",
       "    \n",
       "            var circle_marker_e7e07c461433c13f323f571b31446b5c = L.circleMarker(\n",
       "                [-23.33333, -58.0],\n",
       "                {&quot;bubblingMouseEvents&quot;: true, &quot;color&quot;: &quot;green&quot;, &quot;dashArray&quot;: null, &quot;dashOffset&quot;: null, &quot;fill&quot;: true, &quot;fillColor&quot;: &quot;green&quot;, &quot;fillOpacity&quot;: 0.2, &quot;fillRule&quot;: &quot;evenodd&quot;, &quot;lineCap&quot;: &quot;round&quot;, &quot;lineJoin&quot;: &quot;round&quot;, &quot;opacity&quot;: 1.0, &quot;radius&quot;: 2.454808263447154, &quot;stroke&quot;: true, &quot;weight&quot;: 3}\n",
       "            ).addTo(map_d0ccc94c164fc7c9d30f0ae90e1f9ac5);\n",
       "        \n",
       "    \n",
       "        var popup_2d31e6de7abb589b7324cb19171624e0 = L.popup({\n",
       "  &quot;maxWidth&quot;: &quot;100%&quot;,\n",
       "});\n",
       "\n",
       "        \n",
       "            \n",
       "                var html_3ef3bad983ed54143dbfe3f312b36e60 = $(`&lt;div id=&quot;html_3ef3bad983ed54143dbfe3f312b36e60&quot; style=&quot;width: 100.0%; height: 100.0%;&quot;&gt;Paraguay&lt;/div&gt;`)[0];\n",
       "                popup_2d31e6de7abb589b7324cb19171624e0.setContent(html_3ef3bad983ed54143dbfe3f312b36e60);\n",
       "            \n",
       "        \n",
       "\n",
       "        circle_marker_e7e07c461433c13f323f571b31446b5c.bindPopup(popup_2d31e6de7abb589b7324cb19171624e0)\n",
       "        ;\n",
       "\n",
       "        \n",
       "    \n",
       "    \n",
       "            var circle_marker_1920634a5a7e4884ca661bed8c789ebd = L.circleMarker(\n",
       "                [31.92157, 35.20329],\n",
       "                {&quot;bubblingMouseEvents&quot;: true, &quot;color&quot;: &quot;red&quot;, &quot;dashArray&quot;: null, &quot;dashOffset&quot;: null, &quot;fill&quot;: true, &quot;fillColor&quot;: &quot;red&quot;, &quot;fillOpacity&quot;: 0.2, &quot;fillRule&quot;: &quot;evenodd&quot;, &quot;lineCap&quot;: &quot;round&quot;, &quot;lineJoin&quot;: &quot;round&quot;, &quot;opacity&quot;: 1.0, &quot;radius&quot;: 0.3213900403973964, &quot;stroke&quot;: true, &quot;weight&quot;: 3}\n",
       "            ).addTo(map_d0ccc94c164fc7c9d30f0ae90e1f9ac5);\n",
       "        \n",
       "    \n",
       "        var popup_493abdef6187a3ca3e7351db398011b4 = L.popup({\n",
       "  &quot;maxWidth&quot;: &quot;100%&quot;,\n",
       "});\n",
       "\n",
       "        \n",
       "            \n",
       "                var html_23225eb43da11d4236bc613bafc34e25 = $(`&lt;div id=&quot;html_23225eb43da11d4236bc613bafc34e25&quot; style=&quot;width: 100.0%; height: 100.0%;&quot;&gt;Palestine&lt;/div&gt;`)[0];\n",
       "                popup_493abdef6187a3ca3e7351db398011b4.setContent(html_23225eb43da11d4236bc613bafc34e25);\n",
       "            \n",
       "        \n",
       "\n",
       "        circle_marker_1920634a5a7e4884ca661bed8c789ebd.bindPopup(popup_493abdef6187a3ca3e7351db398011b4)\n",
       "        ;\n",
       "\n",
       "        \n",
       "    \n",
       "    \n",
       "            var circle_marker_e99d2b6aea7a95f51c13b449fcf3fad6 = L.circleMarker(\n",
       "                [46.0, 25.0],\n",
       "                {&quot;bubblingMouseEvents&quot;: true, &quot;color&quot;: &quot;black&quot;, &quot;dashArray&quot;: null, &quot;dashOffset&quot;: null, &quot;fill&quot;: true, &quot;fillColor&quot;: &quot;black&quot;, &quot;fillOpacity&quot;: 0.2, &quot;fillRule&quot;: &quot;evenodd&quot;, &quot;lineCap&quot;: &quot;round&quot;, &quot;lineJoin&quot;: &quot;round&quot;, &quot;opacity&quot;: 1.0, &quot;stroke&quot;: true, &quot;weight&quot;: 3}\n",
       "            ).addTo(map_d0ccc94c164fc7c9d30f0ae90e1f9ac5);\n",
       "        \n",
       "    \n",
       "        var popup_7206308c5e716bea07bed5b4d5ba4458 = L.popup({\n",
       "  &quot;maxWidth&quot;: &quot;100%&quot;,\n",
       "});\n",
       "\n",
       "        \n",
       "            \n",
       "                var html_768e503a76dbdc9bb618db31dabe4a9e = $(`&lt;div id=&quot;html_768e503a76dbdc9bb618db31dabe4a9e&quot; style=&quot;width: 100.0%; height: 100.0%;&quot;&gt;Romania&lt;/div&gt;`)[0];\n",
       "                popup_7206308c5e716bea07bed5b4d5ba4458.setContent(html_768e503a76dbdc9bb618db31dabe4a9e);\n",
       "            \n",
       "        \n",
       "\n",
       "        circle_marker_e99d2b6aea7a95f51c13b449fcf3fad6.bindPopup(popup_7206308c5e716bea07bed5b4d5ba4458)\n",
       "        ;\n",
       "\n",
       "        \n",
       "    \n",
       "    \n",
       "            var circle_marker_9825977857d6bccf3cc5065f4d763133 = L.circleMarker(\n",
       "                [60.0, 100.0],\n",
       "                {&quot;bubblingMouseEvents&quot;: true, &quot;color&quot;: &quot;black&quot;, &quot;dashArray&quot;: null, &quot;dashOffset&quot;: null, &quot;fill&quot;: true, &quot;fillColor&quot;: &quot;black&quot;, &quot;fillOpacity&quot;: 0.2, &quot;fillRule&quot;: &quot;evenodd&quot;, &quot;lineCap&quot;: &quot;round&quot;, &quot;lineJoin&quot;: &quot;round&quot;, &quot;opacity&quot;: 1.0, &quot;radius&quot;: 1.1705268361253016, &quot;stroke&quot;: true, &quot;weight&quot;: 3}\n",
       "            ).addTo(map_d0ccc94c164fc7c9d30f0ae90e1f9ac5);\n",
       "        \n",
       "    \n",
       "        var popup_fee9f19c8a77ffb501da50df52f26148 = L.popup({\n",
       "  &quot;maxWidth&quot;: &quot;100%&quot;,\n",
       "});\n",
       "\n",
       "        \n",
       "            \n",
       "                var html_1779166f44f202ff5623c9ca67e93b06 = $(`&lt;div id=&quot;html_1779166f44f202ff5623c9ca67e93b06&quot; style=&quot;width: 100.0%; height: 100.0%;&quot;&gt;Russia&lt;/div&gt;`)[0];\n",
       "                popup_fee9f19c8a77ffb501da50df52f26148.setContent(html_1779166f44f202ff5623c9ca67e93b06);\n",
       "            \n",
       "        \n",
       "\n",
       "        circle_marker_9825977857d6bccf3cc5065f4d763133.bindPopup(popup_fee9f19c8a77ffb501da50df52f26148)\n",
       "        ;\n",
       "\n",
       "        \n",
       "    \n",
       "    \n",
       "            var circle_marker_c928c46ed8233d38bad1810bd1e78e5b = L.circleMarker(\n",
       "                [-2.0, 30.0],\n",
       "                {&quot;bubblingMouseEvents&quot;: true, &quot;color&quot;: &quot;blue&quot;, &quot;dashArray&quot;: null, &quot;dashOffset&quot;: null, &quot;fill&quot;: true, &quot;fillColor&quot;: &quot;blue&quot;, &quot;fillOpacity&quot;: 0.2, &quot;fillRule&quot;: &quot;evenodd&quot;, &quot;lineCap&quot;: &quot;round&quot;, &quot;lineJoin&quot;: &quot;round&quot;, &quot;opacity&quot;: 1.0, &quot;radius&quot;: 14.191124420279852, &quot;stroke&quot;: true, &quot;weight&quot;: 3}\n",
       "            ).addTo(map_d0ccc94c164fc7c9d30f0ae90e1f9ac5);\n",
       "        \n",
       "    \n",
       "        var popup_e5f26e2542c68a4324011a11e8b9b384 = L.popup({\n",
       "  &quot;maxWidth&quot;: &quot;100%&quot;,\n",
       "});\n",
       "\n",
       "        \n",
       "            \n",
       "                var html_f8b0d219fa8e3f52ba0c3ad8d4e05693 = $(`&lt;div id=&quot;html_f8b0d219fa8e3f52ba0c3ad8d4e05693&quot; style=&quot;width: 100.0%; height: 100.0%;&quot;&gt;Rwanda&lt;/div&gt;`)[0];\n",
       "                popup_e5f26e2542c68a4324011a11e8b9b384.setContent(html_f8b0d219fa8e3f52ba0c3ad8d4e05693);\n",
       "            \n",
       "        \n",
       "\n",
       "        circle_marker_c928c46ed8233d38bad1810bd1e78e5b.bindPopup(popup_e5f26e2542c68a4324011a11e8b9b384)\n",
       "        ;\n",
       "\n",
       "        \n",
       "    \n",
       "    \n",
       "            var circle_marker_bff59f335e4d8eecc073a213cc7312d8 = L.circleMarker(\n",
       "                [16.0, 30.0],\n",
       "                {&quot;bubblingMouseEvents&quot;: true, &quot;color&quot;: &quot;blue&quot;, &quot;dashArray&quot;: null, &quot;dashOffset&quot;: null, &quot;fill&quot;: true, &quot;fillColor&quot;: &quot;blue&quot;, &quot;fillOpacity&quot;: 0.2, &quot;fillRule&quot;: &quot;evenodd&quot;, &quot;lineCap&quot;: &quot;round&quot;, &quot;lineJoin&quot;: &quot;round&quot;, &quot;opacity&quot;: 1.0, &quot;radius&quot;: 14.75537843817308, &quot;stroke&quot;: true, &quot;weight&quot;: 3}\n",
       "            ).addTo(map_d0ccc94c164fc7c9d30f0ae90e1f9ac5);\n",
       "        \n",
       "    \n",
       "        var popup_e8ca60bdbaa1b2c3acb4b21963307211 = L.popup({\n",
       "  &quot;maxWidth&quot;: &quot;100%&quot;,\n",
       "});\n",
       "\n",
       "        \n",
       "            \n",
       "                var html_71db12b05d03c2f3c1290464a6eb5e5d = $(`&lt;div id=&quot;html_71db12b05d03c2f3c1290464a6eb5e5d&quot; style=&quot;width: 100.0%; height: 100.0%;&quot;&gt;Sudan&lt;/div&gt;`)[0];\n",
       "                popup_e8ca60bdbaa1b2c3acb4b21963307211.setContent(html_71db12b05d03c2f3c1290464a6eb5e5d);\n",
       "            \n",
       "        \n",
       "\n",
       "        circle_marker_bff59f335e4d8eecc073a213cc7312d8.bindPopup(popup_e8ca60bdbaa1b2c3acb4b21963307211)\n",
       "        ;\n",
       "\n",
       "        \n",
       "    \n",
       "    \n",
       "            var circle_marker_dc9986f038b98ef7b570c12426e44abd = L.circleMarker(\n",
       "                [14.5, -14.25],\n",
       "                {&quot;bubblingMouseEvents&quot;: true, &quot;color&quot;: &quot;blue&quot;, &quot;dashArray&quot;: null, &quot;dashOffset&quot;: null, &quot;fill&quot;: true, &quot;fillColor&quot;: &quot;blue&quot;, &quot;fillOpacity&quot;: 0.2, &quot;fillRule&quot;: &quot;evenodd&quot;, &quot;lineCap&quot;: &quot;round&quot;, &quot;lineJoin&quot;: &quot;round&quot;, &quot;opacity&quot;: 1.0, &quot;radius&quot;: 11.723984438242729, &quot;stroke&quot;: true, &quot;weight&quot;: 3}\n",
       "            ).addTo(map_d0ccc94c164fc7c9d30f0ae90e1f9ac5);\n",
       "        \n",
       "    \n",
       "        var popup_e13d068ca979842ba1a052507ac0fabd = L.popup({\n",
       "  &quot;maxWidth&quot;: &quot;100%&quot;,\n",
       "});\n",
       "\n",
       "        \n",
       "            \n",
       "                var html_a0abbace59eb490e434b90bbce9114a6 = $(`&lt;div id=&quot;html_a0abbace59eb490e434b90bbce9114a6&quot; style=&quot;width: 100.0%; height: 100.0%;&quot;&gt;Senegal&lt;/div&gt;`)[0];\n",
       "                popup_e13d068ca979842ba1a052507ac0fabd.setContent(html_a0abbace59eb490e434b90bbce9114a6);\n",
       "            \n",
       "        \n",
       "\n",
       "        circle_marker_dc9986f038b98ef7b570c12426e44abd.bindPopup(popup_e13d068ca979842ba1a052507ac0fabd)\n",
       "        ;\n",
       "\n",
       "        \n",
       "    \n",
       "    \n",
       "            var circle_marker_193b6f9232ef41370d6ecfbcdfdaf2b9 = L.circleMarker(\n",
       "                [8.5, -11.5],\n",
       "                {&quot;bubblingMouseEvents&quot;: true, &quot;color&quot;: &quot;blue&quot;, &quot;dashArray&quot;: null, &quot;dashOffset&quot;: null, &quot;fill&quot;: true, &quot;fillColor&quot;: &quot;blue&quot;, &quot;fillOpacity&quot;: 0.2, &quot;fillRule&quot;: &quot;evenodd&quot;, &quot;lineCap&quot;: &quot;round&quot;, &quot;lineJoin&quot;: &quot;round&quot;, &quot;opacity&quot;: 1.0, &quot;radius&quot;: 10.75395518279574, &quot;stroke&quot;: true, &quot;weight&quot;: 3}\n",
       "            ).addTo(map_d0ccc94c164fc7c9d30f0ae90e1f9ac5);\n",
       "        \n",
       "    \n",
       "        var popup_0f1e2ec694b01b2294ca9e21b5a83b29 = L.popup({\n",
       "  &quot;maxWidth&quot;: &quot;100%&quot;,\n",
       "});\n",
       "\n",
       "        \n",
       "            \n",
       "                var html_1de662cff17607dff2fa4232cc46b5ab = $(`&lt;div id=&quot;html_1de662cff17607dff2fa4232cc46b5ab&quot; style=&quot;width: 100.0%; height: 100.0%;&quot;&gt;Sierra Leone&lt;/div&gt;`)[0];\n",
       "                popup_0f1e2ec694b01b2294ca9e21b5a83b29.setContent(html_1de662cff17607dff2fa4232cc46b5ab);\n",
       "            \n",
       "        \n",
       "\n",
       "        circle_marker_193b6f9232ef41370d6ecfbcdfdaf2b9.bindPopup(popup_0f1e2ec694b01b2294ca9e21b5a83b29)\n",
       "        ;\n",
       "\n",
       "        \n",
       "    \n",
       "    \n",
       "            var circle_marker_a4685c53fde5b4f962ad2dc865e496a5 = L.circleMarker(\n",
       "                [13.83333, -88.91667],\n",
       "                {&quot;bubblingMouseEvents&quot;: true, &quot;color&quot;: &quot;green&quot;, &quot;dashArray&quot;: null, &quot;dashOffset&quot;: null, &quot;fill&quot;: true, &quot;fillColor&quot;: &quot;green&quot;, &quot;fillOpacity&quot;: 0.2, &quot;fillRule&quot;: &quot;evenodd&quot;, &quot;lineCap&quot;: &quot;round&quot;, &quot;lineJoin&quot;: &quot;round&quot;, &quot;opacity&quot;: 1.0, &quot;radius&quot;: 2.231596251861578, &quot;stroke&quot;: true, &quot;weight&quot;: 3}\n",
       "            ).addTo(map_d0ccc94c164fc7c9d30f0ae90e1f9ac5);\n",
       "        \n",
       "    \n",
       "        var popup_ca6ac25ccb29be38b3da682472a9e8b1 = L.popup({\n",
       "  &quot;maxWidth&quot;: &quot;100%&quot;,\n",
       "});\n",
       "\n",
       "        \n",
       "            \n",
       "                var html_3561d62fd555d3c87e2398fb58e2663b = $(`&lt;div id=&quot;html_3561d62fd555d3c87e2398fb58e2663b&quot; style=&quot;width: 100.0%; height: 100.0%;&quot;&gt;El Salvador&lt;/div&gt;`)[0];\n",
       "                popup_ca6ac25ccb29be38b3da682472a9e8b1.setContent(html_3561d62fd555d3c87e2398fb58e2663b);\n",
       "            \n",
       "        \n",
       "\n",
       "        circle_marker_a4685c53fde5b4f962ad2dc865e496a5.bindPopup(popup_ca6ac25ccb29be38b3da682472a9e8b1)\n",
       "        ;\n",
       "\n",
       "        \n",
       "    \n",
       "    \n",
       "            var circle_marker_ec207d5d4f7ca1fd1d32a7d1bb8bcbf8 = L.circleMarker(\n",
       "                [44.81892, 20.45998],\n",
       "                {&quot;bubblingMouseEvents&quot;: true, &quot;color&quot;: &quot;black&quot;, &quot;dashArray&quot;: null, &quot;dashOffset&quot;: null, &quot;fill&quot;: true, &quot;fillColor&quot;: &quot;black&quot;, &quot;fillOpacity&quot;: 0.2, &quot;fillRule&quot;: &quot;evenodd&quot;, &quot;lineCap&quot;: &quot;round&quot;, &quot;lineJoin&quot;: &quot;round&quot;, &quot;opacity&quot;: 1.0, &quot;radius&quot;: 0.37830163207185913, &quot;stroke&quot;: true, &quot;weight&quot;: 3}\n",
       "            ).addTo(map_d0ccc94c164fc7c9d30f0ae90e1f9ac5);\n",
       "        \n",
       "    \n",
       "        var popup_a7b41842bc13fc1a4b526988691b595e = L.popup({\n",
       "  &quot;maxWidth&quot;: &quot;100%&quot;,\n",
       "});\n",
       "\n",
       "        \n",
       "            \n",
       "                var html_5f9172620e30a23a49c3c3a6eef9d3b4 = $(`&lt;div id=&quot;html_5f9172620e30a23a49c3c3a6eef9d3b4&quot; style=&quot;width: 100.0%; height: 100.0%;&quot;&gt;Serbia&lt;/div&gt;`)[0];\n",
       "                popup_a7b41842bc13fc1a4b526988691b595e.setContent(html_5f9172620e30a23a49c3c3a6eef9d3b4);\n",
       "            \n",
       "        \n",
       "\n",
       "        circle_marker_ec207d5d4f7ca1fd1d32a7d1bb8bcbf8.bindPopup(popup_a7b41842bc13fc1a4b526988691b595e)\n",
       "        ;\n",
       "\n",
       "        \n",
       "    \n",
       "    \n",
       "            var circle_marker_02262d028a56fc282c30c77d6e10e389 = L.circleMarker(\n",
       "                [1.0, 7.0],\n",
       "                {&quot;bubblingMouseEvents&quot;: true, &quot;color&quot;: &quot;blue&quot;, &quot;dashArray&quot;: null, &quot;dashOffset&quot;: null, &quot;fill&quot;: true, &quot;fillColor&quot;: &quot;blue&quot;, &quot;fillOpacity&quot;: 0.2, &quot;fillRule&quot;: &quot;evenodd&quot;, &quot;lineCap&quot;: &quot;round&quot;, &quot;lineJoin&quot;: &quot;round&quot;, &quot;opacity&quot;: 1.0, &quot;radius&quot;: 1.5808990803845295, &quot;stroke&quot;: true, &quot;weight&quot;: 3}\n",
       "            ).addTo(map_d0ccc94c164fc7c9d30f0ae90e1f9ac5);\n",
       "        \n",
       "    \n",
       "        var popup_bf72c8d7cb59d21c23c55b0d50b6a566 = L.popup({\n",
       "  &quot;maxWidth&quot;: &quot;100%&quot;,\n",
       "});\n",
       "\n",
       "        \n",
       "            \n",
       "                var html_543d0401e821ed03919658a375efe7a8 = $(`&lt;div id=&quot;html_543d0401e821ed03919658a375efe7a8&quot; style=&quot;width: 100.0%; height: 100.0%;&quot;&gt;Sao Tome and Principe&lt;/div&gt;`)[0];\n",
       "                popup_bf72c8d7cb59d21c23c55b0d50b6a566.setContent(html_543d0401e821ed03919658a375efe7a8);\n",
       "            \n",
       "        \n",
       "\n",
       "        circle_marker_02262d028a56fc282c30c77d6e10e389.bindPopup(popup_bf72c8d7cb59d21c23c55b0d50b6a566)\n",
       "        ;\n",
       "\n",
       "        \n",
       "    \n",
       "    \n",
       "            var circle_marker_343774d4be133c51ce8c9399edbbc0c2 = L.circleMarker(\n",
       "                [4.0, -56.0],\n",
       "                {&quot;bubblingMouseEvents&quot;: true, &quot;color&quot;: &quot;green&quot;, &quot;dashArray&quot;: null, &quot;dashOffset&quot;: null, &quot;fill&quot;: true, &quot;fillColor&quot;: &quot;green&quot;, &quot;fillOpacity&quot;: 0.2, &quot;fillRule&quot;: &quot;evenodd&quot;, &quot;lineCap&quot;: &quot;round&quot;, &quot;lineJoin&quot;: &quot;round&quot;, &quot;opacity&quot;: 1.0, &quot;radius&quot;: 1.6178179347920572, &quot;stroke&quot;: true, &quot;weight&quot;: 3}\n",
       "            ).addTo(map_d0ccc94c164fc7c9d30f0ae90e1f9ac5);\n",
       "        \n",
       "    \n",
       "        var popup_7465313f7010fae59a056f7b0c8a1147 = L.popup({\n",
       "  &quot;maxWidth&quot;: &quot;100%&quot;,\n",
       "});\n",
       "\n",
       "        \n",
       "            \n",
       "                var html_c4f77363802c09d5cbd71153168b09e5 = $(`&lt;div id=&quot;html_c4f77363802c09d5cbd71153168b09e5&quot; style=&quot;width: 100.0%; height: 100.0%;&quot;&gt;Suriname&lt;/div&gt;`)[0];\n",
       "                popup_7465313f7010fae59a056f7b0c8a1147.setContent(html_c4f77363802c09d5cbd71153168b09e5);\n",
       "            \n",
       "        \n",
       "\n",
       "        circle_marker_343774d4be133c51ce8c9399edbbc0c2.bindPopup(popup_7465313f7010fae59a056f7b0c8a1147)\n",
       "        ;\n",
       "\n",
       "        \n",
       "    \n",
       "    \n",
       "            var circle_marker_d3a3eda99bb66bf58ff4a6d7d0e60a01 = L.circleMarker(\n",
       "                [48.66667, 19.5],\n",
       "                {&quot;bubblingMouseEvents&quot;: true, &quot;color&quot;: &quot;black&quot;, &quot;dashArray&quot;: null, &quot;dashOffset&quot;: null, &quot;fill&quot;: true, &quot;fillColor&quot;: &quot;black&quot;, &quot;fillOpacity&quot;: 0.2, &quot;fillRule&quot;: &quot;evenodd&quot;, &quot;lineCap&quot;: &quot;round&quot;, &quot;lineJoin&quot;: &quot;round&quot;, &quot;opacity&quot;: 1.0, &quot;radius&quot;: 0.7183841719231987, &quot;stroke&quot;: true, &quot;weight&quot;: 3}\n",
       "            ).addTo(map_d0ccc94c164fc7c9d30f0ae90e1f9ac5);\n",
       "        \n",
       "    \n",
       "        var popup_7514bdc49e3fa2b687362799063b491d = L.popup({\n",
       "  &quot;maxWidth&quot;: &quot;100%&quot;,\n",
       "});\n",
       "\n",
       "        \n",
       "            \n",
       "                var html_b0fa7693a4a28f21b977cd7bf5f6805c = $(`&lt;div id=&quot;html_b0fa7693a4a28f21b977cd7bf5f6805c&quot; style=&quot;width: 100.0%; height: 100.0%;&quot;&gt;Slovak Republic&lt;/div&gt;`)[0];\n",
       "                popup_7514bdc49e3fa2b687362799063b491d.setContent(html_b0fa7693a4a28f21b977cd7bf5f6805c);\n",
       "            \n",
       "        \n",
       "\n",
       "        circle_marker_d3a3eda99bb66bf58ff4a6d7d0e60a01.bindPopup(popup_7514bdc49e3fa2b687362799063b491d)\n",
       "        ;\n",
       "\n",
       "        \n",
       "    \n",
       "    \n",
       "            var circle_marker_a1043f77183428ce4ea6146217af3fa2 = L.circleMarker(\n",
       "                [46.08333, 15.0],\n",
       "                {&quot;bubblingMouseEvents&quot;: true, &quot;color&quot;: &quot;black&quot;, &quot;dashArray&quot;: null, &quot;dashOffset&quot;: null, &quot;fill&quot;: true, &quot;fillColor&quot;: &quot;black&quot;, &quot;fillOpacity&quot;: 0.2, &quot;fillRule&quot;: &quot;evenodd&quot;, &quot;lineCap&quot;: &quot;round&quot;, &quot;lineJoin&quot;: &quot;round&quot;, &quot;opacity&quot;: 1.0, &quot;stroke&quot;: true, &quot;weight&quot;: 3}\n",
       "            ).addTo(map_d0ccc94c164fc7c9d30f0ae90e1f9ac5);\n",
       "        \n",
       "    \n",
       "        var popup_048856ff115071fc5b5c2d2163642293 = L.popup({\n",
       "  &quot;maxWidth&quot;: &quot;100%&quot;,\n",
       "});\n",
       "\n",
       "        \n",
       "            \n",
       "                var html_2fe686f627a92ef04dcd4659b1ba3432 = $(`&lt;div id=&quot;html_2fe686f627a92ef04dcd4659b1ba3432&quot; style=&quot;width: 100.0%; height: 100.0%;&quot;&gt;Slovenia&lt;/div&gt;`)[0];\n",
       "                popup_048856ff115071fc5b5c2d2163642293.setContent(html_2fe686f627a92ef04dcd4659b1ba3432);\n",
       "            \n",
       "        \n",
       "\n",
       "        circle_marker_a1043f77183428ce4ea6146217af3fa2.bindPopup(popup_048856ff115071fc5b5c2d2163642293)\n",
       "        ;\n",
       "\n",
       "        \n",
       "    \n",
       "    \n",
       "            var circle_marker_ef36614191f0a7b3eef8c54ace668255 = L.circleMarker(\n",
       "                [62.0, 15.0],\n",
       "                {&quot;bubblingMouseEvents&quot;: true, &quot;color&quot;: &quot;black&quot;, &quot;dashArray&quot;: null, &quot;dashOffset&quot;: null, &quot;fill&quot;: true, &quot;fillColor&quot;: &quot;black&quot;, &quot;fillOpacity&quot;: 0.2, &quot;fillRule&quot;: &quot;evenodd&quot;, &quot;lineCap&quot;: &quot;round&quot;, &quot;lineJoin&quot;: &quot;round&quot;, &quot;opacity&quot;: 1.0, &quot;radius&quot;: 1.0228182985905399, &quot;stroke&quot;: true, &quot;weight&quot;: 3}\n",
       "            ).addTo(map_d0ccc94c164fc7c9d30f0ae90e1f9ac5);\n",
       "        \n",
       "    \n",
       "        var popup_20f836dafc613b47b14d6ecfe5cd1689 = L.popup({\n",
       "  &quot;maxWidth&quot;: &quot;100%&quot;,\n",
       "});\n",
       "\n",
       "        \n",
       "            \n",
       "                var html_67a3480e5b974d5283fa324e4528fd19 = $(`&lt;div id=&quot;html_67a3480e5b974d5283fa324e4528fd19&quot; style=&quot;width: 100.0%; height: 100.0%;&quot;&gt;Sweden&lt;/div&gt;`)[0];\n",
       "                popup_20f836dafc613b47b14d6ecfe5cd1689.setContent(html_67a3480e5b974d5283fa324e4528fd19);\n",
       "            \n",
       "        \n",
       "\n",
       "        circle_marker_ef36614191f0a7b3eef8c54ace668255.bindPopup(popup_20f836dafc613b47b14d6ecfe5cd1689)\n",
       "        ;\n",
       "\n",
       "        \n",
       "    \n",
       "    \n",
       "            var circle_marker_ef0f1cdb1ac444ccbd4a32c86112a17b = L.circleMarker(\n",
       "                [-26.5, 31.5],\n",
       "                {&quot;bubblingMouseEvents&quot;: true, &quot;color&quot;: &quot;blue&quot;, &quot;dashArray&quot;: null, &quot;dashOffset&quot;: null, &quot;fill&quot;: true, &quot;fillColor&quot;: &quot;blue&quot;, &quot;fillOpacity&quot;: 0.2, &quot;fillRule&quot;: &quot;evenodd&quot;, &quot;lineCap&quot;: &quot;round&quot;, &quot;lineJoin&quot;: &quot;round&quot;, &quot;opacity&quot;: 1.0, &quot;radius&quot;: 3.6497571987716015, &quot;stroke&quot;: true, &quot;weight&quot;: 3}\n",
       "            ).addTo(map_d0ccc94c164fc7c9d30f0ae90e1f9ac5);\n",
       "        \n",
       "    \n",
       "        var popup_6cf57ee4baa1bcbca5f04ea693f28284 = L.popup({\n",
       "  &quot;maxWidth&quot;: &quot;100%&quot;,\n",
       "});\n",
       "\n",
       "        \n",
       "            \n",
       "                var html_7b61d64ae4753c6c69911d99d7c3f9fa = $(`&lt;div id=&quot;html_7b61d64ae4753c6c69911d99d7c3f9fa&quot; style=&quot;width: 100.0%; height: 100.0%;&quot;&gt;Swaziland&lt;/div&gt;`)[0];\n",
       "                popup_6cf57ee4baa1bcbca5f04ea693f28284.setContent(html_7b61d64ae4753c6c69911d99d7c3f9fa);\n",
       "            \n",
       "        \n",
       "\n",
       "        circle_marker_ef0f1cdb1ac444ccbd4a32c86112a17b.bindPopup(popup_6cf57ee4baa1bcbca5f04ea693f28284)\n",
       "        ;\n",
       "\n",
       "        \n",
       "    \n",
       "    \n",
       "            var circle_marker_a6968f32f11973e93018089bed114bf6 = L.circleMarker(\n",
       "                [-4.58333, 55.66667],\n",
       "                {&quot;bubblingMouseEvents&quot;: true, &quot;color&quot;: &quot;blue&quot;, &quot;dashArray&quot;: null, &quot;dashOffset&quot;: null, &quot;fill&quot;: true, &quot;fillColor&quot;: &quot;blue&quot;, &quot;fillOpacity&quot;: 0.2, &quot;fillRule&quot;: &quot;evenodd&quot;, &quot;lineCap&quot;: &quot;round&quot;, &quot;lineJoin&quot;: &quot;round&quot;, &quot;opacity&quot;: 1.0, &quot;radius&quot;: 0.08519075891779829, &quot;stroke&quot;: true, &quot;weight&quot;: 3}\n",
       "            ).addTo(map_d0ccc94c164fc7c9d30f0ae90e1f9ac5);\n",
       "        \n",
       "    \n",
       "        var popup_835cd5a247d3810c7f178b9570fa37ac = L.popup({\n",
       "  &quot;maxWidth&quot;: &quot;100%&quot;,\n",
       "});\n",
       "\n",
       "        \n",
       "            \n",
       "                var html_b5fc54054c4e308b742fe27c95d28725 = $(`&lt;div id=&quot;html_b5fc54054c4e308b742fe27c95d28725&quot; style=&quot;width: 100.0%; height: 100.0%;&quot;&gt;Seychelles&lt;/div&gt;`)[0];\n",
       "                popup_835cd5a247d3810c7f178b9570fa37ac.setContent(html_b5fc54054c4e308b742fe27c95d28725);\n",
       "            \n",
       "        \n",
       "\n",
       "        circle_marker_a6968f32f11973e93018089bed114bf6.bindPopup(popup_835cd5a247d3810c7f178b9570fa37ac)\n",
       "        ;\n",
       "\n",
       "        \n",
       "    \n",
       "    \n",
       "            var circle_marker_53b506b6eea4b25c9c8a20059d26a862 = L.circleMarker(\n",
       "                [35.0, 38.0],\n",
       "                {&quot;bubblingMouseEvents&quot;: true, &quot;color&quot;: &quot;red&quot;, &quot;dashArray&quot;: null, &quot;dashOffset&quot;: null, &quot;fill&quot;: true, &quot;fillColor&quot;: &quot;red&quot;, &quot;fillOpacity&quot;: 0.2, &quot;fillRule&quot;: &quot;evenodd&quot;, &quot;lineCap&quot;: &quot;round&quot;, &quot;lineJoin&quot;: &quot;round&quot;, &quot;opacity&quot;: 1.0, &quot;radius&quot;: 3.4099601627152856, &quot;stroke&quot;: true, &quot;weight&quot;: 3}\n",
       "            ).addTo(map_d0ccc94c164fc7c9d30f0ae90e1f9ac5);\n",
       "        \n",
       "    \n",
       "        var popup_ad992ed5b170b11811092a09e0449e76 = L.popup({\n",
       "  &quot;maxWidth&quot;: &quot;100%&quot;,\n",
       "});\n",
       "\n",
       "        \n",
       "            \n",
       "                var html_48a6c3226d9ec4d2edef13bbc601b610 = $(`&lt;div id=&quot;html_48a6c3226d9ec4d2edef13bbc601b610&quot; style=&quot;width: 100.0%; height: 100.0%;&quot;&gt;Syria&lt;/div&gt;`)[0];\n",
       "                popup_ad992ed5b170b11811092a09e0449e76.setContent(html_48a6c3226d9ec4d2edef13bbc601b610);\n",
       "            \n",
       "        \n",
       "\n",
       "        circle_marker_53b506b6eea4b25c9c8a20059d26a862.bindPopup(popup_ad992ed5b170b11811092a09e0449e76)\n",
       "        ;\n",
       "\n",
       "        \n",
       "    \n",
       "    \n",
       "            var circle_marker_80c8bf63560966ab901309d9c550c38f = L.circleMarker(\n",
       "                [15.0, 19.0],\n",
       "                {&quot;bubblingMouseEvents&quot;: true, &quot;color&quot;: &quot;blue&quot;, &quot;dashArray&quot;: null, &quot;dashOffset&quot;: null, &quot;fill&quot;: true, &quot;fillColor&quot;: &quot;blue&quot;, &quot;fillOpacity&quot;: 0.2, &quot;fillRule&quot;: &quot;evenodd&quot;, &quot;lineCap&quot;: &quot;round&quot;, &quot;lineJoin&quot;: &quot;round&quot;, &quot;opacity&quot;: 1.0, &quot;radius&quot;: 11.78726800446764, &quot;stroke&quot;: true, &quot;weight&quot;: 3}\n",
       "            ).addTo(map_d0ccc94c164fc7c9d30f0ae90e1f9ac5);\n",
       "        \n",
       "    \n",
       "        var popup_867b62ae760f4dec5663263a0a9a0059 = L.popup({\n",
       "  &quot;maxWidth&quot;: &quot;100%&quot;,\n",
       "});\n",
       "\n",
       "        \n",
       "            \n",
       "                var html_d40917c932cce4f1e9469c4830b1010b = $(`&lt;div id=&quot;html_d40917c932cce4f1e9469c4830b1010b&quot; style=&quot;width: 100.0%; height: 100.0%;&quot;&gt;Chad&lt;/div&gt;`)[0];\n",
       "                popup_867b62ae760f4dec5663263a0a9a0059.setContent(html_d40917c932cce4f1e9469c4830b1010b);\n",
       "            \n",
       "        \n",
       "\n",
       "        circle_marker_80c8bf63560966ab901309d9c550c38f.bindPopup(popup_867b62ae760f4dec5663263a0a9a0059)\n",
       "        ;\n",
       "\n",
       "        \n",
       "    \n",
       "    \n",
       "            var circle_marker_d1700ba90a8bc3f9d93d7d56fbc75576 = L.circleMarker(\n",
       "                [8.66667, 1.08333],\n",
       "                {&quot;bubblingMouseEvents&quot;: true, &quot;color&quot;: &quot;blue&quot;, &quot;dashArray&quot;: null, &quot;dashOffset&quot;: null, &quot;fill&quot;: true, &quot;fillColor&quot;: &quot;blue&quot;, &quot;fillOpacity&quot;: 0.2, &quot;fillRule&quot;: &quot;evenodd&quot;, &quot;lineCap&quot;: &quot;round&quot;, &quot;lineJoin&quot;: &quot;round&quot;, &quot;opacity&quot;: 1.0, &quot;radius&quot;: 10.35531519401904, &quot;stroke&quot;: true, &quot;weight&quot;: 3}\n",
       "            ).addTo(map_d0ccc94c164fc7c9d30f0ae90e1f9ac5);\n",
       "        \n",
       "    \n",
       "        var popup_6cd88f0d379c35fd34bf1c8fa03010e8 = L.popup({\n",
       "  &quot;maxWidth&quot;: &quot;100%&quot;,\n",
       "});\n",
       "\n",
       "        \n",
       "            \n",
       "                var html_f8f1b682c1815b762abb0a4049670aa5 = $(`&lt;div id=&quot;html_f8f1b682c1815b762abb0a4049670aa5&quot; style=&quot;width: 100.0%; height: 100.0%;&quot;&gt;Togo&lt;/div&gt;`)[0];\n",
       "                popup_6cd88f0d379c35fd34bf1c8fa03010e8.setContent(html_f8f1b682c1815b762abb0a4049670aa5);\n",
       "            \n",
       "        \n",
       "\n",
       "        circle_marker_d1700ba90a8bc3f9d93d7d56fbc75576.bindPopup(popup_6cd88f0d379c35fd34bf1c8fa03010e8)\n",
       "        ;\n",
       "\n",
       "        \n",
       "    \n",
       "    \n",
       "            var circle_marker_ac2f834cfbad7d768ef94a3f44e7e93a = L.circleMarker(\n",
       "                [15.5, 101.0],\n",
       "                {&quot;bubblingMouseEvents&quot;: true, &quot;color&quot;: &quot;red&quot;, &quot;dashArray&quot;: null, &quot;dashOffset&quot;: null, &quot;fill&quot;: true, &quot;fillColor&quot;: &quot;red&quot;, &quot;fillOpacity&quot;: 0.2, &quot;fillRule&quot;: &quot;evenodd&quot;, &quot;lineCap&quot;: &quot;round&quot;, &quot;lineJoin&quot;: &quot;round&quot;, &quot;opacity&quot;: 1.0, &quot;radius&quot;: 2.574986229895502, &quot;stroke&quot;: true, &quot;weight&quot;: 3}\n",
       "            ).addTo(map_d0ccc94c164fc7c9d30f0ae90e1f9ac5);\n",
       "        \n",
       "    \n",
       "        var popup_094651a798786b88aa877960ceb5c691 = L.popup({\n",
       "  &quot;maxWidth&quot;: &quot;100%&quot;,\n",
       "});\n",
       "\n",
       "        \n",
       "            \n",
       "                var html_d9df66d18ca412b8ed025598e5a0c1a3 = $(`&lt;div id=&quot;html_d9df66d18ca412b8ed025598e5a0c1a3&quot; style=&quot;width: 100.0%; height: 100.0%;&quot;&gt;Thailand&lt;/div&gt;`)[0];\n",
       "                popup_094651a798786b88aa877960ceb5c691.setContent(html_d9df66d18ca412b8ed025598e5a0c1a3);\n",
       "            \n",
       "        \n",
       "\n",
       "        circle_marker_ac2f834cfbad7d768ef94a3f44e7e93a.bindPopup(popup_094651a798786b88aa877960ceb5c691)\n",
       "        ;\n",
       "\n",
       "        \n",
       "    \n",
       "    \n",
       "            var circle_marker_6449cf267370c67b8d6674faddf71419 = L.circleMarker(\n",
       "                [39.0, 71.0],\n",
       "                {&quot;bubblingMouseEvents&quot;: true, &quot;color&quot;: &quot;red&quot;, &quot;dashArray&quot;: null, &quot;dashOffset&quot;: null, &quot;fill&quot;: true, &quot;fillColor&quot;: &quot;red&quot;, &quot;fillOpacity&quot;: 0.2, &quot;fillRule&quot;: &quot;evenodd&quot;, &quot;lineCap&quot;: &quot;round&quot;, &quot;lineJoin&quot;: &quot;round&quot;, &quot;opacity&quot;: 1.0, &quot;radius&quot;: 3.937311718658916, &quot;stroke&quot;: true, &quot;weight&quot;: 3}\n",
       "            ).addTo(map_d0ccc94c164fc7c9d30f0ae90e1f9ac5);\n",
       "        \n",
       "    \n",
       "        var popup_0b01ffa768f31f3587a02c3758cbb75e = L.popup({\n",
       "  &quot;maxWidth&quot;: &quot;100%&quot;,\n",
       "});\n",
       "\n",
       "        \n",
       "            \n",
       "                var html_d59bcacea98dd211a1844809b086286f = $(`&lt;div id=&quot;html_d59bcacea98dd211a1844809b086286f&quot; style=&quot;width: 100.0%; height: 100.0%;&quot;&gt;Tajikistan&lt;/div&gt;`)[0];\n",
       "                popup_0b01ffa768f31f3587a02c3758cbb75e.setContent(html_d59bcacea98dd211a1844809b086286f);\n",
       "            \n",
       "        \n",
       "\n",
       "        circle_marker_6449cf267370c67b8d6674faddf71419.bindPopup(popup_0b01ffa768f31f3587a02c3758cbb75e)\n",
       "        ;\n",
       "\n",
       "        \n",
       "    \n",
       "    \n",
       "            var circle_marker_ea0f88b93bbd2cccafeb390e52753381 = L.circleMarker(\n",
       "                [39.75, 59.66667],\n",
       "                {&quot;bubblingMouseEvents&quot;: true, &quot;color&quot;: &quot;red&quot;, &quot;dashArray&quot;: null, &quot;dashOffset&quot;: null, &quot;fill&quot;: true, &quot;fillColor&quot;: &quot;red&quot;, &quot;fillOpacity&quot;: 0.2, &quot;fillRule&quot;: &quot;evenodd&quot;, &quot;lineCap&quot;: &quot;round&quot;, &quot;lineJoin&quot;: &quot;round&quot;, &quot;opacity&quot;: 1.0, &quot;radius&quot;: 6.339658544041773, &quot;stroke&quot;: true, &quot;weight&quot;: 3}\n",
       "            ).addTo(map_d0ccc94c164fc7c9d30f0ae90e1f9ac5);\n",
       "        \n",
       "    \n",
       "        var popup_1a3d59a3f2a921a2bcbd3ced8305ec15 = L.popup({\n",
       "  &quot;maxWidth&quot;: &quot;100%&quot;,\n",
       "});\n",
       "\n",
       "        \n",
       "            \n",
       "                var html_fe8695fec27a20381168f565294f7876 = $(`&lt;div id=&quot;html_fe8695fec27a20381168f565294f7876&quot; style=&quot;width: 100.0%; height: 100.0%;&quot;&gt;Turkmenistan&lt;/div&gt;`)[0];\n",
       "                popup_1a3d59a3f2a921a2bcbd3ced8305ec15.setContent(html_fe8695fec27a20381168f565294f7876);\n",
       "            \n",
       "        \n",
       "\n",
       "        circle_marker_ea0f88b93bbd2cccafeb390e52753381.bindPopup(popup_1a3d59a3f2a921a2bcbd3ced8305ec15)\n",
       "        ;\n",
       "\n",
       "        \n",
       "    \n",
       "    \n",
       "            var circle_marker_10638d9b756be82b4a97f868a0533f7c = L.circleMarker(\n",
       "                [-8.83333, 125.75],\n",
       "                {&quot;bubblingMouseEvents&quot;: true, &quot;color&quot;: &quot;red&quot;, &quot;dashArray&quot;: null, &quot;dashOffset&quot;: null, &quot;fill&quot;: true, &quot;fillColor&quot;: &quot;red&quot;, &quot;fillOpacity&quot;: 0.2, &quot;fillRule&quot;: &quot;evenodd&quot;, &quot;lineCap&quot;: &quot;round&quot;, &quot;lineJoin&quot;: &quot;round&quot;, &quot;opacity&quot;: 1.0, &quot;radius&quot;: 3.4838832413106937, &quot;stroke&quot;: true, &quot;weight&quot;: 3}\n",
       "            ).addTo(map_d0ccc94c164fc7c9d30f0ae90e1f9ac5);\n",
       "        \n",
       "    \n",
       "        var popup_c33a32bb47236f3187efde53c8795e7a = L.popup({\n",
       "  &quot;maxWidth&quot;: &quot;100%&quot;,\n",
       "});\n",
       "\n",
       "        \n",
       "            \n",
       "                var html_206c33046bbbb40ca3252705ddaea2de = $(`&lt;div id=&quot;html_206c33046bbbb40ca3252705ddaea2de&quot; style=&quot;width: 100.0%; height: 100.0%;&quot;&gt;Timor-Leste&lt;/div&gt;`)[0];\n",
       "                popup_c33a32bb47236f3187efde53c8795e7a.setContent(html_206c33046bbbb40ca3252705ddaea2de);\n",
       "            \n",
       "        \n",
       "\n",
       "        circle_marker_10638d9b756be82b4a97f868a0533f7c.bindPopup(popup_c33a32bb47236f3187efde53c8795e7a)\n",
       "        ;\n",
       "\n",
       "        \n",
       "    \n",
       "    \n",
       "            var circle_marker_733362f44f83031615aef6c9d503e46e = L.circleMarker(\n",
       "                [11.0, -61.0],\n",
       "                {&quot;bubblingMouseEvents&quot;: true, &quot;color&quot;: &quot;green&quot;, &quot;dashArray&quot;: null, &quot;dashOffset&quot;: null, &quot;fill&quot;: true, &quot;fillColor&quot;: &quot;green&quot;, &quot;fillOpacity&quot;: 0.2, &quot;fillRule&quot;: &quot;evenodd&quot;, &quot;lineCap&quot;: &quot;round&quot;, &quot;lineJoin&quot;: &quot;round&quot;, &quot;opacity&quot;: 1.0, &quot;radius&quot;: 1.3261575894870345, &quot;stroke&quot;: true, &quot;weight&quot;: 3}\n",
       "            ).addTo(map_d0ccc94c164fc7c9d30f0ae90e1f9ac5);\n",
       "        \n",
       "    \n",
       "        var popup_a4afca8820bcb7a42914e98e0ff117ae = L.popup({\n",
       "  &quot;maxWidth&quot;: &quot;100%&quot;,\n",
       "});\n",
       "\n",
       "        \n",
       "            \n",
       "                var html_b2ea2da83f44d32af8b854da0ceecc37 = $(`&lt;div id=&quot;html_b2ea2da83f44d32af8b854da0ceecc37&quot; style=&quot;width: 100.0%; height: 100.0%;&quot;&gt;Trinidad and Tobago&lt;/div&gt;`)[0];\n",
       "                popup_a4afca8820bcb7a42914e98e0ff117ae.setContent(html_b2ea2da83f44d32af8b854da0ceecc37);\n",
       "            \n",
       "        \n",
       "\n",
       "        circle_marker_733362f44f83031615aef6c9d503e46e.bindPopup(popup_a4afca8820bcb7a42914e98e0ff117ae)\n",
       "        ;\n",
       "\n",
       "        \n",
       "    \n",
       "    \n",
       "            var circle_marker_d513dcc9ef9475c8bf552b135b526a32 = L.circleMarker(\n",
       "                [34.0, 9.0],\n",
       "                {&quot;bubblingMouseEvents&quot;: true, &quot;color&quot;: &quot;blue&quot;, &quot;dashArray&quot;: null, &quot;dashOffset&quot;: null, &quot;fill&quot;: true, &quot;fillColor&quot;: &quot;blue&quot;, &quot;fillOpacity&quot;: 0.2, &quot;fillRule&quot;: &quot;evenodd&quot;, &quot;lineCap&quot;: &quot;round&quot;, &quot;lineJoin&quot;: &quot;round&quot;, &quot;opacity&quot;: 1.0, &quot;radius&quot;: 1.5827604478426454, &quot;stroke&quot;: true, &quot;weight&quot;: 3}\n",
       "            ).addTo(map_d0ccc94c164fc7c9d30f0ae90e1f9ac5);\n",
       "        \n",
       "    \n",
       "        var popup_5f8f468cfbc8a90b3500d3e5ff2a4f4b = L.popup({\n",
       "  &quot;maxWidth&quot;: &quot;100%&quot;,\n",
       "});\n",
       "\n",
       "        \n",
       "            \n",
       "                var html_e5eccf423f75a90781bb9b4220a8a0dd = $(`&lt;div id=&quot;html_e5eccf423f75a90781bb9b4220a8a0dd&quot; style=&quot;width: 100.0%; height: 100.0%;&quot;&gt;Tunisia&lt;/div&gt;`)[0];\n",
       "                popup_5f8f468cfbc8a90b3500d3e5ff2a4f4b.setContent(html_e5eccf423f75a90781bb9b4220a8a0dd);\n",
       "            \n",
       "        \n",
       "\n",
       "        circle_marker_d513dcc9ef9475c8bf552b135b526a32.bindPopup(popup_5f8f468cfbc8a90b3500d3e5ff2a4f4b)\n",
       "        ;\n",
       "\n",
       "        \n",
       "    \n",
       "    \n",
       "            var circle_marker_47be78db34f097d0716efad1c8977e2b = L.circleMarker(\n",
       "                [39.0, 35.0],\n",
       "                {&quot;bubblingMouseEvents&quot;: true, &quot;color&quot;: &quot;black&quot;, &quot;dashArray&quot;: null, &quot;dashOffset&quot;: null, &quot;fill&quot;: true, &quot;fillColor&quot;: &quot;black&quot;, &quot;fillOpacity&quot;: 0.2, &quot;fillRule&quot;: &quot;evenodd&quot;, &quot;lineCap&quot;: &quot;round&quot;, &quot;lineJoin&quot;: &quot;round&quot;, &quot;opacity&quot;: 1.0, &quot;radius&quot;: 1.3571310413650737, &quot;stroke&quot;: true, &quot;weight&quot;: 3}\n",
       "            ).addTo(map_d0ccc94c164fc7c9d30f0ae90e1f9ac5);\n",
       "        \n",
       "    \n",
       "        var popup_6433368db39b146e3db4d445049927f5 = L.popup({\n",
       "  &quot;maxWidth&quot;: &quot;100%&quot;,\n",
       "});\n",
       "\n",
       "        \n",
       "            \n",
       "                var html_a547584e312684f480c6e6601d9084bf = $(`&lt;div id=&quot;html_a547584e312684f480c6e6601d9084bf&quot; style=&quot;width: 100.0%; height: 100.0%;&quot;&gt;Turkey&lt;/div&gt;`)[0];\n",
       "                popup_6433368db39b146e3db4d445049927f5.setContent(html_a547584e312684f480c6e6601d9084bf);\n",
       "            \n",
       "        \n",
       "\n",
       "        circle_marker_47be78db34f097d0716efad1c8977e2b.bindPopup(popup_6433368db39b146e3db4d445049927f5)\n",
       "        ;\n",
       "\n",
       "        \n",
       "    \n",
       "    \n",
       "            var circle_marker_aa4e2d404832fcf15d287b91e0b48f3a = L.circleMarker(\n",
       "                [-6.0, 35.0],\n",
       "                {&quot;bubblingMouseEvents&quot;: true, &quot;color&quot;: &quot;blue&quot;, &quot;dashArray&quot;: null, &quot;dashOffset&quot;: null, &quot;fill&quot;: true, &quot;fillColor&quot;: &quot;blue&quot;, &quot;fillOpacity&quot;: 0.2, &quot;fillRule&quot;: &quot;evenodd&quot;, &quot;lineCap&quot;: &quot;round&quot;, &quot;lineJoin&quot;: &quot;round&quot;, &quot;opacity&quot;: 1.0, &quot;radius&quot;: 24.774201262059734, &quot;stroke&quot;: true, &quot;weight&quot;: 3}\n",
       "            ).addTo(map_d0ccc94c164fc7c9d30f0ae90e1f9ac5);\n",
       "        \n",
       "    \n",
       "        var popup_0a35b0d597e939307384a5401043795a = L.popup({\n",
       "  &quot;maxWidth&quot;: &quot;100%&quot;,\n",
       "});\n",
       "\n",
       "        \n",
       "            \n",
       "                var html_d37be42f84a5780b94e7289d7529129a = $(`&lt;div id=&quot;html_d37be42f84a5780b94e7289d7529129a&quot; style=&quot;width: 100.0%; height: 100.0%;&quot;&gt;Tanzania&lt;/div&gt;`)[0];\n",
       "                popup_0a35b0d597e939307384a5401043795a.setContent(html_d37be42f84a5780b94e7289d7529129a);\n",
       "            \n",
       "        \n",
       "\n",
       "        circle_marker_aa4e2d404832fcf15d287b91e0b48f3a.bindPopup(popup_0a35b0d597e939307384a5401043795a)\n",
       "        ;\n",
       "\n",
       "        \n",
       "    \n",
       "    \n",
       "            var circle_marker_1e026f1503ff574e40c6e4ffccb3a340 = L.circleMarker(\n",
       "                [1.25, 32.5],\n",
       "                {&quot;bubblingMouseEvents&quot;: true, &quot;color&quot;: &quot;blue&quot;, &quot;dashArray&quot;: null, &quot;dashOffset&quot;: null, &quot;fill&quot;: true, &quot;fillColor&quot;: &quot;blue&quot;, &quot;fillOpacity&quot;: 0.2, &quot;fillRule&quot;: &quot;evenodd&quot;, &quot;lineCap&quot;: &quot;round&quot;, &quot;lineJoin&quot;: &quot;round&quot;, &quot;opacity&quot;: 1.0, &quot;radius&quot;: 19.74773153351201, &quot;stroke&quot;: true, &quot;weight&quot;: 3}\n",
       "            ).addTo(map_d0ccc94c164fc7c9d30f0ae90e1f9ac5);\n",
       "        \n",
       "    \n",
       "        var popup_ee79780990e47b94fd6c695222b34fdc = L.popup({\n",
       "  &quot;maxWidth&quot;: &quot;100%&quot;,\n",
       "});\n",
       "\n",
       "        \n",
       "            \n",
       "                var html_41f8f47ea4ae9478db9ee2d2200185aa = $(`&lt;div id=&quot;html_41f8f47ea4ae9478db9ee2d2200185aa&quot; style=&quot;width: 100.0%; height: 100.0%;&quot;&gt;Uganda&lt;/div&gt;`)[0];\n",
       "                popup_ee79780990e47b94fd6c695222b34fdc.setContent(html_41f8f47ea4ae9478db9ee2d2200185aa);\n",
       "            \n",
       "        \n",
       "\n",
       "        circle_marker_1e026f1503ff574e40c6e4ffccb3a340.bindPopup(popup_ee79780990e47b94fd6c695222b34fdc)\n",
       "        ;\n",
       "\n",
       "        \n",
       "    \n",
       "    \n",
       "            var circle_marker_810061d85ba95be6937d30e0fe1a3e9b = L.circleMarker(\n",
       "                [49.0, 32.0],\n",
       "                {&quot;bubblingMouseEvents&quot;: true, &quot;color&quot;: &quot;black&quot;, &quot;dashArray&quot;: null, &quot;dashOffset&quot;: null, &quot;fill&quot;: true, &quot;fillColor&quot;: &quot;black&quot;, &quot;fillOpacity&quot;: 0.2, &quot;fillRule&quot;: &quot;evenodd&quot;, &quot;lineCap&quot;: &quot;round&quot;, &quot;lineJoin&quot;: &quot;round&quot;, &quot;opacity&quot;: 1.0, &quot;stroke&quot;: true, &quot;weight&quot;: 3}\n",
       "            ).addTo(map_d0ccc94c164fc7c9d30f0ae90e1f9ac5);\n",
       "        \n",
       "    \n",
       "        var popup_f0b05487d21485115c789d5465d04f21 = L.popup({\n",
       "  &quot;maxWidth&quot;: &quot;100%&quot;,\n",
       "});\n",
       "\n",
       "        \n",
       "            \n",
       "                var html_5e7bef924c31f51487ff5d284fcd8e6f = $(`&lt;div id=&quot;html_5e7bef924c31f51487ff5d284fcd8e6f&quot; style=&quot;width: 100.0%; height: 100.0%;&quot;&gt;Ukraine&lt;/div&gt;`)[0];\n",
       "                popup_f0b05487d21485115c789d5465d04f21.setContent(html_5e7bef924c31f51487ff5d284fcd8e6f);\n",
       "            \n",
       "        \n",
       "\n",
       "        circle_marker_810061d85ba95be6937d30e0fe1a3e9b.bindPopup(popup_f0b05487d21485115c789d5465d04f21)\n",
       "        ;\n",
       "\n",
       "        \n",
       "    \n",
       "    \n",
       "            var circle_marker_bb19eeae1bf8b111198aa484b21b8113 = L.circleMarker(\n",
       "                [-33.0, -56.0],\n",
       "                {&quot;bubblingMouseEvents&quot;: true, &quot;color&quot;: &quot;green&quot;, &quot;dashArray&quot;: null, &quot;dashOffset&quot;: null, &quot;fill&quot;: true, &quot;fillColor&quot;: &quot;green&quot;, &quot;fillOpacity&quot;: 0.2, &quot;fillRule&quot;: &quot;evenodd&quot;, &quot;lineCap&quot;: &quot;round&quot;, &quot;lineJoin&quot;: &quot;round&quot;, &quot;opacity&quot;: 1.0, &quot;radius&quot;: 0.5757498723159213, &quot;stroke&quot;: true, &quot;weight&quot;: 3}\n",
       "            ).addTo(map_d0ccc94c164fc7c9d30f0ae90e1f9ac5);\n",
       "        \n",
       "    \n",
       "        var popup_94ec19ea24993e5dbbb1749dc56aff95 = L.popup({\n",
       "  &quot;maxWidth&quot;: &quot;100%&quot;,\n",
       "});\n",
       "\n",
       "        \n",
       "            \n",
       "                var html_8aee3b88dd57d296811b46d0659577f3 = $(`&lt;div id=&quot;html_8aee3b88dd57d296811b46d0659577f3&quot; style=&quot;width: 100.0%; height: 100.0%;&quot;&gt;Uruguay&lt;/div&gt;`)[0];\n",
       "                popup_94ec19ea24993e5dbbb1749dc56aff95.setContent(html_8aee3b88dd57d296811b46d0659577f3);\n",
       "            \n",
       "        \n",
       "\n",
       "        circle_marker_bb19eeae1bf8b111198aa484b21b8113.bindPopup(popup_94ec19ea24993e5dbbb1749dc56aff95)\n",
       "        ;\n",
       "\n",
       "        \n",
       "    \n",
       "    \n",
       "            var circle_marker_fee146f09ba01ba216961db8a50a8884 = L.circleMarker(\n",
       "                [39.76, -98.5],\n",
       "                {&quot;bubblingMouseEvents&quot;: true, &quot;color&quot;: &quot;green&quot;, &quot;dashArray&quot;: null, &quot;dashOffset&quot;: null, &quot;fill&quot;: true, &quot;fillColor&quot;: &quot;green&quot;, &quot;fillOpacity&quot;: 0.2, &quot;fillRule&quot;: &quot;evenodd&quot;, &quot;lineCap&quot;: &quot;round&quot;, &quot;lineJoin&quot;: &quot;round&quot;, &quot;opacity&quot;: 1.0, &quot;radius&quot;: 12.816534715641207, &quot;stroke&quot;: true, &quot;weight&quot;: 3}\n",
       "            ).addTo(map_d0ccc94c164fc7c9d30f0ae90e1f9ac5);\n",
       "        \n",
       "    \n",
       "        var popup_54b9a3eb5d98d1f972e3c553da3882ec = L.popup({\n",
       "  &quot;maxWidth&quot;: &quot;100%&quot;,\n",
       "});\n",
       "\n",
       "        \n",
       "            \n",
       "                var html_74060a6bfdded2d91087e53671c90e5f = $(`&lt;div id=&quot;html_74060a6bfdded2d91087e53671c90e5f&quot; style=&quot;width: 100.0%; height: 100.0%;&quot;&gt;United States&lt;/div&gt;`)[0];\n",
       "                popup_54b9a3eb5d98d1f972e3c553da3882ec.setContent(html_74060a6bfdded2d91087e53671c90e5f);\n",
       "            \n",
       "        \n",
       "\n",
       "        circle_marker_fee146f09ba01ba216961db8a50a8884.bindPopup(popup_54b9a3eb5d98d1f972e3c553da3882ec)\n",
       "        ;\n",
       "\n",
       "        \n",
       "    \n",
       "    \n",
       "            var circle_marker_eef68e1b9fc31efeba422324868132f8 = L.circleMarker(\n",
       "                [8.0, -66.0],\n",
       "                {&quot;bubblingMouseEvents&quot;: true, &quot;color&quot;: &quot;green&quot;, &quot;dashArray&quot;: null, &quot;dashOffset&quot;: null, &quot;fill&quot;: true, &quot;fillColor&quot;: &quot;green&quot;, &quot;fillOpacity&quot;: 0.2, &quot;fillRule&quot;: &quot;evenodd&quot;, &quot;lineCap&quot;: &quot;round&quot;, &quot;lineJoin&quot;: &quot;round&quot;, &quot;opacity&quot;: 1.0, &quot;radius&quot;: 7.747224893287904, &quot;stroke&quot;: true, &quot;weight&quot;: 3}\n",
       "            ).addTo(map_d0ccc94c164fc7c9d30f0ae90e1f9ac5);\n",
       "        \n",
       "    \n",
       "        var popup_941ed0549d47c2a72b5e0eb9652bffe3 = L.popup({\n",
       "  &quot;maxWidth&quot;: &quot;100%&quot;,\n",
       "});\n",
       "\n",
       "        \n",
       "            \n",
       "                var html_a8886d80a4bdf1b4fafc778e3b68ad14 = $(`&lt;div id=&quot;html_a8886d80a4bdf1b4fafc778e3b68ad14&quot; style=&quot;width: 100.0%; height: 100.0%;&quot;&gt;Venezuela&lt;/div&gt;`)[0];\n",
       "                popup_941ed0549d47c2a72b5e0eb9652bffe3.setContent(html_a8886d80a4bdf1b4fafc778e3b68ad14);\n",
       "            \n",
       "        \n",
       "\n",
       "        circle_marker_eef68e1b9fc31efeba422324868132f8.bindPopup(popup_941ed0549d47c2a72b5e0eb9652bffe3)\n",
       "        ;\n",
       "\n",
       "        \n",
       "    \n",
       "    \n",
       "            var circle_marker_ebf25a5f37f338bd224790f0257a6659 = L.circleMarker(\n",
       "                [16.16667, 107.83333],\n",
       "                {&quot;bubblingMouseEvents&quot;: true, &quot;color&quot;: &quot;red&quot;, &quot;dashArray&quot;: null, &quot;dashOffset&quot;: null, &quot;fill&quot;: true, &quot;fillColor&quot;: &quot;red&quot;, &quot;fillOpacity&quot;: 0.2, &quot;fillRule&quot;: &quot;evenodd&quot;, &quot;lineCap&quot;: &quot;round&quot;, &quot;lineJoin&quot;: &quot;round&quot;, &quot;opacity&quot;: 1.0, &quot;radius&quot;: 8.265735545694868, &quot;stroke&quot;: true, &quot;weight&quot;: 3}\n",
       "            ).addTo(map_d0ccc94c164fc7c9d30f0ae90e1f9ac5);\n",
       "        \n",
       "    \n",
       "        var popup_3e499e4167237bb2ea0edc8a22f0f342 = L.popup({\n",
       "  &quot;maxWidth&quot;: &quot;100%&quot;,\n",
       "});\n",
       "\n",
       "        \n",
       "            \n",
       "                var html_7d46a06a870e8e02bdfc021dd11373c0 = $(`&lt;div id=&quot;html_7d46a06a870e8e02bdfc021dd11373c0&quot; style=&quot;width: 100.0%; height: 100.0%;&quot;&gt;Vietnam&lt;/div&gt;`)[0];\n",
       "                popup_3e499e4167237bb2ea0edc8a22f0f342.setContent(html_7d46a06a870e8e02bdfc021dd11373c0);\n",
       "            \n",
       "        \n",
       "\n",
       "        circle_marker_ebf25a5f37f338bd224790f0257a6659.bindPopup(popup_3e499e4167237bb2ea0edc8a22f0f342)\n",
       "        ;\n",
       "\n",
       "        \n",
       "    \n",
       "    \n",
       "            var circle_marker_f61f647443eebbd26d82bf8923b46546 = L.circleMarker(\n",
       "                [15.5, 47.5],\n",
       "                {&quot;bubblingMouseEvents&quot;: true, &quot;color&quot;: &quot;red&quot;, &quot;dashArray&quot;: null, &quot;dashOffset&quot;: null, &quot;fill&quot;: true, &quot;fillColor&quot;: &quot;red&quot;, &quot;fillOpacity&quot;: 0.2, &quot;fillRule&quot;: &quot;evenodd&quot;, &quot;lineCap&quot;: &quot;round&quot;, &quot;lineJoin&quot;: &quot;round&quot;, &quot;opacity&quot;: 1.0, &quot;radius&quot;: 8.490153480403475, &quot;stroke&quot;: true, &quot;weight&quot;: 3}\n",
       "            ).addTo(map_d0ccc94c164fc7c9d30f0ae90e1f9ac5);\n",
       "        \n",
       "    \n",
       "        var popup_4653922179b0fd0b8776365e6c9883a9 = L.popup({\n",
       "  &quot;maxWidth&quot;: &quot;100%&quot;,\n",
       "});\n",
       "\n",
       "        \n",
       "            \n",
       "                var html_73a0bc6e4490f1bfc4f91427cdb239e3 = $(`&lt;div id=&quot;html_73a0bc6e4490f1bfc4f91427cdb239e3&quot; style=&quot;width: 100.0%; height: 100.0%;&quot;&gt;Yemen&lt;/div&gt;`)[0];\n",
       "                popup_4653922179b0fd0b8776365e6c9883a9.setContent(html_73a0bc6e4490f1bfc4f91427cdb239e3);\n",
       "            \n",
       "        \n",
       "\n",
       "        circle_marker_f61f647443eebbd26d82bf8923b46546.bindPopup(popup_4653922179b0fd0b8776365e6c9883a9)\n",
       "        ;\n",
       "\n",
       "        \n",
       "    \n",
       "    \n",
       "            var circle_marker_4f549e4540f19a735be6b09dad8c5279 = L.circleMarker(\n",
       "                [-29.0, 24.0],\n",
       "                {&quot;bubblingMouseEvents&quot;: true, &quot;color&quot;: &quot;blue&quot;, &quot;dashArray&quot;: null, &quot;dashOffset&quot;: null, &quot;fill&quot;: true, &quot;fillColor&quot;: &quot;blue&quot;, &quot;fillOpacity&quot;: 0.2, &quot;fillRule&quot;: &quot;evenodd&quot;, &quot;lineCap&quot;: &quot;round&quot;, &quot;lineJoin&quot;: &quot;round&quot;, &quot;opacity&quot;: 1.0, &quot;radius&quot;: 12.392457273107668, &quot;stroke&quot;: true, &quot;weight&quot;: 3}\n",
       "            ).addTo(map_d0ccc94c164fc7c9d30f0ae90e1f9ac5);\n",
       "        \n",
       "    \n",
       "        var popup_71854e741f4d03816015ff6fa4306432 = L.popup({\n",
       "  &quot;maxWidth&quot;: &quot;100%&quot;,\n",
       "});\n",
       "\n",
       "        \n",
       "            \n",
       "                var html_3779fb65343c35616f2e324d306365c9 = $(`&lt;div id=&quot;html_3779fb65343c35616f2e324d306365c9&quot; style=&quot;width: 100.0%; height: 100.0%;&quot;&gt;South Africa&lt;/div&gt;`)[0];\n",
       "                popup_71854e741f4d03816015ff6fa4306432.setContent(html_3779fb65343c35616f2e324d306365c9);\n",
       "            \n",
       "        \n",
       "\n",
       "        circle_marker_4f549e4540f19a735be6b09dad8c5279.bindPopup(popup_71854e741f4d03816015ff6fa4306432)\n",
       "        ;\n",
       "\n",
       "        \n",
       "    \n",
       "    \n",
       "            var circle_marker_b96e32e0657738fd37e8f4c410bded88 = L.circleMarker(\n",
       "                [-14.33333, 28.5],\n",
       "                {&quot;bubblingMouseEvents&quot;: true, &quot;color&quot;: &quot;blue&quot;, &quot;dashArray&quot;: null, &quot;dashOffset&quot;: null, &quot;fill&quot;: true, &quot;fillColor&quot;: &quot;blue&quot;, &quot;fillOpacity&quot;: 0.2, &quot;fillRule&quot;: &quot;evenodd&quot;, &quot;lineCap&quot;: &quot;round&quot;, &quot;lineJoin&quot;: &quot;round&quot;, &quot;opacity&quot;: 1.0, &quot;radius&quot;: 17.940846416721868, &quot;stroke&quot;: true, &quot;weight&quot;: 3}\n",
       "            ).addTo(map_d0ccc94c164fc7c9d30f0ae90e1f9ac5);\n",
       "        \n",
       "    \n",
       "        var popup_7ccfb7e54378a10b0e943187de52bd4b = L.popup({\n",
       "  &quot;maxWidth&quot;: &quot;100%&quot;,\n",
       "});\n",
       "\n",
       "        \n",
       "            \n",
       "                var html_3a7d00bce4e23d6f3b3102e84faa70bc = $(`&lt;div id=&quot;html_3a7d00bce4e23d6f3b3102e84faa70bc&quot; style=&quot;width: 100.0%; height: 100.0%;&quot;&gt;Zambia&lt;/div&gt;`)[0];\n",
       "                popup_7ccfb7e54378a10b0e943187de52bd4b.setContent(html_3a7d00bce4e23d6f3b3102e84faa70bc);\n",
       "            \n",
       "        \n",
       "\n",
       "        circle_marker_b96e32e0657738fd37e8f4c410bded88.bindPopup(popup_7ccfb7e54378a10b0e943187de52bd4b)\n",
       "        ;\n",
       "\n",
       "        \n",
       "    \n",
       "&lt;/script&gt;\n",
       "&lt;/html&gt;\" style=\"position:absolute;width:100%;height:100%;left:0;top:0;border:none !important;\" allowfullscreen webkitallowfullscreen mozallowfullscreen></iframe></div></div>"
      ],
      "text/plain": [
       "<datascience.maps.Map at 0x7add2c89a960>"
      ]
     },
     "execution_count": 160,
     "metadata": {},
     "output_type": "execute_result"
    }
   ],
   "source": [
    "# It may take a few seconds to generate this map.\n",
    "colors = {'africa': 'blue', 'europe': 'black', 'asia': 'red', 'americas': 'green'}\n",
    "scaled = poverty_map.with_columns(\n",
    "    'labels', poverty_map.column('name'),\n",
    "    'colors', poverty_map.apply(colors.get, 'region'),\n",
    "    'areas', 1e-4 * poverty_map.column('poverty_total')\n",
    ").drop('name', 'region', 'poverty_total')\n",
    "\n",
    "Circle.map_table(scaled)"
   ]
  },
  {
   "cell_type": "markdown",
   "metadata": {
    "deletable": false,
    "editable": false
   },
   "source": [
    "Although people lived in extreme poverty throughout the world in 2010 (with more than 5 million in the United States), the largest numbers were in Asia and Africa."
   ]
  },
  {
   "cell_type": "markdown",
   "metadata": {},
   "source": [
    "**Question 5.** Assign `largest` to a two-column table with the `name` (not the 3-letter code) and `poverty_total` of the 10 countries with the largest number of people living in extreme poverty.\n",
    "\n",
    "*Hint*: How can we use `take` and `np.arange` in conjunction with each other?\n"
   ]
  },
  {
   "cell_type": "code",
   "execution_count": 161,
   "metadata": {
    "deletable": false,
    "tags": []
   },
   "outputs": [
    {
     "data": {
      "text/html": [
       "<table border=\"1\" class=\"dataframe\">\n",
       "    <thead>\n",
       "        <tr>\n",
       "            <th>name</th> <th>poverty_total</th>\n",
       "        </tr>\n",
       "    </thead>\n",
       "    <tbody>\n",
       "        <tr>\n",
       "            <td>India           </td> <td>291,660,639.00</td>\n",
       "        </tr>\n",
       "        <tr>\n",
       "            <td>Nigeria         </td> <td>98,319,537.00 </td>\n",
       "        </tr>\n",
       "        <tr>\n",
       "            <td>China           </td> <td>85,687,544.00 </td>\n",
       "        </tr>\n",
       "        <tr>\n",
       "            <td>Bangladesh      </td> <td>63,826,375.00 </td>\n",
       "        </tr>\n",
       "        <tr>\n",
       "            <td>Congo, Dem. Rep.</td> <td>56,635,412.00 </td>\n",
       "        </tr>\n",
       "        <tr>\n",
       "            <td>Indonesia       </td> <td>39,177,145.00 </td>\n",
       "        </tr>\n",
       "        <tr>\n",
       "            <td>Ethiopia        </td> <td>32,242,742.00 </td>\n",
       "        </tr>\n",
       "        <tr>\n",
       "            <td>Pakistan        </td> <td>22,858,700.00 </td>\n",
       "        </tr>\n",
       "        <tr>\n",
       "            <td>Tanzania        </td> <td>19,281,872.00 </td>\n",
       "        </tr>\n",
       "        <tr>\n",
       "            <td>Madagascar      </td> <td>18,543,643.00 </td>\n",
       "        </tr>\n",
       "    </tbody>\n",
       "</table>"
      ],
      "text/plain": [
       "name             | poverty_total\n",
       "India            | 291,660,639.00\n",
       "Nigeria          | 98,319,537.00\n",
       "China            | 85,687,544.00\n",
       "Bangladesh       | 63,826,375.00\n",
       "Congo, Dem. Rep. | 56,635,412.00\n",
       "Indonesia        | 39,177,145.00\n",
       "Ethiopia         | 32,242,742.00\n",
       "Pakistan         | 22,858,700.00\n",
       "Tanzania         | 19,281,872.00\n",
       "Madagascar       | 18,543,643.00"
      ]
     },
     "execution_count": 161,
     "metadata": {},
     "output_type": "execute_result"
    }
   ],
   "source": [
    "largest = poverty_map.sort('poverty_total', descending=True).take(np.arange(10)).drop('latitude', 'longitude', 'region')\n",
    "largest.set_format('poverty_total', NumberFormatter)"
   ]
  },
  {
   "cell_type": "code",
   "execution_count": 162,
   "metadata": {
    "deletable": false,
    "editable": false
   },
   "outputs": [
    {
     "data": {
      "text/html": [
       "<p><strong><pre style='display: inline;'>q2_5</pre></strong> passed! 🌈</p>"
      ],
      "text/plain": [
       "q2_5 results: All test cases passed!"
      ]
     },
     "execution_count": 162,
     "metadata": {},
     "output_type": "execute_result"
    }
   ],
   "source": [
    "grader.check(\"q2_5\")"
   ]
  },
  {
   "cell_type": "markdown",
   "metadata": {},
   "source": [
    "<!-- BEGIN QUESTION -->\n",
    "\n",
    "**Question 6.** It is important to study the absolute number of people living in poverty, not just the percent. The absolute number is an important factor in determining the amount of resources needed to support people living in poverty. In the next two questions you will explore this.\n",
    "\n",
    "In Question 7, you will be asked to write a function called `poverty_timeline` that takes **the name of a country** as its argument (not the Alpha-3 country code). It should draw a line plot of the number of people living in poverty in that country with time on the horizontal axis. The line plot should have a point for each row in the poverty table for that country. To compute the population living in poverty from a poverty percentage, multiply by the population of the country **in that year**.\n",
    "\n",
    "For this question, write out a generalized process for Question 7. Make sure to answer/include the following: \n",
    "- What should this function output? \n",
    "- Additionally, **make a numbered list** of the steps you take within the function body. If you added/edited, say, 5 lines in the function body, then it would be good to see the numbers 1 through 5 describing what you did (i.e. what functions/methods you used) in each line and why.\n",
    "\n",
    "As a tip, after finishing question 7, we recommend polishing up your description of the steps for this question."
   ]
  },
  {
   "cell_type": "markdown",
   "metadata": {},
   "source": [
    "1. Created a separate table named poverty_2 by joining poverty and countries\n",
    "2. The function outpuc now selects a country’s poverty data\n",
    "3. Calculates the total number of people in poverty each year\n",
    "4. Plot those totals over time to show how the number of people living in poverty has changed"
   ]
  },
  {
   "cell_type": "markdown",
   "metadata": {
    "deletable": false
   },
   "source": [
    "<!-- END QUESTION -->\n",
    "\n",
    "<!-- BEGIN QUESTION -->\n",
    "\n",
    "**Question 7.** Now, we'll actually write the function called `poverty_timeline`. Recall that `poverty_timeline` takes **the name of a country** as its argument (not the Alpha-3 country code). It should draw a line plot of the number of people living in poverty in that country with time on the horizontal axis. The line plot should have a point for each row in the `poverty` table for that country. To compute the population living in poverty from a poverty percentage, multiply by the population of the country **in that year**.\n",
    "\n",
    "**Note:** You **should <u>not</u>** return anything from your function. Simply call `plots.show()` at the end of your function body.\n",
    "\n",
    "*Hint 1:* This question is long. Feel free to create cells and experiment. You can create cells by going to the toolbar and hitting the `+` button.\n",
    "\n",
    "*Hint 2:* Consider using `join` in your code.\n",
    "\n",
    "Feel free to use the markdown cell below to plan out your answer, but you needn't fill it in."
   ]
  },
  {
   "cell_type": "markdown",
   "metadata": {},
   "source": [
    "_Type your answer here, replacing this text._"
   ]
  },
  {
   "cell_type": "code",
   "execution_count": null,
   "id": "2a7304e5",
   "metadata": {},
   "outputs": [
    {
     "data": {
      "text/html": [
       "<table border=\"1\" class=\"dataframe\">\n",
       "    <thead>\n",
       "        <tr>\n",
       "            <th>name</th> <th>geo</th> <th>time</th>\n",
       "        </tr>\n",
       "    </thead>\n",
       "    <tbody>\n",
       "        <tr>\n",
       "            <td>Afghanistan</td> <td>afg </td> <td>1800</td>\n",
       "        </tr>\n",
       "        <tr>\n",
       "            <td>Afghanistan</td> <td>afg </td> <td>1801</td>\n",
       "        </tr>\n",
       "        <tr>\n",
       "            <td>Afghanistan</td> <td>afg </td> <td>1802</td>\n",
       "        </tr>\n",
       "        <tr>\n",
       "            <td>Afghanistan</td> <td>afg </td> <td>1803</td>\n",
       "        </tr>\n",
       "        <tr>\n",
       "            <td>Afghanistan</td> <td>afg </td> <td>1804</td>\n",
       "        </tr>\n",
       "        <tr>\n",
       "            <td>Afghanistan</td> <td>afg </td> <td>1805</td>\n",
       "        </tr>\n",
       "        <tr>\n",
       "            <td>Afghanistan</td> <td>afg </td> <td>1806</td>\n",
       "        </tr>\n",
       "        <tr>\n",
       "            <td>Afghanistan</td> <td>afg </td> <td>1807</td>\n",
       "        </tr>\n",
       "        <tr>\n",
       "            <td>Afghanistan</td> <td>afg </td> <td>1808</td>\n",
       "        </tr>\n",
       "        <tr>\n",
       "            <td>Afghanistan</td> <td>afg </td> <td>1809</td>\n",
       "        </tr>\n",
       "    </tbody>\n",
       "</table>\n",
       "<p>... (59287 rows omitted)</p>"
      ],
      "text/plain": [
       "<IPython.core.display.HTML object>"
      ]
     },
     "metadata": {},
     "output_type": "display_data"
    },
    {
     "data": {
      "text/html": [
       "<table border=\"1\" class=\"dataframe\">\n",
       "    <thead>\n",
       "        <tr>\n",
       "            <th>geo</th> <th>name</th> <th>time</th> <th>poverty_percent</th> <th>population_total</th> <th>poverty_total</th>\n",
       "        </tr>\n",
       "    </thead>\n",
       "    <tbody>\n",
       "        <tr>\n",
       "            <td>ago </td> <td>Angola</td> <td>1800</td> <td>43.37          </td> <td>23356247        </td> <td>1.01296e+07  </td>\n",
       "        </tr>\n",
       "        <tr>\n",
       "            <td>ago </td> <td>Angola</td> <td>1801</td> <td>43.37          </td> <td>23356247        </td> <td>1.01296e+07  </td>\n",
       "        </tr>\n",
       "        <tr>\n",
       "            <td>ago </td> <td>Angola</td> <td>1802</td> <td>43.37          </td> <td>23356247        </td> <td>1.01296e+07  </td>\n",
       "        </tr>\n",
       "        <tr>\n",
       "            <td>ago </td> <td>Angola</td> <td>1803</td> <td>43.37          </td> <td>23356247        </td> <td>1.01296e+07  </td>\n",
       "        </tr>\n",
       "        <tr>\n",
       "            <td>ago </td> <td>Angola</td> <td>1804</td> <td>43.37          </td> <td>23356247        </td> <td>1.01296e+07  </td>\n",
       "        </tr>\n",
       "    </tbody>\n",
       "</table>\n",
       "<p>... (43640 rows omitted)</p>"
      ],
      "text/plain": [
       "<IPython.core.display.HTML object>"
      ]
     },
     "metadata": {},
     "output_type": "display_data"
    }
   ],
   "source": [
    "poverty_2.show(5) \n"
   ]
  },
  {
   "cell_type": "code",
   "execution_count": 191,
   "id": "15ec43bf",
   "metadata": {},
   "outputs": [],
   "source": [
    "def poverty_timeline(country):\n",
    "    # 1. Select all rows in the poverty table for the given country\n",
    "    country_poverty = poverty_2.where('name', are.equal_to(country))\n",
    "    \n",
    "\n",
    "    # 3. Compute the absolute number of people living in poverty for each year\n",
    "    poverty_with_population = country_poverty.with_columns(\n",
    "        'poverty_total',\n",
    "        (country_poverty.column('poverty_percent') / 100) * country_poverty.column('population_total')\n",
    "    )\n",
    "    \n",
    "    # 4. Plot the number of people living in poverty over time\n",
    "    poverty_with_population.plot('time', 'poverty_total')\n",
    "    \n",
    "    # 5. Display the plot (the function should not return anything)\n",
    "    plots.show()\n",
    "    # Don't change anything below this line. \n",
    "    plots.title(country)\n",
    "    plots.ylim(bottom=0)\n",
    "    plots.show() # This should be the last line of your function. "
   ]
  },
  {
   "cell_type": "code",
   "execution_count": 192,
   "metadata": {
    "deletable": false,
    "tags": []
   },
   "outputs": [
    {
     "data": {
      "image/png": "[encoded data removed]",
      "text/plain": [
       "<Figure size 600x600 with 1 Axes>"
      ]
     },
     "metadata": {},
     "output_type": "display_data"
    },
    {
     "data": {
      "image/png": "[encoded data removed]",
      "text/plain": [
       "<Figure size 640x480 with 1 Axes>"
      ]
     },
     "metadata": {},
     "output_type": "display_data"
    },
    {
     "data": {
      "image/png": "[encoded data removed]",
      "text/plain": [
       "<Figure size 600x600 with 1 Axes>"
      ]
     },
     "metadata": {},
     "output_type": "display_data"
    },
    {
     "data": {
      "image/png": "[encoded data removed]",
      "text/plain": [
       "<Figure size 640x480 with 1 Axes>"
      ]
     },
     "metadata": {},
     "output_type": "display_data"
    },
    {
     "data": {
      "image/png": "[encoded data removed]",
      "text/plain": [
       "<Figure size 600x600 with 1 Axes>"
      ]
     },
     "metadata": {},
     "output_type": "display_data"
    },
    {
     "data": {
      "image/png": "[encoded data removed]",
      "text/plain": [
       "<Figure size 640x480 with 1 Axes>"
      ]
     },
     "metadata": {},
     "output_type": "display_data"
    },
    {
     "data": {
      "image/png": "[encoded data removed]",
      "text/plain": [
       "<Figure size 600x600 with 1 Axes>"
      ]
     },
     "metadata": {},
     "output_type": "display_data"
    },
    {
     "data": {
      "image/png": "[encoded data removed]",
      "text/plain": [
       "<Figure size 640x480 with 1 Axes>"
      ]
     },
     "metadata": {},
     "output_type": "display_data"
    },
    {
     "data": {
      "image/png": "[encoded data removed]",
      "text/plain": [
       "<Figure size 600x600 with 1 Axes>"
      ]
     },
     "metadata": {},
     "output_type": "display_data"
    },
    {
     "data": {
      "image/png": "[encoded data removed]",
      "text/plain": [
       "<Figure size 640x480 with 1 Axes>"
      ]
     },
     "metadata": {},
     "output_type": "display_data"
    },
    {
     "data": {
      "image/png": "[encoded data removed]",
      "text/plain": [
       "<Figure size 600x600 with 1 Axes>"
      ]
     },
     "metadata": {},
     "output_type": "display_data"
    },
    {
     "data": {
      "image/png": "[encoded data removed]",
      "text/plain": [
       "<Figure size 640x480 with 1 Axes>"
      ]
     },
     "metadata": {},
     "output_type": "display_data"
    }
   ],
   "source": [
    "poverty_timeline('Poland')\n",
    "poverty_timeline('India')\n",
    "poverty_timeline('Nigeria')\n",
    "poverty_timeline('China')\n",
    "poverty_timeline('Colombia')\n",
    "poverty_timeline('United States')"
   ]
  },
  {
   "cell_type": "markdown",
   "metadata": {
    "deletable": false
   },
   "source": [
    "<!-- END QUESTION -->\n",
    "\n",
    "Although the number of people living in extreme poverty increased in some countries including Nigeria and the United States, the decreases in other countries, most notably the massive decreases in China and India, have shaped the overall trend that extreme poverty is decreasing worldwide, both in percentage and in absolute number. \n",
    "\n",
    "To learn more, watch [Hans Rosling in a 2015 film](https://www.gapminder.org/videos/dont-panic-end-poverty/) about the UN goal of eradicating extreme poverty from the world. \n",
    "\n",
    "Below, we've also added an interactive dropdown menu for you to visualize `poverty_timeline` graphs for other countries. Note that each dropdown menu selection may take a few seconds to run."
   ]
  },
  {
   "cell_type": "code",
   "execution_count": 193,
   "metadata": {
    "deletable": false,
    "editable": false
   },
   "outputs": [
    {
     "data": {
      "application/vnd.jupyter.widget-view+json": {
       "model_id": "e239a76da25e4dc5ada07906a86f3391",
       "version_major": 2,
       "version_minor": 0
      },
      "text/plain": [
       "interactive(children=(Dropdown(description='country', options=('Angola', 'Albania', 'Argentina', 'Armenia', 'A…"
      ]
     },
     "metadata": {},
     "output_type": "display_data"
    }
   ],
   "source": [
    "# Just run this cell\n",
    "\n",
    "all_countries = poverty_map.column('name')\n",
    "_ = widgets.interact(poverty_timeline, country=list(all_countries))"
   ]
  },
  {
   "cell_type": "markdown",
   "metadata": {},
   "source": [
    " "
   ]
  }
 ],
 "metadata": {
  "kernelspec": {
   "display_name": "Python 3",
   "language": "python",
   "name": "python3"
  },
  "language_info": {
   "codemirror_mode": {
    "name": "ipython",
    "version": 3
   },
   "file_extension": ".py",
   "mimetype": "text/x-python",
   "name": "python",
   "nbconvert_exporter": "python",
   "pygments_lexer": "ipython3",
   "version": "3.12.1"
  },
  "otter": {
   "OK_FORMAT": true,
   "tests": {
    "q0": {
     "name": "q0",
     "points": [
      0
     ],
     "suites": [
      {
       "cases": [
        {
         "code": ">>> i_wont_use_show_without_an_argument == True\nTrue",
         "hidden": false,
         "locked": false
        }
       ],
       "scored": true,
       "setup": "",
       "teardown": "",
       "type": "doctest"
      }
     ]
    },
    "q1_1": {
     "name": "q1_1",
     "points": [
      0,
      0
     ],
     "suites": [
      {
       "cases": [
        {
         "code": ">>> # Check your column labels and spelling\n>>> p_pop.labels == ('time', 'population_total')\nTrue",
         "hidden": false,
         "locked": false
        },
        {
         "code": ">>> # Times should range from 1900 through 2020\n>>> all(p_pop.sort(\"time\").column(\"time\") == np.arange(1900, 2021))\nTrue",
         "hidden": false,
         "locked": false
        }
       ],
       "scored": true,
       "setup": "",
       "teardown": "",
       "type": "doctest"
      }
     ]
    },
    "q1_11": {
     "name": "q1_11",
     "points": [
      0,
      0,
      0,
      4
     ],
     "suites": [
      {
       "cases": [
        {
         "code": ">>> # Incorrect labels for columns\n>>> t = stats_for_year(1990)\n>>> t.labels == ('geo', 'population_total', 'children_per_woman_total_fertility', 'child_mortality_under_5_per_1000_born')\nTrue",
         "hidden": false,
         "locked": false
        },
        {
         "code": ">>> # Incorrect number of rows\n>>> t = stats_for_year(1990)\n>>> t.num_rows\n50",
         "hidden": false,
         "locked": false
        },
        {
         "code": ">>> print(stats_for_year(1960).sort('geo').take(np.arange(5, 50, 5)))\ngeo  | population_total | children_per_woman_total_fertility | child_mortality_under_5_per_1000_born\ncan  | 17847404         | 3.88                               | 32.6\ndza  | 11057864         | 7.52                               | 242.54\ngbr  | 52370595         | 2.69                               | 26.56\nirq  | 7289753          | 6.25                               | 191.93\nmar  | 12328532         | 7.04                               | 237.06\nnga  | 45138460         | 6.35                               | 339.85\npol  | 29614201         | 3.11                               | 65.03\ntur  | 27472339         | 6.37                               | 258.29\nuzb  | 8526299          | 6.26                               | 169.4\n",
         "hidden": false,
         "locked": false
        },
        {
         "code": ">>> print(stats_for_year(2010).sort('geo').take(np.arange(3, 50, 5)))\ngeo  | population_total | children_per_woman_total_fertility | child_mortality_under_5_per_1000_born\nbgd  | 147575433        | 2.28                               | 49.1\ncol  | 45222699         | 2.01                               | 18.47\neth  | 87639962         | 4.92                               | 82.94\nind  | 1234281163       | 2.6                                | 58.23\nken  | 42030684         | 4.37                               | 56.54\nmoz  | 23531567         | 5.56                               | 104.53\nper  | 29027680         | 2.55                               | 20.13\nsdn  | 34545014         | 4.88                               | 75.92\nukr  | 45792086         | 1.45                               | 11.72\nyem  | 23154854         | 4.67                               | 55.96\n",
         "hidden": false,
         "locked": false
        }
       ],
       "scored": true,
       "setup": "",
       "teardown": "",
       "type": "doctest"
      }
     ]
    },
    "q1_12": {
     "name": "q1_12",
     "points": [
      0,
      0
     ],
     "suites": [
      {
       "cases": [
        {
         "code": ">>> # Check your column labels and spelling\n>>> pop_by_decade.labels == ('decade', 'population')\nTrue",
         "hidden": false,
         "locked": false
        },
        {
         "code": ">>> # The first year of the 1960's is 1960.\n>>> pop_by_decade.column(0).item(0) == 1960\nTrue",
         "hidden": false,
         "locked": false
        }
       ],
       "scored": true,
       "setup": "",
       "teardown": "",
       "type": "doctest"
      }
     ]
    },
    "q1_12_0": {
     "name": "q1_12_0",
     "points": [
      0,
      0,
      0
     ],
     "suites": [
      {
       "cases": [
        {
         "code": ">>> pop_for_year(1972) == 3355562066\nTrue",
         "hidden": false,
         "locked": false
        },
        {
         "code": ">>> pop_for_year(2020) == 6765161289\nTrue",
         "hidden": false,
         "locked": false
        },
        {
         "code": ">>> pop_for_year(1989) == 4576679948\nTrue",
         "hidden": false,
         "locked": false
        }
       ],
       "scored": true,
       "setup": "",
       "teardown": "",
       "type": "doctest"
      }
     ]
    },
    "q1_13": {
     "name": "q1_13",
     "points": [
      0,
      0
     ],
     "suites": [
      {
       "cases": [
        {
         "code": ">>> # Check your column labels and spelling\n>>> region_counts.labels == ('region', 'count')\nTrue",
         "hidden": false,
         "locked": false
        },
        {
         "code": ">>> # Counts must sum to 50\n>>> sum(region_counts.column('count')) == 50\nTrue",
         "hidden": false,
         "locked": false
        }
       ],
       "scored": true,
       "setup": "",
       "teardown": "",
       "type": "doctest"
      }
     ]
    },
    "q1_14": {
     "name": "q1_14",
     "points": [
      0
     ],
     "suites": [
      {
       "cases": [
        {
         "code": ">>> # Please use a list of integers from 1 to 5\n>>> all(x in range(1, 6) for x in set(scatter_statements))\nTrue",
         "hidden": false,
         "locked": false
        }
       ],
       "scored": true,
       "setup": "",
       "teardown": "",
       "type": "doctest"
      }
     ]
    },
    "q1_2": {
     "name": "q1_2",
     "points": [
      0,
      0
     ],
     "suites": [
      {
       "cases": [
        {
         "code": ">>> first = round(p_five_growth.sort(0).column(2).item(0), 8)\n>>> 0.005 <= first <= 0.5\nTrue",
         "hidden": false,
         "locked": false
        },
        {
         "code": ">>> # Compute the annual exponential growth rate\n>>> max(p_five_growth.column(2)) < 0.03\nTrue",
         "hidden": false,
         "locked": false
        }
       ],
       "scored": true,
       "setup": "",
       "teardown": "",
       "type": "doctest"
      }
     ]
    },
    "q1_5": {
     "name": "q1_5",
     "points": [
      0,
      0,
      0
     ],
     "suites": [
      {
       "cases": [
        {
         "code": ">>> # Check your column labels and spelling\n>>> fertility_over_time('usa', 2010).labels == ('Year', 'Children per woman')\nTrue",
         "hidden": false,
         "locked": false
        },
        {
         "code": ">>> # Check that you use the start year to determine the data range.\n>>> all(fertility_over_time('usa', 2010).column('Year') == np.arange(2010, 2021))\nTrue",
         "hidden": false,
         "locked": false
        },
        {
         "code": ">>> # Check that you use the start year to determine the data range.\n>>> all(fertility_over_time('usa', 2005).column('Year') == np.arange(2005, 2021))\nTrue",
         "hidden": false,
         "locked": false
        }
       ],
       "scored": true,
       "setup": "",
       "teardown": "",
       "type": "doctest"
      }
     ]
    },
    "q1_7": {
     "name": "q1_7",
     "points": [
      0,
      0
     ],
     "suites": [
      {
       "cases": [
        {
         "code": ">>> # Make sure you are using the date range 1950-2020\n>>> poland_since_1950.num_rows\n71",
         "hidden": false,
         "locked": false
        },
        {
         "code": ">>> # Check your column labels and spelling\n>>> all([label in poland_since_1950.labels for label in ['Children per woman', 'Child deaths per 1000 born']])\nTrue",
         "hidden": false,
         "locked": false
        }
       ],
       "scored": true,
       "setup": "",
       "teardown": "",
       "type": "doctest"
      }
     ]
    },
    "q1_9": {
     "name": "q1_9",
     "points": [
      0
     ],
     "suites": [
      {
       "cases": [
        {
         "code": ">>> # Please use a list of integers from 1 to 6\n>>> all(x in range(1, 7) for x in set(fertility_statements))\nTrue",
         "hidden": false,
         "locked": false
        }
       ],
       "scored": true,
       "setup": "",
       "teardown": "",
       "type": "doctest"
      }
     ]
    },
    "q2_1": {
     "name": "q2_1",
     "points": [
      0,
      0
     ],
     "suites": [
      {
       "cases": [
        {
         "code": ">>> # Please don't edit the last line.\n>>> latest_poverty.labels == ('geo', 'time', 'poverty_percent')\nTrue",
         "hidden": false,
         "locked": false
        },
        {
         "code": ">>> # The result should have one row per country.\n>>> latest_poverty.num_rows\n145",
         "hidden": false,
         "locked": false
        }
       ],
       "scored": true,
       "setup": "",
       "teardown": "",
       "type": "doctest"
      }
     ]
    },
    "q2_2": {
     "name": "q2_2",
     "points": [
      0,
      0,
      0
     ],
     "suites": [
      {
       "cases": [
        {
         "code": ">>> # Check your column labels and spelling\n>>> recent_poverty_total.labels == ('geo', 'poverty_percent', 'population_total', 'poverty_total')\nTrue",
         "hidden": false,
         "locked": false
        },
        {
         "code": ">>> # Careful, the population of Australia in 2010 was 22,154,687\n>>> float(recent_poverty_total.where('geo', 'aus').column(2).item(0)) == 22154687\nTrue",
         "hidden": false,
         "locked": false
        },
        {
         "code": ">>> # The number of people estimated to be living in extreme poverty\n>>> # in Australia should be 301,304. That's 22,154,687 * 0.0136\n>>> # rounded to the nearest integer.\n>>> float(recent_poverty_total.where('geo', 'aus').column(3).item(0)) == 301304\nTrue",
         "hidden": false,
         "locked": false
        }
       ],
       "scored": true,
       "setup": "",
       "teardown": "",
       "type": "doctest"
      }
     ]
    },
    "q2_3": {
     "name": "q2_3",
     "points": [
      0
     ],
     "suites": [
      {
       "cases": [
        {
         "code": ">>> 10 <= poverty_percent <= 20\nTrue",
         "hidden": false,
         "locked": false
        }
       ],
       "scored": true,
       "setup": "",
       "teardown": "",
       "type": "doctest"
      }
     ]
    },
    "q2_4": {
     "name": "q2_4",
     "points": [
      0,
      0
     ],
     "suites": [
      {
       "cases": [
        {
         "code": ">>> # Check your column labels and spelling\n>>> poverty_map.labels == ('latitude', 'longitude', 'name', 'region', 'poverty_total')\nTrue",
         "hidden": false,
         "locked": false
        },
        {
         "code": ">>> # Something is wrong with your region column.\n>>> list(np.sort(np.unique(poverty_map.column('region'))))\n['africa', 'americas', 'asia', 'europe']",
         "hidden": false,
         "locked": false
        }
       ],
       "scored": true,
       "setup": "",
       "teardown": "",
       "type": "doctest"
      }
     ]
    },
    "q2_5": {
     "name": "q2_5",
     "points": [
      0,
      0,
      0
     ],
     "suites": [
      {
       "cases": [
        {
         "code": ">>> # Check your column labels and spelling\n>>> largest.labels == ('name', 'poverty_total')\nTrue",
         "hidden": false,
         "locked": false
        },
        {
         "code": ">>> # India is the country with the largest number of people living\n>>> # in extreme poverty.\n>>> largest.column(0).item(0)\n'India'",
         "hidden": false,
         "locked": false
        },
        {
         "code": ">>> # The table should contain exactly 10 rows.\n>>> largest.num_rows\n10",
         "hidden": false,
         "locked": false
        }
       ],
       "scored": true,
       "setup": "",
       "teardown": "",
       "type": "doctest"
      }
     ]
    }
   }
  }
 },
 "nbformat": 4,
 "nbformat_minor": 5
}

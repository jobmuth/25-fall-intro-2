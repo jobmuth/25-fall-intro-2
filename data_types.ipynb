{
 "cells": [
  {
   "cell_type": "code",
   "execution_count": null,
   "id": "224aef4b",
   "metadata": {
    "trusted": false
   },
   "outputs": [],
   "source": [
    "from datascience import *\n",
    "import numpy as np\n",
    "\n",
    "%matplotlib inline\n",
    "import matplotlib.pyplot as plots\n",
    "plots.style.use('fivethirtyeight')"
   ]
  },
  {
   "cell_type": "markdown",
   "id": "1750cd53",
   "metadata": {},
   "source": [
    "# Review"
   ]
  },
  {
   "cell_type": "code",
   "execution_count": null,
   "id": "18f7a18a",
   "metadata": {
    "trusted": false
   },
   "outputs": [],
   "source": [
    "cones = Table.read_table('cones.csv')\n",
    "cones"
   ]
  },
  {
   "cell_type": "markdown",
   "id": "8e18c58e",
   "metadata": {},
   "source": [
    "### Discussion Q1"
   ]
  },
  {
   "cell_type": "code",
   "execution_count": null,
   "id": "1034a0e1",
   "metadata": {
    "trusted": false
   },
   "outputs": [],
   "source": [
    "# Find percentage of rows that match the condition color pink"
   ]
  },
  {
   "cell_type": "code",
   "execution_count": null,
   "id": "4a01a853",
   "metadata": {
    "trusted": false
   },
   "outputs": [],
   "source": [
    "pink_cones = cones.where('Color', 'pink')\n",
    "pink_cones"
   ]
  },
  {
   "cell_type": "code",
   "execution_count": null,
   "id": "71c0b5a0",
   "metadata": {
    "trusted": false
   },
   "outputs": [],
   "source": [
    "pink_cones.num_rows / cones.num_rows * 100"
   ]
  },
  {
   "cell_type": "markdown",
   "id": "a2bacc30",
   "metadata": {},
   "source": [
    "### Discussion Question 2\n",
    "\n",
    "What does the following evaluate to\n",
    "\n",
    "```\n",
    "x = 5\n",
    "y = 7\n",
    "\n",
    "max(x, y)\n",
    "min(x-y, x+y, x*y, x/y)\n",
    "round(x/y)\n",
    "x * 2.5\n",
    "y + '5'\n",
    "\n",
    "```"
   ]
  },
  {
   "cell_type": "code",
   "execution_count": null,
   "id": "542a795a",
   "metadata": {
    "trusted": false
   },
   "outputs": [],
   "source": [
    "x = 5\n",
    "y = 7"
   ]
  },
  {
   "cell_type": "code",
   "execution_count": null,
   "id": "477034d1",
   "metadata": {
    "trusted": false
   },
   "outputs": [],
   "source": [
    "# Case 1\n",
    "max(x, y)"
   ]
  },
  {
   "cell_type": "code",
   "execution_count": null,
   "id": "bc49f1b6",
   "metadata": {
    "trusted": false
   },
   "outputs": [],
   "source": [
    "# Case 2\n",
    "min(x-y, x+y, x*y, x/y)"
   ]
  },
  {
   "cell_type": "code",
   "execution_count": null,
   "id": "41bbb9b7",
   "metadata": {
    "trusted": false
   },
   "outputs": [],
   "source": [
    "# Case 3\n",
    "round(x/y)"
   ]
  },
  {
   "cell_type": "code",
   "execution_count": null,
   "id": "0f38bf92",
   "metadata": {
    "trusted": false
   },
   "outputs": [],
   "source": [
    "# Case 4\n",
    "x * 2.5"
   ]
  },
  {
   "cell_type": "code",
   "execution_count": null,
   "id": "edd6bf00",
   "metadata": {
    "trusted": false
   },
   "outputs": [],
   "source": [
    "# Case 5\n",
    "y + '5'"
   ]
  },
  {
   "cell_type": "markdown",
   "id": "04157946",
   "metadata": {},
   "source": [
    "## Numbers ##"
   ]
  },
  {
   "cell_type": "code",
   "execution_count": null,
   "id": "1a155cbf",
   "metadata": {
    "trusted": false
   },
   "outputs": [],
   "source": [
    "3 * 30 # int"
   ]
  },
  {
   "cell_type": "code",
   "execution_count": null,
   "id": "b5215f57",
   "metadata": {
    "trusted": false
   },
   "outputs": [],
   "source": [
    "10 / 3 # float"
   ]
  },
  {
   "cell_type": "code",
   "execution_count": null,
   "id": "0b7ed9fa",
   "metadata": {
    "trusted": false
   },
   "outputs": [],
   "source": [
    "3 / 3 # float"
   ]
  },
  {
   "cell_type": "code",
   "execution_count": null,
   "id": "1ba0b0e0",
   "metadata": {
    "trusted": false
   },
   "outputs": [],
   "source": [
    "10 ** 3 # 10 * 10 * 10 "
   ]
  },
  {
   "cell_type": "code",
   "execution_count": null,
   "id": "cba3de75",
   "metadata": {
    "trusted": false
   },
   "outputs": [],
   "source": [
    "10 ** 0.5 # float"
   ]
  },
  {
   "cell_type": "code",
   "execution_count": null,
   "id": "d7521f57",
   "metadata": {
    "trusted": false
   },
   "outputs": [],
   "source": [
    "12345678 ** 890"
   ]
  },
  {
   "cell_type": "code",
   "execution_count": null,
   "id": "7baf8dd0",
   "metadata": {
    "trusted": false
   },
   "outputs": [],
   "source": [
    "75892745.215489247589274985712 - 75892745.21548925"
   ]
  },
  {
   "cell_type": "code",
   "execution_count": null,
   "id": "3b2ba78e",
   "metadata": {
    "trusted": false
   },
   "outputs": [],
   "source": [
    "10 / 5"
   ]
  },
  {
   "cell_type": "code",
   "execution_count": null,
   "id": "1ddbf28c",
   "metadata": {
    "trusted": false
   },
   "outputs": [],
   "source": [
    "int(10 / 5)"
   ]
  },
  {
   "cell_type": "code",
   "execution_count": null,
   "id": "22d61cdb",
   "metadata": {
    "trusted": false
   },
   "outputs": [],
   "source": [
    "16 / 30"
   ]
  },
  {
   "cell_type": "code",
   "execution_count": null,
   "id": "d8522856",
   "metadata": {
    "scrolled": true,
    "trusted": false
   },
   "outputs": [],
   "source": [
    "round(16 / 30), int(16 / 30)"
   ]
  },
  {
   "cell_type": "code",
   "execution_count": null,
   "id": "0ad57c6b",
   "metadata": {
    "trusted": false
   },
   "outputs": [],
   "source": [
    "float(3)"
   ]
  },
  {
   "cell_type": "markdown",
   "id": "b851cda2",
   "metadata": {},
   "source": [
    "## Strings ##"
   ]
  },
  {
   "cell_type": "code",
   "execution_count": null,
   "id": "314a46b1",
   "metadata": {
    "trusted": false
   },
   "outputs": [],
   "source": [
    "'Flavor'"
   ]
  },
  {
   "cell_type": "code",
   "execution_count": null,
   "id": "cca9175d",
   "metadata": {
    "trusted": false
   },
   "outputs": [],
   "source": [
    "\"Flavor\""
   ]
  },
  {
   "cell_type": "code",
   "execution_count": null,
   "id": "e37bc484",
   "metadata": {
    "trusted": false
   },
   "outputs": [],
   "source": [
    "Flavor"
   ]
  },
  {
   "cell_type": "code",
   "execution_count": null,
   "id": "8f157a7f",
   "metadata": {
    "trusted": false
   },
   "outputs": [],
   "source": [
    "'straw' + 'berry'"
   ]
  },
  {
   "cell_type": "code",
   "execution_count": null,
   "id": "76d204bd",
   "metadata": {},
   "outputs": [],
   "source": [
    "5 + '5'"
   ]
  },
  {
   "cell_type": "code",
   "execution_count": null,
   "id": "f22f15e3",
   "metadata": {
    "trusted": false
   },
   "outputs": [],
   "source": [
    "5 + int('5')"
   ]
  },
  {
   "cell_type": "code",
   "execution_count": null,
   "id": "fab4b721",
   "metadata": {
    "trusted": false
   },
   "outputs": [],
   "source": [
    "'yelp review: ' + str(10)"
   ]
  },
  {
   "cell_type": "markdown",
   "id": "d430abea",
   "metadata": {},
   "source": [
    "## Arrays ##"
   ]
  },
  {
   "cell_type": "code",
   "execution_count": null,
   "id": "a8e30978",
   "metadata": {
    "trusted": false
   },
   "outputs": [],
   "source": [
    "my_array = make_array(1, 2, 3)\n",
    "my_array"
   ]
  },
  {
   "cell_type": "code",
   "execution_count": null,
   "id": "c0dd4f43",
   "metadata": {},
   "outputs": [],
   "source": [
    "type(my_array)"
   ]
  },
  {
   "cell_type": "code",
   "execution_count": null,
   "id": "0ba8f1d8",
   "metadata": {
    "trusted": false
   },
   "outputs": [],
   "source": [
    "len(my_array)"
   ]
  },
  {
   "cell_type": "code",
   "execution_count": null,
   "id": "826d9f6e",
   "metadata": {
    "trusted": false
   },
   "outputs": [],
   "source": [
    "my_array + 2"
   ]
  },
  {
   "cell_type": "code",
   "execution_count": null,
   "id": "56ac18d1",
   "metadata": {},
   "outputs": [],
   "source": [
    "my_array"
   ]
  },
  {
   "cell_type": "code",
   "execution_count": null,
   "id": "dd5d2827",
   "metadata": {},
   "outputs": [],
   "source": [
    "my_array_plus_two = my_array + 2\n",
    "my_array_plus_two"
   ]
  },
  {
   "cell_type": "code",
   "execution_count": null,
   "id": "516f8f81",
   "metadata": {
    "trusted": false
   },
   "outputs": [],
   "source": [
    "my_array * 2"
   ]
  },
  {
   "cell_type": "code",
   "execution_count": null,
   "id": "ded69dac",
   "metadata": {
    "trusted": false
   },
   "outputs": [],
   "source": [
    "my_array = my_array ** 2"
   ]
  },
  {
   "cell_type": "code",
   "execution_count": null,
   "id": "4d47fe7b",
   "metadata": {
    "trusted": false
   },
   "outputs": [],
   "source": [
    "my_array_2 = make_array(-1, -2, -1)\n",
    "my_array_2"
   ]
  },
  {
   "cell_type": "code",
   "execution_count": null,
   "id": "0c42adea",
   "metadata": {
    "trusted": false
   },
   "outputs": [],
   "source": [
    "my_array_2 + my_array"
   ]
  },
  {
   "cell_type": "code",
   "execution_count": null,
   "id": "aa2be54c",
   "metadata": {
    "trusted": false
   },
   "outputs": [],
   "source": [
    "my_array_3 = make_array(1,2,3,4)\n",
    "my_array_3"
   ]
  },
  {
   "cell_type": "code",
   "execution_count": null,
   "id": "235a877d",
   "metadata": {
    "trusted": false
   },
   "outputs": [],
   "source": [
    "my_array + my_array_3"
   ]
  },
  {
   "cell_type": "code",
   "execution_count": null,
   "id": "468fd603",
   "metadata": {
    "trusted": true
   },
   "outputs": [],
   "source": [
    "names_array = make_array('Andrew', 'Conan', 'Jonathan')\n",
    "names_array"
   ]
  },
  {
   "cell_type": "code",
   "execution_count": null,
   "id": "84a2da0e",
   "metadata": {
    "trusted": false
   },
   "outputs": [],
   "source": [
    "names_array.item(0)"
   ]
  },
  {
   "cell_type": "code",
   "execution_count": null,
   "id": "9b106fb7",
   "metadata": {
    "scrolled": true,
    "trusted": false
   },
   "outputs": [],
   "source": [
    "names_array.item(1)"
   ]
  },
  {
   "cell_type": "code",
   "execution_count": null,
   "id": "be38c7a5",
   "metadata": {
    "trusted": false
   },
   "outputs": [],
   "source": [
    "names_array.item(3)"
   ]
  },
  {
   "cell_type": "code",
   "execution_count": null,
   "id": "171fa30a",
   "metadata": {},
   "outputs": [],
   "source": []
  }
 ],
 "metadata": {
  "kernelspec": {
   "display_name": "Python 3",
   "language": "python",
   "name": "python3"
  },
  "language_info": {
   "codemirror_mode": {
    "name": "ipython",
    "version": 3
   },
   "file_extension": ".py",
   "mimetype": "text/x-python",
   "name": "python",
   "nbconvert_exporter": "python",
   "pygments_lexer": "ipython3",
   "version": "3.12.1"
  }
 },
 "nbformat": 4,
 "nbformat_minor": 5
}

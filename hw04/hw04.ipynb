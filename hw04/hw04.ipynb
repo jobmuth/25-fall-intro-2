{
 "cells": [
  {
   "cell_type": "code",
   "execution_count": 30,
   "id": "65adef80",
   "metadata": {
    "deletable": false,
    "editable": false
   },
   "outputs": [],
   "source": [
    "# Initialize Otter\n",
    "import otter\n",
    "grader = otter.Notebook(\"hw04.ipynb\")"
   ]
  },
  {
   "cell_type": "markdown",
   "id": "b78e7a8e",
   "metadata": {},
   "source": [
    "# Homework 4: Functions, Tables, and Groups\n",
    "\n",
    "Please complete this notebook by filling in the cells provided. Before you begin, execute the previous cell to load the provided tests."
   ]
  },
  {
   "attachments": {},
   "cell_type": "markdown",
   "id": "9654e63e",
   "metadata": {},
   "source": [
    "**Helpful Resource:**\n",
    "- [Python Reference](http://data8.org/su24/reference/): Cheat sheet of helpful array & table methods used in Data 8!\n",
    "\n",
    "**Recommended Readings**: \n",
    "\n",
    "* [Visualizing Numerical Distributions](https://www.inferentialthinking.com/chapters/07/2/Visualizing_Numerical_Distributions.html)\n",
    "* [Functions and Tables](https://www.inferentialthinking.com/chapters/08/Functions_and_Tables.html)"
   ]
  },
  {
   "cell_type": "markdown",
   "id": "58a257f5",
   "metadata": {},
   "source": [
    "## 1. Burrito-ful San Diego"
   ]
  },
  {
   "cell_type": "code",
   "execution_count": 31,
   "id": "8109eebe",
   "metadata": {},
   "outputs": [],
   "source": [
    "# Run this cell to set up the notebook, but please don't change it.\n",
    "\n",
    "# These lines import the Numpy and Datascience modules.\n",
    "import numpy as np\n",
    "from datascience import *\n",
    "\n",
    "# These lines do some fancy plotting magic.\n",
    "import matplotlib\n",
    "%matplotlib inline\n",
    "import matplotlib.pyplot as plt\n",
    "plt.style.use('fivethirtyeight')\n",
    "\n",
    "import warnings\n",
    "warnings.simplefilter('ignore', FutureWarning)\n",
    "warnings.filterwarnings(\"ignore\")"
   ]
  },
  {
   "cell_type": "markdown",
   "id": "4888692f",
   "metadata": {},
   "source": [
    "Edwin, Gamy and Andrew are trying to use Data Science to find the best burritos in San Diego! Their friends Jessica, Aileen, and Conan provided them with two comprehensive datasets on many burrito establishments in the San Diego area taken and cleaned from [here](https://www.kaggle.com/srcole/burritos-in-san-diego/data)"
   ]
  },
  {
   "cell_type": "markdown",
   "id": "4e2c75ba",
   "metadata": {},
   "source": [
    "The following cell reads in a table called `ratings` which contains names of burrito restaurants, their Yelp rating, Google rating, as well as their overall rating. The `Overall` rating is not an average of the `Yelp` and `Google` ratings, but rather it is the overall rating of the customers that were surveyed in the study above.\n",
    "\n",
    "\n",
    "It also reads in a table called `burritos_types` which contains names of burrito restaurants, their menu items, and the cost of the respective menu item at the restaurant."
   ]
  },
  {
   "cell_type": "code",
   "execution_count": 32,
   "id": "ebc4af58",
   "metadata": {
    "deletable": false,
    "editable": false
   },
   "outputs": [
    {
     "data": {
      "text/html": [
       "<table border=\"1\" class=\"dataframe\">\n",
       "    <thead>\n",
       "        <tr>\n",
       "            <th>Name</th> <th>Yelp</th> <th>Google</th> <th>Overall</th>\n",
       "        </tr>\n",
       "    </thead>\n",
       "    <tbody>\n",
       "        <tr>\n",
       "            <td>Albertacos                </td> <td>3.5 </td> <td>3.9   </td> <td>3.45   </td>\n",
       "        </tr>\n",
       "        <tr>\n",
       "            <td>Burrito Factory           </td> <td>4.5 </td> <td>4.8   </td> <td>3.5    </td>\n",
       "        </tr>\n",
       "        <tr>\n",
       "            <td>Burros and Fries          </td> <td>3.5 </td> <td>4.1   </td> <td>3.575  </td>\n",
       "        </tr>\n",
       "        <tr>\n",
       "            <td>Caliente Mexican Food     </td> <td>3.5 </td> <td>4.4   </td> <td>3.25   </td>\n",
       "        </tr>\n",
       "        <tr>\n",
       "            <td>California Burrito Company</td> <td>3.5 </td> <td>4.4   </td> <td>3.2    </td>\n",
       "        </tr>\n",
       "    </tbody>\n",
       "</table>\n",
       "<p>... (77 rows omitted)</p>"
      ],
      "text/plain": [
       "<IPython.core.display.HTML object>"
      ]
     },
     "metadata": {},
     "output_type": "display_data"
    },
    {
     "data": {
      "text/html": [
       "<table border=\"1\" class=\"dataframe\">\n",
       "    <thead>\n",
       "        <tr>\n",
       "            <th>Name</th> <th>Menu_Item</th> <th>Cost</th>\n",
       "        </tr>\n",
       "    </thead>\n",
       "    <tbody>\n",
       "        <tr>\n",
       "            <td>Albertacos                                         </td> <td>California          </td> <td>5.7 </td>\n",
       "        </tr>\n",
       "        <tr>\n",
       "            <td>Albertacos                                         </td> <td>Carne Asada         </td> <td>5.25</td>\n",
       "        </tr>\n",
       "        <tr>\n",
       "            <td>Alberto's 623 N Escondido Blvd, Escondido, CA 92025</td> <td>Carne Asada         </td> <td>4.59</td>\n",
       "        </tr>\n",
       "        <tr>\n",
       "            <td>Burrito Box                                        </td> <td>Steak With Guacamole</td> <td>11.5</td>\n",
       "        </tr>\n",
       "        <tr>\n",
       "            <td>Burrito Factory                                    </td> <td>Steak Everything    </td> <td>7.35</td>\n",
       "        </tr>\n",
       "    </tbody>\n",
       "</table>\n",
       "<p>... (244 rows omitted)</p>"
      ],
      "text/plain": [
       "<IPython.core.display.HTML object>"
      ]
     },
     "metadata": {},
     "output_type": "display_data"
    }
   ],
   "source": [
    "# Just run this cell\n",
    "ratings = Table.read_table(\"ratings.csv\")\n",
    "ratings.show(5)\n",
    "burritos_types = Table.read_table(\"burritos_types.csv\").drop(0)\n",
    "burritos_types.show(5)"
   ]
  },
  {
   "attachments": {},
   "cell_type": "markdown",
   "id": "0ab88f57",
   "metadata": {},
   "source": [
    "**Question 1.** It would be easier if we could combine the information in both tables. Assign `burritos` to the result of joining the two tables together, so that we have a table with the ratings for every corresponding menu item from every restaurant. Each menu item has the same rating as the restaurant from which it is from.\n",
    "\n",
    "*Note:* It doesn't matter which table you put in as the argument to the table method, either order will work for the autograder tests.\n",
    "\n",
    "*Hint:* Which function lets us combine information from two tables? Refer to the [Python Reference Sheet](http://data8.org/su24/reference/) if you're unsure!\n"
   ]
  },
  {
   "cell_type": "code",
   "execution_count": 33,
   "id": "baf97c72",
   "metadata": {
    "scrolled": true,
    "tags": []
   },
   "outputs": [
    {
     "data": {
      "text/html": [
       "<table border=\"1\" class=\"dataframe\">\n",
       "    <thead>\n",
       "        <tr>\n",
       "            <th>Name</th> <th>Yelp</th> <th>Google</th> <th>Overall</th> <th>Menu_Item</th> <th>Cost</th>\n",
       "        </tr>\n",
       "    </thead>\n",
       "    <tbody>\n",
       "        <tr>\n",
       "            <td>Albertacos                     </td> <td>3.5 </td> <td>3.9   </td> <td>3.45   </td> <td>California                    </td> <td>5.7  </td>\n",
       "        </tr>\n",
       "        <tr>\n",
       "            <td>Albertacos                     </td> <td>3.5 </td> <td>3.9   </td> <td>3.45   </td> <td>Carne Asada                   </td> <td>5.25 </td>\n",
       "        </tr>\n",
       "        <tr>\n",
       "            <td>Burrito Factory                </td> <td>4.5 </td> <td>4.8   </td> <td>3.5    </td> <td>Steak Everything              </td> <td>7.35 </td>\n",
       "        </tr>\n",
       "        <tr>\n",
       "            <td>Burros and Fries               </td> <td>3.5 </td> <td>4.1   </td> <td>3.575  </td> <td>California                    </td> <td>7.19 </td>\n",
       "        </tr>\n",
       "        <tr>\n",
       "            <td>Burros and Fries               </td> <td>3.5 </td> <td>4.1   </td> <td>3.575  </td> <td>Carne Asada                   </td> <td>6.89 </td>\n",
       "        </tr>\n",
       "        <tr>\n",
       "            <td>Burros and Fries               </td> <td>3.5 </td> <td>4.1   </td> <td>3.575  </td> <td>Shrimp California             </td> <td>6.99 </td>\n",
       "        </tr>\n",
       "        <tr>\n",
       "            <td>Caliente Mexican Food          </td> <td>3.5 </td> <td>4.4   </td> <td>3.25   </td> <td>California                    </td> <td>6.47 </td>\n",
       "        </tr>\n",
       "        <tr>\n",
       "            <td>Caliente Mexican Food          </td> <td>3.5 </td> <td>4.4   </td> <td>3.25   </td> <td>Carne Asada                   </td> <td>5.56 </td>\n",
       "        </tr>\n",
       "        <tr>\n",
       "            <td>Caliente Mexican Food          </td> <td>3.5 </td> <td>4.4   </td> <td>3.25   </td> <td>Fried Fish                    </td> <td>5.56 </td>\n",
       "        </tr>\n",
       "        <tr>\n",
       "            <td>California Burrito Company     </td> <td>3.5 </td> <td>4.4   </td> <td>3.2    </td> <td>California                    </td> <td>5.5  </td>\n",
       "        </tr>\n",
       "        <tr>\n",
       "            <td>California Burrito Company     </td> <td>3.5 </td> <td>4.4   </td> <td>3.2    </td> <td>Dave'S California             </td> <td>6.5  </td>\n",
       "        </tr>\n",
       "        <tr>\n",
       "            <td>California Burrito Company     </td> <td>3.5 </td> <td>4.4   </td> <td>3.2    </td> <td>Fajitas                       </td> <td>6.5  </td>\n",
       "        </tr>\n",
       "        <tr>\n",
       "            <td>California Burritos            </td> <td>4.5 </td> <td>4.4   </td> <td>4.1    </td> <td>California (Only Cheese)      </td> <td>6.25 </td>\n",
       "        </tr>\n",
       "        <tr>\n",
       "            <td>California Burritos            </td> <td>4.5 </td> <td>4.4   </td> <td>4.1    </td> <td>California Everything         </td> <td>6.95 </td>\n",
       "        </tr>\n",
       "        <tr>\n",
       "            <td>California Burritos            </td> <td>4.5 </td> <td>4.4   </td> <td>4.1    </td> <td>Carne Asada Everything        </td> <td>6.25 </td>\n",
       "        </tr>\n",
       "        <tr>\n",
       "            <td>California Burritos            </td> <td>4.5 </td> <td>4.4   </td> <td>4.1    </td> <td>Carnitas                      </td> <td>5.5  </td>\n",
       "        </tr>\n",
       "        <tr>\n",
       "            <td>California Burritos            </td> <td>4.5 </td> <td>4.4   </td> <td>4.1    </td> <td>Chile Relleno And Carnitas    </td> <td>6.5  </td>\n",
       "        </tr>\n",
       "        <tr>\n",
       "            <td>California Burritos            </td> <td>4.5 </td> <td>4.4   </td> <td>4.1    </td> <td>Surf & Turf                   </td> <td>7    </td>\n",
       "        </tr>\n",
       "        <tr>\n",
       "            <td>California Burritos            </td> <td>4.5 </td> <td>4.4   </td> <td>4.1    </td> <td>California Everything         </td> <td>6.5  </td>\n",
       "        </tr>\n",
       "        <tr>\n",
       "            <td>California Burritos            </td> <td>4.5 </td> <td>4.4   </td> <td>4.1    </td> <td>California Everything Mini    </td> <td>4.75 </td>\n",
       "        </tr>\n",
       "        <tr>\n",
       "            <td>California Burritos            </td> <td>4.5 </td> <td>4.4   </td> <td>4.1    </td> <td>Surf & Turf                   </td> <td>6.75 </td>\n",
       "        </tr>\n",
       "        <tr>\n",
       "            <td>Cancun Mexican & Seafood       </td> <td>4.5 </td> <td>4.1   </td> <td>4.1    </td> <td>Adobada                       </td> <td>6.45 </td>\n",
       "        </tr>\n",
       "        <tr>\n",
       "            <td>Cancun Mexican & Seafood       </td> <td>4.5 </td> <td>4.1   </td> <td>4.1    </td> <td>California                    </td> <td>6.99 </td>\n",
       "        </tr>\n",
       "        <tr>\n",
       "            <td>Cancun Mexican & Seafood       </td> <td>4.5 </td> <td>4.1   </td> <td>4.1    </td> <td>Machaca                       </td> <td>5.99 </td>\n",
       "        </tr>\n",
       "        <tr>\n",
       "            <td>Carmen's Mexican Food          </td> <td>4   </td> <td>4.2   </td> <td>3.8    </td> <td>Adobada                       </td> <td>6.5  </td>\n",
       "        </tr>\n",
       "        <tr>\n",
       "            <td>Carmen's Mexican Food          </td> <td>4   </td> <td>4.2   </td> <td>3.8    </td> <td>Carne Asada                   </td> <td>6.5  </td>\n",
       "        </tr>\n",
       "        <tr>\n",
       "            <td>Chipotle                       </td> <td>3   </td> <td>4.2   </td> <td>3.375  </td> <td>Carnitas                      </td> <td>7.15 </td>\n",
       "        </tr>\n",
       "        <tr>\n",
       "            <td>Chipotle                       </td> <td>3   </td> <td>4.2   </td> <td>3.375  </td> <td>Custom                        </td> <td>7    </td>\n",
       "        </tr>\n",
       "        <tr>\n",
       "            <td>Colima's Mexican Food          </td> <td>4   </td> <td>4.2   </td> <td>3.66667</td> <td>Colimas Burrito               </td> <td>8.25 </td>\n",
       "        </tr>\n",
       "        <tr>\n",
       "            <td>Colima's Mexican Food          </td> <td>4   </td> <td>4.2   </td> <td>3.66667</td> <td>Bandido                       </td> <td>6.49 </td>\n",
       "        </tr>\n",
       "        <tr>\n",
       "            <td>Colima's Mexican Food          </td> <td>4   </td> <td>4.2   </td> <td>3.66667</td> <td>Hawaiian                      </td> <td>6.29 </td>\n",
       "        </tr>\n",
       "        <tr>\n",
       "            <td>Cortez Mexican Food            </td> <td>4.2 </td> <td>4     </td> <td>3.2    </td> <td>California                    </td> <td>6.25 </td>\n",
       "        </tr>\n",
       "        <tr>\n",
       "            <td>Cotixan                        </td> <td>4   </td> <td>4     </td> <td>3.6    </td> <td>California                    </td> <td>6.9  </td>\n",
       "        </tr>\n",
       "        <tr>\n",
       "            <td>Cotixan                        </td> <td>4   </td> <td>4     </td> <td>3.6    </td> <td>California                    </td> <td>7.19 </td>\n",
       "        </tr>\n",
       "        <tr>\n",
       "            <td>Don Carlos Taco Shop           </td> <td>4   </td> <td>4.5   </td> <td>3.3    </td> <td>California                    </td> <td>7.75 </td>\n",
       "        </tr>\n",
       "        <tr>\n",
       "            <td>Donato's taco shop             </td> <td>3.5 </td> <td>4.2   </td> <td>3.8    </td> <td>Al Pastor                     </td> <td>5.99 </td>\n",
       "        </tr>\n",
       "        <tr>\n",
       "            <td>Donato's taco shop             </td> <td>3.5 </td> <td>4.2   </td> <td>3.8    </td> <td>Carne Asada                   </td> <td>5.99 </td>\n",
       "        </tr>\n",
       "        <tr>\n",
       "            <td>Donato's taco shop             </td> <td>3.5 </td> <td>4.2   </td> <td>3.8    </td> <td>California                    </td> <td>6.49 </td>\n",
       "        </tr>\n",
       "        <tr>\n",
       "            <td>El Cuervo                      </td> <td>4   </td> <td>4.3   </td> <td>3.8    </td> <td>California                    </td> <td>6.95 </td>\n",
       "        </tr>\n",
       "        <tr>\n",
       "            <td>El Cuervo                      </td> <td>4   </td> <td>4.3   </td> <td>3.8    </td> <td>Pollo Adobado                 </td> <td>5.95 </td>\n",
       "        </tr>\n",
       "        <tr>\n",
       "            <td>El Dorado Mexican Food         </td> <td>4.5 </td> <td>4     </td> <td>4.025  </td> <td>California                    </td> <td>6.94 </td>\n",
       "        </tr>\n",
       "        <tr>\n",
       "            <td>El Dorado Mexican Food         </td> <td>4.5 </td> <td>4     </td> <td>4.025  </td> <td>California                    </td> <td>7.4  </td>\n",
       "        </tr>\n",
       "        <tr>\n",
       "            <td>El Dorado Mexican Food         </td> <td>4.5 </td> <td>4     </td> <td>4.025  </td> <td>Super                         </td> <td>6.94 </td>\n",
       "        </tr>\n",
       "        <tr>\n",
       "            <td>El Indio                       </td> <td>3.5 </td> <td>3.9   </td> <td>4      </td> <td>California                    </td> <td>7.84 </td>\n",
       "        </tr>\n",
       "        <tr>\n",
       "            <td>El Pollo Loco                  </td> <td>3.5 </td> <td>4.1   </td> <td>3.2    </td> <td>Chicken Avocado               </td> <td>5.99 </td>\n",
       "        </tr>\n",
       "        <tr>\n",
       "            <td>El Portal Fresh Mexican Grill  </td> <td>4   </td> <td>4.4   </td> <td>3.425  </td> <td>Carnitas                      </td> <td>6.7  </td>\n",
       "        </tr>\n",
       "        <tr>\n",
       "            <td>El Portal Fresh Mexican Grill  </td> <td>4   </td> <td>4.4   </td> <td>3.425  </td> <td>Mahi                          </td> <td>7.35 </td>\n",
       "        </tr>\n",
       "        <tr>\n",
       "            <td>El Pueblo Mexican Food         </td> <td>4   </td> <td>4.7   </td> <td>4.3    </td> <td>California                    </td> <td>4.99 </td>\n",
       "        </tr>\n",
       "        <tr>\n",
       "            <td>El Rey Moro                    </td> <td>4   </td> <td>3.8   </td> <td>3.66667</td> <td>California Surf               </td> <td>9.19 </td>\n",
       "        </tr>\n",
       "        <tr>\n",
       "            <td>El Rey Moro                    </td> <td>4   </td> <td>3.8   </td> <td>3.66667</td> <td>Hashbrown                     </td> <td>6.47 </td>\n",
       "        </tr>\n",
       "        <tr>\n",
       "            <td>El Torrito Foods               </td> <td>4   </td> <td>4.4   </td> <td>2.85   </td> <td>Adobada                       </td> <td>3.99 </td>\n",
       "        </tr>\n",
       "        <tr>\n",
       "            <td>El Torrito Foods               </td> <td>4   </td> <td>4.4   </td> <td>2.85   </td> <td>Asada                         </td> <td>5.49 </td>\n",
       "        </tr>\n",
       "        <tr>\n",
       "            <td>El Zarape                      </td> <td>4   </td> <td>4.4   </td> <td>3.54815</td> <td>Azteca                        </td> <td>6.25 </td>\n",
       "        </tr>\n",
       "        <tr>\n",
       "            <td>El Zarape                      </td> <td>4   </td> <td>4.4   </td> <td>3.54815</td> <td>California                    </td> <td>6.25 </td>\n",
       "        </tr>\n",
       "        <tr>\n",
       "            <td>El Zarape                      </td> <td>4   </td> <td>4.4   </td> <td>3.54815</td> <td>California Chicken            </td> <td>6.25 </td>\n",
       "        </tr>\n",
       "        <tr>\n",
       "            <td>El Zarape                      </td> <td>4   </td> <td>4.4   </td> <td>3.54815</td> <td>Carne Asada Supreme           </td> <td>6.25 </td>\n",
       "        </tr>\n",
       "        <tr>\n",
       "            <td>El Zarape                      </td> <td>4   </td> <td>4.4   </td> <td>3.54815</td> <td>Lobster                       </td> <td>9.5  </td>\n",
       "        </tr>\n",
       "        <tr>\n",
       "            <td>El Zarape                      </td> <td>4   </td> <td>4.4   </td> <td>3.54815</td> <td>Surf And Turf                 </td> <td>7    </td>\n",
       "        </tr>\n",
       "        <tr>\n",
       "            <td>Famoso Mexican Street Food     </td> <td>4.5 </td> <td>3.9   </td> <td>3.1    </td> <td>Cali Diablo                   </td> <td>10.5 </td>\n",
       "        </tr>\n",
       "        <tr>\n",
       "            <td>Filiberto's                    </td> <td>3   </td> <td>3.8   </td> <td>3.85   </td> <td>Adobada                       </td> <td>6.25 </td>\n",
       "        </tr>\n",
       "        <tr>\n",
       "            <td>Filiberto's                    </td> <td>3   </td> <td>3.8   </td> <td>3.85   </td> <td>California                    </td> <td>6.25 </td>\n",
       "        </tr>\n",
       "        <tr>\n",
       "            <td>Gloria's Taco Shop             </td> <td>4   </td> <td>4.3   </td> <td>2.35   </td> <td>Cabeza                        </td> <td>5.49 </td>\n",
       "        </tr>\n",
       "        <tr>\n",
       "            <td>Gloria's Taco Shop             </td> <td>4   </td> <td>4.3   </td> <td>2.35   </td> <td>California                    </td> <td>5.65 </td>\n",
       "        </tr>\n",
       "        <tr>\n",
       "            <td>Goody's                        </td> <td>3.5 </td> <td>4.1   </td> <td>1.95   </td> <td>Carne Asada                   </td> <td>6.25 </td>\n",
       "        </tr>\n",
       "        <tr>\n",
       "            <td>Goody's                        </td> <td>3.5 </td> <td>4.1   </td> <td>1.95   </td> <td>Custom                        </td> <td>7.25 </td>\n",
       "        </tr>\n",
       "        <tr>\n",
       "            <td>Goody's                        </td> <td>3.5 </td> <td>4.1   </td> <td>1.95   </td> <td>Custom                        </td> <td>8    </td>\n",
       "        </tr>\n",
       "        <tr>\n",
       "            <td>Graciela's Taco Shop           </td> <td>4   </td> <td>4.5   </td> <td>4      </td> <td>Adobada                       </td> <td>5.99 </td>\n",
       "        </tr>\n",
       "        <tr>\n",
       "            <td>Graciela's Taco Shop           </td> <td>4   </td> <td>4.5   </td> <td>4      </td> <td>Barbacoa                      </td> <td>5.99 </td>\n",
       "        </tr>\n",
       "        <tr>\n",
       "            <td>JV's Mexican Food              </td> <td>4   </td> <td>4.1   </td> <td>2.25   </td> <td>Carne Asada                   </td> <td>6.25 </td>\n",
       "        </tr>\n",
       "        <tr>\n",
       "            <td>JV's Mexican Food              </td> <td>4   </td> <td>4.1   </td> <td>2.25   </td> <td>Surf & Turf                   </td> <td>9.5  </td>\n",
       "        </tr>\n",
       "        <tr>\n",
       "            <td>Jorge's Mexicatessen           </td> <td>4   </td> <td>4.5   </td> <td>3.4    </td> <td>California                    </td> <td>5.95 </td>\n",
       "        </tr>\n",
       "        <tr>\n",
       "            <td>Jorge's Mexicatessen           </td> <td>4   </td> <td>4.5   </td> <td>3.4    </td> <td>Chimichanga Beef              </td> <td>5.5  </td>\n",
       "        </tr>\n",
       "        <tr>\n",
       "            <td>Jose's Taco                    </td> <td>4   </td> <td>3.8   </td> <td>3.3    </td> <td>California                    </td> <td>6.1  </td>\n",
       "        </tr>\n",
       "        <tr>\n",
       "            <td>Juanita's Taco Shop            </td> <td>4   </td> <td>4.5   </td> <td>3.7    </td> <td>Arizona                       </td> <td>5.55 </td>\n",
       "        </tr>\n",
       "        <tr>\n",
       "            <td>Juanita's Taco Shop            </td> <td>4   </td> <td>4.5   </td> <td>3.7    </td> <td>California                    </td> <td>5.55 </td>\n",
       "        </tr>\n",
       "        <tr>\n",
       "            <td>Karina's Taco Shop             </td> <td>4   </td> <td>4.2   </td> <td>3.75   </td> <td>California                    </td> <td>6.99 </td>\n",
       "        </tr>\n",
       "        <tr>\n",
       "            <td>King Burrito                   </td> <td>4   </td> <td>3.9   </td> <td>2.65   </td> <td>Adobaa                        </td> <td>4.99 </td>\n",
       "        </tr>\n",
       "        <tr>\n",
       "            <td>King Burrito                   </td> <td>4   </td> <td>3.9   </td> <td>2.65   </td> <td>California                    </td> <td>5.29 </td>\n",
       "        </tr>\n",
       "        <tr>\n",
       "            <td>Kotija Jr                      </td> <td>4   </td> <td>4.2   </td> <td>3.95   </td> <td>California                    </td> <td>6.99 </td>\n",
       "        </tr>\n",
       "        <tr>\n",
       "            <td>Kotija Jr                      </td> <td>4   </td> <td>4.2   </td> <td>3.95   </td> <td>Steak Fajitas                 </td> <td>7.1  </td>\n",
       "        </tr>\n",
       "        <tr>\n",
       "            <td>Kotija Jr                      </td> <td>4   </td> <td>4.2   </td> <td>3.95   </td> <td>Fish                          </td> <td>6.5  </td>\n",
       "        </tr>\n",
       "        <tr>\n",
       "            <td>La Morena Taco Shop and Seafood</td> <td>4.5 </td> <td>4.7   </td> <td>3      </td> <td>California                    </td> <td>6.35 </td>\n",
       "        </tr>\n",
       "        <tr>\n",
       "            <td>La Perla Cocina                </td> <td>4.5 </td> <td>4.7   </td> <td>3.5    </td> <td>Addiction                     </td> <td>7.99 </td>\n",
       "        </tr>\n",
       "        <tr>\n",
       "            <td>La Perla Cocina                </td> <td>4.5 </td> <td>4.7   </td> <td>3.5    </td> <td>California                    </td> <td>6.5  </td>\n",
       "        </tr>\n",
       "        <tr>\n",
       "            <td>La Perla Cocina                </td> <td>4.5 </td> <td>4.7   </td> <td>3.5    </td> <td>Oaxacalifornia                </td> <td>9.99 </td>\n",
       "        </tr>\n",
       "        <tr>\n",
       "            <td>Lola's 7 Up Market & Deli      </td> <td>4.5 </td> <td>4.9   </td> <td>3.4    </td> <td>Carne Asada                   </td> <td>7    </td>\n",
       "        </tr>\n",
       "        <tr>\n",
       "            <td>Lola's 7 Up Market & Deli      </td> <td>4.5 </td> <td>4.9   </td> <td>3.4    </td> <td>Shredded Beef                 </td> <td>6    </td>\n",
       "        </tr>\n",
       "        <tr>\n",
       "            <td>Los Cabos                      </td> <td>4   </td> <td>4.1   </td> <td>3.5    </td> <td>Al Pastor                     </td> <td>5.69 </td>\n",
       "        </tr>\n",
       "        <tr>\n",
       "            <td>Los Cabos                      </td> <td>4   </td> <td>4.1   </td> <td>3.5    </td> <td>California                    </td> <td>5.99 </td>\n",
       "        </tr>\n",
       "        <tr>\n",
       "            <td>Los Panchos Taco Shop          </td> <td>3   </td> <td>3.4   </td> <td>3.93333</td> <td>Super California              </td> <td>7.25 </td>\n",
       "        </tr>\n",
       "        <tr>\n",
       "            <td>Los Panchos Taco Shop          </td> <td>3   </td> <td>3.4   </td> <td>3.93333</td> <td>California                    </td> <td>6.25 </td>\n",
       "        </tr>\n",
       "        <tr>\n",
       "            <td>Los Panchos Taco Shop          </td> <td>3   </td> <td>3.4   </td> <td>3.93333</td> <td>Tijuana                       </td> <td>7    </td>\n",
       "        </tr>\n",
       "        <tr>\n",
       "            <td>Los Primos Mexican Food        </td> <td>3   </td> <td>3.7   </td> <td>2.75833</td> <td>619 Burrito Original          </td> <td>11.75</td>\n",
       "        </tr>\n",
       "        <tr>\n",
       "            <td>Los Primos Mexican Food        </td> <td>3   </td> <td>3.7   </td> <td>2.75833</td> <td>Adobada                       </td> <td>6.25 </td>\n",
       "        </tr>\n",
       "        <tr>\n",
       "            <td>Los Primos Mexican Food        </td> <td>3   </td> <td>3.7   </td> <td>2.75833</td> <td>Baja Monster                  </td> <td>6    </td>\n",
       "        </tr>\n",
       "        <tr>\n",
       "            <td>Los Primos Mexican Food        </td> <td>3   </td> <td>3.7   </td> <td>2.75833</td> <td>California                    </td> <td>7.5  </td>\n",
       "        </tr>\n",
       "        <tr>\n",
       "            <td>Los Primos Mexican Food        </td> <td>3   </td> <td>3.7   </td> <td>2.75833</td> <td>California Breakfast          </td> <td>6.25 </td>\n",
       "        </tr>\n",
       "        <tr>\n",
       "            <td>Los Primos Mexican Food        </td> <td>3   </td> <td>3.7   </td> <td>2.75833</td> <td>Carne Asada                   </td> <td>7    </td>\n",
       "        </tr>\n",
       "        <tr>\n",
       "            <td>Los Primos Mexican Food        </td> <td>3   </td> <td>3.7   </td> <td>2.75833</td> <td>Carnitas                      </td> <td>6.35 </td>\n",
       "        </tr>\n",
       "        <tr>\n",
       "            <td>Los Primos Mexican Food        </td> <td>3   </td> <td>3.7   </td> <td>2.75833</td> <td>Monster California            </td> <td>9.25 </td>\n",
       "        </tr>\n",
       "        <tr>\n",
       "            <td>Los Primos Mexican Food        </td> <td>3   </td> <td>3.7   </td> <td>2.75833</td> <td>Surf & Turf                   </td> <td>7    </td>\n",
       "        </tr>\n",
       "        <tr>\n",
       "            <td>Los Tacos 2                    </td> <td>4.5 </td> <td>5     </td> <td>3.6    </td> <td>Al Pastor Tradicional         </td> <td>8.25 </td>\n",
       "        </tr>\n",
       "        <tr>\n",
       "            <td>Los Tacos 2                    </td> <td>4.5 </td> <td>5     </td> <td>3.6    </td> <td>Cheese Steak                  </td> <td>9.95 </td>\n",
       "        </tr>\n",
       "        <tr>\n",
       "            <td>Los Tacos 2                    </td> <td>4.5 </td> <td>5     </td> <td>3.6    </td> <td>Local                         </td> <td>8.5  </td>\n",
       "        </tr>\n",
       "        <tr>\n",
       "            <td>Los palmitos                   </td> <td>4   </td> <td>4.1   </td> <td>3.95   </td> <td>California                    </td> <td>7.1  </td>\n",
       "        </tr>\n",
       "        <tr>\n",
       "            <td>Los palmitos                   </td> <td>4   </td> <td>4.1   </td> <td>3.95   </td> <td>Surf & Turf                   </td> <td>8.25 </td>\n",
       "        </tr>\n",
       "        <tr>\n",
       "            <td>Lourdes                        </td> <td>4   </td> <td>4.7   </td> <td>3.425  </td> <td>California                    </td> <td>6.35 </td>\n",
       "        </tr>\n",
       "        <tr>\n",
       "            <td>Lourdes                        </td> <td>4   </td> <td>4.7   </td> <td>3.425  </td> <td>Carnitas                      </td> <td>7.35 </td>\n",
       "        </tr>\n",
       "        <tr>\n",
       "            <td>Lucha Libre North Park         </td> <td>3.5 </td> <td>4.3   </td> <td>3.26429</td> <td>Bean And Cheese               </td> <td>3.75 </td>\n",
       "        </tr>\n",
       "        <tr>\n",
       "            <td>Lucha Libre North Park         </td> <td>3.5 </td> <td>4.3   </td> <td>3.26429</td> <td>California - Chicken          </td> <td>7.5  </td>\n",
       "        </tr>\n",
       "        <tr>\n",
       "            <td>Lucha Libre North Park         </td> <td>3.5 </td> <td>4.3   </td> <td>3.26429</td> <td>California - Pork Adobada     </td> <td>7.5  </td>\n",
       "        </tr>\n",
       "        <tr>\n",
       "            <td>Lucha Libre North Park         </td> <td>3.5 </td> <td>4.3   </td> <td>3.26429</td> <td>California - Steak            </td> <td>7.5  </td>\n",
       "        </tr>\n",
       "        <tr>\n",
       "            <td>Lucha Libre North Park         </td> <td>3.5 </td> <td>4.3   </td> <td>3.26429</td> <td>Holy Moly                     </td> <td>7.5  </td>\n",
       "        </tr>\n",
       "        <tr>\n",
       "            <td>Lucha Libre North Park         </td> <td>3.5 </td> <td>4.3   </td> <td>3.26429</td> <td>Nutty                         </td> <td>7.5  </td>\n",
       "        </tr>\n",
       "        <tr>\n",
       "            <td>Lucha Libre North Park         </td> <td>3.5 </td> <td>4.3   </td> <td>3.26429</td> <td>Surf & Turf                   </td> <td>8.25 </td>\n",
       "        </tr>\n",
       "        <tr>\n",
       "            <td>Lucha Libre North Park         </td> <td>3.5 </td> <td>4.3   </td> <td>3.26429</td> <td>Surfin California             </td> <td>8.25 </td>\n",
       "        </tr>\n",
       "        <tr>\n",
       "            <td>Lucha Libre North Park         </td> <td>3.5 </td> <td>4.3   </td> <td>3.26429</td> <td>Veg Out                       </td> <td>6.95 </td>\n",
       "        </tr>\n",
       "        <tr>\n",
       "            <td>Lucha Libre North Park         </td> <td>3.5 </td> <td>4.3   </td> <td>3.26429</td> <td>Veggie                        </td> <td>5.25 </td>\n",
       "        </tr>\n",
       "        <tr>\n",
       "            <td>Lupe's Taco Shop               </td> <td>3.5 </td> <td>4.5   </td> <td>3.54167</td> <td>California                    </td> <td>7.49 </td>\n",
       "        </tr>\n",
       "        <tr>\n",
       "            <td>Lupe's Taco Shop               </td> <td>3.5 </td> <td>4.5   </td> <td>3.54167</td> <td>Hot Cheetos                   </td> <td>7.29 </td>\n",
       "        </tr>\n",
       "        <tr>\n",
       "            <td>Lupe's Taco Shop               </td> <td>3.5 </td> <td>4.5   </td> <td>3.54167</td> <td>Spicy A La Diabla             </td> <td>7.49 </td>\n",
       "        </tr>\n",
       "        <tr>\n",
       "            <td>Lupe's Taco Shop               </td> <td>3.5 </td> <td>4.5   </td> <td>3.54167</td> <td>Surfin California             </td> <td>7.89 </td>\n",
       "        </tr>\n",
       "        <tr>\n",
       "            <td>Lupe's Taco Shop               </td> <td>3.5 </td> <td>4.5   </td> <td>3.54167</td> <td>Tgunz                         </td> <td>10   </td>\n",
       "        </tr>\n",
       "        <tr>\n",
       "            <td>Matador Mexican Food           </td> <td>4.5 </td> <td>4     </td> <td>3      </td> <td>Carne Asada                   </td> <td>6.6  </td>\n",
       "        </tr>\n",
       "        <tr>\n",
       "            <td>Matador Mexican Food           </td> <td>4.5 </td> <td>4     </td> <td>3      </td> <td>Carnitas                      </td> <td>6.6  </td>\n",
       "        </tr>\n",
       "        <tr>\n",
       "            <td>Mikes Taco Club                </td> <td>4.5 </td> <td>4.9   </td> <td>4.4    </td> <td>California                    </td> <td>8.59 </td>\n",
       "        </tr>\n",
       "        <tr>\n",
       "            <td>Netos Mexican Food             </td> <td>4.5 </td> <td>4.1   </td> <td>3.1    </td> <td>California                    </td> <td>5.99 </td>\n",
       "        </tr>\n",
       "        <tr>\n",
       "            <td>Netos Mexican Food             </td> <td>4.5 </td> <td>4.1   </td> <td>3.1    </td> <td>Carne Adobada                 </td> <td>5.5  </td>\n",
       "        </tr>\n",
       "        <tr>\n",
       "            <td>Nico's Taco Shop               </td> <td>3   </td> <td>2.9   </td> <td>2.8    </td> <td>California                    </td> <td>7.19 </td>\n",
       "        </tr>\n",
       "        <tr>\n",
       "            <td>Nico's Taco Shop               </td> <td>3   </td> <td>2.9   </td> <td>2.8    </td> <td>Carnitas                      </td> <td>6.99 </td>\n",
       "        </tr>\n",
       "        <tr>\n",
       "            <td>Ortiz's Taco Shop #2           </td> <td>4   </td> <td>4.2   </td> <td>3.6525 </td> <td>California                    </td> <td>6.39 </td>\n",
       "        </tr>\n",
       "        <tr>\n",
       "            <td>Ortiz's Taco Shop #2           </td> <td>4   </td> <td>4.2   </td> <td>3.6525 </td> <td>California - Chicken          </td> <td>6.39 </td>\n",
       "        </tr>\n",
       "        <tr>\n",
       "            <td>Oscar's Mexican food           </td> <td>3.5 </td> <td>3.3   </td> <td>3.25   </td> <td>California                    </td> <td>5.45 </td>\n",
       "        </tr>\n",
       "        <tr>\n",
       "            <td>Oscar's Mexican food           </td> <td>3.5 </td> <td>3.3   </td> <td>3.25   </td> <td>Carne Asada                   </td> <td>5.25 </td>\n",
       "        </tr>\n",
       "        <tr>\n",
       "            <td>Oscar's Mexican food           </td> <td>3.5 </td> <td>3.3   </td> <td>3.25   </td> <td>Carnitas                      </td> <td>4.85 </td>\n",
       "        </tr>\n",
       "        <tr>\n",
       "            <td>Papa Chito's Mexican Food      </td> <td>2.5 </td> <td>3.3   </td> <td>2.975  </td> <td>California                    </td> <td>6.25 </td>\n",
       "        </tr>\n",
       "        <tr>\n",
       "            <td>Pokirrito                      </td> <td>4   </td> <td>4.3   </td> <td>4.1    </td> <td>Mauna Lani                    </td> <td>11.95</td>\n",
       "        </tr>\n",
       "        <tr>\n",
       "            <td>Pokirrito                      </td> <td>4   </td> <td>4.3   </td> <td>4.1    </td> <td>Pokirrito Classic             </td> <td>11.95</td>\n",
       "        </tr>\n",
       "        <tr>\n",
       "            <td>Pollos Maria                   </td> <td>4   </td> <td>3.8   </td> <td>3.675  </td> <td>California                    </td> <td>6.59 </td>\n",
       "        </tr>\n",
       "        <tr>\n",
       "            <td>Pollos Maria                   </td> <td>4   </td> <td>3.8   </td> <td>3.675  </td> <td>Carne Asada                   </td> <td>6.49 </td>\n",
       "        </tr>\n",
       "        <tr>\n",
       "            <td>Pollos Maria                   </td> <td>4   </td> <td>3.8   </td> <td>3.675  </td> <td>Combo Chicken                 </td> <td>6.99 </td>\n",
       "        </tr>\n",
       "        <tr>\n",
       "            <td>Raul's Mexican food            </td> <td>4   </td> <td>4.2   </td> <td>1.5    </td> <td>Chile Verde Pork              </td> <td>5    </td>\n",
       "        </tr>\n",
       "        <tr>\n",
       "            <td>Raul's Mexican food            </td> <td>4   </td> <td>4.2   </td> <td>1.5    </td> <td>Carne Asada                   </td> <td>5    </td>\n",
       "        </tr>\n",
       "        <tr>\n",
       "            <td>Rigoberto's Taco Shop          </td> <td>4   </td> <td>4.4   </td> <td>3.92708</td> <td>Adobada                       </td> <td>6.6  </td>\n",
       "        </tr>\n",
       "        <tr>\n",
       "            <td>Rigoberto's Taco Shop          </td> <td>4   </td> <td>4.4   </td> <td>3.92708</td> <td>Al Pastor                     </td> <td>6.6  </td>\n",
       "        </tr>\n",
       "        <tr>\n",
       "            <td>Rigoberto's Taco Shop          </td> <td>4   </td> <td>4.4   </td> <td>3.92708</td> <td>Bacon Breakfast               </td> <td>6.25 </td>\n",
       "        </tr>\n",
       "        <tr>\n",
       "            <td>Rigoberto's Taco Shop          </td> <td>4   </td> <td>4.4   </td> <td>3.92708</td> <td>Bacon Breakfast               </td> <td>6.3  </td>\n",
       "        </tr>\n",
       "        <tr>\n",
       "            <td>Rigoberto's Taco Shop          </td> <td>4   </td> <td>4.4   </td> <td>3.92708</td> <td>California                    </td> <td>6.85 </td>\n",
       "        </tr>\n",
       "        <tr>\n",
       "            <td>Rigoberto's Taco Shop          </td> <td>4   </td> <td>4.4   </td> <td>3.92708</td> <td>Campeon                       </td> <td>7.65 </td>\n",
       "        </tr>\n",
       "        <tr>\n",
       "            <td>Rigoberto's Taco Shop          </td> <td>4   </td> <td>4.4   </td> <td>3.92708</td> <td>Carne Asada                   </td> <td>6.6  </td>\n",
       "        </tr>\n",
       "        <tr>\n",
       "            <td>Rigoberto's Taco Shop          </td> <td>4   </td> <td>4.4   </td> <td>3.92708</td> <td>Carnitas                      </td> <td>6.6  </td>\n",
       "        </tr>\n",
       "        <tr>\n",
       "            <td>Rigoberto's Taco Shop          </td> <td>4   </td> <td>4.4   </td> <td>3.92708</td> <td>Chile Relleno                 </td> <td>6.6  </td>\n",
       "        </tr>\n",
       "        <tr>\n",
       "            <td>Rigoberto's Taco Shop          </td> <td>4   </td> <td>4.4   </td> <td>3.92708</td> <td>El Rusio                      </td> <td>6.65 </td>\n",
       "        </tr>\n",
       "        <tr>\n",
       "            <td>Rigoberto's Taco Shop          </td> <td>4   </td> <td>4.4   </td> <td>3.92708</td> <td>Fish                          </td> <td>6    </td>\n",
       "        </tr>\n",
       "        <tr>\n",
       "            <td>Rigoberto's Taco Shop          </td> <td>4   </td> <td>4.4   </td> <td>3.92708</td> <td>Surf & Turf                   </td> <td>7.45 </td>\n",
       "        </tr>\n",
       "        <tr>\n",
       "            <td>Rigoberto's Taco Shop La Jolla </td> <td>2.5 </td> <td>4     </td> <td>3.6    </td> <td>California                    </td> <td>6.85 </td>\n",
       "        </tr>\n",
       "        <tr>\n",
       "            <td>Roberto's Taco Shop Clairemont </td> <td>4   </td> <td>4     </td> <td>3.4    </td> <td>California                    </td> <td>5.79 </td>\n",
       "        </tr>\n",
       "        <tr>\n",
       "            <td>Roberto's Taco Shop Clairemont </td> <td>4   </td> <td>4     </td> <td>3.4    </td> <td>California + Guac + Sour Cream</td> <td>7.29 </td>\n",
       "        </tr>\n",
       "        <tr>\n",
       "            <td>Roberto's Taco Shop Clairemont </td> <td>4   </td> <td>4     </td> <td>3.4    </td> <td>Carne Asada                   </td> <td>5.69 </td>\n",
       "        </tr>\n",
       "        <tr>\n",
       "            <td>Roberto's Taco Shop Hillcrest  </td> <td>4   </td> <td>4.2   </td> <td>3.48   </td> <td>Asada                         </td> <td>7    </td>\n",
       "        </tr>\n",
       "        <tr>\n",
       "            <td>Roberto's Taco Shop Hillcrest  </td> <td>4   </td> <td>4.2   </td> <td>3.48   </td> <td>California                    </td> <td>7    </td>\n",
       "        </tr>\n",
       "        <tr>\n",
       "            <td>Roberto's Taco Shop Hillcrest  </td> <td>4   </td> <td>4.2   </td> <td>3.48   </td> <td>California Surf And Turf      </td> <td>9    </td>\n",
       "        </tr>\n",
       "        <tr>\n",
       "            <td>Roberto's Taco Shop Hillcrest  </td> <td>4   </td> <td>4.2   </td> <td>3.48   </td> <td>Golden State                  </td> <td>25   </td>\n",
       "        </tr>\n",
       "        <tr>\n",
       "            <td>Roberto's Very Mexican Food    </td> <td>3.5 </td> <td>3.9   </td> <td>2.1    </td> <td>Carnitas                      </td> <td>5.4  </td>\n",
       "        </tr>\n",
       "        <tr>\n",
       "            <td>Roberto's Very Mexican Food    </td> <td>3.5 </td> <td>3.9   </td> <td>2.1    </td> <td>Chicken Asada                 </td> <td>6.5  </td>\n",
       "        </tr>\n",
       "        <tr>\n",
       "            <td>Rubios UCSD                    </td> <td>3.5 </td> <td>3.4   </td> <td>3.3    </td> <td>Grilled Fish Salmon           </td> <td>8.99 </td>\n",
       "        </tr>\n",
       "        <tr>\n",
       "            <td>Rubios UCSD                    </td> <td>3.5 </td> <td>3.4   </td> <td>3.3    </td> <td>Tilapia One                   </td> <td>7.99 </td>\n",
       "        </tr>\n",
       "        <tr>\n",
       "            <td>Rudy's Taco Shop               </td> <td>4   </td> <td>4.3   </td> <td>2.9    </td> <td>Carnitas                      </td> <td>6.6  </td>\n",
       "        </tr>\n",
       "        <tr>\n",
       "            <td>Rudy's Taco Shop               </td> <td>4   </td> <td>4.3   </td> <td>2.9    </td> <td>Chicken                       </td> <td>6.6  </td>\n",
       "        </tr>\n",
       "        <tr>\n",
       "            <td>Senor Grubby's                 </td> <td>4   </td> <td>4.1   </td> <td>1.65   </td> <td>California                    </td> <td>9    </td>\n",
       "        </tr>\n",
       "        <tr>\n",
       "            <td>Senor Grubby's                 </td> <td>4   </td> <td>4.1   </td> <td>1.65   </td> <td>Pastor                        </td> <td>9    </td>\n",
       "        </tr>\n",
       "        <tr>\n",
       "            <td>Senor Panchos                  </td> <td>4   </td> <td>4.2   </td> <td>3.45   </td> <td>California                    </td> <td>6.25 </td>\n",
       "        </tr>\n",
       "        <tr>\n",
       "            <td>Senor Panchos                  </td> <td>4   </td> <td>4.2   </td> <td>3.45   </td> <td>Pollo Asado                   </td> <td>6.25 </td>\n",
       "        </tr>\n",
       "        <tr>\n",
       "            <td>Sotos Mexican Food             </td> <td>4.5 </td> <td>4.6   </td> <td>3.35   </td> <td>California                    </td> <td>6.75 </td>\n",
       "        </tr>\n",
       "        <tr>\n",
       "            <td>Sotos Mexican Food             </td> <td>4.5 </td> <td>4.6   </td> <td>3.35   </td> <td>Pastor                        </td> <td>5.99 </td>\n",
       "        </tr>\n",
       "        <tr>\n",
       "            <td>Taco Stand                     </td> <td>4.5 </td> <td>4.4   </td> <td>4.225  </td> <td>Al Pastor                     </td> <td>6.99 </td>\n",
       "        </tr>\n",
       "        <tr>\n",
       "            <td>Taco Stand                     </td> <td>4.5 </td> <td>4.4   </td> <td>4.225  </td> <td>California                    </td> <td>7.49 </td>\n",
       "        </tr>\n",
       "        <tr>\n",
       "            <td>Taco Stand                     </td> <td>4.5 </td> <td>4.4   </td> <td>4.225  </td> <td>Surf And Turf                 </td> <td>8.49 </td>\n",
       "        </tr>\n",
       "        <tr>\n",
       "            <td>Taco Stand Encinitas           </td> <td>4   </td> <td>4.4   </td> <td>4.3    </td> <td>California                    </td> <td>7.89 </td>\n",
       "        </tr>\n",
       "        <tr>\n",
       "            <td>Taco Surf PB                   </td> <td>4   </td> <td>4.6   </td> <td>4.06667</td> <td>California                    </td> <td>7.14 </td>\n",
       "        </tr>\n",
       "        <tr>\n",
       "            <td>Taco Surf PB                   </td> <td>4   </td> <td>4.6   </td> <td>4.06667</td> <td>Carne Asada                   </td> <td>6.02 </td>\n",
       "        </tr>\n",
       "        <tr>\n",
       "            <td>Taco Villa                     </td> <td>3.5 </td> <td>3.5   </td> <td>3.44737</td> <td>California                    </td> <td>6.99 </td>\n",
       "        </tr>\n",
       "        <tr>\n",
       "            <td>Taco Villa                     </td> <td>3.5 </td> <td>3.5   </td> <td>3.44737</td> <td>Al Pastor                     </td> <td>6.99 </td>\n",
       "        </tr>\n",
       "        <tr>\n",
       "            <td>Taco Villa                     </td> <td>3.5 </td> <td>3.5   </td> <td>3.44737</td> <td>Bean & Cheese                 </td> <td>3.99 </td>\n",
       "        </tr>\n",
       "        <tr>\n",
       "            <td>Taco Villa                     </td> <td>3.5 </td> <td>3.5   </td> <td>3.44737</td> <td>Breakfast                     </td> <td>4.99 </td>\n",
       "        </tr>\n",
       "        <tr>\n",
       "            <td>Taco Villa                     </td> <td>3.5 </td> <td>3.5   </td> <td>3.44737</td> <td>California                    </td> <td>6.99 </td>\n",
       "        </tr>\n",
       "        <tr>\n",
       "            <td>Taco Villa                     </td> <td>3.5 </td> <td>3.5   </td> <td>3.44737</td> <td>Carne Asada                   </td> <td>6.99 </td>\n",
       "        </tr>\n",
       "        <tr>\n",
       "            <td>Taco Villa                     </td> <td>3.5 </td> <td>3.5   </td> <td>3.44737</td> <td>Carnitas                      </td> <td>5.99 </td>\n",
       "        </tr>\n",
       "        <tr>\n",
       "            <td>Taco Villa                     </td> <td>3.5 </td> <td>3.5   </td> <td>3.44737</td> <td>Chicken                       </td> <td>4.99 </td>\n",
       "        </tr>\n",
       "        <tr>\n",
       "            <td>Taco Villa                     </td> <td>3.5 </td> <td>3.5   </td> <td>3.44737</td> <td>Chicken And Rice              </td> <td>4.95 </td>\n",
       "        </tr>\n",
       "        <tr>\n",
       "            <td>Taco Villa                     </td> <td>3.5 </td> <td>3.5   </td> <td>3.44737</td> <td>Pollo Asado                   </td> <td>5.99 </td>\n",
       "        </tr>\n",
       "        <tr>\n",
       "            <td>Taco Villa                     </td> <td>3.5 </td> <td>3.5   </td> <td>3.44737</td> <td>Shrimp With Guac              </td> <td>7.49 </td>\n",
       "        </tr>\n",
       "        <tr>\n",
       "            <td>Taco Villa                     </td> <td>3.5 </td> <td>3.5   </td> <td>3.44737</td> <td>Tejano                        </td> <td>6.99 </td>\n",
       "        </tr>\n",
       "        <tr>\n",
       "            <td>Tacos La Bala                  </td> <td>4.5 </td> <td>4.1   </td> <td>2.45   </td> <td>Barbacoa                      </td> <td>4.99 </td>\n",
       "        </tr>\n",
       "        <tr>\n",
       "            <td>Tacos La Bala                  </td> <td>4.5 </td> <td>4.1   </td> <td>2.45   </td> <td>Pastor                        </td> <td>4.99 </td>\n",
       "        </tr>\n",
       "        <tr>\n",
       "            <td>Tacos por favor                </td> <td>4   </td> <td>4.1   </td> <td>3.66667</td> <td>Al Pastor                     </td> <td>6.85 </td>\n",
       "        </tr>\n",
       "        <tr>\n",
       "            <td>Tacos por favor                </td> <td>4   </td> <td>4.1   </td> <td>3.66667</td> <td>Carne Asada                   </td> <td>6.85 </td>\n",
       "        </tr>\n",
       "        <tr>\n",
       "            <td>Tony's Fresh Mexican Food      </td> <td>3   </td> <td>4.1   </td> <td>2.9125 </td> <td>California                    </td> <td>6.25 </td>\n",
       "        </tr>\n",
       "        <tr>\n",
       "            <td>Tony's Fresh Mexican Food      </td> <td>3   </td> <td>4.1   </td> <td>2.9125 </td> <td>Chile Verde Pork              </td> <td>6.95 </td>\n",
       "        </tr>\n",
       "        <tr>\n",
       "            <td>Tony's Fresh Mexican Food      </td> <td>3   </td> <td>4.1   </td> <td>2.9125 </td> <td>Battered Fish                 </td> <td>6.99 </td>\n",
       "        </tr>\n",
       "        <tr>\n",
       "            <td>Valentines Mexican Food        </td> <td>4   </td> <td>4     </td> <td>4.36667</td> <td>California                    </td> <td>7.9  </td>\n",
       "        </tr>\n",
       "        <tr>\n",
       "            <td>Valentines Mexican Food        </td> <td>4   </td> <td>4     </td> <td>4.36667</td> <td>California Chipotle           </td> <td>7.9  </td>\n",
       "        </tr>\n",
       "        <tr>\n",
       "            <td>Valentines Mexican Food        </td> <td>4   </td> <td>4     </td> <td>4.36667</td> <td>Carne Asada                   </td> <td>6.75 </td>\n",
       "        </tr>\n",
       "        <tr>\n",
       "            <td>Valentines Mexican Food        </td> <td>4   </td> <td>4     </td> <td>4.36667</td> <td>Pork California               </td> <td>7.9  </td>\n",
       "        </tr>\n",
       "        <tr>\n",
       "            <td>Vallarta express               </td> <td>3.5 </td> <td>4     </td> <td>3.5    </td> <td>California                    </td> <td>6.95 </td>\n",
       "        </tr>\n",
       "        <tr>\n",
       "            <td>Vallarta express               </td> <td>3.5 </td> <td>4     </td> <td>3.5    </td> <td>Carne Asada                   </td> <td>6.5  </td>\n",
       "        </tr>\n",
       "        <tr>\n",
       "            <td>Vallarta express               </td> <td>3.5 </td> <td>4     </td> <td>3.5    </td> <td>Fish                          </td> <td>6.5  </td>\n",
       "        </tr>\n",
       "        <tr>\n",
       "            <td>Vallarta express               </td> <td>3.5 </td> <td>4     </td> <td>3.5    </td> <td>Mahi                          </td> <td>7.3  </td>\n",
       "        </tr>\n",
       "        <tr>\n",
       "            <td>Vallarta express               </td> <td>3.5 </td> <td>4     </td> <td>3.5    </td> <td>Philly                        </td> <td>6.95 </td>\n",
       "        </tr>\n",
       "        <tr>\n",
       "            <td>Vallarta express               </td> <td>3.5 </td> <td>4     </td> <td>3.5    </td> <td>Quesa                         </td> <td>6.95 </td>\n",
       "        </tr>\n",
       "        <tr>\n",
       "            <td>Vallarta express               </td> <td>3.5 </td> <td>4     </td> <td>3.5    </td> <td>Quesaburro                    </td> <td>6.95 </td>\n",
       "        </tr>\n",
       "        <tr>\n",
       "            <td>Vallarta express               </td> <td>3.5 </td> <td>4     </td> <td>3.5    </td> <td>Surf And Turf                 </td> <td>7.65 </td>\n",
       "        </tr>\n",
       "    </tbody>\n",
       "</table>"
      ],
      "text/plain": [
       "<IPython.core.display.HTML object>"
      ]
     },
     "metadata": {},
     "output_type": "display_data"
    }
   ],
   "source": [
    "burritos = ratings.join('Name', burritos_types, 'Name')\n",
    "burritos.show()"
   ]
  },
  {
   "cell_type": "code",
   "execution_count": 34,
   "id": "73e4f384",
   "metadata": {
    "deletable": false,
    "editable": false
   },
   "outputs": [
    {
     "data": {
      "text/html": [
       "<p><strong><pre style='display: inline;'>q1_1</pre></strong> passed! ✨</p>"
      ],
      "text/plain": [
       "q1_1 results: All test cases passed!"
      ]
     },
     "execution_count": 34,
     "metadata": {},
     "output_type": "execute_result"
    }
   ],
   "source": [
    "grader.check(\"q1_1\")"
   ]
  },
  {
   "cell_type": "markdown",
   "id": "59b7e535",
   "metadata": {},
   "source": [
    "<!-- BEGIN QUESTION -->\n",
    "\n",
    "**Question 2.** Let's look at how the Yelp scores compare to the Google scores in the `burritos` table. First, assign `yelp_google_tbl` to a table only containing the columns `Yelp` and `Google`. Then, make a scatter plot with Yelp scores on the x-axis and the Google scores on the y-axis.\n"
   ]
  },
  {
   "cell_type": "code",
   "execution_count": 35,
   "id": "d71741d3",
   "metadata": {
    "tags": []
   },
   "outputs": [
    {
     "data": {
      "image/png": "[encoded data removed]",
      "text/plain": [
       "<Figure size 500x500 with 1 Axes>"
      ]
     },
     "metadata": {},
     "output_type": "display_data"
    }
   ],
   "source": [
    "yelp_google_tbl = burritos.drop('Name','Overall','Menu_Item','Cost')\n",
    "yelp_google_tbl.scatter('Yelp', 'Google')\n",
    "\n",
    "# Don't change/edit/remove the following line.\n",
    "# To help you make conclusions, we have plotted a straight line on the graph (y=x).\n",
    "plt.plot(np.arange(2.5,5,.5), np.arange(2.5,5,.5));"
   ]
  },
  {
   "cell_type": "markdown",
   "id": "58aeec99",
   "metadata": {},
   "source": [
    "<!-- END QUESTION -->\n",
    "\n",
    "<!-- BEGIN QUESTION -->\n",
    "\n",
    "**Question 3.** Looking at the scatter plot you just made in Question 1.2, do you notice any pattern(s) or relationships between Yelp and Google ratings (i.e. is one of the two types of scores consistently higher than the other one)? If so, describe them **briefly** in the cell below.\n"
   ]
  },
  {
   "cell_type": "markdown",
   "id": "899f7af0",
   "metadata": {},
   "source": [
    "Based on the graph, Googles seems to have an edge over yelp. You can tell that is has higher reviews."
   ]
  },
  {
   "cell_type": "markdown",
   "id": "0e2ae6ec",
   "metadata": {},
   "source": [
    "<!-- END QUESTION -->\n",
    "\n",
    "Here's a refresher on how `.group` works! You can read how `.group` works in the [textbook](https://www.inferentialthinking.com/chapters/08/2/Classifying_by_One_Variable.html), or you can view the video below. The video resource was made by a past staff member, Divyesh Chotai!\n",
    "\n",
    "You can also use the [Table Functions Visualizer](http://data8.org/interactive_table_functions/) to get some more hands-on experience with the `.group` function."
   ]
  },
  {
   "cell_type": "code",
   "execution_count": 36,
   "id": "444a6614",
   "metadata": {},
   "outputs": [
    {
     "data": {
      "image/jpeg": "[encoded data removed]",
      "text/html": [
       "\n",
       "        <iframe\n",
       "            width=\"400\"\n",
       "            height=\"300\"\n",
       "            src=\"https://www.youtube.com/embed/HLoYTCUP0fc\"\n",
       "            frameborder=\"0\"\n",
       "            allowfullscreen\n",
       "            \n",
       "        ></iframe>\n",
       "        "
      ],
      "text/plain": [
       "<IPython.lib.display.YouTubeVideo at 0x77a8a71de0f0>"
      ]
     },
     "execution_count": 36,
     "metadata": {},
     "output_type": "execute_result"
    }
   ],
   "source": [
    "# Don't worry about what this code does! It simply embeds a YouTube video into a code cell.\n",
    "from IPython.display import YouTubeVideo\n",
    "YouTubeVideo(\"HLoYTCUP0fc\")"
   ]
  },
  {
   "cell_type": "markdown",
   "id": "1b38f476",
   "metadata": {},
   "source": [
    "**Question 4.** There are so many types of California burritos in the `burritos` table! Gamy wants to consider his options for burritos based on rankings. For the sake of these questions, we are treating each menu item's rating the same as its respective restaurant's, as we do not have the rating of every single item at these restaurants. You do not need to worry about this fact, but we thought to mention it!\n",
    "\n",
    "Create a table with two columns: the first column include the **names of the burritos** and the second column should contain the **average overall rating** of that burrito across restaurants. **In your calculations, you should only compare burritos that contain the word \"California\".** For example, there are \"California\" burritos, \"California Breakfast\" burritos, \"California Surf And Turf\" burritos, etc.\n",
    "\n",
    "*Hint:* “California” is case sensitive (“California” is not the same as “california”)! Consult the table in 6.2.5 of the textbook for a way to check whether a string contains \"California\".\n",
    "\n",
    "*Note:* For reference, the staff solution only used one line. However, feel free to break up the solution into multiple lines and steps; just make sure you assign the final output table to `california_burritos`! \n"
   ]
  },
  {
   "cell_type": "code",
   "execution_count": 37,
   "id": "5a7063c8",
   "metadata": {
    "tags": []
   },
   "outputs": [
    {
     "data": {
      "text/html": [
       "<table border=\"1\" class=\"dataframe\">\n",
       "    <thead>\n",
       "        <tr>\n",
       "            <th>Menu_Item</th> <th>Overall average</th>\n",
       "        </tr>\n",
       "    </thead>\n",
       "    <tbody>\n",
       "        <tr>\n",
       "            <td>California Breakfast          </td> <td>2.75833        </td>\n",
       "        </tr>\n",
       "        <tr>\n",
       "            <td>Monster California            </td> <td>2.75833        </td>\n",
       "        </tr>\n",
       "        <tr>\n",
       "            <td>Dave'S California             </td> <td>3.2            </td>\n",
       "        </tr>\n",
       "        <tr>\n",
       "            <td>California - Pork Adobada     </td> <td>3.26429        </td>\n",
       "        </tr>\n",
       "        <tr>\n",
       "            <td>California - Steak            </td> <td>3.26429        </td>\n",
       "        </tr>\n",
       "        <tr>\n",
       "            <td>California + Guac + Sour Cream</td> <td>3.4            </td>\n",
       "        </tr>\n",
       "        <tr>\n",
       "            <td>Surfin California             </td> <td>3.40298        </td>\n",
       "        </tr>\n",
       "        <tr>\n",
       "            <td>California - Chicken          </td> <td>3.45839        </td>\n",
       "        </tr>\n",
       "        <tr>\n",
       "            <td>California Surf And Turf      </td> <td>3.48           </td>\n",
       "        </tr>\n",
       "        <tr>\n",
       "            <td>California                    </td> <td>3.5242         </td>\n",
       "        </tr>\n",
       "    </tbody>\n",
       "</table>\n",
       "<p>... (9 rows omitted)</p>"
      ],
      "text/plain": [
       "Menu_Item                      | Overall average\n",
       "California Breakfast           | 2.75833\n",
       "Monster California             | 2.75833\n",
       "Dave'S California              | 3.2\n",
       "California - Pork Adobada      | 3.26429\n",
       "California - Steak             | 3.26429\n",
       "California + Guac + Sour Cream | 3.4\n",
       "Surfin California              | 3.40298\n",
       "California - Chicken           | 3.45839\n",
       "California Surf And Turf       | 3.48\n",
       "California                     | 3.5242\n",
       "... (9 rows omitted)"
      ]
     },
     "execution_count": 37,
     "metadata": {},
     "output_type": "execute_result"
    }
   ],
   "source": [
    "\n",
    "\n",
    "california_burritos = burritos.where('Menu_Item', are.containing('California')).select('Menu_Item','Overall').group('Menu_Item', np.average).sort('Overall average')\n",
    "california_burritos"
   ]
  },
  {
   "cell_type": "code",
   "execution_count": 38,
   "id": "b9e5bc0d",
   "metadata": {
    "deletable": false,
    "editable": false
   },
   "outputs": [
    {
     "data": {
      "text/html": [
       "<p><strong><pre style='display: inline;'>q1_4</pre></strong> passed! 🌟</p>"
      ],
      "text/plain": [
       "q1_4 results: All test cases passed!"
      ]
     },
     "execution_count": 38,
     "metadata": {},
     "output_type": "execute_result"
    }
   ],
   "source": [
    "grader.check(\"q1_4\")"
   ]
  },
  {
   "cell_type": "markdown",
   "id": "c758fd2f",
   "metadata": {},
   "source": [
    "**Question 5.** Given this new table `california_burritos`, Andrew can figure out the name of the California burrito with the highest overall average rating! Assign `best_california_burrito` to a line of code that outputs the string that represents the name of the California burrito with the highest overall average rating. If multiple burritos satisfy this criteria, you can output any one of them.\n"
   ]
  },
  {
   "cell_type": "code",
   "execution_count": 39,
   "id": "14c326c6",
   "metadata": {
    "tags": []
   },
   "outputs": [
    {
     "data": {
      "text/plain": [
       "'California Chipotle'"
      ]
     },
     "execution_count": 39,
     "metadata": {},
     "output_type": "execute_result"
    }
   ],
   "source": [
    "best_california_burrito = california_burritos.sort('Overall average', descending=True).column('Menu_Item').item(0)\n",
    "best_california_burrito"
   ]
  },
  {
   "cell_type": "code",
   "execution_count": 40,
   "id": "b7221413",
   "metadata": {
    "deletable": false,
    "editable": false
   },
   "outputs": [
    {
     "data": {
      "text/html": [
       "<p><strong><pre style='display: inline;'>q1_5</pre></strong> passed! 🍀</p>"
      ],
      "text/plain": [
       "q1_5 results: All test cases passed!"
      ]
     },
     "execution_count": 40,
     "metadata": {},
     "output_type": "execute_result"
    }
   ],
   "source": [
    "grader.check(\"q1_5\")"
   ]
  },
  {
   "cell_type": "markdown",
   "id": "49b81409",
   "metadata": {},
   "source": [
    "<!-- BEGIN QUESTION -->\n",
    "\n",
    "**Question 6.** Edwin thinks that burritos in San Diego are cheaper (and taste better) than the burritos in Berkeley. Plot a histogram that visualizes that distribution of the costs of the burritos from San Diego in the `burritos` table. Also use the provided `cost_bins` variable when making your histogram, so that the histogram is more visually informative.\n"
   ]
  },
  {
   "cell_type": "code",
   "execution_count": 41,
   "id": "6a2978ea",
   "metadata": {
    "tags": []
   },
   "outputs": [
    {
     "data": {
      "image/png": "[encoded data removed]",
      "text/plain": [
       "<Figure size 600x400 with 1 Axes>"
      ]
     },
     "metadata": {},
     "output_type": "display_data"
    }
   ],
   "source": [
    "cost_bins = np.arange(0, 15, 1) # Do not change this line\n",
    "# Please also use the provided bins\n",
    "burritos.hist('Cost', bins=cost_bins)"
   ]
  },
  {
   "cell_type": "markdown",
   "id": "24fdbf30",
   "metadata": {},
   "source": [
    "## 2. San Francisco City Employee Salaries"
   ]
  },
  {
   "attachments": {},
   "cell_type": "markdown",
   "id": "f3bdc2e5",
   "metadata": {},
   "source": [
    "This exercise is designed to give you practice with using the Table methods `.pivot` and `.group`. Here is a link to the [Python Reference](http://data8.org/su24/reference/) in case you need a quick refresher. The [Table Function Visualizer](http://data8.org/interactive_table_functions/) may also be a helpful tool.\n",
    "\n",
    "Run the cell below to view a demo on how you can use pivot on a table. (Thank you to past staff Divyesh Chotai!) "
   ]
  },
  {
   "cell_type": "code",
   "execution_count": 42,
   "id": "3b0c0595",
   "metadata": {
    "scrolled": true
   },
   "outputs": [
    {
     "data": {
      "image/jpeg": "[encoded data removed]",
      "text/html": [
       "\n",
       "        <iframe\n",
       "            width=\"400\"\n",
       "            height=\"300\"\n",
       "            src=\"https://www.youtube.com/embed/4WzXo8eKLAg\"\n",
       "            frameborder=\"0\"\n",
       "            allowfullscreen\n",
       "            \n",
       "        ></iframe>\n",
       "        "
      ],
      "text/plain": [
       "<IPython.lib.display.YouTubeVideo at 0x77a8acd81f40>"
      ]
     },
     "execution_count": 42,
     "metadata": {},
     "output_type": "execute_result"
    }
   ],
   "source": [
    "# Don't worry about what this code does! It simply embeds a YouTube video into a code cell.\n",
    "from IPython.display import YouTubeVideo\n",
    "YouTubeVideo(\"4WzXo8eKLAg\")"
   ]
  },
  {
   "cell_type": "markdown",
   "id": "eb4c8b23",
   "metadata": {},
   "source": [
    "The data source we will use within this portion of the homework is [publicly provided](https://data.sfgov.org/City-Management-and-Ethics/Employee-Compensation/88g8-5mnd/data) by the City of San Francisco. We have filtered it to retain just the relevant columns and restricted the data to the calendar year 2019. Run the following cell to load our data into a table called `full_sf`."
   ]
  },
  {
   "cell_type": "code",
   "execution_count": 43,
   "id": "1c4f4339",
   "metadata": {},
   "outputs": [
    {
     "data": {
      "text/html": [
       "<table border=\"1\" class=\"dataframe\">\n",
       "    <thead>\n",
       "        <tr>\n",
       "            <th>Organization Group</th> <th>Department</th> <th>Job Family</th> <th>Job</th> <th>Salary</th> <th>Overtime</th> <th>Benefits</th> <th>Total Compensation</th>\n",
       "        </tr>\n",
       "    </thead>\n",
       "    <tbody>\n",
       "        <tr>\n",
       "            <td>Public Protection </td> <td>Adult Probation</td> <td>Information Systems          </td> <td>IS Trainer-Journey            </td> <td>91332 </td> <td>0       </td> <td>40059   </td> <td>131391            </td>\n",
       "        </tr>\n",
       "        <tr>\n",
       "            <td>Public Protection </td> <td>Adult Probation</td> <td>Information Systems          </td> <td>IS Engineer-Assistant         </td> <td>123241</td> <td>0       </td> <td>49279   </td> <td>172520            </td>\n",
       "        </tr>\n",
       "        <tr>\n",
       "            <td>Public Protection </td> <td>Adult Probation</td> <td>Information Systems          </td> <td>IS Business Analyst-Senior    </td> <td>115715</td> <td>0       </td> <td>46752   </td> <td>162468            </td>\n",
       "        </tr>\n",
       "        <tr>\n",
       "            <td>Public Protection </td> <td>Adult Probation</td> <td>Information Systems          </td> <td>IS Business Analyst-Principal </td> <td>159394</td> <td>0       </td> <td>57312   </td> <td>216706            </td>\n",
       "        </tr>\n",
       "        <tr>\n",
       "            <td>Public Protection </td> <td>Adult Probation</td> <td>Information Systems          </td> <td>IS Programmer Analyst         </td> <td>70035 </td> <td>0       </td> <td>28671   </td> <td>98706             </td>\n",
       "        </tr>\n",
       "        <tr>\n",
       "            <td>Public Protection </td> <td>Adult Probation</td> <td>Information Systems          </td> <td>IS Project Director           </td> <td>175742</td> <td>0       </td> <td>60830   </td> <td>236572            </td>\n",
       "        </tr>\n",
       "        <tr>\n",
       "            <td>Public Protection </td> <td>Adult Probation</td> <td>Information Systems          </td> <td>IT Operations Support Admin IV</td> <td>123840</td> <td>0       </td> <td>49429   </td> <td>173269            </td>\n",
       "        </tr>\n",
       "        <tr>\n",
       "            <td>Public Protection </td> <td>Adult Probation</td> <td>Payroll, Billing & Accounting</td> <td>Accountant III                </td> <td>111816</td> <td>0       </td> <td>46319   </td> <td>158135            </td>\n",
       "        </tr>\n",
       "        <tr>\n",
       "            <td>Public Protection </td> <td>Adult Probation</td> <td>Budget, Admn & Stats Analysis</td> <td>Statistician                  </td> <td>87725 </td> <td>0       </td> <td>38899   </td> <td>126624            </td>\n",
       "        </tr>\n",
       "        <tr>\n",
       "            <td>Public Protection </td> <td>Adult Probation</td> <td>Budget, Admn & Stats Analysis</td> <td>Senior Administrative Analyst </td> <td>116192</td> <td>0       </td> <td>47651   </td> <td>163843            </td>\n",
       "        </tr>\n",
       "        <tr>\n",
       "            <td>Public Protection </td> <td>Adult Probation</td> <td>Budget, Admn & Stats Analysis</td> <td>Senior Administrative Analyst </td> <td>97098 </td> <td>0       </td> <td>42060   </td> <td>139158            </td>\n",
       "        </tr>\n",
       "        <tr>\n",
       "            <td>Public Protection </td> <td>Adult Probation</td> <td>Budget, Admn & Stats Analysis</td> <td>Pr Administrative Analyst     </td> <td>142059</td> <td>0       </td> <td>53228   </td> <td>195287            </td>\n",
       "        </tr>\n",
       "        <tr>\n",
       "            <td>Public Protection </td> <td>Adult Probation</td> <td>Budget, Admn & Stats Analysis</td> <td>Pr Administrative Analyst     </td> <td>134514</td> <td>0       </td> <td>51872   </td> <td>186386            </td>\n",
       "        </tr>\n",
       "        <tr>\n",
       "            <td>Public Protection </td> <td>Adult Probation</td> <td>Budget, Admn & Stats Analysis</td> <td>Pr Administrative Analyst     </td> <td>134514</td> <td>0       </td> <td>51666   </td> <td>186180            </td>\n",
       "        </tr>\n",
       "        <tr>\n",
       "            <td>Public Protection </td> <td>Adult Probation</td> <td>Personnel                    </td> <td>Senior Human Resources Analyst</td> <td>121438</td> <td>0       </td> <td>49017   </td> <td>170455            </td>\n",
       "        </tr>\n",
       "        <tr>\n",
       "            <td>Public Protection </td> <td>Adult Probation</td> <td>Personnel                    </td> <td>Senior Human Resources Analyst</td> <td>121438</td> <td>0       </td> <td>48880   </td> <td>170318            </td>\n",
       "        </tr>\n",
       "        <tr>\n",
       "            <td>Public Protection </td> <td>Adult Probation</td> <td>Clerical, Secretarial & Steno</td> <td>Executive Secretary 3         </td> <td>100882</td> <td>0       </td> <td>43200   </td> <td>144082            </td>\n",
       "        </tr>\n",
       "        <tr>\n",
       "            <td>Public Protection </td> <td>Adult Probation</td> <td>Management                   </td> <td>Manager II                    </td> <td>144745</td> <td>0       </td> <td>56862   </td> <td>201607            </td>\n",
       "        </tr>\n",
       "        <tr>\n",
       "            <td>Public Protection </td> <td>Adult Probation</td> <td>Management                   </td> <td>Manager III                   </td> <td>172922</td> <td>0       </td> <td>64117   </td> <td>237039            </td>\n",
       "        </tr>\n",
       "        <tr>\n",
       "            <td>Public Protection </td> <td>Adult Probation</td> <td>Management                   </td> <td>Manager V                     </td> <td>106125</td> <td>0       </td> <td>38050   </td> <td>144175            </td>\n",
       "        </tr>\n",
       "    </tbody>\n",
       "</table>\n",
       "<p>... (44505 rows omitted)</p>"
      ],
      "text/plain": [
       "<IPython.core.display.HTML object>"
      ]
     },
     "metadata": {},
     "output_type": "display_data"
    }
   ],
   "source": [
    "full_sf = Table.read_table(\"sf2019.csv\")\n",
    "full_sf.show(20)"
   ]
  },
  {
   "cell_type": "markdown",
   "id": "5377381a",
   "metadata": {},
   "source": [
    "The table has one row for each of the 44,525 San Francisco government employees in 2019.\n",
    "\n",
    "The first four columns describe the employee's job. For example, the employee in the third row of the table had a job called \"IS Business Analyst-Senior\". We will call this the employee's *position* or *job title*. The job was in a Job Family called Information Systems (hence the IS in the job title), and was in the Adult Probation Department that is part of the Public Protection Organization Group of the government. You will mostly be working with the `Job` column.\n",
    "\n",
    "The next three columns contain the dollar amounts paid to the employee in the calendar year 2019 for salary, overtime, and benefits. Note that an employee’s salary does not include their overtime earnings.\n",
    "\n",
    "The last column contains the total compensation paid to the employee. It is the sum of the previous three columns:\n",
    "\n",
    "$$\\text{Total Compensation} = \\text{Salary} + \\text{Overtime} + \\text{Benefits}$$\n",
    "\n",
    "For this homework, we will be using the following columns:\n",
    "1. `Organization Group`: A group of departments. For example, the Public Protection Org. Group includes departments such as the Police, Fire, Adult Protection, District Attorney, etc.\n",
    "2. `Department`: The primary organizational unit used by the City and County of San Francisco.\n",
    "3. `Job`: The specific position that a given worker fills.\n",
    "4. `Total Compensation`: The sum of a worker's salary, overtime, and benefits in 2019.\n",
    "\n",
    "\n",
    "Run the following cell to select the relevant columns and create a new table named `sf`."
   ]
  },
  {
   "cell_type": "code",
   "execution_count": 44,
   "id": "53064a0f",
   "metadata": {},
   "outputs": [
    {
     "data": {
      "text/html": [
       "<table border=\"1\" class=\"dataframe\">\n",
       "    <thead>\n",
       "        <tr>\n",
       "            <th>Job</th> <th>Department</th> <th>Organization Group</th> <th>Total Compensation</th>\n",
       "        </tr>\n",
       "    </thead>\n",
       "    <tbody>\n",
       "        <tr>\n",
       "            <td>IS Trainer-Journey            </td> <td>Adult Probation</td> <td>Public Protection </td> <td>131391            </td>\n",
       "        </tr>\n",
       "        <tr>\n",
       "            <td>IS Engineer-Assistant         </td> <td>Adult Probation</td> <td>Public Protection </td> <td>172520            </td>\n",
       "        </tr>\n",
       "        <tr>\n",
       "            <td>IS Business Analyst-Senior    </td> <td>Adult Probation</td> <td>Public Protection </td> <td>162468            </td>\n",
       "        </tr>\n",
       "        <tr>\n",
       "            <td>IS Business Analyst-Principal </td> <td>Adult Probation</td> <td>Public Protection </td> <td>216706            </td>\n",
       "        </tr>\n",
       "        <tr>\n",
       "            <td>IS Programmer Analyst         </td> <td>Adult Probation</td> <td>Public Protection </td> <td>98706             </td>\n",
       "        </tr>\n",
       "        <tr>\n",
       "            <td>IS Project Director           </td> <td>Adult Probation</td> <td>Public Protection </td> <td>236572            </td>\n",
       "        </tr>\n",
       "        <tr>\n",
       "            <td>IT Operations Support Admin IV</td> <td>Adult Probation</td> <td>Public Protection </td> <td>173269            </td>\n",
       "        </tr>\n",
       "        <tr>\n",
       "            <td>Accountant III                </td> <td>Adult Probation</td> <td>Public Protection </td> <td>158135            </td>\n",
       "        </tr>\n",
       "        <tr>\n",
       "            <td>Statistician                  </td> <td>Adult Probation</td> <td>Public Protection </td> <td>126624            </td>\n",
       "        </tr>\n",
       "        <tr>\n",
       "            <td>Senior Administrative Analyst </td> <td>Adult Probation</td> <td>Public Protection </td> <td>163843            </td>\n",
       "        </tr>\n",
       "    </tbody>\n",
       "</table>\n",
       "<p>... (44515 rows omitted)</p>"
      ],
      "text/plain": [
       "<IPython.core.display.HTML object>"
      ]
     },
     "metadata": {},
     "output_type": "display_data"
    }
   ],
   "source": [
    "sf = full_sf.select(\"Job\", \"Department\", \"Organization Group\",  \"Total Compensation\")\n",
    "sf.show(10)"
   ]
  },
  {
   "cell_type": "markdown",
   "id": "4a3bc23a",
   "metadata": {},
   "source": [
    "We want to use this table to generate arrays with the job titles of the members of each **Organization Group**."
   ]
  },
  {
   "attachments": {},
   "cell_type": "markdown",
   "id": "762afdb9",
   "metadata": {},
   "source": [
    "**Question 1.** Set `job_titles` to a table with two columns. The first column should be called `Organization Group` and have the name of every \"Organization Group\" each listed only once in this column, and the second column should be called `Jobs` with each row in that second column containing an *array* of the names of all the job titles within that \"Organization Group\". Don't worry if there are multiple of the same job titles.\n",
    "\n",
    "*Hint 1:* Think about how `group` works: it collects values into an array and then applies a function to that array. We have defined two functions below for you, and you will need to use one of them in your call to `group`. \n",
    "\n",
    "*Hint 2:* You might need to rename one of the columns.\n"
   ]
  },
  {
   "cell_type": "code",
   "execution_count": 45,
   "id": "5e523e2a",
   "metadata": {
    "tags": []
   },
   "outputs": [
    {
     "data": {
      "text/html": [
       "<table border=\"1\" class=\"dataframe\">\n",
       "    <thead>\n",
       "        <tr>\n",
       "            <th>Organization Group</th> <th>Jobs</th>\n",
       "        </tr>\n",
       "    </thead>\n",
       "    <tbody>\n",
       "        <tr>\n",
       "            <td>Community Health                        </td> <td>9931 </td>\n",
       "        </tr>\n",
       "        <tr>\n",
       "            <td>Culture & Recreation                    </td> <td>3938 </td>\n",
       "        </tr>\n",
       "        <tr>\n",
       "            <td>General Administration & Finance        </td> <td>4061 </td>\n",
       "        </tr>\n",
       "        <tr>\n",
       "            <td>Human Welfare & Neighborhood Development</td> <td>3804 </td>\n",
       "        </tr>\n",
       "        <tr>\n",
       "            <td>Public Protection                       </td> <td>8361 </td>\n",
       "        </tr>\n",
       "        <tr>\n",
       "            <td>Public Works, Transportation & Commerce </td> <td>14430</td>\n",
       "        </tr>\n",
       "    </tbody>\n",
       "</table>"
      ],
      "text/plain": [
       "Organization Group                       | Jobs\n",
       "Community Health                         | 9931\n",
       "Culture & Recreation                     | 3938\n",
       "General Administration & Finance         | 4061\n",
       "Human Welfare & Neighborhood Development | 3804\n",
       "Public Protection                        | 8361\n",
       "Public Works, Transportation & Commerce  | 14430"
      ]
     },
     "execution_count": 45,
     "metadata": {},
     "output_type": "execute_result"
    }
   ],
   "source": [
    "# Pick one of the two functions defined below in your call to group.\n",
    "def first_item(array):\n",
    "    '''Returns the first item'''\n",
    "    return array.item(0)\n",
    "\n",
    "def full_array(array):\n",
    "    '''Returns the array that is passed through'''\n",
    "    return array \n",
    "\n",
    "# Make a call to group using one of the functions above when you define job_titles\n",
    "job = sf.select('Organization Group', 'Job')\n",
    "job_titles = job.group('Organization Group').relabel('count', 'Jobs')\n",
    "job_titles"
   ]
  },
  {
   "cell_type": "code",
   "execution_count": 46,
   "id": "1385268c",
   "metadata": {
    "deletable": false,
    "editable": false
   },
   "outputs": [
    {
     "data": {
      "text/html": [
       "<p><strong><pre style='display: inline;'>q2_1</pre></strong> passed! 🍀</p>"
      ],
      "text/plain": [
       "q2_1 results: All test cases passed!"
      ]
     },
     "execution_count": 46,
     "metadata": {},
     "output_type": "execute_result"
    }
   ],
   "source": [
    "grader.check(\"q2_1\")"
   ]
  },
  {
   "cell_type": "markdown",
   "id": "d98bec3e",
   "metadata": {},
   "source": [
    "<!-- BEGIN QUESTION -->\n",
    "\n",
    "**Question 2.** At the moment, the `Job` column of the `sf` table is not sorted (no particular order). Would the arrays you generated in the `Jobs` column of the previous question be the same if we had sorted alphabetically instead before generating them? Explain your answer. To receive full credit, your answer should reference *how* the `.group` method works, and how sorting the `Jobs` column would affect this.\n",
    "\n",
    "*Note:* Two arrays are the **same** if they contain the same number of elements and the elements located at corresponding indexes in the two arrays are identical. An example of arrays that are NOT the same: `array([1,2]) != array([2,1])`.\n"
   ]
  },
  {
   "cell_type": "markdown",
   "id": "947400b3",
   "metadata": {},
   "source": [
    "No they arrays would not be the same if job column were sorted alphabetically before they were grouped. This is because .group funtion groups rows based on which one is first. So if you sort the job column alphabetically, the order of the group will change but not the contents of each group."
   ]
  },
  {
   "cell_type": "markdown",
   "id": "72051cfa",
   "metadata": {},
   "source": [
    "<!-- END QUESTION -->\n",
    "\n",
    "**Question 3.** Set `department_ranges` to a table containing departments as the rows, and the organization groups as the columns. The values in the rows should correspond to a total compensation range, where range is defined as the **difference between the highest total compensation and the lowest total compensation in the department for that organization group**.\n",
    "\n",
    "*Hint:* First you'll need to define a new function `compensation_range` which takes in an array of compensations and returns the range of compensations in that array.\n"
   ]
  },
  {
   "cell_type": "code",
   "execution_count": 52,
   "id": "11820bf3",
   "metadata": {
    "tags": []
   },
   "outputs": [
    {
     "data": {
      "text/html": [
       "<table border=\"1\" class=\"dataframe\">\n",
       "    <thead>\n",
       "        <tr>\n",
       "            <th>Organization Group</th> <th>Academy Of Sciences</th> <th>Administrative Services</th> <th>Adult Probation</th> <th>Airport Commission</th> <th>Art Commission</th> <th>Asian Art Museum</th> <th>Assessor</th> <th>Board Of Appeals</th> <th>Board Of Supervisors</th> <th>Building Inspection</th> <th>Child Support Services</th> <th>Children & Families Commission</th> <th>Children Youth & Families</th> <th>City Attorney</th> <th>City Planning</th> <th>Civil Service Commission</th> <th>Controller</th> <th>Department Of Public Works</th> <th>Department of Technology</th> <th>Dept Status of Women</th> <th>Dept of Emergency Management</th> <th>Dept of Police Accountablility</th> <th>District Attorney</th> <th>Economic Workforce Development</th> <th>Environment</th> <th>Ethics Commission</th> <th>Fine Arts Museum</th> <th>Fire Department</th> <th>Health Service System</th> <th>Homeless Services</th> <th>Human Resources</th> <th>Human Rights Commission</th> <th>Human Services</th> <th>Juvenile Court</th> <th>Law Library</th> <th>Mayor</th> <th>Municipal Transportation Agcy</th> <th>Police</th> <th>Port</th> <th>Public Defender</th> <th>Public Health</th> <th>Public Library</th> <th>Public Utilities Commission</th> <th>Recreation And Park Commission</th> <th>Registrar</th> <th>Rent Arbitration Board</th> <th>Retirement Services</th> <th>Sheriff</th> <th>Treasurer/Tax Collector</th> <th>Trial Courts</th> <th>War Memorial</th>\n",
       "        </tr>\n",
       "    </thead>\n",
       "    <tbody>\n",
       "        <tr>\n",
       "            <td>Community Health                        </td> <td>0                  </td> <td>0                      </td> <td>0              </td> <td>0                 </td> <td>0             </td> <td>0               </td> <td>0       </td> <td>0               </td> <td>0                   </td> <td>0                  </td> <td>0                     </td> <td>0                             </td> <td>0                        </td> <td>0            </td> <td>0            </td> <td>0                       </td> <td>0         </td> <td>0                         </td> <td>0                       </td> <td>0                   </td> <td>0                           </td> <td>0                             </td> <td>0                </td> <td>0                             </td> <td>0          </td> <td>0                </td> <td>0               </td> <td>0              </td> <td>0                    </td> <td>0                </td> <td>0              </td> <td>0                      </td> <td>0             </td> <td>0             </td> <td>0          </td> <td>0     </td> <td>0                            </td> <td>0     </td> <td>0     </td> <td>0              </td> <td>554179       </td> <td>0             </td> <td>0                          </td> <td>0                             </td> <td>0        </td> <td>0                     </td> <td>0                  </td> <td>0      </td> <td>0                      </td> <td>0           </td> <td>0           </td>\n",
       "        </tr>\n",
       "        <tr>\n",
       "            <td>Culture & Recreation                    </td> <td>199121             </td> <td>0                      </td> <td>0              </td> <td>0                 </td> <td>251823        </td> <td>298230          </td> <td>0       </td> <td>0               </td> <td>0                   </td> <td>0                  </td> <td>0                     </td> <td>0                             </td> <td>0                        </td> <td>0            </td> <td>0            </td> <td>0                       </td> <td>0         </td> <td>0                         </td> <td>0                       </td> <td>0                   </td> <td>0                           </td> <td>0                             </td> <td>0                </td> <td>0                             </td> <td>0          </td> <td>0                </td> <td>286064          </td> <td>0              </td> <td>0                    </td> <td>0                </td> <td>0              </td> <td>0                      </td> <td>0             </td> <td>0             </td> <td>56713      </td> <td>0     </td> <td>0                            </td> <td>0     </td> <td>0     </td> <td>0              </td> <td>0            </td> <td>322249        </td> <td>0                          </td> <td>341046                        </td> <td>0        </td> <td>0                     </td> <td>0                  </td> <td>0      </td> <td>0                      </td> <td>0           </td> <td>219833      </td>\n",
       "        </tr>\n",
       "        <tr>\n",
       "            <td>General Administration & Finance        </td> <td>0                  </td> <td>478784                 </td> <td>0              </td> <td>0                 </td> <td>0             </td> <td>0               </td> <td>277385  </td> <td>0               </td> <td>293773              </td> <td>0                  </td> <td>0                     </td> <td>0                             </td> <td>0                        </td> <td>419920       </td> <td>359011       </td> <td>202506                  </td> <td>409401    </td> <td>0                         </td> <td>349757                  </td> <td>0                   </td> <td>0                           </td> <td>0                             </td> <td>0                </td> <td>0                             </td> <td>0          </td> <td>259960           </td> <td>0               </td> <td>0              </td> <td>331576               </td> <td>0                </td> <td>335840         </td> <td>0                      </td> <td>0             </td> <td>0             </td> <td>0          </td> <td>440980</td> <td>0                            </td> <td>0     </td> <td>0     </td> <td>0              </td> <td>0            </td> <td>0             </td> <td>0                          </td> <td>0                             </td> <td>297729   </td> <td>0                     </td> <td>723774             </td> <td>0      </td> <td>332980                 </td> <td>0           </td> <td>0           </td>\n",
       "        </tr>\n",
       "        <tr>\n",
       "            <td>Human Welfare & Neighborhood Development</td> <td>0                  </td> <td>0                      </td> <td>0              </td> <td>0                 </td> <td>0             </td> <td>0               </td> <td>0       </td> <td>0               </td> <td>0                   </td> <td>0                  </td> <td>313210                </td> <td>56318                         </td> <td>294674                   </td> <td>0            </td> <td>0            </td> <td>0                       </td> <td>0         </td> <td>0                         </td> <td>0                       </td> <td>231712              </td> <td>0                           </td> <td>0                             </td> <td>0                </td> <td>0                             </td> <td>290205     </td> <td>0                </td> <td>0               </td> <td>0              </td> <td>0                    </td> <td>316098           </td> <td>0              </td> <td>301206                 </td> <td>418740        </td> <td>0             </td> <td>0          </td> <td>0     </td> <td>0                            </td> <td>0     </td> <td>0     </td> <td>0              </td> <td>0            </td> <td>0             </td> <td>0                          </td> <td>0                             </td> <td>0        </td> <td>293132                </td> <td>0                  </td> <td>0      </td> <td>0                      </td> <td>0           </td> <td>0           </td>\n",
       "        </tr>\n",
       "        <tr>\n",
       "            <td>Public Protection                       </td> <td>0                  </td> <td>0                      </td> <td>303419         </td> <td>0                 </td> <td>0             </td> <td>0               </td> <td>0       </td> <td>0               </td> <td>0                   </td> <td>0                  </td> <td>0                     </td> <td>0                             </td> <td>0                        </td> <td>0            </td> <td>0            </td> <td>0                       </td> <td>0         </td> <td>0                         </td> <td>0                       </td> <td>0                   </td> <td>325333                      </td> <td>332041                        </td> <td>335621           </td> <td>0                             </td> <td>0          </td> <td>0                </td> <td>0               </td> <td>492128         </td> <td>0                    </td> <td>0                </td> <td>0              </td> <td>0                      </td> <td>0             </td> <td>342453        </td> <td>0          </td> <td>0     </td> <td>0                            </td> <td>440552</td> <td>0     </td> <td>337095         </td> <td>0            </td> <td>0             </td> <td>0                          </td> <td>0                             </td> <td>0        </td> <td>0                     </td> <td>0                  </td> <td>545324 </td> <td>0                      </td> <td>320807      </td> <td>0           </td>\n",
       "        </tr>\n",
       "        <tr>\n",
       "            <td>Public Works, Transportation & Commerce </td> <td>0                  </td> <td>0                      </td> <td>0              </td> <td>445092            </td> <td>0             </td> <td>0               </td> <td>0       </td> <td>243582          </td> <td>0                   </td> <td>340852             </td> <td>0                     </td> <td>0                             </td> <td>0                        </td> <td>0            </td> <td>0            </td> <td>0                       </td> <td>0         </td> <td>374263                    </td> <td>0                       </td> <td>0                   </td> <td>0                           </td> <td>0                             </td> <td>0                </td> <td>300888                        </td> <td>0          </td> <td>0                </td> <td>0               </td> <td>0              </td> <td>0                    </td> <td>0                </td> <td>0              </td> <td>0                      </td> <td>0             </td> <td>0             </td> <td>0          </td> <td>0     </td> <td>381639                       </td> <td>0     </td> <td>393270</td> <td>0              </td> <td>0            </td> <td>0             </td> <td>489773                     </td> <td>0                             </td> <td>0        </td> <td>0                     </td> <td>0                  </td> <td>0      </td> <td>0                      </td> <td>0           </td> <td>0           </td>\n",
       "        </tr>\n",
       "    </tbody>\n",
       "</table>"
      ],
      "text/plain": [
       "Organization Group                       | Academy Of Sciences | Administrative Services | Adult Probation | Airport Commission | Art Commission | Asian Art Museum | Assessor | Board Of Appeals | Board Of Supervisors | Building Inspection | Child Support Services | Children & Families Commission | Children Youth & Families | City Attorney | City Planning | Civil Service Commission | Controller | Department Of Public Works | Department of Technology | Dept Status of Women | Dept of Emergency Management | Dept of Police Accountablility | District Attorney | Economic Workforce Development | Environment | Ethics Commission | Fine Arts Museum | Fire Department | Health Service System | Homeless Services | Human Resources | Human Rights Commission | Human Services | Juvenile Court | Law Library | Mayor  | Municipal Transportation Agcy | Police | Port   | Public Defender | Public Health | Public Library | Public Utilities Commission | Recreation And Park Commission | Registrar | Rent Arbitration Board | Retirement Services | Sheriff | Treasurer/Tax Collector | Trial Courts | War Memorial\n",
       "Community Health                         | 0                   | 0                       | 0               | 0                  | 0              | 0                | 0        | 0                | 0                    | 0                   | 0                      | 0                              | 0                         | 0             | 0             | 0                        | 0          | 0                          | 0                        | 0                    | 0                            | 0                              | 0                 | 0                              | 0           | 0                 | 0                | 0               | 0                     | 0                 | 0               | 0                       | 0              | 0              | 0           | 0      | 0                             | 0      | 0      | 0               | 554179        | 0              | 0                           | 0                              | 0         | 0                      | 0                   | 0       | 0                       | 0            | 0\n",
       "Culture & Recreation                     | 199121              | 0                       | 0               | 0                  | 251823         | 298230           | 0        | 0                | 0                    | 0                   | 0                      | 0                              | 0                         | 0             | 0             | 0                        | 0          | 0                          | 0                        | 0                    | 0                            | 0                              | 0                 | 0                              | 0           | 0                 | 286064           | 0               | 0                     | 0                 | 0               | 0                       | 0              | 0              | 56713       | 0      | 0                             | 0      | 0      | 0               | 0             | 322249         | 0                           | 341046                         | 0         | 0                      | 0                   | 0       | 0                       | 0            | 219833\n",
       "General Administration & Finance         | 0                   | 478784                  | 0               | 0                  | 0              | 0                | 277385   | 0                | 293773               | 0                   | 0                      | 0                              | 0                         | 419920        | 359011        | 202506                   | 409401     | 0                          | 349757                   | 0                    | 0                            | 0                              | 0                 | 0                              | 0           | 259960            | 0                | 0               | 331576                | 0                 | 335840          | 0                       | 0              | 0              | 0           | 440980 | 0                             | 0      | 0      | 0               | 0             | 0              | 0                           | 0                              | 297729    | 0                      | 723774              | 0       | 332980                  | 0            | 0\n",
       "Human Welfare & Neighborhood Development | 0                   | 0                       | 0               | 0                  | 0              | 0                | 0        | 0                | 0                    | 0                   | 313210                 | 56318                          | 294674                    | 0             | 0             | 0                        | 0          | 0                          | 0                        | 231712               | 0                            | 0                              | 0                 | 0                              | 290205      | 0                 | 0                | 0               | 0                     | 316098            | 0               | 301206                  | 418740         | 0              | 0           | 0      | 0                             | 0      | 0      | 0               | 0             | 0              | 0                           | 0                              | 0         | 293132                 | 0                   | 0       | 0                       | 0            | 0\n",
       "Public Protection                        | 0                   | 0                       | 303419          | 0                  | 0              | 0                | 0        | 0                | 0                    | 0                   | 0                      | 0                              | 0                         | 0             | 0             | 0                        | 0          | 0                          | 0                        | 0                    | 325333                       | 332041                         | 335621            | 0                              | 0           | 0                 | 0                | 492128          | 0                     | 0                 | 0               | 0                       | 0              | 342453         | 0           | 0      | 0                             | 440552 | 0      | 337095          | 0             | 0              | 0                           | 0                              | 0         | 0                      | 0                   | 545324  | 0                       | 320807       | 0\n",
       "Public Works, Transportation & Commerce  | 0                   | 0                       | 0               | 445092             | 0              | 0                | 0        | 243582           | 0                    | 340852              | 0                      | 0                              | 0                         | 0             | 0             | 0                        | 0          | 374263                     | 0                        | 0                    | 0                            | 0                              | 0                 | 300888                         | 0           | 0                 | 0                | 0               | 0                     | 0                 | 0               | 0                       | 0              | 0              | 0           | 0      | 381639                        | 0      | 393270 | 0               | 0             | 0              | 489773                      | 0                              | 0         | 0                      | 0                   | 0       | 0                       | 0            | 0"
      ]
     },
     "execution_count": 52,
     "metadata": {},
     "output_type": "execute_result"
    }
   ],
   "source": [
    "# Define compensation_range first\n",
    "def compensation_range(compensations):\n",
    "    return max(compensations) - min(compensations)\n",
    "    \n",
    "department_ranges = sf.pivot(\n",
    "    'Department',\n",
    "    'Organization Group', 'Total Compensation',\n",
    "collect= compensation_range\n",
    ")\n",
    "department_ranges = department_ranges.sort('Organization Group')\n",
    "department_ranges"
   ]
  },
  {
   "cell_type": "code",
   "execution_count": 53,
   "id": "439b216c",
   "metadata": {
    "deletable": false,
    "editable": false
   },
   "outputs": [
    {
     "data": {
      "text/html": [
       "<p><strong style='color: red;'><pre style='display: inline;'>q2_3</pre> results:</strong></p><p><strong><pre style='display: inline;'>q2_3 - 1</pre> result:</strong></p><pre>    ✅ Test case passed</pre><p><strong><pre style='display: inline;'>q2_3 - 2</pre> result:</strong></p><pre>    ❌ Test case failed\n",
       "    Trying:\n",
       "        set([\"Department\", \"Community Health\", \"Culture & Recreation\", \"General Administration & Finance\", \"Human Welfare & Neighborhood Development\", \"Public Protection\", \"Public Works, Transportation & Commerce\"]) == set(department_ranges.labels)\n",
       "    Expecting:\n",
       "        True\n",
       "    **********************************************************************\n",
       "    Line 2, in q2_3 1\n",
       "    Failed example:\n",
       "        set([\"Department\", \"Community Health\", \"Culture & Recreation\", \"General Administration & Finance\", \"Human Welfare & Neighborhood Development\", \"Public Protection\", \"Public Works, Transportation & Commerce\"]) == set(department_ranges.labels)\n",
       "    Expected:\n",
       "        True\n",
       "    Got:\n",
       "        False\n",
       "</pre><p><strong><pre style='display: inline;'>q2_3 - 3</pre> result:</strong></p><pre>    ❌ Test case failed\n",
       "    Trying:\n",
       "        sum(department_ranges.column(1))\n",
       "    Expecting:\n",
       "        554179.0\n",
       "    **********************************************************************\n",
       "    Line 1, in q2_3 2\n",
       "    Failed example:\n",
       "        sum(department_ranges.column(1))\n",
       "    Expected:\n",
       "        554179.0\n",
       "    Got:\n",
       "        199121.0\n",
       "</pre>"
      ],
      "text/plain": [
       "q2_3 results:\n",
       "    q2_3 - 1 result:\n",
       "        ✅ Test case passed\n",
       "\n",
       "    q2_3 - 2 result:\n",
       "        ❌ Test case failed\n",
       "        Trying:\n",
       "            set([\"Department\", \"Community Health\", \"Culture & Recreation\", \"General Administration & Finance\", \"Human Welfare & Neighborhood Development\", \"Public Protection\", \"Public Works, Transportation & Commerce\"]) == set(department_ranges.labels)\n",
       "        Expecting:\n",
       "            True\n",
       "        **********************************************************************\n",
       "        Line 2, in q2_3 1\n",
       "        Failed example:\n",
       "            set([\"Department\", \"Community Health\", \"Culture & Recreation\", \"General Administration & Finance\", \"Human Welfare & Neighborhood Development\", \"Public Protection\", \"Public Works, Transportation & Commerce\"]) == set(department_ranges.labels)\n",
       "        Expected:\n",
       "            True\n",
       "        Got:\n",
       "            False\n",
       "\n",
       "    q2_3 - 3 result:\n",
       "        ❌ Test case failed\n",
       "        Trying:\n",
       "            sum(department_ranges.column(1))\n",
       "        Expecting:\n",
       "            554179.0\n",
       "        **********************************************************************\n",
       "        Line 1, in q2_3 2\n",
       "        Failed example:\n",
       "            sum(department_ranges.column(1))\n",
       "        Expected:\n",
       "            554179.0\n",
       "        Got:\n",
       "            199121.0"
      ]
     },
     "execution_count": 53,
     "metadata": {},
     "output_type": "execute_result"
    }
   ],
   "source": [
    "grader.check(\"q2_3\")"
   ]
  },
  {
   "cell_type": "markdown",
   "id": "0a2b2bbd",
   "metadata": {},
   "source": [
    "<!-- BEGIN QUESTION -->\n",
    "\n",
    "**Question 4.** Why might some of the row values be `0` in the `department_ranges` table from the previous question.\n"
   ]
  },
  {
   "cell_type": "markdown",
   "id": "fc20ef5b",
   "metadata": {},
   "source": [
    "_Type your answer here, replacing this text._"
   ]
  },
  {
   "cell_type": "markdown",
   "id": "b156f296",
   "metadata": {},
   "source": [
    "<!-- END QUESTION -->\n",
    "\n",
    "**Question 5.** Find the number of departments appearing in the `sf` table that have an average total compensation of greater than 125,000 dollars; assign this value to the variable `num_over_125k`.\n",
    "\n",
    "*Note:* The variable names provided are meant to help guide the intermediate steps and general thought process. Feel free to delete them if you'd prefer to start from scratch, but make sure your final answer is assigned to `num_over_125k`!\n"
   ]
  },
  {
   "cell_type": "code",
   "execution_count": null,
   "id": "eac29e56",
   "metadata": {
    "tags": []
   },
   "outputs": [],
   "source": [
    "depts_and_comp = ...\n",
    "department_avg = ...\n",
    "num_over_125k = ...\n",
    "num_over_125k"
   ]
  },
  {
   "cell_type": "code",
   "execution_count": null,
   "id": "9696f56c",
   "metadata": {
    "deletable": false,
    "editable": false
   },
   "outputs": [],
   "source": [
    "grader.check(\"q2_5\")"
   ]
  },
  {
   "cell_type": "markdown",
   "id": "8649a42c",
   "metadata": {},
   "source": [
    "## Submission\n",
    "\n",
    "Make sure you have run all cells in your notebook in order, so that all images/graphs appear in the output. Use the Github \"Export\" option to generate an HTML file for this notebook and upload it to Canvas. (If the export gives an error, try first running \"pip install nbconvert\" in the terminal.)"
   ]
  }
 ],
 "metadata": {
  "kernelspec": {
   "display_name": "Python 3",
   "language": "python",
   "name": "python3"
  },
  "language_info": {
   "codemirror_mode": {
    "name": "ipython",
    "version": 3
   },
   "file_extension": ".py",
   "mimetype": "text/x-python",
   "name": "python",
   "nbconvert_exporter": "python",
   "pygments_lexer": "ipython3",
   "version": "3.12.1"
  },
  "otter": {
   "OK_FORMAT": true,
   "tests": {
    "q1_1": {
     "name": "q1_1",
     "points": [
      0,
      0
     ],
     "suites": [
      {
       "cases": [
        {
         "code": ">>> # Make sure you have all the columns from both tables\n>>> set([\"Name\", \"Menu_Item\", \"Yelp\", \"Google\", \"Overall\", \"Cost\"]) == set(burritos.labels)\nTrue",
         "hidden": false,
         "locked": false
        },
        {
         "code": ">>> burritos.num_rows == 212\nTrue",
         "hidden": false,
         "locked": false
        }
       ],
       "scored": true,
       "setup": "",
       "teardown": "",
       "type": "doctest"
      }
     ]
    },
    "q1_4": {
     "name": "q1_4",
     "points": [
      1,
      1
     ],
     "suites": [
      {
       "cases": [
        {
         "code": ">>> # Number of columns should be 2\n>>> california_burritos.num_columns == 2\nTrue",
         "hidden": false,
         "locked": false
        },
        {
         "code": ">>> # Number of rows should be 19\n>>> california_burritos.num_rows == 19\nTrue",
         "hidden": false,
         "locked": false
        }
       ],
       "scored": true,
       "setup": "",
       "teardown": "",
       "type": "doctest"
      }
     ]
    },
    "q1_5": {
     "name": "q1_5",
     "points": [
      0
     ],
     "suites": [
      {
       "cases": [
        {
         "code": ">>> # Your answer should be a string\n>>> type(best_california_burrito) == str\nTrue",
         "hidden": false,
         "locked": false
        }
       ],
       "scored": true,
       "setup": "",
       "teardown": "",
       "type": "doctest"
      }
     ]
    },
    "q1_7": {
     "name": "q1_7",
     "points": [
      0
     ],
     "suites": [
      {
       "cases": [
        {
         "code": ">>> # Your answer should be between 0 and 100.\n>>> 0 <= burritos_less_than_six <= 100\nTrue",
         "hidden": false,
         "locked": false
        }
       ],
       "scored": true,
       "setup": "",
       "teardown": "",
       "type": "doctest"
      }
     ]
    },
    "q2_1": {
     "name": "q2_1",
     "points": [
      0,
      0,
      0,
      0
     ],
     "suites": [
      {
       "cases": [
        {
         "code": ">>> job_titles.num_columns\n2",
         "hidden": false,
         "locked": false
        },
        {
         "code": ">>> job_titles.num_rows\n6",
         "hidden": false,
         "locked": false
        },
        {
         "code": ">>> # Make sure that you have the correct column labels!\n>>> np.asarray(job_titles.labels).item(1) != \"Job full_array\"\nTrue",
         "hidden": false,
         "locked": false
        },
        {
         "code": ">>> # Make sure that you have the correct column labels!\n>>> np.asarray(job_titles.labels).item(1) == \"Jobs\"\nTrue",
         "hidden": false,
         "locked": false
        }
       ],
       "scored": true,
       "setup": "",
       "teardown": "",
       "type": "doctest"
      }
     ]
    },
    "q2_3": {
     "name": "q2_3",
     "points": [
      0,
      0,
      2
     ],
     "suites": [
      {
       "cases": [
        {
         "code": ">>> # Double check that your salary_range function is correct\n>>> compensation_range(make_array(5, 1, 20, 1000)) == 999\nTrue",
         "hidden": false,
         "locked": false
        },
        {
         "code": ">>> # Make sure that the table has departments as the rows and organization groups as the columns.\n>>> set([\"Department\", \"Community Health\", \"Culture & Recreation\", \"General Administration & Finance\", \"Human Welfare & Neighborhood Development\", \"Public Protection\", \"Public Works, Transportation & Commerce\"]) == set(department_ranges.labels)\nTrue",
         "hidden": false,
         "locked": false
        },
        {
         "code": ">>> sum(department_ranges.column(1))\n554179.0",
         "hidden": false,
         "locked": false
        }
       ],
       "scored": true,
       "setup": "",
       "teardown": "",
       "type": "doctest"
      }
     ]
    },
    "q2_5": {
     "name": "q2_5",
     "points": [
      2,
      2
     ],
     "suites": [
      {
       "cases": [
        {
         "code": ">>> # Make sure that your final answer is a number\n>>> isinstance(num_over_125k, int)\nTrue",
         "hidden": false,
         "locked": false
        },
        {
         "code": ">>> # Make sure that your answer makes sense given the sf table\n>>> 0 <= num_over_125k <= 51\nTrue",
         "hidden": false,
         "locked": false
        }
       ],
       "scored": true,
       "setup": "",
       "teardown": "",
       "type": "doctest"
      }
     ]
    }
   }
  }
 },
 "nbformat": 4,
 "nbformat_minor": 5
}
